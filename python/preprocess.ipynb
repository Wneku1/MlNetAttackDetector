{
 "cells": [
  {
   "cell_type": "markdown",
   "id": "4bbb574d",
   "metadata": {
    "id": "KLfj50LPPFDB",
    "papermill": {
     "duration": 0.039734,
     "end_time": "2022-01-17T21:40:45.200404",
     "exception": false,
     "start_time": "2022-01-17T21:40:45.160670",
     "status": "completed"
    },
    "tags": []
   },
   "source": [
    "### Check input files\n",
    "\n"
   ]
  },
  {
   "cell_type": "code",
   "execution_count": 143,
   "id": "45c7690a",
   "metadata": {
    "_cell_guid": "b1076dfc-b9ad-4769-8c92-a6c4dae69d19",
    "_uuid": "8f2839f25d086af736a60e9eeb907d3b93b6e0e5",
    "execution": {
     "iopub.execute_input": "2022-01-17T21:40:45.288137Z",
     "iopub.status.busy": "2022-01-17T21:40:45.287373Z",
     "iopub.status.idle": "2022-01-17T21:40:45.300617Z",
     "shell.execute_reply": "2022-01-17T21:40:45.301186Z",
     "shell.execute_reply.started": "2022-01-17T21:30:49.103682Z"
    },
    "id": "KlegH6X6PFDK",
    "papermill": {
     "duration": 0.061317,
     "end_time": "2022-01-17T21:40:45.301538",
     "exception": false,
     "start_time": "2022-01-17T21:40:45.240221",
     "status": "completed"
    },
    "tags": []
   },
   "outputs": [
    {
     "name": "stdout",
     "output_type": "stream",
     "text": [
      "../datasets/sample.csv\n",
      "../datasets/firstDataset.csv\n"
     ]
    }
   ],
   "source": [
    "import numpy as np\n",
    "import pandas as pd\n",
    "\n",
    "import os\n",
    "for dirname, _, filenames in os.walk('../datasets'):\n",
    "    for filename in filenames:\n",
    "        print(os.path.join(dirname, filename))\n"
   ]
  },
  {
   "cell_type": "markdown",
   "id": "3aa3de62",
   "metadata": {
    "id": "VNwBYC2aH9UF",
    "papermill": {
     "duration": 0.038369,
     "end_time": "2022-01-17T21:40:45.378612",
     "exception": false,
     "start_time": "2022-01-17T21:40:45.340243",
     "status": "completed"
    },
    "tags": []
   },
   "source": [
    "### Import train data and create DataFrame object"
   ]
  },
  {
   "cell_type": "code",
   "execution_count": 144,
   "id": "7dc2ecfd",
   "metadata": {
    "execution": {
     "iopub.execute_input": "2022-01-17T21:40:45.462008Z",
     "iopub.status.busy": "2022-01-17T21:40:45.461151Z",
     "iopub.status.idle": "2022-01-17T21:40:45.514670Z",
     "shell.execute_reply": "2022-01-17T21:40:45.514023Z",
     "shell.execute_reply.started": "2022-01-17T21:30:49.116444Z"
    },
    "id": "rPzgqJfuH88j",
    "papermill": {
     "duration": 0.098772,
     "end_time": "2022-01-17T21:40:45.514849",
     "exception": false,
     "start_time": "2022-01-17T21:40:45.416077",
     "status": "completed"
    },
    "tags": []
   },
   "outputs": [
    {
     "name": "stdout",
     "output_type": "stream",
     "text": [
      "The files have been imported\n"
     ]
    }
   ],
   "source": [
    "numeric_data = pd.read_csv('../datasets/firstDataset.csv')\n",
    "print(\"The files have been imported\")\n"
   ]
  },
  {
   "cell_type": "markdown",
   "id": "2a717ae3",
   "metadata": {
    "id": "W4V6zxbMnyB3",
    "papermill": {
     "duration": 0.036952,
     "end_time": "2022-01-17T21:40:45.590545",
     "exception": false,
     "start_time": "2022-01-17T21:40:45.553593",
     "status": "completed"
    },
    "tags": []
   },
   "source": [
    "### Find and display unique data\n",
    "#### This function is used to search a Data Frame and then display unique values for each feature. Thanks to this, you can find features that have the same values, e.q: `OnlineSecurity` which contains the answers: 'Yes', 'No' and 'No internet service'."
   ]
  },
  {
   "cell_type": "code",
   "execution_count": null,
   "id": "17c8189d",
   "metadata": {
    "execution": {
     "iopub.execute_input": "2022-01-17T21:40:45.682141Z",
     "iopub.status.busy": "2022-01-17T21:40:45.679338Z",
     "iopub.status.idle": "2022-01-17T21:40:45.708254Z",
     "shell.execute_reply": "2022-01-17T21:40:45.708863Z",
     "shell.execute_reply.started": "2022-01-17T21:30:49.166618Z"
    },
    "id": "oaq_IeBSn23W",
    "outputId": "60d86d75-afa0-451c-a5d2-a43e94f24ffd",
    "papermill": {
     "duration": 0.078721,
     "end_time": "2022-01-17T21:40:45.709050",
     "exception": false,
     "start_time": "2022-01-17T21:40:45.630329",
     "status": "completed"
    },
    "tags": []
   },
   "outputs": [],
   "source": [
    "def printUniqueValues(dataToCheck):\n",
    "    for column in dataToCheck:\n",
    "        uniqueValues = dataToCheck[column].unique()\n",
    "        uniqueCount = len(uniqueValues)\n",
    "        print(f\"{column} = {uniqueValues} = {uniqueCount}\")\n",
    "\n",
    "\n",
    "printUniqueValues(numeric_data)"
   ]
  },
  {
   "cell_type": "markdown",
   "id": "f4e58530",
   "metadata": {
    "id": "NiF5yDiuSh7-",
    "papermill": {
     "duration": 0.039637,
     "end_time": "2022-01-17T21:40:45.789889",
     "exception": false,
     "start_time": "2022-01-17T21:40:45.750252",
     "status": "completed"
    },
    "tags": []
   },
   "source": [
    "### DataFrame information\n",
    "#### The `info()` method provides us a basic information about featurs, like: feature's amout of data (how many values are NaN values) and the types of data (e.q int or float). It is very important information for future data processing beacuse, e.q: fetures which contains variables of type 'int' will be labeled differently than features which contains variables of type 'float'."
   ]
  },
  {
   "cell_type": "code",
   "execution_count": null,
   "id": "efb25b1d",
   "metadata": {
    "execution": {
     "iopub.execute_input": "2022-01-17T21:40:45.878738Z",
     "iopub.status.busy": "2022-01-17T21:40:45.877707Z",
     "iopub.status.idle": "2022-01-17T21:40:45.906335Z",
     "shell.execute_reply": "2022-01-17T21:40:45.907251Z",
     "shell.execute_reply.started": "2022-01-17T21:30:49.194802Z"
    },
    "id": "vjv9O-4KSh7_",
    "papermill": {
     "duration": 0.079757,
     "end_time": "2022-01-17T21:40:45.907489",
     "exception": false,
     "start_time": "2022-01-17T21:40:45.827732",
     "status": "completed"
    },
    "tags": []
   },
   "outputs": [],
   "source": [
    "numeric_data.info()\n"
   ]
  },
  {
   "cell_type": "markdown",
   "id": "8b43f701",
   "metadata": {
    "id": "PxIhm6qJPFDU",
    "papermill": {
     "duration": 0.040316,
     "end_time": "2022-01-17T21:40:47.985950",
     "exception": false,
     "start_time": "2022-01-17T21:40:47.945634",
     "status": "completed"
    },
    "tags": []
   },
   "source": [
    "### Preprocess training data."
   ]
  },
  {
   "cell_type": "code",
   "execution_count": null,
   "id": "ee6d449a",
   "metadata": {
    "_cell_guid": "79c7e3d0-c299-4dcb-8224-4455121ee9b0",
    "_uuid": "d629ff2d2480ee46fbb7e2d37f6b5fab8052498a",
    "execution": {
     "iopub.execute_input": "2022-01-17T21:40:48.077041Z",
     "iopub.status.busy": "2022-01-17T21:40:48.075882Z",
     "iopub.status.idle": "2022-01-17T21:40:48.189217Z",
     "shell.execute_reply": "2022-01-17T21:40:48.189799Z",
     "shell.execute_reply.started": "2022-01-17T21:30:49.300477Z"
    },
    "id": "Y2Nnmrz2PFDX",
    "papermill": {
     "duration": 0.163546,
     "end_time": "2022-01-17T21:40:48.190026",
     "exception": false,
     "start_time": "2022-01-17T21:40:48.026480",
     "status": "completed"
    },
    "tags": []
   },
   "outputs": [],
   "source": [
    "display(numeric_data)"
   ]
  },
  {
   "cell_type": "markdown",
   "id": "8de87255",
   "metadata": {},
   "source": [
    "Drop unnecessary features"
   ]
  },
  {
   "cell_type": "code",
   "execution_count": 145,
   "id": "7ef7888a",
   "metadata": {},
   "outputs": [
    {
     "data": {
      "text/html": [
       "<div>\n",
       "<style scoped>\n",
       "    .dataframe tbody tr th:only-of-type {\n",
       "        vertical-align: middle;\n",
       "    }\n",
       "\n",
       "    .dataframe tbody tr th {\n",
       "        vertical-align: top;\n",
       "    }\n",
       "\n",
       "    .dataframe thead th {\n",
       "        text-align: right;\n",
       "    }\n",
       "</style>\n",
       "<table border=\"1\" class=\"dataframe\">\n",
       "  <thead>\n",
       "    <tr style=\"text-align: right;\">\n",
       "      <th></th>\n",
       "      <th>Dst Port</th>\n",
       "      <th>Protocol</th>\n",
       "      <th>Flow Duration</th>\n",
       "      <th>Tot Fwd Pkts</th>\n",
       "      <th>Tot Bwd Pkts</th>\n",
       "      <th>TotLen Fwd Pkts</th>\n",
       "      <th>TotLen Bwd Pkts</th>\n",
       "      <th>Fwd Pkt Len Mean</th>\n",
       "      <th>Fwd Pkt Len Std</th>\n",
       "      <th>Bwd Pkt Len Mean</th>\n",
       "      <th>...</th>\n",
       "      <th>Subflow Bwd Byts</th>\n",
       "      <th>Init Fwd Win Byts</th>\n",
       "      <th>Init Bwd Win Byts</th>\n",
       "      <th>Fwd Act Data Pkts</th>\n",
       "      <th>Fwd Seg Size Min</th>\n",
       "      <th>Active Mean</th>\n",
       "      <th>Active Std</th>\n",
       "      <th>Idle Mean</th>\n",
       "      <th>Idle Std</th>\n",
       "      <th>Label</th>\n",
       "    </tr>\n",
       "  </thead>\n",
       "  <tbody>\n",
       "    <tr>\n",
       "      <th>0</th>\n",
       "      <td>0</td>\n",
       "      <td>0</td>\n",
       "      <td>112641719</td>\n",
       "      <td>3</td>\n",
       "      <td>0</td>\n",
       "      <td>0</td>\n",
       "      <td>0</td>\n",
       "      <td>0.000000</td>\n",
       "      <td>0.000000</td>\n",
       "      <td>0.000000</td>\n",
       "      <td>...</td>\n",
       "      <td>0</td>\n",
       "      <td>-1</td>\n",
       "      <td>-1</td>\n",
       "      <td>0</td>\n",
       "      <td>0</td>\n",
       "      <td>0.0</td>\n",
       "      <td>0.0</td>\n",
       "      <td>56320859.5</td>\n",
       "      <td>139.300036</td>\n",
       "      <td>Benign</td>\n",
       "    </tr>\n",
       "    <tr>\n",
       "      <th>1</th>\n",
       "      <td>0</td>\n",
       "      <td>0</td>\n",
       "      <td>112641466</td>\n",
       "      <td>3</td>\n",
       "      <td>0</td>\n",
       "      <td>0</td>\n",
       "      <td>0</td>\n",
       "      <td>0.000000</td>\n",
       "      <td>0.000000</td>\n",
       "      <td>0.000000</td>\n",
       "      <td>...</td>\n",
       "      <td>0</td>\n",
       "      <td>-1</td>\n",
       "      <td>-1</td>\n",
       "      <td>0</td>\n",
       "      <td>0</td>\n",
       "      <td>0.0</td>\n",
       "      <td>0.0</td>\n",
       "      <td>56320733.0</td>\n",
       "      <td>114.551299</td>\n",
       "      <td>Benign</td>\n",
       "    </tr>\n",
       "    <tr>\n",
       "      <th>2</th>\n",
       "      <td>0</td>\n",
       "      <td>0</td>\n",
       "      <td>112638623</td>\n",
       "      <td>3</td>\n",
       "      <td>0</td>\n",
       "      <td>0</td>\n",
       "      <td>0</td>\n",
       "      <td>0.000000</td>\n",
       "      <td>0.000000</td>\n",
       "      <td>0.000000</td>\n",
       "      <td>...</td>\n",
       "      <td>0</td>\n",
       "      <td>-1</td>\n",
       "      <td>-1</td>\n",
       "      <td>0</td>\n",
       "      <td>0</td>\n",
       "      <td>0.0</td>\n",
       "      <td>0.0</td>\n",
       "      <td>56319311.5</td>\n",
       "      <td>301.934596</td>\n",
       "      <td>Benign</td>\n",
       "    </tr>\n",
       "    <tr>\n",
       "      <th>3</th>\n",
       "      <td>22</td>\n",
       "      <td>6</td>\n",
       "      <td>6453966</td>\n",
       "      <td>15</td>\n",
       "      <td>10</td>\n",
       "      <td>1239</td>\n",
       "      <td>2273</td>\n",
       "      <td>82.600000</td>\n",
       "      <td>196.741237</td>\n",
       "      <td>227.300000</td>\n",
       "      <td>...</td>\n",
       "      <td>2273</td>\n",
       "      <td>65535</td>\n",
       "      <td>233</td>\n",
       "      <td>6</td>\n",
       "      <td>32</td>\n",
       "      <td>0.0</td>\n",
       "      <td>0.0</td>\n",
       "      <td>0.0</td>\n",
       "      <td>0.000000</td>\n",
       "      <td>Benign</td>\n",
       "    </tr>\n",
       "    <tr>\n",
       "      <th>4</th>\n",
       "      <td>22</td>\n",
       "      <td>6</td>\n",
       "      <td>8804066</td>\n",
       "      <td>14</td>\n",
       "      <td>11</td>\n",
       "      <td>1143</td>\n",
       "      <td>2209</td>\n",
       "      <td>81.642857</td>\n",
       "      <td>203.745545</td>\n",
       "      <td>200.818182</td>\n",
       "      <td>...</td>\n",
       "      <td>2209</td>\n",
       "      <td>5808</td>\n",
       "      <td>233</td>\n",
       "      <td>6</td>\n",
       "      <td>32</td>\n",
       "      <td>0.0</td>\n",
       "      <td>0.0</td>\n",
       "      <td>0.0</td>\n",
       "      <td>0.000000</td>\n",
       "      <td>Benign</td>\n",
       "    </tr>\n",
       "    <tr>\n",
       "      <th>...</th>\n",
       "      <td>...</td>\n",
       "      <td>...</td>\n",
       "      <td>...</td>\n",
       "      <td>...</td>\n",
       "      <td>...</td>\n",
       "      <td>...</td>\n",
       "      <td>...</td>\n",
       "      <td>...</td>\n",
       "      <td>...</td>\n",
       "      <td>...</td>\n",
       "      <td>...</td>\n",
       "      <td>...</td>\n",
       "      <td>...</td>\n",
       "      <td>...</td>\n",
       "      <td>...</td>\n",
       "      <td>...</td>\n",
       "      <td>...</td>\n",
       "      <td>...</td>\n",
       "      <td>...</td>\n",
       "      <td>...</td>\n",
       "      <td>...</td>\n",
       "    </tr>\n",
       "    <tr>\n",
       "      <th>1048570</th>\n",
       "      <td>80</td>\n",
       "      <td>6</td>\n",
       "      <td>10156986</td>\n",
       "      <td>5</td>\n",
       "      <td>5</td>\n",
       "      <td>1089</td>\n",
       "      <td>1923</td>\n",
       "      <td>217.800000</td>\n",
       "      <td>299.745225</td>\n",
       "      <td>384.600000</td>\n",
       "      <td>...</td>\n",
       "      <td>1923</td>\n",
       "      <td>8192</td>\n",
       "      <td>31111</td>\n",
       "      <td>2</td>\n",
       "      <td>20</td>\n",
       "      <td>0.0</td>\n",
       "      <td>0.0</td>\n",
       "      <td>0.0</td>\n",
       "      <td>0.000000</td>\n",
       "      <td>Benign</td>\n",
       "    </tr>\n",
       "    <tr>\n",
       "      <th>1048571</th>\n",
       "      <td>80</td>\n",
       "      <td>6</td>\n",
       "      <td>117</td>\n",
       "      <td>2</td>\n",
       "      <td>0</td>\n",
       "      <td>0</td>\n",
       "      <td>0</td>\n",
       "      <td>0.000000</td>\n",
       "      <td>0.000000</td>\n",
       "      <td>0.000000</td>\n",
       "      <td>...</td>\n",
       "      <td>0</td>\n",
       "      <td>64240</td>\n",
       "      <td>-1</td>\n",
       "      <td>0</td>\n",
       "      <td>20</td>\n",
       "      <td>0.0</td>\n",
       "      <td>0.0</td>\n",
       "      <td>0.0</td>\n",
       "      <td>0.000000</td>\n",
       "      <td>Benign</td>\n",
       "    </tr>\n",
       "    <tr>\n",
       "      <th>1048572</th>\n",
       "      <td>80</td>\n",
       "      <td>6</td>\n",
       "      <td>5095331</td>\n",
       "      <td>3</td>\n",
       "      <td>1</td>\n",
       "      <td>0</td>\n",
       "      <td>0</td>\n",
       "      <td>0.000000</td>\n",
       "      <td>0.000000</td>\n",
       "      <td>0.000000</td>\n",
       "      <td>...</td>\n",
       "      <td>0</td>\n",
       "      <td>8192</td>\n",
       "      <td>29200</td>\n",
       "      <td>0</td>\n",
       "      <td>20</td>\n",
       "      <td>0.0</td>\n",
       "      <td>0.0</td>\n",
       "      <td>0.0</td>\n",
       "      <td>0.000000</td>\n",
       "      <td>Benign</td>\n",
       "    </tr>\n",
       "    <tr>\n",
       "      <th>1048573</th>\n",
       "      <td>80</td>\n",
       "      <td>6</td>\n",
       "      <td>5235511</td>\n",
       "      <td>3</td>\n",
       "      <td>1</td>\n",
       "      <td>0</td>\n",
       "      <td>0</td>\n",
       "      <td>0.000000</td>\n",
       "      <td>0.000000</td>\n",
       "      <td>0.000000</td>\n",
       "      <td>...</td>\n",
       "      <td>0</td>\n",
       "      <td>8192</td>\n",
       "      <td>42780</td>\n",
       "      <td>0</td>\n",
       "      <td>20</td>\n",
       "      <td>0.0</td>\n",
       "      <td>0.0</td>\n",
       "      <td>0.0</td>\n",
       "      <td>0.000000</td>\n",
       "      <td>Benign</td>\n",
       "    </tr>\n",
       "    <tr>\n",
       "      <th>1048574</th>\n",
       "      <td>443</td>\n",
       "      <td>6</td>\n",
       "      <td>5807256</td>\n",
       "      <td>6</td>\n",
       "      <td>4</td>\n",
       "      <td>327</td>\n",
       "      <td>145</td>\n",
       "      <td>54.500000</td>\n",
       "      <td>95.671835</td>\n",
       "      <td>36.250000</td>\n",
       "      <td>...</td>\n",
       "      <td>145</td>\n",
       "      <td>8192</td>\n",
       "      <td>110</td>\n",
       "      <td>3</td>\n",
       "      <td>20</td>\n",
       "      <td>291569.0</td>\n",
       "      <td>0.0</td>\n",
       "      <td>5515650.0</td>\n",
       "      <td>0.000000</td>\n",
       "      <td>Benign</td>\n",
       "    </tr>\n",
       "  </tbody>\n",
       "</table>\n",
       "<p>1048575 rows × 63 columns</p>\n",
       "</div>"
      ],
      "text/plain": [
       "         Dst Port  Protocol  Flow Duration  Tot Fwd Pkts  Tot Bwd Pkts  \\\n",
       "0               0         0      112641719             3             0   \n",
       "1               0         0      112641466             3             0   \n",
       "2               0         0      112638623             3             0   \n",
       "3              22         6        6453966            15            10   \n",
       "4              22         6        8804066            14            11   \n",
       "...           ...       ...            ...           ...           ...   \n",
       "1048570        80         6       10156986             5             5   \n",
       "1048571        80         6            117             2             0   \n",
       "1048572        80         6        5095331             3             1   \n",
       "1048573        80         6        5235511             3             1   \n",
       "1048574       443         6        5807256             6             4   \n",
       "\n",
       "         TotLen Fwd Pkts  TotLen Bwd Pkts  Fwd Pkt Len Mean  Fwd Pkt Len Std  \\\n",
       "0                      0                0          0.000000         0.000000   \n",
       "1                      0                0          0.000000         0.000000   \n",
       "2                      0                0          0.000000         0.000000   \n",
       "3                   1239             2273         82.600000       196.741237   \n",
       "4                   1143             2209         81.642857       203.745545   \n",
       "...                  ...              ...               ...              ...   \n",
       "1048570             1089             1923        217.800000       299.745225   \n",
       "1048571                0                0          0.000000         0.000000   \n",
       "1048572                0                0          0.000000         0.000000   \n",
       "1048573                0                0          0.000000         0.000000   \n",
       "1048574              327              145         54.500000        95.671835   \n",
       "\n",
       "         Bwd Pkt Len Mean  ...  Subflow Bwd Byts  Init Fwd Win Byts  \\\n",
       "0                0.000000  ...                 0                 -1   \n",
       "1                0.000000  ...                 0                 -1   \n",
       "2                0.000000  ...                 0                 -1   \n",
       "3              227.300000  ...              2273              65535   \n",
       "4              200.818182  ...              2209               5808   \n",
       "...                   ...  ...               ...                ...   \n",
       "1048570        384.600000  ...              1923               8192   \n",
       "1048571          0.000000  ...                 0              64240   \n",
       "1048572          0.000000  ...                 0               8192   \n",
       "1048573          0.000000  ...                 0               8192   \n",
       "1048574         36.250000  ...               145               8192   \n",
       "\n",
       "         Init Bwd Win Byts  Fwd Act Data Pkts  Fwd Seg Size Min  Active Mean  \\\n",
       "0                       -1                  0                 0          0.0   \n",
       "1                       -1                  0                 0          0.0   \n",
       "2                       -1                  0                 0          0.0   \n",
       "3                      233                  6                32          0.0   \n",
       "4                      233                  6                32          0.0   \n",
       "...                    ...                ...               ...          ...   \n",
       "1048570              31111                  2                20          0.0   \n",
       "1048571                 -1                  0                20          0.0   \n",
       "1048572              29200                  0                20          0.0   \n",
       "1048573              42780                  0                20          0.0   \n",
       "1048574                110                  3                20     291569.0   \n",
       "\n",
       "         Active Std   Idle Mean    Idle Std   Label  \n",
       "0               0.0  56320859.5  139.300036  Benign  \n",
       "1               0.0  56320733.0  114.551299  Benign  \n",
       "2               0.0  56319311.5  301.934596  Benign  \n",
       "3               0.0         0.0    0.000000  Benign  \n",
       "4               0.0         0.0    0.000000  Benign  \n",
       "...             ...         ...         ...     ...  \n",
       "1048570         0.0         0.0    0.000000  Benign  \n",
       "1048571         0.0         0.0    0.000000  Benign  \n",
       "1048572         0.0         0.0    0.000000  Benign  \n",
       "1048573         0.0         0.0    0.000000  Benign  \n",
       "1048574         0.0   5515650.0    0.000000  Benign  \n",
       "\n",
       "[1048575 rows x 63 columns]"
      ]
     },
     "metadata": {},
     "output_type": "display_data"
    }
   ],
   "source": [
    "def dropUnnecessaryFeatures(dataToTransform):\n",
    "    dataToTransform = dataToTransform.drop(['Timestamp'], axis=1)\n",
    "\n",
    "    dataToTransform = dataToTransform.drop(['Fwd Pkt Len Min'], axis=1)\n",
    "    dataToTransform = dataToTransform.drop(['Fwd Pkt Len Max'], axis=1)\n",
    "\n",
    "    dataToTransform = dataToTransform.drop(['Bwd Pkt Len Min'], axis=1)\n",
    "    dataToTransform = dataToTransform.drop(['Bwd Pkt Len Max'], axis=1)\n",
    "\n",
    "    dataToTransform = dataToTransform.drop(['Flow IAT Min'], axis=1)\n",
    "    dataToTransform = dataToTransform.drop(['Flow IAT Max'], axis=1)\n",
    "\n",
    "    dataToTransform = dataToTransform.drop(['Fwd IAT Max'], axis=1)\n",
    "    dataToTransform = dataToTransform.drop(['Fwd IAT Min'], axis=1)\n",
    "\n",
    "    dataToTransform = dataToTransform.drop(['Bwd IAT Max'], axis=1)\n",
    "    dataToTransform = dataToTransform.drop(['Bwd IAT Min'], axis=1)\n",
    "\n",
    "    dataToTransform = dataToTransform.drop(['Pkt Len Min'], axis=1)\n",
    "    dataToTransform = dataToTransform.drop(['Pkt Len Max'], axis=1)\n",
    "\n",
    "    dataToTransform = dataToTransform.drop(['Idle Max'], axis=1)\n",
    "    dataToTransform = dataToTransform.drop(['Idle Min'], axis=1)\n",
    "\n",
    "    dataToTransform = dataToTransform.drop(['Active Max'], axis=1)\n",
    "    dataToTransform = dataToTransform.drop(['Active Min'], axis=1)\n",
    "\n",
    "    # \"Protocol\",\"PSH Flag Cnt\",\"Init Fwd Win Byts\",\"Flow Byts/s\",\"Flow Pkts/s\"\n",
    "    return dataToTransform\n",
    "\n",
    "\n",
    "numeric_data = dropUnnecessaryFeatures(numeric_data)\n",
    "display(numeric_data)\n"
   ]
  },
  {
   "cell_type": "code",
   "execution_count": null,
   "id": "02feb5d2",
   "metadata": {},
   "outputs": [],
   "source": [
    "\n",
    "# print(numeric_data['Init Bwd Win Byts'])\n"
   ]
  },
  {
   "cell_type": "code",
   "execution_count": null,
   "id": "e510cab2",
   "metadata": {},
   "outputs": [],
   "source": [
    "print(numeric_data['Init Fwd Win Byts'])\n"
   ]
  },
  {
   "cell_type": "markdown",
   "id": "e4e93444",
   "metadata": {
    "id": "xYzsVX21PFDc",
    "papermill": {
     "duration": 0.047639,
     "end_time": "2022-01-17T21:40:48.282094",
     "exception": false,
     "start_time": "2022-01-17T21:40:48.234455",
     "status": "completed"
    },
    "tags": []
   },
   "source": [
    "### Heatmap\n",
    "#### Heatmap provide us information on how much the individual features are interpedent. Based on heatmap, we droped the feature that are high corelated with each other, beacuse, such data do not provide additional information and can increase the model load. For example, we drop `TotalCharges` because it's has high corellation with `MonthlyCharges`."
   ]
  },
  {
   "cell_type": "code",
   "execution_count": null,
   "id": "b5d3cba8",
   "metadata": {
    "execution": {
     "iopub.execute_input": "2022-01-17T21:40:48.370987Z",
     "iopub.status.busy": "2022-01-17T21:40:48.370237Z",
     "iopub.status.idle": "2022-01-17T21:40:51.265700Z",
     "shell.execute_reply": "2022-01-17T21:40:51.266249Z",
     "shell.execute_reply.started": "2022-01-17T21:30:49.408211Z"
    },
    "id": "ObQ1AkeKPFDf",
    "papermill": {
     "duration": 2.938931,
     "end_time": "2022-01-17T21:40:51.266450",
     "exception": false,
     "start_time": "2022-01-17T21:40:48.327519",
     "status": "completed"
    },
    "tags": []
   },
   "outputs": [],
   "source": [
    "import matplotlib.pyplot as plt\n",
    "import seaborn as sns\n",
    "\n",
    "f, ax = plt.subplots(figsize=(15, 8))\n",
    "sns.heatmap(abs(numeric_data.corr()), annot=True,\n",
    "            linewidths=0.5, fmt='.2f', ax=ax)\n"
   ]
  },
  {
   "cell_type": "markdown",
   "id": "bbc7cfd1",
   "metadata": {},
   "source": [
    "#### Process labels"
   ]
  },
  {
   "cell_type": "markdown",
   "id": "0ae72bf0",
   "metadata": {},
   "source": [
    "#### Before preprocess"
   ]
  },
  {
   "cell_type": "code",
   "execution_count": 147,
   "id": "aaf1c860",
   "metadata": {},
   "outputs": [
    {
     "data": {
      "text/html": [
       "        <script type=\"text/javascript\">\n",
       "        window.PlotlyConfig = {MathJaxConfig: 'local'};\n",
       "        if (window.MathJax) {MathJax.Hub.Config({SVG: {font: \"STIX-Web\"}});}\n",
       "        if (typeof require !== 'undefined') {\n",
       "        require.undef(\"plotly\");\n",
       "        requirejs.config({\n",
       "            paths: {\n",
       "                'plotly': ['https://cdn.plot.ly/plotly-2.9.0.min']\n",
       "            }\n",
       "        });\n",
       "        require(['plotly'], function(Plotly) {\n",
       "            window._Plotly = Plotly;\n",
       "        });\n",
       "        }\n",
       "        </script>\n",
       "        "
      ]
     },
     "metadata": {},
     "output_type": "display_data"
    }
   ],
   "source": [
    "import plotly.graph_objs as go\n",
    "from plotly.offline import init_notebook_mode, iplot, plot\n",
    "import plotly as py\n",
    "import plotly.express as px\n",
    "init_notebook_mode(connected=True)\n",
    "\n",
    "\n",
    "def showAttackDistribution(data):\n",
    "    normal = 'Benign'\n",
    "    ftpAttack = 'FTP-BruteForce'\n",
    "    sshAttack = 'SSH-Bruteforce'\n",
    "    fig = go.Figure(data=[\n",
    "        go.Bar(name=normal,\n",
    "               y=data.value_counts().values[0:1],\n",
    "               x=[normal],\n",
    "               text=data.value_counts()[0:1],\n",
    "               orientation='v',\n",
    "               textposition='outside',),\n",
    "        go.Bar(name=ftpAttack,\n",
    "               y=data.value_counts().values[1:2],\n",
    "               x=[ftpAttack],\n",
    "               text=data.value_counts()[1:2],\n",
    "               orientation='v',\n",
    "               textposition='outside',),\n",
    "        go.Bar(name=sshAttack,\n",
    "               y=data.value_counts().values[2:],\n",
    "               x=[sshAttack],\n",
    "               text=data.value_counts()[2:],\n",
    "               orientation='v',\n",
    "               textposition='outside',)\n",
    "    ])\n",
    "    # Change the bar mode\n",
    "    fig.update_layout(\n",
    "        width=800,\n",
    "        height=600,\n",
    "        title=f'Labels Distribution',\n",
    "        yaxis_title='Number of attacks',\n",
    "        xaxis_title='Attack Name',)\n",
    "    iplot(fig)\n"
   ]
  },
  {
   "cell_type": "code",
   "execution_count": null,
   "id": "65640cd4",
   "metadata": {},
   "outputs": [],
   "source": [
    "showAttackDistribution(numeric_data['Label'])"
   ]
  },
  {
   "cell_type": "code",
   "execution_count": 146,
   "id": "51a59d37",
   "metadata": {},
   "outputs": [],
   "source": [
    "def shortData(data, featureName):\n",
    "    shortedNormal = data[data[featureName] == \"Benign\"][:5000]\n",
    "    shortedFTP = data[data[featureName] == \"FTP-BruteForce\"][:5000]\n",
    "    shortedSSH = data[data[featureName] == \"SSH-Bruteforce\"][:5000]\n",
    "    return pd.concat([shortedNormal, shortedFTP, shortedSSH], axis=0)\n"
   ]
  },
  {
   "cell_type": "markdown",
   "id": "f11a5dcb",
   "metadata": {},
   "source": [
    "#### After preprocess"
   ]
  },
  {
   "cell_type": "code",
   "execution_count": 148,
   "id": "941ce6dd",
   "metadata": {},
   "outputs": [
    {
     "data": {
      "application/vnd.plotly.v1+json": {
       "config": {
        "linkText": "Export to plot.ly",
        "plotlyServerURL": "https://plot.ly",
        "showLink": false
       },
       "data": [
        {
         "name": "Benign",
         "orientation": "v",
         "text": [
          5000
         ],
         "textposition": "outside",
         "type": "bar",
         "x": [
          "Benign"
         ],
         "y": [
          5000
         ]
        },
        {
         "name": "FTP-BruteForce",
         "orientation": "v",
         "text": [
          5000
         ],
         "textposition": "outside",
         "type": "bar",
         "x": [
          "FTP-BruteForce"
         ],
         "y": [
          5000
         ]
        },
        {
         "name": "SSH-Bruteforce",
         "orientation": "v",
         "text": [
          5000
         ],
         "textposition": "outside",
         "type": "bar",
         "x": [
          "SSH-Bruteforce"
         ],
         "y": [
          5000
         ]
        }
       ],
       "layout": {
        "height": 600,
        "template": {
         "data": {
          "bar": [
           {
            "error_x": {
             "color": "#2a3f5f"
            },
            "error_y": {
             "color": "#2a3f5f"
            },
            "marker": {
             "line": {
              "color": "#E5ECF6",
              "width": 0.5
             },
             "pattern": {
              "fillmode": "overlay",
              "size": 10,
              "solidity": 0.2
             }
            },
            "type": "bar"
           }
          ],
          "barpolar": [
           {
            "marker": {
             "line": {
              "color": "#E5ECF6",
              "width": 0.5
             },
             "pattern": {
              "fillmode": "overlay",
              "size": 10,
              "solidity": 0.2
             }
            },
            "type": "barpolar"
           }
          ],
          "carpet": [
           {
            "aaxis": {
             "endlinecolor": "#2a3f5f",
             "gridcolor": "white",
             "linecolor": "white",
             "minorgridcolor": "white",
             "startlinecolor": "#2a3f5f"
            },
            "baxis": {
             "endlinecolor": "#2a3f5f",
             "gridcolor": "white",
             "linecolor": "white",
             "minorgridcolor": "white",
             "startlinecolor": "#2a3f5f"
            },
            "type": "carpet"
           }
          ],
          "choropleth": [
           {
            "colorbar": {
             "outlinewidth": 0,
             "ticks": ""
            },
            "type": "choropleth"
           }
          ],
          "contour": [
           {
            "colorbar": {
             "outlinewidth": 0,
             "ticks": ""
            },
            "colorscale": [
             [
              0,
              "#0d0887"
             ],
             [
              0.1111111111111111,
              "#46039f"
             ],
             [
              0.2222222222222222,
              "#7201a8"
             ],
             [
              0.3333333333333333,
              "#9c179e"
             ],
             [
              0.4444444444444444,
              "#bd3786"
             ],
             [
              0.5555555555555556,
              "#d8576b"
             ],
             [
              0.6666666666666666,
              "#ed7953"
             ],
             [
              0.7777777777777778,
              "#fb9f3a"
             ],
             [
              0.8888888888888888,
              "#fdca26"
             ],
             [
              1,
              "#f0f921"
             ]
            ],
            "type": "contour"
           }
          ],
          "contourcarpet": [
           {
            "colorbar": {
             "outlinewidth": 0,
             "ticks": ""
            },
            "type": "contourcarpet"
           }
          ],
          "heatmap": [
           {
            "colorbar": {
             "outlinewidth": 0,
             "ticks": ""
            },
            "colorscale": [
             [
              0,
              "#0d0887"
             ],
             [
              0.1111111111111111,
              "#46039f"
             ],
             [
              0.2222222222222222,
              "#7201a8"
             ],
             [
              0.3333333333333333,
              "#9c179e"
             ],
             [
              0.4444444444444444,
              "#bd3786"
             ],
             [
              0.5555555555555556,
              "#d8576b"
             ],
             [
              0.6666666666666666,
              "#ed7953"
             ],
             [
              0.7777777777777778,
              "#fb9f3a"
             ],
             [
              0.8888888888888888,
              "#fdca26"
             ],
             [
              1,
              "#f0f921"
             ]
            ],
            "type": "heatmap"
           }
          ],
          "heatmapgl": [
           {
            "colorbar": {
             "outlinewidth": 0,
             "ticks": ""
            },
            "colorscale": [
             [
              0,
              "#0d0887"
             ],
             [
              0.1111111111111111,
              "#46039f"
             ],
             [
              0.2222222222222222,
              "#7201a8"
             ],
             [
              0.3333333333333333,
              "#9c179e"
             ],
             [
              0.4444444444444444,
              "#bd3786"
             ],
             [
              0.5555555555555556,
              "#d8576b"
             ],
             [
              0.6666666666666666,
              "#ed7953"
             ],
             [
              0.7777777777777778,
              "#fb9f3a"
             ],
             [
              0.8888888888888888,
              "#fdca26"
             ],
             [
              1,
              "#f0f921"
             ]
            ],
            "type": "heatmapgl"
           }
          ],
          "histogram": [
           {
            "marker": {
             "pattern": {
              "fillmode": "overlay",
              "size": 10,
              "solidity": 0.2
             }
            },
            "type": "histogram"
           }
          ],
          "histogram2d": [
           {
            "colorbar": {
             "outlinewidth": 0,
             "ticks": ""
            },
            "colorscale": [
             [
              0,
              "#0d0887"
             ],
             [
              0.1111111111111111,
              "#46039f"
             ],
             [
              0.2222222222222222,
              "#7201a8"
             ],
             [
              0.3333333333333333,
              "#9c179e"
             ],
             [
              0.4444444444444444,
              "#bd3786"
             ],
             [
              0.5555555555555556,
              "#d8576b"
             ],
             [
              0.6666666666666666,
              "#ed7953"
             ],
             [
              0.7777777777777778,
              "#fb9f3a"
             ],
             [
              0.8888888888888888,
              "#fdca26"
             ],
             [
              1,
              "#f0f921"
             ]
            ],
            "type": "histogram2d"
           }
          ],
          "histogram2dcontour": [
           {
            "colorbar": {
             "outlinewidth": 0,
             "ticks": ""
            },
            "colorscale": [
             [
              0,
              "#0d0887"
             ],
             [
              0.1111111111111111,
              "#46039f"
             ],
             [
              0.2222222222222222,
              "#7201a8"
             ],
             [
              0.3333333333333333,
              "#9c179e"
             ],
             [
              0.4444444444444444,
              "#bd3786"
             ],
             [
              0.5555555555555556,
              "#d8576b"
             ],
             [
              0.6666666666666666,
              "#ed7953"
             ],
             [
              0.7777777777777778,
              "#fb9f3a"
             ],
             [
              0.8888888888888888,
              "#fdca26"
             ],
             [
              1,
              "#f0f921"
             ]
            ],
            "type": "histogram2dcontour"
           }
          ],
          "mesh3d": [
           {
            "colorbar": {
             "outlinewidth": 0,
             "ticks": ""
            },
            "type": "mesh3d"
           }
          ],
          "parcoords": [
           {
            "line": {
             "colorbar": {
              "outlinewidth": 0,
              "ticks": ""
             }
            },
            "type": "parcoords"
           }
          ],
          "pie": [
           {
            "automargin": true,
            "type": "pie"
           }
          ],
          "scatter": [
           {
            "marker": {
             "colorbar": {
              "outlinewidth": 0,
              "ticks": ""
             }
            },
            "type": "scatter"
           }
          ],
          "scatter3d": [
           {
            "line": {
             "colorbar": {
              "outlinewidth": 0,
              "ticks": ""
             }
            },
            "marker": {
             "colorbar": {
              "outlinewidth": 0,
              "ticks": ""
             }
            },
            "type": "scatter3d"
           }
          ],
          "scattercarpet": [
           {
            "marker": {
             "colorbar": {
              "outlinewidth": 0,
              "ticks": ""
             }
            },
            "type": "scattercarpet"
           }
          ],
          "scattergeo": [
           {
            "marker": {
             "colorbar": {
              "outlinewidth": 0,
              "ticks": ""
             }
            },
            "type": "scattergeo"
           }
          ],
          "scattergl": [
           {
            "marker": {
             "colorbar": {
              "outlinewidth": 0,
              "ticks": ""
             }
            },
            "type": "scattergl"
           }
          ],
          "scattermapbox": [
           {
            "marker": {
             "colorbar": {
              "outlinewidth": 0,
              "ticks": ""
             }
            },
            "type": "scattermapbox"
           }
          ],
          "scatterpolar": [
           {
            "marker": {
             "colorbar": {
              "outlinewidth": 0,
              "ticks": ""
             }
            },
            "type": "scatterpolar"
           }
          ],
          "scatterpolargl": [
           {
            "marker": {
             "colorbar": {
              "outlinewidth": 0,
              "ticks": ""
             }
            },
            "type": "scatterpolargl"
           }
          ],
          "scatterternary": [
           {
            "marker": {
             "colorbar": {
              "outlinewidth": 0,
              "ticks": ""
             }
            },
            "type": "scatterternary"
           }
          ],
          "surface": [
           {
            "colorbar": {
             "outlinewidth": 0,
             "ticks": ""
            },
            "colorscale": [
             [
              0,
              "#0d0887"
             ],
             [
              0.1111111111111111,
              "#46039f"
             ],
             [
              0.2222222222222222,
              "#7201a8"
             ],
             [
              0.3333333333333333,
              "#9c179e"
             ],
             [
              0.4444444444444444,
              "#bd3786"
             ],
             [
              0.5555555555555556,
              "#d8576b"
             ],
             [
              0.6666666666666666,
              "#ed7953"
             ],
             [
              0.7777777777777778,
              "#fb9f3a"
             ],
             [
              0.8888888888888888,
              "#fdca26"
             ],
             [
              1,
              "#f0f921"
             ]
            ],
            "type": "surface"
           }
          ],
          "table": [
           {
            "cells": {
             "fill": {
              "color": "#EBF0F8"
             },
             "line": {
              "color": "white"
             }
            },
            "header": {
             "fill": {
              "color": "#C8D4E3"
             },
             "line": {
              "color": "white"
             }
            },
            "type": "table"
           }
          ]
         },
         "layout": {
          "annotationdefaults": {
           "arrowcolor": "#2a3f5f",
           "arrowhead": 0,
           "arrowwidth": 1
          },
          "autotypenumbers": "strict",
          "coloraxis": {
           "colorbar": {
            "outlinewidth": 0,
            "ticks": ""
           }
          },
          "colorscale": {
           "diverging": [
            [
             0,
             "#8e0152"
            ],
            [
             0.1,
             "#c51b7d"
            ],
            [
             0.2,
             "#de77ae"
            ],
            [
             0.3,
             "#f1b6da"
            ],
            [
             0.4,
             "#fde0ef"
            ],
            [
             0.5,
             "#f7f7f7"
            ],
            [
             0.6,
             "#e6f5d0"
            ],
            [
             0.7,
             "#b8e186"
            ],
            [
             0.8,
             "#7fbc41"
            ],
            [
             0.9,
             "#4d9221"
            ],
            [
             1,
             "#276419"
            ]
           ],
           "sequential": [
            [
             0,
             "#0d0887"
            ],
            [
             0.1111111111111111,
             "#46039f"
            ],
            [
             0.2222222222222222,
             "#7201a8"
            ],
            [
             0.3333333333333333,
             "#9c179e"
            ],
            [
             0.4444444444444444,
             "#bd3786"
            ],
            [
             0.5555555555555556,
             "#d8576b"
            ],
            [
             0.6666666666666666,
             "#ed7953"
            ],
            [
             0.7777777777777778,
             "#fb9f3a"
            ],
            [
             0.8888888888888888,
             "#fdca26"
            ],
            [
             1,
             "#f0f921"
            ]
           ],
           "sequentialminus": [
            [
             0,
             "#0d0887"
            ],
            [
             0.1111111111111111,
             "#46039f"
            ],
            [
             0.2222222222222222,
             "#7201a8"
            ],
            [
             0.3333333333333333,
             "#9c179e"
            ],
            [
             0.4444444444444444,
             "#bd3786"
            ],
            [
             0.5555555555555556,
             "#d8576b"
            ],
            [
             0.6666666666666666,
             "#ed7953"
            ],
            [
             0.7777777777777778,
             "#fb9f3a"
            ],
            [
             0.8888888888888888,
             "#fdca26"
            ],
            [
             1,
             "#f0f921"
            ]
           ]
          },
          "colorway": [
           "#636efa",
           "#EF553B",
           "#00cc96",
           "#ab63fa",
           "#FFA15A",
           "#19d3f3",
           "#FF6692",
           "#B6E880",
           "#FF97FF",
           "#FECB52"
          ],
          "font": {
           "color": "#2a3f5f"
          },
          "geo": {
           "bgcolor": "white",
           "lakecolor": "white",
           "landcolor": "#E5ECF6",
           "showlakes": true,
           "showland": true,
           "subunitcolor": "white"
          },
          "hoverlabel": {
           "align": "left"
          },
          "hovermode": "closest",
          "mapbox": {
           "style": "light"
          },
          "paper_bgcolor": "white",
          "plot_bgcolor": "#E5ECF6",
          "polar": {
           "angularaxis": {
            "gridcolor": "white",
            "linecolor": "white",
            "ticks": ""
           },
           "bgcolor": "#E5ECF6",
           "radialaxis": {
            "gridcolor": "white",
            "linecolor": "white",
            "ticks": ""
           }
          },
          "scene": {
           "xaxis": {
            "backgroundcolor": "#E5ECF6",
            "gridcolor": "white",
            "gridwidth": 2,
            "linecolor": "white",
            "showbackground": true,
            "ticks": "",
            "zerolinecolor": "white"
           },
           "yaxis": {
            "backgroundcolor": "#E5ECF6",
            "gridcolor": "white",
            "gridwidth": 2,
            "linecolor": "white",
            "showbackground": true,
            "ticks": "",
            "zerolinecolor": "white"
           },
           "zaxis": {
            "backgroundcolor": "#E5ECF6",
            "gridcolor": "white",
            "gridwidth": 2,
            "linecolor": "white",
            "showbackground": true,
            "ticks": "",
            "zerolinecolor": "white"
           }
          },
          "shapedefaults": {
           "line": {
            "color": "#2a3f5f"
           }
          },
          "ternary": {
           "aaxis": {
            "gridcolor": "white",
            "linecolor": "white",
            "ticks": ""
           },
           "baxis": {
            "gridcolor": "white",
            "linecolor": "white",
            "ticks": ""
           },
           "bgcolor": "#E5ECF6",
           "caxis": {
            "gridcolor": "white",
            "linecolor": "white",
            "ticks": ""
           }
          },
          "title": {
           "x": 0.05
          },
          "xaxis": {
           "automargin": true,
           "gridcolor": "white",
           "linecolor": "white",
           "ticks": "",
           "title": {
            "standoff": 15
           },
           "zerolinecolor": "white",
           "zerolinewidth": 2
          },
          "yaxis": {
           "automargin": true,
           "gridcolor": "white",
           "linecolor": "white",
           "ticks": "",
           "title": {
            "standoff": 15
           },
           "zerolinecolor": "white",
           "zerolinewidth": 2
          }
         }
        },
        "title": {
         "text": "Labels Distribution"
        },
        "width": 800,
        "xaxis": {
         "title": {
          "text": "Attack Name"
         }
        },
        "yaxis": {
         "title": {
          "text": "Number of attacks"
         }
        }
       }
      },
      "text/html": [
       "<div>                            <div id=\"52ada029-7bef-49f8-8d94-047fac477d02\" class=\"plotly-graph-div\" style=\"height:600px; width:800px;\"></div>            <script type=\"text/javascript\">                require([\"plotly\"], function(Plotly) {                    window.PLOTLYENV=window.PLOTLYENV || {};                                    if (document.getElementById(\"52ada029-7bef-49f8-8d94-047fac477d02\")) {                    Plotly.newPlot(                        \"52ada029-7bef-49f8-8d94-047fac477d02\",                        [{\"name\":\"Benign\",\"orientation\":\"v\",\"text\":[5000.0],\"textposition\":\"outside\",\"x\":[\"Benign\"],\"y\":[5000],\"type\":\"bar\"},{\"name\":\"FTP-BruteForce\",\"orientation\":\"v\",\"text\":[5000.0],\"textposition\":\"outside\",\"x\":[\"FTP-BruteForce\"],\"y\":[5000],\"type\":\"bar\"},{\"name\":\"SSH-Bruteforce\",\"orientation\":\"v\",\"text\":[5000.0],\"textposition\":\"outside\",\"x\":[\"SSH-Bruteforce\"],\"y\":[5000],\"type\":\"bar\"}],                        {\"height\":600,\"template\":{\"data\":{\"barpolar\":[{\"marker\":{\"line\":{\"color\":\"#E5ECF6\",\"width\":0.5},\"pattern\":{\"fillmode\":\"overlay\",\"size\":10,\"solidity\":0.2}},\"type\":\"barpolar\"}],\"bar\":[{\"error_x\":{\"color\":\"#2a3f5f\"},\"error_y\":{\"color\":\"#2a3f5f\"},\"marker\":{\"line\":{\"color\":\"#E5ECF6\",\"width\":0.5},\"pattern\":{\"fillmode\":\"overlay\",\"size\":10,\"solidity\":0.2}},\"type\":\"bar\"}],\"carpet\":[{\"aaxis\":{\"endlinecolor\":\"#2a3f5f\",\"gridcolor\":\"white\",\"linecolor\":\"white\",\"minorgridcolor\":\"white\",\"startlinecolor\":\"#2a3f5f\"},\"baxis\":{\"endlinecolor\":\"#2a3f5f\",\"gridcolor\":\"white\",\"linecolor\":\"white\",\"minorgridcolor\":\"white\",\"startlinecolor\":\"#2a3f5f\"},\"type\":\"carpet\"}],\"choropleth\":[{\"colorbar\":{\"outlinewidth\":0,\"ticks\":\"\"},\"type\":\"choropleth\"}],\"contourcarpet\":[{\"colorbar\":{\"outlinewidth\":0,\"ticks\":\"\"},\"type\":\"contourcarpet\"}],\"contour\":[{\"colorbar\":{\"outlinewidth\":0,\"ticks\":\"\"},\"colorscale\":[[0.0,\"#0d0887\"],[0.1111111111111111,\"#46039f\"],[0.2222222222222222,\"#7201a8\"],[0.3333333333333333,\"#9c179e\"],[0.4444444444444444,\"#bd3786\"],[0.5555555555555556,\"#d8576b\"],[0.6666666666666666,\"#ed7953\"],[0.7777777777777778,\"#fb9f3a\"],[0.8888888888888888,\"#fdca26\"],[1.0,\"#f0f921\"]],\"type\":\"contour\"}],\"heatmapgl\":[{\"colorbar\":{\"outlinewidth\":0,\"ticks\":\"\"},\"colorscale\":[[0.0,\"#0d0887\"],[0.1111111111111111,\"#46039f\"],[0.2222222222222222,\"#7201a8\"],[0.3333333333333333,\"#9c179e\"],[0.4444444444444444,\"#bd3786\"],[0.5555555555555556,\"#d8576b\"],[0.6666666666666666,\"#ed7953\"],[0.7777777777777778,\"#fb9f3a\"],[0.8888888888888888,\"#fdca26\"],[1.0,\"#f0f921\"]],\"type\":\"heatmapgl\"}],\"heatmap\":[{\"colorbar\":{\"outlinewidth\":0,\"ticks\":\"\"},\"colorscale\":[[0.0,\"#0d0887\"],[0.1111111111111111,\"#46039f\"],[0.2222222222222222,\"#7201a8\"],[0.3333333333333333,\"#9c179e\"],[0.4444444444444444,\"#bd3786\"],[0.5555555555555556,\"#d8576b\"],[0.6666666666666666,\"#ed7953\"],[0.7777777777777778,\"#fb9f3a\"],[0.8888888888888888,\"#fdca26\"],[1.0,\"#f0f921\"]],\"type\":\"heatmap\"}],\"histogram2dcontour\":[{\"colorbar\":{\"outlinewidth\":0,\"ticks\":\"\"},\"colorscale\":[[0.0,\"#0d0887\"],[0.1111111111111111,\"#46039f\"],[0.2222222222222222,\"#7201a8\"],[0.3333333333333333,\"#9c179e\"],[0.4444444444444444,\"#bd3786\"],[0.5555555555555556,\"#d8576b\"],[0.6666666666666666,\"#ed7953\"],[0.7777777777777778,\"#fb9f3a\"],[0.8888888888888888,\"#fdca26\"],[1.0,\"#f0f921\"]],\"type\":\"histogram2dcontour\"}],\"histogram2d\":[{\"colorbar\":{\"outlinewidth\":0,\"ticks\":\"\"},\"colorscale\":[[0.0,\"#0d0887\"],[0.1111111111111111,\"#46039f\"],[0.2222222222222222,\"#7201a8\"],[0.3333333333333333,\"#9c179e\"],[0.4444444444444444,\"#bd3786\"],[0.5555555555555556,\"#d8576b\"],[0.6666666666666666,\"#ed7953\"],[0.7777777777777778,\"#fb9f3a\"],[0.8888888888888888,\"#fdca26\"],[1.0,\"#f0f921\"]],\"type\":\"histogram2d\"}],\"histogram\":[{\"marker\":{\"pattern\":{\"fillmode\":\"overlay\",\"size\":10,\"solidity\":0.2}},\"type\":\"histogram\"}],\"mesh3d\":[{\"colorbar\":{\"outlinewidth\":0,\"ticks\":\"\"},\"type\":\"mesh3d\"}],\"parcoords\":[{\"line\":{\"colorbar\":{\"outlinewidth\":0,\"ticks\":\"\"}},\"type\":\"parcoords\"}],\"pie\":[{\"automargin\":true,\"type\":\"pie\"}],\"scatter3d\":[{\"line\":{\"colorbar\":{\"outlinewidth\":0,\"ticks\":\"\"}},\"marker\":{\"colorbar\":{\"outlinewidth\":0,\"ticks\":\"\"}},\"type\":\"scatter3d\"}],\"scattercarpet\":[{\"marker\":{\"colorbar\":{\"outlinewidth\":0,\"ticks\":\"\"}},\"type\":\"scattercarpet\"}],\"scattergeo\":[{\"marker\":{\"colorbar\":{\"outlinewidth\":0,\"ticks\":\"\"}},\"type\":\"scattergeo\"}],\"scattergl\":[{\"marker\":{\"colorbar\":{\"outlinewidth\":0,\"ticks\":\"\"}},\"type\":\"scattergl\"}],\"scattermapbox\":[{\"marker\":{\"colorbar\":{\"outlinewidth\":0,\"ticks\":\"\"}},\"type\":\"scattermapbox\"}],\"scatterpolargl\":[{\"marker\":{\"colorbar\":{\"outlinewidth\":0,\"ticks\":\"\"}},\"type\":\"scatterpolargl\"}],\"scatterpolar\":[{\"marker\":{\"colorbar\":{\"outlinewidth\":0,\"ticks\":\"\"}},\"type\":\"scatterpolar\"}],\"scatter\":[{\"marker\":{\"colorbar\":{\"outlinewidth\":0,\"ticks\":\"\"}},\"type\":\"scatter\"}],\"scatterternary\":[{\"marker\":{\"colorbar\":{\"outlinewidth\":0,\"ticks\":\"\"}},\"type\":\"scatterternary\"}],\"surface\":[{\"colorbar\":{\"outlinewidth\":0,\"ticks\":\"\"},\"colorscale\":[[0.0,\"#0d0887\"],[0.1111111111111111,\"#46039f\"],[0.2222222222222222,\"#7201a8\"],[0.3333333333333333,\"#9c179e\"],[0.4444444444444444,\"#bd3786\"],[0.5555555555555556,\"#d8576b\"],[0.6666666666666666,\"#ed7953\"],[0.7777777777777778,\"#fb9f3a\"],[0.8888888888888888,\"#fdca26\"],[1.0,\"#f0f921\"]],\"type\":\"surface\"}],\"table\":[{\"cells\":{\"fill\":{\"color\":\"#EBF0F8\"},\"line\":{\"color\":\"white\"}},\"header\":{\"fill\":{\"color\":\"#C8D4E3\"},\"line\":{\"color\":\"white\"}},\"type\":\"table\"}]},\"layout\":{\"annotationdefaults\":{\"arrowcolor\":\"#2a3f5f\",\"arrowhead\":0,\"arrowwidth\":1},\"autotypenumbers\":\"strict\",\"coloraxis\":{\"colorbar\":{\"outlinewidth\":0,\"ticks\":\"\"}},\"colorscale\":{\"diverging\":[[0,\"#8e0152\"],[0.1,\"#c51b7d\"],[0.2,\"#de77ae\"],[0.3,\"#f1b6da\"],[0.4,\"#fde0ef\"],[0.5,\"#f7f7f7\"],[0.6,\"#e6f5d0\"],[0.7,\"#b8e186\"],[0.8,\"#7fbc41\"],[0.9,\"#4d9221\"],[1,\"#276419\"]],\"sequential\":[[0.0,\"#0d0887\"],[0.1111111111111111,\"#46039f\"],[0.2222222222222222,\"#7201a8\"],[0.3333333333333333,\"#9c179e\"],[0.4444444444444444,\"#bd3786\"],[0.5555555555555556,\"#d8576b\"],[0.6666666666666666,\"#ed7953\"],[0.7777777777777778,\"#fb9f3a\"],[0.8888888888888888,\"#fdca26\"],[1.0,\"#f0f921\"]],\"sequentialminus\":[[0.0,\"#0d0887\"],[0.1111111111111111,\"#46039f\"],[0.2222222222222222,\"#7201a8\"],[0.3333333333333333,\"#9c179e\"],[0.4444444444444444,\"#bd3786\"],[0.5555555555555556,\"#d8576b\"],[0.6666666666666666,\"#ed7953\"],[0.7777777777777778,\"#fb9f3a\"],[0.8888888888888888,\"#fdca26\"],[1.0,\"#f0f921\"]]},\"colorway\":[\"#636efa\",\"#EF553B\",\"#00cc96\",\"#ab63fa\",\"#FFA15A\",\"#19d3f3\",\"#FF6692\",\"#B6E880\",\"#FF97FF\",\"#FECB52\"],\"font\":{\"color\":\"#2a3f5f\"},\"geo\":{\"bgcolor\":\"white\",\"lakecolor\":\"white\",\"landcolor\":\"#E5ECF6\",\"showlakes\":true,\"showland\":true,\"subunitcolor\":\"white\"},\"hoverlabel\":{\"align\":\"left\"},\"hovermode\":\"closest\",\"mapbox\":{\"style\":\"light\"},\"paper_bgcolor\":\"white\",\"plot_bgcolor\":\"#E5ECF6\",\"polar\":{\"angularaxis\":{\"gridcolor\":\"white\",\"linecolor\":\"white\",\"ticks\":\"\"},\"bgcolor\":\"#E5ECF6\",\"radialaxis\":{\"gridcolor\":\"white\",\"linecolor\":\"white\",\"ticks\":\"\"}},\"scene\":{\"xaxis\":{\"backgroundcolor\":\"#E5ECF6\",\"gridcolor\":\"white\",\"gridwidth\":2,\"linecolor\":\"white\",\"showbackground\":true,\"ticks\":\"\",\"zerolinecolor\":\"white\"},\"yaxis\":{\"backgroundcolor\":\"#E5ECF6\",\"gridcolor\":\"white\",\"gridwidth\":2,\"linecolor\":\"white\",\"showbackground\":true,\"ticks\":\"\",\"zerolinecolor\":\"white\"},\"zaxis\":{\"backgroundcolor\":\"#E5ECF6\",\"gridcolor\":\"white\",\"gridwidth\":2,\"linecolor\":\"white\",\"showbackground\":true,\"ticks\":\"\",\"zerolinecolor\":\"white\"}},\"shapedefaults\":{\"line\":{\"color\":\"#2a3f5f\"}},\"ternary\":{\"aaxis\":{\"gridcolor\":\"white\",\"linecolor\":\"white\",\"ticks\":\"\"},\"baxis\":{\"gridcolor\":\"white\",\"linecolor\":\"white\",\"ticks\":\"\"},\"bgcolor\":\"#E5ECF6\",\"caxis\":{\"gridcolor\":\"white\",\"linecolor\":\"white\",\"ticks\":\"\"}},\"title\":{\"x\":0.05},\"xaxis\":{\"automargin\":true,\"gridcolor\":\"white\",\"linecolor\":\"white\",\"ticks\":\"\",\"title\":{\"standoff\":15},\"zerolinecolor\":\"white\",\"zerolinewidth\":2},\"yaxis\":{\"automargin\":true,\"gridcolor\":\"white\",\"linecolor\":\"white\",\"ticks\":\"\",\"title\":{\"standoff\":15},\"zerolinecolor\":\"white\",\"zerolinewidth\":2}}},\"title\":{\"text\":\"Labels Distribution\"},\"width\":800,\"xaxis\":{\"title\":{\"text\":\"Attack Name\"}},\"yaxis\":{\"title\":{\"text\":\"Number of attacks\"}}},                        {\"responsive\": true}                    ).then(function(){\n",
       "                            \n",
       "var gd = document.getElementById('52ada029-7bef-49f8-8d94-047fac477d02');\n",
       "var x = new MutationObserver(function (mutations, observer) {{\n",
       "        var display = window.getComputedStyle(gd).display;\n",
       "        if (!display || display === 'none') {{\n",
       "            console.log([gd, 'removed!']);\n",
       "            Plotly.purge(gd);\n",
       "            observer.disconnect();\n",
       "        }}\n",
       "}});\n",
       "\n",
       "// Listen for the removal of the full notebook cells\n",
       "var notebookContainer = gd.closest('#notebook-container');\n",
       "if (notebookContainer) {{\n",
       "    x.observe(notebookContainer, {childList: true});\n",
       "}}\n",
       "\n",
       "// Listen for the clearing of the current output cell\n",
       "var outputEl = gd.closest('.output');\n",
       "if (outputEl) {{\n",
       "    x.observe(outputEl, {childList: true});\n",
       "}}\n",
       "\n",
       "                        })                };                });            </script>        </div>"
      ]
     },
     "metadata": {},
     "output_type": "display_data"
    }
   ],
   "source": [
    "numeric_data = shortData(numeric_data, 'Label')\n",
    "showAttackDistribution(numeric_data['Label'])"
   ]
  },
  {
   "cell_type": "code",
   "execution_count": null,
   "id": "795c68f9",
   "metadata": {},
   "outputs": [],
   "source": []
  },
  {
   "cell_type": "code",
   "execution_count": 149,
   "id": "66ed06f6",
   "metadata": {},
   "outputs": [],
   "source": [
    "from sklearn.preprocessing import LabelEncoder\n",
    "\n",
    "\n",
    "def makeOnlyAttackOrNot(dataToTransform):\n",
    "    columnToTransform = ['Label']\n",
    "    for colKey in columnToTransform:\n",
    "        dataToTransform[colKey] = dataToTransform[colKey].map(\n",
    "            lambda i: 0 if i == 'Benign' else 1)\n",
    "\n",
    "    return dataToTransform"
   ]
  },
  {
   "cell_type": "code",
   "execution_count": 150,
   "id": "b45f69d4",
   "metadata": {},
   "outputs": [],
   "source": [
    "numeric_data = makeOnlyAttackOrNot(numeric_data)\n",
    "\n",
    "\n",
    "\n",
    "# unique, counts = np.unique(numeric_data['Label'], return_counts=True)\n",
    "# dict(zip(unique, counts))"
   ]
  },
  {
   "cell_type": "code",
   "execution_count": null,
   "id": "cf2edb0a",
   "metadata": {},
   "outputs": [],
   "source": [
    "# numeric_data.info()\n",
    "\n",
    "# numeric_data.to_csv('test.csv', index=False)\n",
    "# print(\"Ready\")\n"
   ]
  },
  {
   "cell_type": "code",
   "execution_count": null,
   "id": "8014e850",
   "metadata": {},
   "outputs": [],
   "source": [
    "# numeric_data['Label']"
   ]
  },
  {
   "cell_type": "markdown",
   "id": "c9222e1a",
   "metadata": {},
   "source": [
    "Save label"
   ]
  },
  {
   "cell_type": "code",
   "execution_count": 155,
   "id": "6a67e39c",
   "metadata": {},
   "outputs": [
    {
     "name": "stdout",
     "output_type": "stream",
     "text": [
      "<class 'pandas.core.frame.DataFrame'>\n",
      "Int64Index: 15000 entries, 0 to 184445\n",
      "Data columns (total 62 columns):\n",
      " #   Column             Non-Null Count  Dtype  \n",
      "---  ------             --------------  -----  \n",
      " 0   Dst Port           15000 non-null  int64  \n",
      " 1   Protocol           15000 non-null  int64  \n",
      " 2   Flow Duration      15000 non-null  int64  \n",
      " 3   Tot Fwd Pkts       15000 non-null  int64  \n",
      " 4   Tot Bwd Pkts       15000 non-null  int64  \n",
      " 5   TotLen Fwd Pkts    15000 non-null  int64  \n",
      " 6   TotLen Bwd Pkts    15000 non-null  int64  \n",
      " 7   Fwd Pkt Len Mean   15000 non-null  float64\n",
      " 8   Fwd Pkt Len Std    15000 non-null  float64\n",
      " 9   Bwd Pkt Len Mean   15000 non-null  float64\n",
      " 10  Bwd Pkt Len Std    15000 non-null  float64\n",
      " 11  Flow Byts/s        15000 non-null  float64\n",
      " 12  Flow Pkts/s        15000 non-null  float64\n",
      " 13  Flow IAT Mean      15000 non-null  float64\n",
      " 14  Flow IAT Std       15000 non-null  float64\n",
      " 15  Fwd IAT Tot        15000 non-null  int64  \n",
      " 16  Fwd IAT Mean       15000 non-null  float64\n",
      " 17  Fwd IAT Std        15000 non-null  float64\n",
      " 18  Bwd IAT Tot        15000 non-null  int64  \n",
      " 19  Bwd IAT Mean       15000 non-null  float64\n",
      " 20  Bwd IAT Std        15000 non-null  float64\n",
      " 21  Fwd PSH Flags      15000 non-null  int64  \n",
      " 22  Bwd PSH Flags      15000 non-null  int64  \n",
      " 23  Fwd URG Flags      15000 non-null  int64  \n",
      " 24  Bwd URG Flags      15000 non-null  int64  \n",
      " 25  Fwd Header Len     15000 non-null  int64  \n",
      " 26  Bwd Header Len     15000 non-null  int64  \n",
      " 27  Fwd Pkts/s         15000 non-null  float64\n",
      " 28  Bwd Pkts/s         15000 non-null  float64\n",
      " 29  Pkt Len Mean       15000 non-null  float64\n",
      " 30  Pkt Len Std        15000 non-null  float64\n",
      " 31  Pkt Len Var        15000 non-null  float64\n",
      " 32  FIN Flag Cnt       15000 non-null  int64  \n",
      " 33  SYN Flag Cnt       15000 non-null  int64  \n",
      " 34  RST Flag Cnt       15000 non-null  int64  \n",
      " 35  PSH Flag Cnt       15000 non-null  int64  \n",
      " 36  ACK Flag Cnt       15000 non-null  int64  \n",
      " 37  URG Flag Cnt       15000 non-null  int64  \n",
      " 38  CWE Flag Count     15000 non-null  int64  \n",
      " 39  ECE Flag Cnt       15000 non-null  int64  \n",
      " 40  Down/Up Ratio      15000 non-null  int64  \n",
      " 41  Pkt Size Avg       15000 non-null  float64\n",
      " 42  Fwd Seg Size Avg   15000 non-null  float64\n",
      " 43  Bwd Seg Size Avg   15000 non-null  float64\n",
      " 44  Fwd Byts/b Avg     15000 non-null  int64  \n",
      " 45  Fwd Pkts/b Avg     15000 non-null  int64  \n",
      " 46  Fwd Blk Rate Avg   15000 non-null  int64  \n",
      " 47  Bwd Byts/b Avg     15000 non-null  int64  \n",
      " 48  Bwd Pkts/b Avg     15000 non-null  int64  \n",
      " 49  Bwd Blk Rate Avg   15000 non-null  int64  \n",
      " 50  Subflow Fwd Pkts   15000 non-null  int64  \n",
      " 51  Subflow Fwd Byts   15000 non-null  int64  \n",
      " 52  Subflow Bwd Pkts   15000 non-null  int64  \n",
      " 53  Subflow Bwd Byts   15000 non-null  int64  \n",
      " 54  Init Fwd Win Byts  15000 non-null  int64  \n",
      " 55  Init Bwd Win Byts  15000 non-null  int64  \n",
      " 56  Fwd Act Data Pkts  15000 non-null  int64  \n",
      " 57  Fwd Seg Size Min   15000 non-null  int64  \n",
      " 58  Active Mean        15000 non-null  float64\n",
      " 59  Active Std         15000 non-null  float64\n",
      " 60  Idle Mean          15000 non-null  float64\n",
      " 61  Idle Std           15000 non-null  float64\n",
      "dtypes: float64(24), int64(38)\n",
      "memory usage: 7.2 MB\n"
     ]
    }
   ],
   "source": [
    "numeric_data = numeric_data.replace(np.nan, 0)\n",
    "numeric_data = numeric_data.replace(np.inf, 0)\n",
    "numeric_data.info()"
   ]
  },
  {
   "cell_type": "code",
   "execution_count": 151,
   "id": "e38865a6",
   "metadata": {},
   "outputs": [],
   "source": [
    "labels = numeric_data['Label']\n",
    "numeric_data = numeric_data.drop(['Label'], axis=1)"
   ]
  },
  {
   "cell_type": "code",
   "execution_count": null,
   "id": "dc5b5890",
   "metadata": {},
   "outputs": [],
   "source": [
    "# labels = LabelEncoder().fit_transform(labels)"
   ]
  },
  {
   "cell_type": "code",
   "execution_count": 156,
   "id": "a1e7b0ad",
   "metadata": {},
   "outputs": [
    {
     "name": "stdout",
     "output_type": "stream",
     "text": [
      "False\n",
      "True\n"
     ]
    }
   ],
   "source": [
    "# numeric_data = numeric_data.drop(['Label'], axis=1)\n",
    "print(np.any(np.isnan(numeric_data)))\n",
    "print(np.all(np.isfinite(numeric_data)))"
   ]
  },
  {
   "cell_type": "code",
   "execution_count": 157,
   "id": "5c44b4b1",
   "metadata": {},
   "outputs": [],
   "source": [
    "from sklearn.preprocessing import StandardScaler\n",
    "\n",
    "\n",
    "def scale(dataToTransform, columntoTransform):\n",
    "\n",
    "    ss_dict = {col: StandardScaler() for col in columntoTransform}\n",
    "\n",
    "    for colKey in columntoTransform:\n",
    "        dataToTransform[colKey] = ss_dict[colKey].fit_transform(\n",
    "            np.array(dataToTransform[colKey]).reshape(-1, 1))\n",
    "\n",
    "    return dataToTransform\n"
   ]
  },
  {
   "cell_type": "code",
   "execution_count": 158,
   "id": "d05501f5",
   "metadata": {},
   "outputs": [],
   "source": [
    "# numericColumntoTransform = ['Flow Duration',\n",
    "#                             'Init Fwd Win Byts', 'Init Bwd Win Byts']\n",
    "numericColumntoTransform = numeric_data.keys()\n",
    "numeric_data = scale(numeric_data, numericColumntoTransform)\n"
   ]
  },
  {
   "cell_type": "code",
   "execution_count": 159,
   "id": "c4e9827f",
   "metadata": {},
   "outputs": [],
   "source": [
    "def lowerTypes(dataToTransform, columnToFloat):\n",
    "    for colKey in columnToFloat:\n",
    "        dataToTransform[colKey] = dataToTransform[colKey].astype('float32')\n",
    "    return dataToTransform\n",
    "\n",
    "numeric_data = lowerTypes(numeric_data, numericColumntoTransform)"
   ]
  },
  {
   "cell_type": "code",
   "execution_count": 160,
   "id": "72a35eac",
   "metadata": {},
   "outputs": [
    {
     "name": "stdout",
     "output_type": "stream",
     "text": [
      "<class 'pandas.core.frame.DataFrame'>\n",
      "Int64Index: 15000 entries, 0 to 184445\n",
      "Data columns (total 62 columns):\n",
      " #   Column             Non-Null Count  Dtype  \n",
      "---  ------             --------------  -----  \n",
      " 0   Dst Port           15000 non-null  float32\n",
      " 1   Protocol           15000 non-null  float32\n",
      " 2   Flow Duration      15000 non-null  float32\n",
      " 3   Tot Fwd Pkts       15000 non-null  float32\n",
      " 4   Tot Bwd Pkts       15000 non-null  float32\n",
      " 5   TotLen Fwd Pkts    15000 non-null  float32\n",
      " 6   TotLen Bwd Pkts    15000 non-null  float32\n",
      " 7   Fwd Pkt Len Mean   15000 non-null  float32\n",
      " 8   Fwd Pkt Len Std    15000 non-null  float32\n",
      " 9   Bwd Pkt Len Mean   15000 non-null  float32\n",
      " 10  Bwd Pkt Len Std    15000 non-null  float32\n",
      " 11  Flow Byts/s        15000 non-null  float32\n",
      " 12  Flow Pkts/s        15000 non-null  float32\n",
      " 13  Flow IAT Mean      15000 non-null  float32\n",
      " 14  Flow IAT Std       15000 non-null  float32\n",
      " 15  Fwd IAT Tot        15000 non-null  float32\n",
      " 16  Fwd IAT Mean       15000 non-null  float32\n",
      " 17  Fwd IAT Std        15000 non-null  float32\n",
      " 18  Bwd IAT Tot        15000 non-null  float32\n",
      " 19  Bwd IAT Mean       15000 non-null  float32\n",
      " 20  Bwd IAT Std        15000 non-null  float32\n",
      " 21  Fwd PSH Flags      15000 non-null  float32\n",
      " 22  Bwd PSH Flags      15000 non-null  float32\n",
      " 23  Fwd URG Flags      15000 non-null  float32\n",
      " 24  Bwd URG Flags      15000 non-null  float32\n",
      " 25  Fwd Header Len     15000 non-null  float32\n",
      " 26  Bwd Header Len     15000 non-null  float32\n",
      " 27  Fwd Pkts/s         15000 non-null  float32\n",
      " 28  Bwd Pkts/s         15000 non-null  float32\n",
      " 29  Pkt Len Mean       15000 non-null  float32\n",
      " 30  Pkt Len Std        15000 non-null  float32\n",
      " 31  Pkt Len Var        15000 non-null  float32\n",
      " 32  FIN Flag Cnt       15000 non-null  float32\n",
      " 33  SYN Flag Cnt       15000 non-null  float32\n",
      " 34  RST Flag Cnt       15000 non-null  float32\n",
      " 35  PSH Flag Cnt       15000 non-null  float32\n",
      " 36  ACK Flag Cnt       15000 non-null  float32\n",
      " 37  URG Flag Cnt       15000 non-null  float32\n",
      " 38  CWE Flag Count     15000 non-null  float32\n",
      " 39  ECE Flag Cnt       15000 non-null  float32\n",
      " 40  Down/Up Ratio      15000 non-null  float32\n",
      " 41  Pkt Size Avg       15000 non-null  float32\n",
      " 42  Fwd Seg Size Avg   15000 non-null  float32\n",
      " 43  Bwd Seg Size Avg   15000 non-null  float32\n",
      " 44  Fwd Byts/b Avg     15000 non-null  float32\n",
      " 45  Fwd Pkts/b Avg     15000 non-null  float32\n",
      " 46  Fwd Blk Rate Avg   15000 non-null  float32\n",
      " 47  Bwd Byts/b Avg     15000 non-null  float32\n",
      " 48  Bwd Pkts/b Avg     15000 non-null  float32\n",
      " 49  Bwd Blk Rate Avg   15000 non-null  float32\n",
      " 50  Subflow Fwd Pkts   15000 non-null  float32\n",
      " 51  Subflow Fwd Byts   15000 non-null  float32\n",
      " 52  Subflow Bwd Pkts   15000 non-null  float32\n",
      " 53  Subflow Bwd Byts   15000 non-null  float32\n",
      " 54  Init Fwd Win Byts  15000 non-null  float32\n",
      " 55  Init Bwd Win Byts  15000 non-null  float32\n",
      " 56  Fwd Act Data Pkts  15000 non-null  float32\n",
      " 57  Fwd Seg Size Min   15000 non-null  float32\n",
      " 58  Active Mean        15000 non-null  float32\n",
      " 59  Active Std         15000 non-null  float32\n",
      " 60  Idle Mean          15000 non-null  float32\n",
      " 61  Idle Std           15000 non-null  float32\n",
      "dtypes: float32(62)\n",
      "memory usage: 3.7 MB\n"
     ]
    }
   ],
   "source": [
    "# def removeNan(dataToTransform, columntoTransform):\n",
    "#     for colKey in columntoTransform:\n",
    "#         dataToTransform[colKey] = pd.to_numeric(\n",
    "#             dataToTransform[colKey], downcast=\"float\", errors='coerce').fillna(dataToTransform[colKey][100])\n",
    "#     return dataToTransform\n",
    "\n",
    "# numeric_data = removeNan(numeric_data, numeric_data.keys())\n",
    "\n",
    "# numeric_data = numeric_data.drop(['11'], axis=1)\n",
    "# numeric_data = numeric_data.drop(['12'], axis=1)\n",
    "numeric_data.info()"
   ]
  },
  {
   "cell_type": "markdown",
   "id": "97355b3a",
   "metadata": {},
   "source": [
    "Scale numeric values"
   ]
  },
  {
   "cell_type": "code",
   "execution_count": 161,
   "id": "4403bf33",
   "metadata": {},
   "outputs": [],
   "source": [
    "from sklearn.model_selection import train_test_split\n",
    "\n",
    "\n",
    "X_train, X_test, y_train, y_test = train_test_split(\n",
    "    numeric_data, labels, test_size=0.33, random_state=42)\n"
   ]
  },
  {
   "cell_type": "code",
   "execution_count": 162,
   "id": "a71aa012",
   "metadata": {},
   "outputs": [],
   "source": [
    "from sklearn.ensemble import RandomForestClassifier\n",
    "\n",
    "model = RandomForestClassifier(criterion='entropy')"
   ]
  },
  {
   "cell_type": "code",
   "execution_count": null,
   "id": "d5ee0a3e",
   "metadata": {},
   "outputs": [],
   "source": [
    "labels"
   ]
  },
  {
   "cell_type": "code",
   "execution_count": 163,
   "id": "23f2432f",
   "metadata": {},
   "outputs": [
    {
     "data": {
      "text/plain": [
       "RandomForestClassifier(criterion='entropy')"
      ]
     },
     "execution_count": 163,
     "metadata": {},
     "output_type": "execute_result"
    }
   ],
   "source": [
    "model.fit(numeric_data, labels)"
   ]
  },
  {
   "cell_type": "code",
   "execution_count": 164,
   "id": "ab898d8e",
   "metadata": {},
   "outputs": [
    {
     "name": "stdout",
     "output_type": "stream",
     "text": [
      "\n",
      "\n",
      "Train accuracy:  1.0\n",
      "Test accuracy:  1.0\n"
     ]
    }
   ],
   "source": [
    "from sklearn.metrics import roc_auc_score, accuracy_score\n",
    "\n",
    "X_train_preds_acc = model.predict(X_train)\n",
    "X_test_preds_acc = model.predict(X_test)\n",
    "    \n",
    "# print('Train auc:', roc_auc_score(y_train, X_train_preds))\n",
    "# print('Test auc:', roc_auc_score(y_test, X_test_preds))\n",
    "print('\\n')\n",
    "print('Train accuracy: ', accuracy_score(y_train, X_train_preds_acc))\n",
    "print('Test accuracy: ', accuracy_score(y_test, X_test_preds_acc))"
   ]
  },
  {
   "cell_type": "code",
   "execution_count": 166,
   "id": "777b053f",
   "metadata": {},
   "outputs": [
    {
     "data": {
      "text/plain": [
       "274795    0\n",
       "181481    1\n",
       "184289    1\n",
       "183423    1\n",
       "3069      1\n",
       "         ..\n",
       "286       1\n",
       "182856    1\n",
       "485       1\n",
       "313513    0\n",
       "2365      1\n",
       "Name: Label, Length: 10050, dtype: int64"
      ]
     },
     "execution_count": 166,
     "metadata": {},
     "output_type": "execute_result"
    }
   ],
   "source": [
    "y_train"
   ]
  },
  {
   "cell_type": "code",
   "execution_count": 165,
   "id": "46bbc242",
   "metadata": {},
   "outputs": [
    {
     "data": {
      "text/plain": [
       "array([0, 1, 1, ..., 1, 0, 1])"
      ]
     },
     "execution_count": 165,
     "metadata": {},
     "output_type": "execute_result"
    }
   ],
   "source": [
    "X_train_preds_acc"
   ]
  }
 ],
 "metadata": {
  "kernelspec": {
   "display_name": "Python 3",
   "language": "python",
   "name": "python3"
  },
  "language_info": {
   "codemirror_mode": {
    "name": "ipython",
    "version": 3
   },
   "file_extension": ".py",
   "mimetype": "text/x-python",
   "name": "python",
   "nbconvert_exporter": "python",
   "pygments_lexer": "ipython3",
   "version": "3.8.10"
  },
  "papermill": {
   "default_parameters": {},
   "duration": 42.965214,
   "end_time": "2022-01-17T21:41:16.495863",
   "environment_variables": {},
   "exception": null,
   "input_path": "__notebook__.ipynb",
   "output_path": "__notebook__.ipynb",
   "parameters": {},
   "start_time": "2022-01-17T21:40:33.530649",
   "version": "2.3.3"
  }
 },
 "nbformat": 4,
 "nbformat_minor": 5
}
