{
 "cells": [
  {
   "cell_type": "markdown",
   "id": "4bbb574d",
   "metadata": {
    "id": "KLfj50LPPFDB",
    "papermill": {
     "duration": 0.039734,
     "end_time": "2022-01-17T21:40:45.200404",
     "exception": false,
     "start_time": "2022-01-17T21:40:45.160670",
     "status": "completed"
    },
    "tags": []
   },
   "source": [
    "### Check input files\n",
    "\n"
   ]
  },
  {
   "cell_type": "code",
   "execution_count": null,
   "id": "45c7690a",
   "metadata": {
    "_cell_guid": "b1076dfc-b9ad-4769-8c92-a6c4dae69d19",
    "_uuid": "8f2839f25d086af736a60e9eeb907d3b93b6e0e5",
    "execution": {
     "iopub.execute_input": "2022-01-17T21:40:45.288137Z",
     "iopub.status.busy": "2022-01-17T21:40:45.287373Z",
     "iopub.status.idle": "2022-01-17T21:40:45.300617Z",
     "shell.execute_reply": "2022-01-17T21:40:45.301186Z",
     "shell.execute_reply.started": "2022-01-17T21:30:49.103682Z"
    },
    "id": "KlegH6X6PFDK",
    "papermill": {
     "duration": 0.061317,
     "end_time": "2022-01-17T21:40:45.301538",
     "exception": false,
     "start_time": "2022-01-17T21:40:45.240221",
     "status": "completed"
    },
    "tags": []
   },
   "outputs": [],
   "source": [
    "import numpy as np\n",
    "import pandas as pd\n",
    "\n",
    "import os\n",
    "for dirname, _, filenames in os.walk('../datasets'):\n",
    "    for filename in filenames:\n",
    "        print(os.path.join(dirname, filename))\n"
   ]
  },
  {
   "cell_type": "markdown",
   "id": "3aa3de62",
   "metadata": {
    "id": "VNwBYC2aH9UF",
    "papermill": {
     "duration": 0.038369,
     "end_time": "2022-01-17T21:40:45.378612",
     "exception": false,
     "start_time": "2022-01-17T21:40:45.340243",
     "status": "completed"
    },
    "tags": []
   },
   "source": [
    "### Import train data and create DataFrame object"
   ]
  },
  {
   "cell_type": "code",
   "execution_count": null,
   "id": "7dc2ecfd",
   "metadata": {
    "execution": {
     "iopub.execute_input": "2022-01-17T21:40:45.462008Z",
     "iopub.status.busy": "2022-01-17T21:40:45.461151Z",
     "iopub.status.idle": "2022-01-17T21:40:45.514670Z",
     "shell.execute_reply": "2022-01-17T21:40:45.514023Z",
     "shell.execute_reply.started": "2022-01-17T21:30:49.116444Z"
    },
    "id": "rPzgqJfuH88j",
    "papermill": {
     "duration": 0.098772,
     "end_time": "2022-01-17T21:40:45.514849",
     "exception": false,
     "start_time": "2022-01-17T21:40:45.416077",
     "status": "completed"
    },
    "tags": []
   },
   "outputs": [],
   "source": [
    "numeric_data = pd.read_csv('../datasets/firstDataset.csv')\n",
    "print(\"The files have been imported\")\n"
   ]
  },
  {
   "cell_type": "markdown",
   "id": "2a717ae3",
   "metadata": {
    "id": "W4V6zxbMnyB3",
    "papermill": {
     "duration": 0.036952,
     "end_time": "2022-01-17T21:40:45.590545",
     "exception": false,
     "start_time": "2022-01-17T21:40:45.553593",
     "status": "completed"
    },
    "tags": []
   },
   "source": [
    "### Find and display unique data\n",
    "#### This function is used to search a Data Frame and then display unique values for each feature. Thanks to this, you can find features that have the same values, e.q: `OnlineSecurity` which contains the answers: 'Yes', 'No' and 'No internet service'."
   ]
  },
  {
   "cell_type": "code",
   "execution_count": null,
   "id": "17c8189d",
   "metadata": {
    "execution": {
     "iopub.execute_input": "2022-01-17T21:40:45.682141Z",
     "iopub.status.busy": "2022-01-17T21:40:45.679338Z",
     "iopub.status.idle": "2022-01-17T21:40:45.708254Z",
     "shell.execute_reply": "2022-01-17T21:40:45.708863Z",
     "shell.execute_reply.started": "2022-01-17T21:30:49.166618Z"
    },
    "id": "oaq_IeBSn23W",
    "outputId": "60d86d75-afa0-451c-a5d2-a43e94f24ffd",
    "papermill": {
     "duration": 0.078721,
     "end_time": "2022-01-17T21:40:45.709050",
     "exception": false,
     "start_time": "2022-01-17T21:40:45.630329",
     "status": "completed"
    },
    "tags": []
   },
   "outputs": [],
   "source": [
    "def printUniqueValues(dataToCheck):\n",
    "    for column in dataToCheck:\n",
    "        uniqueValues = dataToCheck[column].unique()\n",
    "        uniqueCount = len(uniqueValues)\n",
    "        print(f\"{column} = {uniqueValues} = {uniqueCount}\")\n",
    "\n",
    "\n",
    "printUniqueValues(numeric_data)"
   ]
  },
  {
   "cell_type": "markdown",
   "id": "f4e58530",
   "metadata": {
    "id": "NiF5yDiuSh7-",
    "papermill": {
     "duration": 0.039637,
     "end_time": "2022-01-17T21:40:45.789889",
     "exception": false,
     "start_time": "2022-01-17T21:40:45.750252",
     "status": "completed"
    },
    "tags": []
   },
   "source": [
    "### DataFrame information\n",
    "#### The `info()` method provides us a basic information about featurs, like: feature's amout of data (how many values are NaN values) and the types of data (e.q int or float). It is very important information for future data processing beacuse, e.q: fetures which contains variables of type 'int' will be labeled differently than features which contains variables of type 'float'."
   ]
  },
  {
   "cell_type": "code",
   "execution_count": null,
   "id": "efb25b1d",
   "metadata": {
    "execution": {
     "iopub.execute_input": "2022-01-17T21:40:45.878738Z",
     "iopub.status.busy": "2022-01-17T21:40:45.877707Z",
     "iopub.status.idle": "2022-01-17T21:40:45.906335Z",
     "shell.execute_reply": "2022-01-17T21:40:45.907251Z",
     "shell.execute_reply.started": "2022-01-17T21:30:49.194802Z"
    },
    "id": "vjv9O-4KSh7_",
    "papermill": {
     "duration": 0.079757,
     "end_time": "2022-01-17T21:40:45.907489",
     "exception": false,
     "start_time": "2022-01-17T21:40:45.827732",
     "status": "completed"
    },
    "tags": []
   },
   "outputs": [],
   "source": [
    "numeric_data.info()\n"
   ]
  },
  {
   "cell_type": "markdown",
   "id": "8b43f701",
   "metadata": {
    "id": "PxIhm6qJPFDU",
    "papermill": {
     "duration": 0.040316,
     "end_time": "2022-01-17T21:40:47.985950",
     "exception": false,
     "start_time": "2022-01-17T21:40:47.945634",
     "status": "completed"
    },
    "tags": []
   },
   "source": [
    "### Preprocess training data."
   ]
  },
  {
   "cell_type": "code",
   "execution_count": null,
   "id": "ee6d449a",
   "metadata": {
    "_cell_guid": "79c7e3d0-c299-4dcb-8224-4455121ee9b0",
    "_uuid": "d629ff2d2480ee46fbb7e2d37f6b5fab8052498a",
    "execution": {
     "iopub.execute_input": "2022-01-17T21:40:48.077041Z",
     "iopub.status.busy": "2022-01-17T21:40:48.075882Z",
     "iopub.status.idle": "2022-01-17T21:40:48.189217Z",
     "shell.execute_reply": "2022-01-17T21:40:48.189799Z",
     "shell.execute_reply.started": "2022-01-17T21:30:49.300477Z"
    },
    "id": "Y2Nnmrz2PFDX",
    "papermill": {
     "duration": 0.163546,
     "end_time": "2022-01-17T21:40:48.190026",
     "exception": false,
     "start_time": "2022-01-17T21:40:48.026480",
     "status": "completed"
    },
    "tags": []
   },
   "outputs": [],
   "source": [
    "display(numeric_data)"
   ]
  },
  {
   "cell_type": "markdown",
   "id": "8de87255",
   "metadata": {},
   "source": [
    "Drop unnecessary features"
   ]
  },
  {
   "cell_type": "code",
   "execution_count": null,
   "id": "7ef7888a",
   "metadata": {},
   "outputs": [],
   "source": [
    "def dropUnnecessaryFeatures(dataToTransform):\n",
    "    dataToTransform = dataToTransform.drop(['Timestamp'], axis=1)\n",
    "\n",
    "    dataToTransform = dataToTransform.drop(['Fwd Pkt Len Min'], axis=1)\n",
    "    dataToTransform = dataToTransform.drop(['Fwd Pkt Len Max'], axis=1)\n",
    "\n",
    "    dataToTransform = dataToTransform.drop(['Bwd Pkt Len Min'], axis=1)\n",
    "    dataToTransform = dataToTransform.drop(['Bwd Pkt Len Max'], axis=1)\n",
    "\n",
    "    dataToTransform = dataToTransform.drop(['Flow IAT Min'], axis=1)\n",
    "    dataToTransform = dataToTransform.drop(['Flow IAT Max'], axis=1)\n",
    "\n",
    "    dataToTransform = dataToTransform.drop(['Fwd IAT Max'], axis=1)\n",
    "    dataToTransform = dataToTransform.drop(['Fwd IAT Min'], axis=1)\n",
    "\n",
    "    dataToTransform = dataToTransform.drop(['Bwd IAT Max'], axis=1)\n",
    "    dataToTransform = dataToTransform.drop(['Bwd IAT Min'], axis=1)\n",
    "\n",
    "    dataToTransform = dataToTransform.drop(['Pkt Len Min'], axis=1)\n",
    "    dataToTransform = dataToTransform.drop(['Pkt Len Max'], axis=1)\n",
    "\n",
    "    dataToTransform = dataToTransform.drop(['Idle Max'], axis=1)\n",
    "    dataToTransform = dataToTransform.drop(['Idle Min'], axis=1)\n",
    "\n",
    "    dataToTransform = dataToTransform.drop(['Active Max'], axis=1)\n",
    "    dataToTransform = dataToTransform.drop(['Active Min'], axis=1)\n",
    "\n",
    "    # \"Protocol\",\"PSH Flag Cnt\",\"Init Fwd Win Byts\",\"Flow Byts/s\",\"Flow Pkts/s\"\n",
    "    return dataToTransform\n",
    "\n",
    "\n",
    "numeric_data = dropUnnecessaryFeatures(numeric_data)\n",
    "display(numeric_data)\n"
   ]
  },
  {
   "cell_type": "code",
   "execution_count": null,
   "id": "02feb5d2",
   "metadata": {},
   "outputs": [],
   "source": [
    "\n",
    "print(numeric_data['Init Bwd Win Byts'])\n"
   ]
  },
  {
   "cell_type": "code",
   "execution_count": null,
   "id": "5c44b4b1",
   "metadata": {},
   "outputs": [],
   "source": [
    "from sklearn.preprocessing import StandardScaler\n",
    "\n",
    "\n",
    "def scale(dataToTransform, columntoTransform):\n",
    "\n",
    "    ss_dict = {col: StandardScaler() for col in columntoTransform}\n",
    "\n",
    "    for colKey in columntoTransform:\n",
    "        dataToTransform[colKey] = ss_dict[colKey].fit_transform(\n",
    "            np.array(dataToTransform[colKey]).reshape(-1, 1))\n",
    "\n",
    "    return dataToTransform\n"
   ]
  },
  {
   "cell_type": "code",
   "execution_count": null,
   "id": "a1e7b0ad",
   "metadata": {},
   "outputs": [],
   "source": [
    "print(np.any(np.isnan(numeric_data)))\n",
    "print(np.all(np.isfinite(numeric_data)))"
   ]
  },
  {
   "cell_type": "code",
   "execution_count": null,
   "id": "d05501f5",
   "metadata": {},
   "outputs": [],
   "source": [
    "# numericColumntoTransform = ['Flow Duration',\n",
    "#                             'Init Fwd Win Byts', 'Init Bwd Win Byts']\n",
    "\n",
    "labels = numeric_data['Label']\n",
    "numeric_data = numeric_data.drop(['Label'], axis=1)\n",
    "\n",
    "numericColumntoTransform = numeric_data.keys()\n",
    "\n",
    "numeric_data = scale(numeric_data, numericColumntoTransform)\n",
    "display(numeric_data['Label'])\n"
   ]
  },
  {
   "cell_type": "code",
   "execution_count": null,
   "id": "e510cab2",
   "metadata": {},
   "outputs": [],
   "source": [
    "print(numeric_data['Init Fwd Win Byts'])\n"
   ]
  },
  {
   "cell_type": "markdown",
   "id": "e4e93444",
   "metadata": {
    "id": "xYzsVX21PFDc",
    "papermill": {
     "duration": 0.047639,
     "end_time": "2022-01-17T21:40:48.282094",
     "exception": false,
     "start_time": "2022-01-17T21:40:48.234455",
     "status": "completed"
    },
    "tags": []
   },
   "source": [
    "### Heatmap\n",
    "#### Heatmap provide us information on how much the individual features are interpedent. Based on heatmap, we droped the feature that are high corelated with each other, beacuse, such data do not provide additional information and can increase the model load. For example, we drop `TotalCharges` because it's has high corellation with `MonthlyCharges`."
   ]
  },
  {
   "cell_type": "code",
   "execution_count": null,
   "id": "b5d3cba8",
   "metadata": {
    "execution": {
     "iopub.execute_input": "2022-01-17T21:40:48.370987Z",
     "iopub.status.busy": "2022-01-17T21:40:48.370237Z",
     "iopub.status.idle": "2022-01-17T21:40:51.265700Z",
     "shell.execute_reply": "2022-01-17T21:40:51.266249Z",
     "shell.execute_reply.started": "2022-01-17T21:30:49.408211Z"
    },
    "id": "ObQ1AkeKPFDf",
    "papermill": {
     "duration": 2.938931,
     "end_time": "2022-01-17T21:40:51.266450",
     "exception": false,
     "start_time": "2022-01-17T21:40:48.327519",
     "status": "completed"
    },
    "tags": []
   },
   "outputs": [],
   "source": [
    "import matplotlib.pyplot as plt\n",
    "import seaborn as sns\n",
    "\n",
    "f, ax = plt.subplots(figsize=(15, 8))\n",
    "sns.heatmap(abs(numeric_data.corr()), annot=True,\n",
    "            linewidths=0.5, fmt='.2f', ax=ax)\n"
   ]
  },
  {
   "cell_type": "markdown",
   "id": "bbc7cfd1",
   "metadata": {},
   "source": [
    "#### Process labels"
   ]
  },
  {
   "cell_type": "markdown",
   "id": "0ae72bf0",
   "metadata": {},
   "source": [
    "#### Before preprocess"
   ]
  },
  {
   "cell_type": "code",
   "execution_count": null,
   "id": "aaf1c860",
   "metadata": {},
   "outputs": [],
   "source": [
    "import plotly.graph_objs as go\n",
    "from plotly.offline import init_notebook_mode, iplot, plot\n",
    "import plotly as py\n",
    "import plotly.express as px\n",
    "init_notebook_mode(connected=True)\n",
    "\n",
    "\n",
    "def showAttackDistribution(data):\n",
    "    normal = 'Benign'\n",
    "    ftpAttack = 'FTP-BruteForce'\n",
    "    sshAttack = 'SSH-Bruteforce'\n",
    "    fig = go.Figure(data=[\n",
    "        go.Bar(name=normal,\n",
    "               y=data.value_counts().values[0:1],\n",
    "               x=[normal],\n",
    "               text=data.value_counts()[0:1],\n",
    "               orientation='v',\n",
    "               textposition='outside',),\n",
    "        go.Bar(name=ftpAttack,\n",
    "               y=data.value_counts().values[1:2],\n",
    "               x=[ftpAttack],\n",
    "               text=data.value_counts()[1:2],\n",
    "               orientation='v',\n",
    "               textposition='outside',),\n",
    "        go.Bar(name=sshAttack,\n",
    "               y=data.value_counts().values[2:],\n",
    "               x=[sshAttack],\n",
    "               text=data.value_counts()[2:],\n",
    "               orientation='v',\n",
    "               textposition='outside',)\n",
    "    ])\n",
    "    # Change the bar mode\n",
    "    fig.update_layout(\n",
    "        width=800,\n",
    "        height=600,\n",
    "        title=f'Labels Distribution',\n",
    "        yaxis_title='Number of attacks',\n",
    "        xaxis_title='Attack Name',)\n",
    "    iplot(fig)\n"
   ]
  },
  {
   "cell_type": "code",
   "execution_count": null,
   "id": "65640cd4",
   "metadata": {},
   "outputs": [],
   "source": [
    "showAttackDistribution(numeric_data['Label'])\n"
   ]
  },
  {
   "cell_type": "code",
   "execution_count": null,
   "id": "51a59d37",
   "metadata": {},
   "outputs": [],
   "source": [
    "def shortData(data, featureName):\n",
    "    shortedNormal = data[data[featureName] == \"Benign\"][:5000]\n",
    "    shortedFTP = data[data[featureName] == \"FTP-BruteForce\"][:5000]\n",
    "    shortedSSH = data[data[featureName] == \"SSH-Bruteforce\"][:5000]\n",
    "    return pd.concat([shortedNormal, shortedFTP, shortedSSH], axis=0)\n"
   ]
  },
  {
   "cell_type": "code",
   "execution_count": null,
   "id": "941ce6dd",
   "metadata": {},
   "outputs": [],
   "source": [
    "numeric_data = shortData(numeric_data, 'Label')\n"
   ]
  },
  {
   "cell_type": "code",
   "execution_count": null,
   "id": "66ed06f6",
   "metadata": {},
   "outputs": [],
   "source": [
    "from sklearn.preprocessing import LabelEncoder\n",
    "\n",
    "\n",
    "def labelEncodeTypeAttack(dataToTransform):\n",
    "    dataToTransform = LabelEncoder().fit_transform(\n",
    "        dataToTransform)\n",
    "\n",
    "    return dataToTransform\n"
   ]
  },
  {
   "cell_type": "code",
   "execution_count": null,
   "id": "b45f69d4",
   "metadata": {},
   "outputs": [],
   "source": [
    "numeric_data['Label'] = labelEncodeTypeAttack(numeric_data['Label'])\n",
    "unique, counts = np.unique(numeric_data['Label'], return_counts=True)\n",
    "dict(zip(unique, counts))\n"
   ]
  },
  {
   "cell_type": "code",
   "execution_count": null,
   "id": "cf2edb0a",
   "metadata": {},
   "outputs": [],
   "source": [
    "numeric_data.to_csv('test.csv', index=False)\n",
    "print(\"Ready\")\n"
   ]
  },
  {
   "cell_type": "code",
   "execution_count": null,
   "id": "4403bf33",
   "metadata": {},
   "outputs": [],
   "source": [
    "from sklearn.model_selection import train_test_split\n",
    "\n",
    "\n",
    "\n",
    "numeric_data = np.nan_to_num(numeric_data)\n",
    "\n",
    "X_train, X_test, y_train, y_test = train_test_split(\n",
    "    numeric_data, labels, test_size=0.98, random_state=42)\n"
   ]
  },
  {
   "cell_type": "code",
   "execution_count": null,
   "id": "a71aa012",
   "metadata": {},
   "outputs": [],
   "source": [
    "from sklearn.ensemble import RandomForestClassifier\n",
    "\n",
    "model = RandomForestClassifier()\n",
    "\n",
    "model.fit(X_train, y_train)"
   ]
  },
  {
   "cell_type": "code",
   "execution_count": null,
   "id": "ab898d8e",
   "metadata": {},
   "outputs": [],
   "source": [
    "from sklearn.metrics import roc_auc_score, accuracy_score\n",
    "\n",
    "X_train_preds_acc = model.predict(X_train)\n",
    "# X_test_preds_acc = model.predict(X_test)\n",
    "    \n",
    "# print('Train auc:', roc_auc_score(y_train, X_train_preds))\n",
    "# print('Test auc:', roc_auc_score(y_test, X_test_preds))\n",
    "print('\\n')\n",
    "print('Train accuracy: ', accuracy_score(y_train, X_train_preds_acc))\n",
    "# print('Test accuracy: ', accuracy_score(y_test, X_test_preds_acc))"
   ]
  }
 ],
 "metadata": {
  "kernelspec": {
   "display_name": "Python 3",
   "language": "python",
   "name": "python3"
  },
  "language_info": {
   "codemirror_mode": {
    "name": "ipython",
    "version": 3
   },
   "file_extension": ".py",
   "mimetype": "text/x-python",
   "name": "python",
   "nbconvert_exporter": "python",
   "pygments_lexer": "ipython3",
   "version": "3.8.10"
  },
  "papermill": {
   "default_parameters": {},
   "duration": 42.965214,
   "end_time": "2022-01-17T21:41:16.495863",
   "environment_variables": {},
   "exception": null,
   "input_path": "__notebook__.ipynb",
   "output_path": "__notebook__.ipynb",
   "parameters": {},
   "start_time": "2022-01-17T21:40:33.530649",
   "version": "2.3.3"
  }
 },
 "nbformat": 4,
 "nbformat_minor": 5
}
