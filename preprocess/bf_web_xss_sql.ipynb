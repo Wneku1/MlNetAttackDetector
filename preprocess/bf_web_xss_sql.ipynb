{
 "cells": [
  {
   "cell_type": "markdown",
   "id": "4bbb574d",
   "metadata": {
    "id": "KLfj50LPPFDB",
    "papermill": {
     "duration": 0.039734,
     "end_time": "2022-01-17T21:40:45.200404",
     "exception": false,
     "start_time": "2022-01-17T21:40:45.160670",
     "status": "completed"
    },
    "tags": []
   },
   "source": [
    "### Check input files\n",
    "\n"
   ]
  },
  {
   "cell_type": "code",
   "execution_count": 4,
   "id": "45c7690a",
   "metadata": {
    "_cell_guid": "b1076dfc-b9ad-4769-8c92-a6c4dae69d19",
    "_uuid": "8f2839f25d086af736a60e9eeb907d3b93b6e0e5",
    "execution": {
     "iopub.execute_input": "2022-01-17T21:40:45.288137Z",
     "iopub.status.busy": "2022-01-17T21:40:45.287373Z",
     "iopub.status.idle": "2022-01-17T21:40:45.300617Z",
     "shell.execute_reply": "2022-01-17T21:40:45.301186Z",
     "shell.execute_reply.started": "2022-01-17T21:30:49.103682Z"
    },
    "id": "KlegH6X6PFDK",
    "papermill": {
     "duration": 0.061317,
     "end_time": "2022-01-17T21:40:45.301538",
     "exception": false,
     "start_time": "2022-01-17T21:40:45.240221",
     "status": "completed"
    },
    "tags": []
   },
   "outputs": [
    {
     "name": "stdout",
     "output_type": "stream",
     "text": [
      "datasets/Wednesday-14-02-2018_TrafficForML_CICFlowMeter.csv\n",
      "datasets/Thursday-15-02-2018_TrafficForML_CICFlowMeter.csv\n",
      "datasets/Thuesday-20-02-2018_TrafficForML_CICFlowMeter.csv\n",
      "datasets/Wednesday-21-02-2018_TrafficForML_CICFlowMeter.csv\n",
      "datasets/Friday-16-02-2018_TrafficForML_CICFlowMeter.csv\n",
      "datasets/Thursday-22-02-2018_TrafficForML_CICFlowMeter.csv\n"
     ]
    }
   ],
   "source": [
    "import numpy as np\n",
    "import pandas as pd\n",
    "import os\n",
    "\n",
    "for dirname, _, filenames in os.walk('datasets'):\n",
    "    for filename in filenames:\n",
    "        print(os.path.join(dirname, filename))\n"
   ]
  },
  {
   "cell_type": "markdown",
   "id": "3aa3de62",
   "metadata": {
    "id": "VNwBYC2aH9UF",
    "papermill": {
     "duration": 0.038369,
     "end_time": "2022-01-17T21:40:45.378612",
     "exception": false,
     "start_time": "2022-01-17T21:40:45.340243",
     "status": "completed"
    },
    "tags": []
   },
   "source": [
    "### Import train data and create DataFrame object"
   ]
  },
  {
   "cell_type": "code",
   "execution_count": 5,
   "id": "7b6377c6",
   "metadata": {},
   "outputs": [],
   "source": [
    "def convert_dtype_to_int(x):\n",
    "    if not x:\n",
    "        return np.nan\n",
    "    try:\n",
    "        return int(x)\n",
    "    except:\n",
    "        return np.nan\n",
    "\n",
    "\n",
    "def convert_dtype_to_float(x):\n",
    "    if not x:\n",
    "        return np.nan\n",
    "    try:\n",
    "        return float(x)\n",
    "    except:\n",
    "        return np.nan\n"
   ]
  },
  {
   "cell_type": "code",
   "execution_count": 6,
   "id": "7dc2ecfd",
   "metadata": {
    "execution": {
     "iopub.execute_input": "2022-01-17T21:40:45.462008Z",
     "iopub.status.busy": "2022-01-17T21:40:45.461151Z",
     "iopub.status.idle": "2022-01-17T21:40:45.514670Z",
     "shell.execute_reply": "2022-01-17T21:40:45.514023Z",
     "shell.execute_reply.started": "2022-01-17T21:30:49.116444Z"
    },
    "id": "rPzgqJfuH88j",
    "papermill": {
     "duration": 0.098772,
     "end_time": "2022-01-17T21:40:45.514849",
     "exception": false,
     "start_time": "2022-01-17T21:40:45.416077",
     "status": "completed"
    },
    "tags": []
   },
   "outputs": [
    {
     "name": "stdout",
     "output_type": "stream",
     "text": [
      "The files have been imported\n"
     ]
    }
   ],
   "source": [
    "rawsData = pd.read_csv('datasets/Thursday-22-02-2018_TrafficForML_CICFlowMeter.csv',\n",
    "                       converters={'Dst Port': convert_dtype_to_int,\n",
    "                                   'Protocol': convert_dtype_to_int,\n",
    "                                   'Flow Duration': convert_dtype_to_int,\n",
    "                                   'Tot Fwd Pkts': convert_dtype_to_int,\n",
    "                                   'Tot Bwd Pkts': convert_dtype_to_int,\n",
    "                                   'TotLen Fwd Pkts': convert_dtype_to_int,\n",
    "                                   'TotLen Bwd Pkts': convert_dtype_to_int,\n",
    "                                   'Fwd Pkt Len Max': convert_dtype_to_int,\n",
    "                                   'Fwd Pkt Len Min': convert_dtype_to_int,\n",
    "                                   'Fwd Pkt Len Mean': convert_dtype_to_float,\n",
    "                                   'Fwd Pkt Len Std': convert_dtype_to_float,\n",
    "                                   'Bwd Pkt Len Max': convert_dtype_to_int,\n",
    "                                   'Bwd Pkt Len Min': convert_dtype_to_int,\n",
    "                                   'Bwd Pkt Len Mean': convert_dtype_to_float,\n",
    "                                   'Bwd Pkt Len Std': convert_dtype_to_float,\n",
    "                                   'Flow Byts/s': convert_dtype_to_float,\n",
    "                                   'Flow Pkts/s': convert_dtype_to_float,\n",
    "                                   'Flow IAT Mean': convert_dtype_to_float,\n",
    "                                   'Flow IAT Std': convert_dtype_to_float,\n",
    "                                   'Flow IAT Max': convert_dtype_to_int,\n",
    "                                   'Flow IAT Min': convert_dtype_to_int,\n",
    "                                   'Fwd IAT Tot': convert_dtype_to_int,\n",
    "                                   'Fwd IAT Mean': convert_dtype_to_float,\n",
    "                                   'Fwd IAT Std': convert_dtype_to_float,\n",
    "                                   'Fwd IAT Max': convert_dtype_to_int,\n",
    "                                   'Fwd IAT Min': convert_dtype_to_int,\n",
    "                                   'Bwd IAT Tot': convert_dtype_to_int,\n",
    "                                   'Bwd IAT Mean': convert_dtype_to_float,\n",
    "                                   'Bwd IAT Std': convert_dtype_to_float,\n",
    "                                   'Bwd IAT Max': convert_dtype_to_int,\n",
    "                                   'Bwd IAT Min': convert_dtype_to_int,\n",
    "                                   'Fwd PSH Flags': convert_dtype_to_int,\n",
    "                                   'Bwd PSH Flags': convert_dtype_to_int,\n",
    "                                   'Fwd URG Flags': convert_dtype_to_int,\n",
    "                                   'Bwd URG Flags': convert_dtype_to_int,\n",
    "                                   'Fwd Header Len': convert_dtype_to_int,\n",
    "                                   'Bwd Header Len': convert_dtype_to_int,\n",
    "                                   'Fwd Pkts/s': convert_dtype_to_float,\n",
    "                                   'Bwd Pkts/s': convert_dtype_to_float,\n",
    "                                   'Pkt Len Min': convert_dtype_to_int,\n",
    "                                   'Pkt Len Max': convert_dtype_to_int,\n",
    "                                   'Pkt Len Mean': convert_dtype_to_float,\n",
    "                                   'Pkt Len Std': convert_dtype_to_float,\n",
    "                                   'Pkt Len Var': convert_dtype_to_float,\n",
    "                                   'FIN Flag Cnt': convert_dtype_to_int,\n",
    "                                   'SYN Flag Cnt': convert_dtype_to_int,\n",
    "                                   'RST Flag Cnt': convert_dtype_to_int,\n",
    "                                   'PSH Flag Cnt': convert_dtype_to_int,\n",
    "                                   'ACK Flag Cnt': convert_dtype_to_int,\n",
    "                                   'URG Flag Cnt': convert_dtype_to_int,\n",
    "                                   'CWE Flag Count': convert_dtype_to_int,\n",
    "                                   'ECE Flag Cnt': convert_dtype_to_int,\n",
    "                                   'Down/Up Ratio': convert_dtype_to_int,\n",
    "                                   'Pkt Size Avg': convert_dtype_to_float,\n",
    "                                   'Fwd Seg Size Avg': convert_dtype_to_float,\n",
    "                                   'Bwd Seg Size Avg': convert_dtype_to_float,\n",
    "                                   'Fwd Byts/b Avg': convert_dtype_to_int,\n",
    "                                   'Fwd Pkts/b Avg': convert_dtype_to_int,\n",
    "                                   'Fwd Blk Rate Avg': convert_dtype_to_int,\n",
    "                                   'Bwd Byts/b Avg': convert_dtype_to_int,\n",
    "                                   'Bwd Pkts/b Avg': convert_dtype_to_int,\n",
    "                                   'Bwd Blk Rate Avg': convert_dtype_to_int,\n",
    "                                   'Subflow Fwd Pkts': convert_dtype_to_int,\n",
    "                                   'Subflow Fwd Byts': convert_dtype_to_int,\n",
    "                                   'Subflow Bwd Pkts': convert_dtype_to_int,\n",
    "                                   'Subflow Bwd Byts': convert_dtype_to_int,\n",
    "                                   'Init Fwd Win Byts': convert_dtype_to_int,\n",
    "                                   'Init Bwd Win Byts': convert_dtype_to_int,\n",
    "                                   'Fwd Act Data Pkts': convert_dtype_to_int,\n",
    "                                   'Fwd Seg Size Min': convert_dtype_to_int,\n",
    "                                   'Active Mean': convert_dtype_to_float,\n",
    "                                   'Active Std': convert_dtype_to_float,\n",
    "                                   'Active Max': convert_dtype_to_int,\n",
    "                                   'Active Min': convert_dtype_to_int,\n",
    "                                   'Idle Mean': convert_dtype_to_float,\n",
    "                                   'Idle Std': convert_dtype_to_float,\n",
    "                                   'Idle Max': convert_dtype_to_int,\n",
    "                                   'Idle Min': convert_dtype_to_int})\n",
    "print(\"The files have been imported\")\n"
   ]
  },
  {
   "cell_type": "code",
   "execution_count": 7,
   "id": "c8981180",
   "metadata": {},
   "outputs": [],
   "source": [
    "columnsToDrop = [\n",
    "    'Flow Pkts/s',\n",
    "    'Timestamp',\n",
    "    'Active Max',\n",
    "    'Active Min',\n",
    "    'Active Std',\n",
    "    'Bwd IAT Max',\n",
    "    'Bwd IAT Min',\n",
    "    'Bwd IAT Std',\n",
    "    'Bwd IAT Tot',\n",
    "    'Bwd Pkt Len Max',\n",
    "    'Bwd Pkt Len Min',\n",
    "    'Bwd Pkt Len Std',\n",
    "    'Flow IAT Max',\n",
    "    'Flow IAT Min',\n",
    "    'Flow IAT Std',\n",
    "    'Fwd IAT Max',\n",
    "    'Fwd IAT Min',\n",
    "    'Fwd IAT Std',\n",
    "    'Fwd IAT Tot',\n",
    "    'Fwd Pkt Len Max',\n",
    "    'Fwd Pkt Len Min',\n",
    "    'Fwd Pkt Len Std',\n",
    "    'Idle Max',\n",
    "    'Idle Min',\n",
    "    'Idle Std',\n",
    "    'Pkt Len Max',\n",
    "    'Pkt Len Min',\n",
    "    'Pkt Len Std']\n",
    "\n",
    "rawsData = rawsData.drop(columnsToDrop, axis=1)\n"
   ]
  },
  {
   "cell_type": "code",
   "execution_count": 8,
   "id": "78281fde",
   "metadata": {},
   "outputs": [
    {
     "data": {
      "text/plain": [
       "array(['Benign', 'Brute Force -Web', 'Brute Force -XSS', 'SQL Injection'],\n",
       "      dtype=object)"
      ]
     },
     "execution_count": 8,
     "metadata": {},
     "output_type": "execute_result"
    }
   ],
   "source": [
    "rawsData['Label'].unique()\n"
   ]
  },
  {
   "cell_type": "code",
   "execution_count": 9,
   "id": "fe159507",
   "metadata": {},
   "outputs": [],
   "source": [
    "LABEL = 'Label'\n",
    "NORMAL = 'Benign'\n",
    "WEB = 'Brute Force -Web'\n",
    "XSS = 'Brute Force -XSS'\n",
    "SQL = 'SQL Injection'\n"
   ]
  },
  {
   "cell_type": "code",
   "execution_count": 10,
   "id": "2eabc0fd",
   "metadata": {},
   "outputs": [],
   "source": [
    "rawNormal = rawsData[rawsData[LABEL] == NORMAL]\n",
    "rawWeb = rawsData[rawsData[LABEL] == WEB]\n",
    "rawXss = rawsData[rawsData[LABEL] == XSS]\n",
    "rawSql = rawsData[rawsData[LABEL] == SQL]\n"
   ]
  },
  {
   "cell_type": "code",
   "execution_count": 11,
   "id": "d760ac04",
   "metadata": {},
   "outputs": [],
   "source": [
    "from operator import itemgetter\n",
    "\n",
    "FEATURE = 'Feature'\n",
    "COUNT = 'Count'\n",
    "\n",
    "\n",
    "def getNotDuplicatedFeatures(data):\n",
    "    result = []\n",
    "    for column in data.keys():\n",
    "        feature = data[column]\n",
    "        feature = feature.drop_duplicates()\n",
    "        result.append({FEATURE: column, COUNT: feature.shape[0]})\n",
    "    return sorted(result, key=itemgetter(COUNT), reverse=True)\n"
   ]
  },
  {
   "cell_type": "code",
   "execution_count": 12,
   "id": "e26a1905",
   "metadata": {},
   "outputs": [],
   "source": [
    "def specialPrint(data):\n",
    "    for feature in data:\n",
    "        print('{0:17}  {1}'.format(feature[FEATURE], feature[COUNT]))\n"
   ]
  },
  {
   "cell_type": "code",
   "execution_count": 13,
   "id": "1851d5bf",
   "metadata": {},
   "outputs": [],
   "source": [
    "countedRawNormal = getNotDuplicatedFeatures(rawNormal)\n",
    "countedRawWeb = getNotDuplicatedFeatures(rawWeb)\n",
    "countedRawXss = getNotDuplicatedFeatures(rawXss)\n",
    "countedRawSql = getNotDuplicatedFeatures(rawSql)\n"
   ]
  },
  {
   "cell_type": "code",
   "execution_count": 14,
   "id": "abb2de6c",
   "metadata": {},
   "outputs": [
    {
     "name": "stdout",
     "output_type": "stream",
     "text": [
      "Flow IAT Mean      564311\n",
      "Fwd Pkts/s         561463\n",
      "Flow Duration      549898\n",
      "Flow Byts/s        541988\n",
      "Fwd IAT Mean       510976\n",
      "Bwd Pkts/s         426748\n",
      "Bwd IAT Mean       360845\n",
      "Idle Mean          182975\n",
      "Active Mean        101729\n",
      "Pkt Len Var        65132\n",
      "Pkt Len Mean       53081\n",
      "Pkt Size Avg       52538\n",
      "Dst Port           51664\n",
      "Bwd Pkt Len Mean   35552\n",
      "Bwd Seg Size Avg   35552\n",
      "Fwd Pkt Len Mean   24071\n",
      "Fwd Seg Size Avg   24071\n",
      "TotLen Bwd Pkts    21332\n",
      "Subflow Bwd Byts   21332\n",
      "TotLen Fwd Pkts    7340\n",
      "Subflow Fwd Byts   7340\n",
      "Init Bwd Win Byts  5298\n",
      "Init Fwd Win Byts  4690\n",
      "Bwd Header Len     2236\n",
      "Fwd Header Len     1459\n",
      "Tot Bwd Pkts       1160\n",
      "Subflow Bwd Pkts   1160\n",
      "Tot Fwd Pkts       844\n",
      "Subflow Fwd Pkts   844\n",
      "Fwd Act Data Pkts  117\n",
      "Down/Up Ratio      52\n",
      "Fwd Seg Size Min   9\n",
      "Protocol           3\n",
      "Fwd PSH Flags      2\n",
      "FIN Flag Cnt       2\n",
      "SYN Flag Cnt       2\n",
      "RST Flag Cnt       2\n",
      "PSH Flag Cnt       2\n",
      "ACK Flag Cnt       2\n",
      "URG Flag Cnt       2\n",
      "ECE Flag Cnt       2\n",
      "Bwd PSH Flags      1\n",
      "Fwd URG Flags      1\n",
      "Bwd URG Flags      1\n",
      "CWE Flag Count     1\n",
      "Fwd Byts/b Avg     1\n",
      "Fwd Pkts/b Avg     1\n",
      "Fwd Blk Rate Avg   1\n",
      "Bwd Byts/b Avg     1\n",
      "Bwd Pkts/b Avg     1\n",
      "Bwd Blk Rate Avg   1\n",
      "Label              1\n"
     ]
    }
   ],
   "source": [
    "specialPrint(countedRawNormal)\n",
    "# Flow IAT Mean      564311\n",
    "# Fwd Pkts/s         561463\n",
    "# Flow Duration      549898\n",
    "# Flow Byts/s        541988\n",
    "# Fwd IAT Mean       510976\n",
    "# Bwd Pkts/s         426748\n",
    "# Bwd IAT Mean       360845\n",
    "# Idle Mean          182975\n",
    "# Active Mean        101729\n",
    "# Pkt Len Var        65132\n",
    "# Pkt Len Mean       53081\n",
    "# Pkt Size Avg       52538\n",
    "# Dst Port           51664\n",
    "# Bwd Pkt Len Mean   35552\n",
    "# Bwd Seg Size Avg   35552\n",
    "# Fwd Pkt Len Mean   24071\n",
    "# Fwd Seg Size Avg   24071\n",
    "# TotLen Bwd Pkts    21332\n",
    "# Subflow Bwd Byts   21332\n",
    "# TotLen Fwd Pkts    7340\n",
    "# Subflow Fwd Byts   7340\n",
    "# Init Bwd Win Byts  5298\n",
    "# Init Fwd Win Byts  4690\n",
    "# Bwd Header Len     2236\n",
    "# Fwd Header Len     1459\n",
    "# Tot Bwd Pkts       1160\n",
    "# Subflow Bwd Pkts   1160\n",
    "# Tot Fwd Pkts       844\n",
    "# Subflow Fwd Pkts   844\n",
    "# Fwd Act Data Pkts  117\n",
    "# Down/Up Ratio      52\n",
    "# Fwd Seg Size Min   9\n",
    "# Protocol           3\n",
    "# Fwd PSH Flags      2\n",
    "# FIN Flag Cnt       2\n",
    "# SYN Flag Cnt       2\n",
    "# RST Flag Cnt       2\n",
    "# PSH Flag Cnt       2\n",
    "# ACK Flag Cnt       2\n",
    "# URG Flag Cnt       2\n",
    "# ECE Flag Cnt       2\n",
    "# Bwd PSH Flags      1\n",
    "# Fwd URG Flags      1\n",
    "# Bwd URG Flags      1\n",
    "# CWE Flag Count     1\n",
    "# Fwd Byts/b Avg     1\n",
    "# Fwd Pkts/b Avg     1\n",
    "# Fwd Blk Rate Avg   1\n",
    "# Bwd Byts/b Avg     1\n",
    "# Bwd Pkts/b Avg     1\n",
    "# Bwd Blk Rate Avg   1\n",
    "# Label              1\n"
   ]
  },
  {
   "cell_type": "code",
   "execution_count": 16,
   "id": "40a0e43c",
   "metadata": {},
   "outputs": [
    {
     "name": "stdout",
     "output_type": "stream",
     "text": [
      "Fwd IAT Mean       226\n",
      "Flow Duration      225\n",
      "Flow IAT Mean      225\n",
      "Fwd Pkts/s         225\n",
      "Bwd Pkts/s         145\n",
      "Flow Byts/s        142\n",
      "Bwd IAT Mean       138\n",
      "Pkt Len Var        76\n",
      "Pkt Len Mean       40\n",
      "Pkt Size Avg       40\n",
      "Bwd Pkt Len Mean   39\n",
      "Bwd Seg Size Avg   39\n",
      "TotLen Bwd Pkts    38\n",
      "Subflow Bwd Byts   38\n",
      "Fwd Pkt Len Mean   16\n",
      "Fwd Seg Size Avg   16\n",
      "Tot Bwd Pkts       14\n",
      "TotLen Fwd Pkts    14\n",
      "Bwd Header Len     14\n",
      "Subflow Fwd Byts   14\n",
      "Subflow Bwd Pkts   14\n",
      "Init Bwd Win Byts  14\n",
      "Fwd Header Len     13\n",
      "Tot Fwd Pkts       12\n",
      "Subflow Fwd Pkts   12\n",
      "Fwd Act Data Pkts  10\n",
      "Init Fwd Win Byts  6\n",
      "RST Flag Cnt       2\n",
      "PSH Flag Cnt       2\n",
      "ACK Flag Cnt       2\n",
      "ECE Flag Cnt       2\n",
      "Down/Up Ratio      2\n",
      "Dst Port           1\n",
      "Protocol           1\n",
      "Fwd PSH Flags      1\n",
      "Bwd PSH Flags      1\n",
      "Fwd URG Flags      1\n",
      "Bwd URG Flags      1\n",
      "FIN Flag Cnt       1\n",
      "SYN Flag Cnt       1\n",
      "URG Flag Cnt       1\n",
      "CWE Flag Count     1\n",
      "Fwd Byts/b Avg     1\n",
      "Fwd Pkts/b Avg     1\n",
      "Fwd Blk Rate Avg   1\n",
      "Bwd Byts/b Avg     1\n",
      "Bwd Pkts/b Avg     1\n",
      "Bwd Blk Rate Avg   1\n",
      "Fwd Seg Size Min   1\n",
      "Active Mean        1\n",
      "Idle Mean          1\n",
      "Label              1\n"
     ]
    }
   ],
   "source": [
    "specialPrint(countedRawWeb)\n",
    "# Fwd IAT Mean       226\n",
    "# Flow Duration      225\n",
    "# Flow IAT Mean      225\n",
    "# Fwd Pkts/s         225\n",
    "# Bwd Pkts/s         145\n",
    "# Flow Byts/s        142\n",
    "# Bwd IAT Mean       138\n",
    "# Pkt Len Var        76\n",
    "# Pkt Len Mean       40\n",
    "# Pkt Size Avg       40\n",
    "# Bwd Pkt Len Mean   39\n",
    "# Bwd Seg Size Avg   39\n",
    "# TotLen Bwd Pkts    38\n",
    "# Subflow Bwd Byts   38\n",
    "# Fwd Pkt Len Mean   16\n",
    "# Fwd Seg Size Avg   16\n",
    "# Tot Bwd Pkts       14\n",
    "# TotLen Fwd Pkts    14\n",
    "# Bwd Header Len     14\n",
    "# Subflow Fwd Byts   14\n",
    "# Subflow Bwd Pkts   14\n",
    "# Init Bwd Win Byts  14\n",
    "# Fwd Header Len     13\n",
    "# Tot Fwd Pkts       12\n",
    "# Subflow Fwd Pkts   12\n",
    "# Fwd Act Data Pkts  10\n",
    "# Init Fwd Win Byts  6\n",
    "# RST Flag Cnt       2\n",
    "# PSH Flag Cnt       2\n",
    "# ACK Flag Cnt       2\n",
    "# ECE Flag Cnt       2\n",
    "# Down/Up Ratio      2\n",
    "# Dst Port           1\n",
    "# Protocol           1\n",
    "# Fwd PSH Flags      1\n",
    "# Bwd PSH Flags      1\n",
    "# Fwd URG Flags      1\n",
    "# Bwd URG Flags      1\n",
    "# FIN Flag Cnt       1\n",
    "# SYN Flag Cnt       1\n",
    "# URG Flag Cnt       1\n",
    "# CWE Flag Count     1\n",
    "# Fwd Byts/b Avg     1\n",
    "# Fwd Pkts/b Avg     1\n",
    "# Fwd Blk Rate Avg   1\n",
    "# Bwd Byts/b Avg     1\n",
    "# Bwd Pkts/b Avg     1\n",
    "# Bwd Blk Rate Avg   1\n",
    "# Fwd Seg Size Min   1\n",
    "# Active Mean        1\n",
    "# Idle Mean          1\n",
    "# Label              1\n"
   ]
  },
  {
   "cell_type": "code",
   "execution_count": 17,
   "id": "a6d9fed2",
   "metadata": {},
   "outputs": [
    {
     "name": "stdout",
     "output_type": "stream",
     "text": [
      "Flow IAT Mean      79\n",
      "Fwd IAT Mean       79\n",
      "Fwd Pkts/s         79\n",
      "Flow Duration      78\n",
      "Bwd Pkts/s         41\n",
      "Flow Byts/s        40\n",
      "Bwd IAT Mean       40\n",
      "Pkt Len Var        39\n",
      "TotLen Bwd Pkts    37\n",
      "Bwd Pkt Len Mean   37\n",
      "Pkt Len Mean       37\n",
      "Pkt Size Avg       37\n",
      "Bwd Seg Size Avg   37\n",
      "Subflow Bwd Byts   37\n",
      "TotLen Fwd Pkts    8\n",
      "Fwd Pkt Len Mean   8\n",
      "Fwd Seg Size Avg   8\n",
      "Subflow Fwd Byts   8\n",
      "Init Bwd Win Byts  8\n",
      "Fwd Header Len     7\n",
      "Tot Fwd Pkts       6\n",
      "Tot Bwd Pkts       6\n",
      "Bwd Header Len     6\n",
      "Subflow Fwd Pkts   6\n",
      "Subflow Bwd Pkts   6\n",
      "Fwd Act Data Pkts  4\n",
      "Init Fwd Win Byts  3\n",
      "RST Flag Cnt       2\n",
      "PSH Flag Cnt       2\n",
      "ACK Flag Cnt       2\n",
      "ECE Flag Cnt       2\n",
      "Down/Up Ratio      2\n",
      "Dst Port           1\n",
      "Protocol           1\n",
      "Fwd PSH Flags      1\n",
      "Bwd PSH Flags      1\n",
      "Fwd URG Flags      1\n",
      "Bwd URG Flags      1\n",
      "FIN Flag Cnt       1\n",
      "SYN Flag Cnt       1\n",
      "URG Flag Cnt       1\n",
      "CWE Flag Count     1\n",
      "Fwd Byts/b Avg     1\n",
      "Fwd Pkts/b Avg     1\n",
      "Fwd Blk Rate Avg   1\n",
      "Bwd Byts/b Avg     1\n",
      "Bwd Pkts/b Avg     1\n",
      "Bwd Blk Rate Avg   1\n",
      "Fwd Seg Size Min   1\n",
      "Active Mean        1\n",
      "Idle Mean          1\n",
      "Label              1\n"
     ]
    }
   ],
   "source": [
    "specialPrint(countedRawXss)\n",
    "# Flow IAT Mean      79\n",
    "# Fwd IAT Mean       79\n",
    "# Fwd Pkts/s         79\n",
    "# Flow Duration      78\n",
    "# Bwd Pkts/s         41\n",
    "# Flow Byts/s        40\n",
    "# Bwd IAT Mean       40\n",
    "# Pkt Len Var        39\n",
    "# TotLen Bwd Pkts    37\n",
    "# Bwd Pkt Len Mean   37\n",
    "# Pkt Len Mean       37\n",
    "# Pkt Size Avg       37\n",
    "# Bwd Seg Size Avg   37\n",
    "# Subflow Bwd Byts   37\n",
    "# TotLen Fwd Pkts    8\n",
    "# Fwd Pkt Len Mean   8\n",
    "# Fwd Seg Size Avg   8\n",
    "# Subflow Fwd Byts   8\n",
    "# Init Bwd Win Byts  8\n",
    "# Fwd Header Len     7\n",
    "# Tot Fwd Pkts       6\n",
    "# Tot Bwd Pkts       6\n",
    "# Bwd Header Len     6\n",
    "# Subflow Fwd Pkts   6\n",
    "# Subflow Bwd Pkts   6\n",
    "# Fwd Act Data Pkts  4\n",
    "# Init Fwd Win Byts  3\n",
    "# RST Flag Cnt       2\n",
    "# PSH Flag Cnt       2\n",
    "# ACK Flag Cnt       2\n",
    "# ECE Flag Cnt       2\n",
    "# Down/Up Ratio      2\n",
    "# Dst Port           1\n",
    "# Protocol           1\n",
    "# Fwd PSH Flags      1\n",
    "# Bwd PSH Flags      1\n",
    "# Fwd URG Flags      1\n",
    "# Bwd URG Flags      1\n",
    "# FIN Flag Cnt       1\n",
    "# SYN Flag Cnt       1\n",
    "# URG Flag Cnt       1\n",
    "# CWE Flag Count     1\n",
    "# Fwd Byts/b Avg     1\n",
    "# Fwd Pkts/b Avg     1\n",
    "# Fwd Blk Rate Avg   1\n",
    "# Bwd Byts/b Avg     1\n",
    "# Bwd Pkts/b Avg     1\n",
    "# Bwd Blk Rate Avg   1\n",
    "# Fwd Seg Size Min   1\n",
    "# Active Mean        1\n",
    "# Idle Mean          1\n",
    "# Label              1\n"
   ]
  },
  {
   "cell_type": "code",
   "execution_count": 18,
   "id": "acd4630d",
   "metadata": {},
   "outputs": [
    {
     "name": "stdout",
     "output_type": "stream",
     "text": [
      "Flow Duration      34\n",
      "Flow IAT Mean      34\n",
      "Fwd IAT Mean       34\n",
      "Fwd Pkts/s         34\n",
      "Bwd Pkts/s         24\n",
      "Flow Byts/s        22\n",
      "Bwd IAT Mean       22\n",
      "Pkt Len Var        22\n",
      "Bwd Pkt Len Mean   21\n",
      "Pkt Len Mean       21\n",
      "Pkt Size Avg       21\n",
      "Bwd Seg Size Avg   21\n",
      "Fwd Pkt Len Mean   20\n",
      "Fwd Seg Size Avg   20\n",
      "TotLen Fwd Pkts    19\n",
      "TotLen Bwd Pkts    19\n",
      "Subflow Fwd Byts   19\n",
      "Subflow Bwd Byts   19\n",
      "Init Bwd Win Byts  11\n",
      "Tot Fwd Pkts       8\n",
      "Fwd Header Len     8\n",
      "Bwd Header Len     8\n",
      "Subflow Fwd Pkts   8\n",
      "Tot Bwd Pkts       7\n",
      "Subflow Bwd Pkts   7\n",
      "Fwd Act Data Pkts  6\n",
      "Init Fwd Win Byts  5\n",
      "RST Flag Cnt       2\n",
      "PSH Flag Cnt       2\n",
      "ACK Flag Cnt       2\n",
      "URG Flag Cnt       2\n",
      "ECE Flag Cnt       2\n",
      "Down/Up Ratio      2\n",
      "Dst Port           1\n",
      "Protocol           1\n",
      "Fwd PSH Flags      1\n",
      "Bwd PSH Flags      1\n",
      "Fwd URG Flags      1\n",
      "Bwd URG Flags      1\n",
      "FIN Flag Cnt       1\n",
      "SYN Flag Cnt       1\n",
      "CWE Flag Count     1\n",
      "Fwd Byts/b Avg     1\n",
      "Fwd Pkts/b Avg     1\n",
      "Fwd Blk Rate Avg   1\n",
      "Bwd Byts/b Avg     1\n",
      "Bwd Pkts/b Avg     1\n",
      "Bwd Blk Rate Avg   1\n",
      "Fwd Seg Size Min   1\n",
      "Active Mean        1\n",
      "Idle Mean          1\n",
      "Label              1\n"
     ]
    }
   ],
   "source": [
    "specialPrint(countedRawSql)\n",
    "# Flow Duration      34\n",
    "# Flow IAT Mean      34\n",
    "# Fwd IAT Mean       34\n",
    "# Fwd Pkts/s         34\n",
    "# Bwd Pkts/s         24\n",
    "# Flow Byts/s        22\n",
    "# Bwd IAT Mean       22\n",
    "# Pkt Len Var        22\n",
    "# Bwd Pkt Len Mean   21\n",
    "# Pkt Len Mean       21\n",
    "# Pkt Size Avg       21\n",
    "# Bwd Seg Size Avg   21\n",
    "# Fwd Pkt Len Mean   20\n",
    "# Fwd Seg Size Avg   20\n",
    "# TotLen Fwd Pkts    19\n",
    "# TotLen Bwd Pkts    19\n",
    "# Subflow Fwd Byts   19\n",
    "# Subflow Bwd Byts   19\n",
    "# Init Bwd Win Byts  11\n",
    "# Tot Fwd Pkts       8\n",
    "# Fwd Header Len     8\n",
    "# Bwd Header Len     8\n",
    "# Subflow Fwd Pkts   8\n",
    "# Tot Bwd Pkts       7\n",
    "# Subflow Bwd Pkts   7\n",
    "# Fwd Act Data Pkts  6\n",
    "# Init Fwd Win Byts  5\n",
    "# RST Flag Cnt       2\n",
    "# PSH Flag Cnt       2\n",
    "# ACK Flag Cnt       2\n",
    "# URG Flag Cnt       2\n",
    "# ECE Flag Cnt       2\n",
    "# Down/Up Ratio      2\n",
    "# Dst Port           1\n",
    "# Protocol           1\n",
    "# Fwd PSH Flags      1\n",
    "# Bwd PSH Flags      1\n",
    "# Fwd URG Flags      1\n",
    "# Bwd URG Flags      1\n",
    "# FIN Flag Cnt       1\n",
    "# SYN Flag Cnt       1\n",
    "# CWE Flag Count     1\n",
    "# Fwd Byts/b Avg     1\n",
    "# Fwd Pkts/b Avg     1\n",
    "# Fwd Blk Rate Avg   1\n",
    "# Bwd Byts/b Avg     1\n",
    "# Bwd Pkts/b Avg     1\n",
    "# Bwd Blk Rate Avg   1\n",
    "# Fwd Seg Size Min   1\n",
    "# Active Mean        1\n",
    "# Idle Mean          1\n",
    "# Label              1\n"
   ]
  },
  {
   "cell_type": "code",
   "execution_count": 21,
   "id": "aaf1c860",
   "metadata": {},
   "outputs": [
    {
     "data": {
      "text/html": [
       "        <script type=\"text/javascript\">\n",
       "        window.PlotlyConfig = {MathJaxConfig: 'local'};\n",
       "        if (window.MathJax) {MathJax.Hub.Config({SVG: {font: \"STIX-Web\"}});}\n",
       "        if (typeof require !== 'undefined') {\n",
       "        require.undef(\"plotly\");\n",
       "        requirejs.config({\n",
       "            paths: {\n",
       "                'plotly': ['https://cdn.plot.ly/plotly-2.9.0.min']\n",
       "            }\n",
       "        });\n",
       "        require(['plotly'], function(Plotly) {\n",
       "            window._Plotly = Plotly;\n",
       "        });\n",
       "        }\n",
       "        </script>\n",
       "        "
      ]
     },
     "metadata": {},
     "output_type": "display_data"
    }
   ],
   "source": [
    "import plotly.graph_objs as go\n",
    "from plotly.offline import init_notebook_mode, iplot\n",
    "init_notebook_mode(connected=True)\n",
    "\n",
    "\n",
    "def showAttackDistribution(data):\n",
    "    counted = data.value_counts()\n",
    "\n",
    "    fig = go.Figure(data=[\n",
    "        go.Bar(name=NORMAL,\n",
    "               y=[counted[NORMAL]],\n",
    "               x=[NORMAL],\n",
    "               text=str(counted[NORMAL]),\n",
    "               orientation='v',\n",
    "               textposition='outside',),\n",
    "        go.Bar(name=WEB,\n",
    "               y=[counted[WEB]],\n",
    "               x=[WEB],\n",
    "               text=str(counted[WEB]),\n",
    "               orientation='v',\n",
    "               textposition='outside',),\n",
    "        go.Bar(name=XSS,\n",
    "               y=[counted[XSS]],\n",
    "               x=[XSS],\n",
    "               text=str(counted[XSS]),\n",
    "               orientation='v',\n",
    "               textposition='outside',),\n",
    "        go.Bar(name=SQL,\n",
    "               y=[counted[SQL]],\n",
    "               x=[SQL],\n",
    "               text=str(counted[SQL]),\n",
    "               orientation='v',\n",
    "               textposition='outside',)\n",
    "    ])\n",
    "    # Change the bar mode\n",
    "    fig.update_layout(\n",
    "        width=800,\n",
    "        height=600,\n",
    "        title=f'Labels Distribution',\n",
    "        yaxis_title='Number of attacks',\n",
    "        xaxis_title='Attack Name',)\n",
    "    iplot(fig)\n"
   ]
  },
  {
   "cell_type": "code",
   "execution_count": 22,
   "id": "0687c881",
   "metadata": {},
   "outputs": [
    {
     "data": {
      "application/vnd.plotly.v1+json": {
       "config": {
        "linkText": "Export to plot.ly",
        "plotlyServerURL": "https://plot.ly",
        "showLink": false
       },
       "data": [
        {
         "name": "Benign",
         "orientation": "v",
         "text": "1048213",
         "textposition": "outside",
         "type": "bar",
         "x": [
          "Benign"
         ],
         "y": [
          1048213
         ]
        },
        {
         "name": "Brute Force -Web",
         "orientation": "v",
         "text": "249",
         "textposition": "outside",
         "type": "bar",
         "x": [
          "Brute Force -Web"
         ],
         "y": [
          249
         ]
        },
        {
         "name": "Brute Force -XSS",
         "orientation": "v",
         "text": "79",
         "textposition": "outside",
         "type": "bar",
         "x": [
          "Brute Force -XSS"
         ],
         "y": [
          79
         ]
        },
        {
         "name": "SQL Injection",
         "orientation": "v",
         "text": "34",
         "textposition": "outside",
         "type": "bar",
         "x": [
          "SQL Injection"
         ],
         "y": [
          34
         ]
        }
       ],
       "layout": {
        "height": 600,
        "template": {
         "data": {
          "bar": [
           {
            "error_x": {
             "color": "#2a3f5f"
            },
            "error_y": {
             "color": "#2a3f5f"
            },
            "marker": {
             "line": {
              "color": "#E5ECF6",
              "width": 0.5
             },
             "pattern": {
              "fillmode": "overlay",
              "size": 10,
              "solidity": 0.2
             }
            },
            "type": "bar"
           }
          ],
          "barpolar": [
           {
            "marker": {
             "line": {
              "color": "#E5ECF6",
              "width": 0.5
             },
             "pattern": {
              "fillmode": "overlay",
              "size": 10,
              "solidity": 0.2
             }
            },
            "type": "barpolar"
           }
          ],
          "carpet": [
           {
            "aaxis": {
             "endlinecolor": "#2a3f5f",
             "gridcolor": "white",
             "linecolor": "white",
             "minorgridcolor": "white",
             "startlinecolor": "#2a3f5f"
            },
            "baxis": {
             "endlinecolor": "#2a3f5f",
             "gridcolor": "white",
             "linecolor": "white",
             "minorgridcolor": "white",
             "startlinecolor": "#2a3f5f"
            },
            "type": "carpet"
           }
          ],
          "choropleth": [
           {
            "colorbar": {
             "outlinewidth": 0,
             "ticks": ""
            },
            "type": "choropleth"
           }
          ],
          "contour": [
           {
            "colorbar": {
             "outlinewidth": 0,
             "ticks": ""
            },
            "colorscale": [
             [
              0,
              "#0d0887"
             ],
             [
              0.1111111111111111,
              "#46039f"
             ],
             [
              0.2222222222222222,
              "#7201a8"
             ],
             [
              0.3333333333333333,
              "#9c179e"
             ],
             [
              0.4444444444444444,
              "#bd3786"
             ],
             [
              0.5555555555555556,
              "#d8576b"
             ],
             [
              0.6666666666666666,
              "#ed7953"
             ],
             [
              0.7777777777777778,
              "#fb9f3a"
             ],
             [
              0.8888888888888888,
              "#fdca26"
             ],
             [
              1,
              "#f0f921"
             ]
            ],
            "type": "contour"
           }
          ],
          "contourcarpet": [
           {
            "colorbar": {
             "outlinewidth": 0,
             "ticks": ""
            },
            "type": "contourcarpet"
           }
          ],
          "heatmap": [
           {
            "colorbar": {
             "outlinewidth": 0,
             "ticks": ""
            },
            "colorscale": [
             [
              0,
              "#0d0887"
             ],
             [
              0.1111111111111111,
              "#46039f"
             ],
             [
              0.2222222222222222,
              "#7201a8"
             ],
             [
              0.3333333333333333,
              "#9c179e"
             ],
             [
              0.4444444444444444,
              "#bd3786"
             ],
             [
              0.5555555555555556,
              "#d8576b"
             ],
             [
              0.6666666666666666,
              "#ed7953"
             ],
             [
              0.7777777777777778,
              "#fb9f3a"
             ],
             [
              0.8888888888888888,
              "#fdca26"
             ],
             [
              1,
              "#f0f921"
             ]
            ],
            "type": "heatmap"
           }
          ],
          "heatmapgl": [
           {
            "colorbar": {
             "outlinewidth": 0,
             "ticks": ""
            },
            "colorscale": [
             [
              0,
              "#0d0887"
             ],
             [
              0.1111111111111111,
              "#46039f"
             ],
             [
              0.2222222222222222,
              "#7201a8"
             ],
             [
              0.3333333333333333,
              "#9c179e"
             ],
             [
              0.4444444444444444,
              "#bd3786"
             ],
             [
              0.5555555555555556,
              "#d8576b"
             ],
             [
              0.6666666666666666,
              "#ed7953"
             ],
             [
              0.7777777777777778,
              "#fb9f3a"
             ],
             [
              0.8888888888888888,
              "#fdca26"
             ],
             [
              1,
              "#f0f921"
             ]
            ],
            "type": "heatmapgl"
           }
          ],
          "histogram": [
           {
            "marker": {
             "pattern": {
              "fillmode": "overlay",
              "size": 10,
              "solidity": 0.2
             }
            },
            "type": "histogram"
           }
          ],
          "histogram2d": [
           {
            "colorbar": {
             "outlinewidth": 0,
             "ticks": ""
            },
            "colorscale": [
             [
              0,
              "#0d0887"
             ],
             [
              0.1111111111111111,
              "#46039f"
             ],
             [
              0.2222222222222222,
              "#7201a8"
             ],
             [
              0.3333333333333333,
              "#9c179e"
             ],
             [
              0.4444444444444444,
              "#bd3786"
             ],
             [
              0.5555555555555556,
              "#d8576b"
             ],
             [
              0.6666666666666666,
              "#ed7953"
             ],
             [
              0.7777777777777778,
              "#fb9f3a"
             ],
             [
              0.8888888888888888,
              "#fdca26"
             ],
             [
              1,
              "#f0f921"
             ]
            ],
            "type": "histogram2d"
           }
          ],
          "histogram2dcontour": [
           {
            "colorbar": {
             "outlinewidth": 0,
             "ticks": ""
            },
            "colorscale": [
             [
              0,
              "#0d0887"
             ],
             [
              0.1111111111111111,
              "#46039f"
             ],
             [
              0.2222222222222222,
              "#7201a8"
             ],
             [
              0.3333333333333333,
              "#9c179e"
             ],
             [
              0.4444444444444444,
              "#bd3786"
             ],
             [
              0.5555555555555556,
              "#d8576b"
             ],
             [
              0.6666666666666666,
              "#ed7953"
             ],
             [
              0.7777777777777778,
              "#fb9f3a"
             ],
             [
              0.8888888888888888,
              "#fdca26"
             ],
             [
              1,
              "#f0f921"
             ]
            ],
            "type": "histogram2dcontour"
           }
          ],
          "mesh3d": [
           {
            "colorbar": {
             "outlinewidth": 0,
             "ticks": ""
            },
            "type": "mesh3d"
           }
          ],
          "parcoords": [
           {
            "line": {
             "colorbar": {
              "outlinewidth": 0,
              "ticks": ""
             }
            },
            "type": "parcoords"
           }
          ],
          "pie": [
           {
            "automargin": true,
            "type": "pie"
           }
          ],
          "scatter": [
           {
            "marker": {
             "colorbar": {
              "outlinewidth": 0,
              "ticks": ""
             }
            },
            "type": "scatter"
           }
          ],
          "scatter3d": [
           {
            "line": {
             "colorbar": {
              "outlinewidth": 0,
              "ticks": ""
             }
            },
            "marker": {
             "colorbar": {
              "outlinewidth": 0,
              "ticks": ""
             }
            },
            "type": "scatter3d"
           }
          ],
          "scattercarpet": [
           {
            "marker": {
             "colorbar": {
              "outlinewidth": 0,
              "ticks": ""
             }
            },
            "type": "scattercarpet"
           }
          ],
          "scattergeo": [
           {
            "marker": {
             "colorbar": {
              "outlinewidth": 0,
              "ticks": ""
             }
            },
            "type": "scattergeo"
           }
          ],
          "scattergl": [
           {
            "marker": {
             "colorbar": {
              "outlinewidth": 0,
              "ticks": ""
             }
            },
            "type": "scattergl"
           }
          ],
          "scattermapbox": [
           {
            "marker": {
             "colorbar": {
              "outlinewidth": 0,
              "ticks": ""
             }
            },
            "type": "scattermapbox"
           }
          ],
          "scatterpolar": [
           {
            "marker": {
             "colorbar": {
              "outlinewidth": 0,
              "ticks": ""
             }
            },
            "type": "scatterpolar"
           }
          ],
          "scatterpolargl": [
           {
            "marker": {
             "colorbar": {
              "outlinewidth": 0,
              "ticks": ""
             }
            },
            "type": "scatterpolargl"
           }
          ],
          "scatterternary": [
           {
            "marker": {
             "colorbar": {
              "outlinewidth": 0,
              "ticks": ""
             }
            },
            "type": "scatterternary"
           }
          ],
          "surface": [
           {
            "colorbar": {
             "outlinewidth": 0,
             "ticks": ""
            },
            "colorscale": [
             [
              0,
              "#0d0887"
             ],
             [
              0.1111111111111111,
              "#46039f"
             ],
             [
              0.2222222222222222,
              "#7201a8"
             ],
             [
              0.3333333333333333,
              "#9c179e"
             ],
             [
              0.4444444444444444,
              "#bd3786"
             ],
             [
              0.5555555555555556,
              "#d8576b"
             ],
             [
              0.6666666666666666,
              "#ed7953"
             ],
             [
              0.7777777777777778,
              "#fb9f3a"
             ],
             [
              0.8888888888888888,
              "#fdca26"
             ],
             [
              1,
              "#f0f921"
             ]
            ],
            "type": "surface"
           }
          ],
          "table": [
           {
            "cells": {
             "fill": {
              "color": "#EBF0F8"
             },
             "line": {
              "color": "white"
             }
            },
            "header": {
             "fill": {
              "color": "#C8D4E3"
             },
             "line": {
              "color": "white"
             }
            },
            "type": "table"
           }
          ]
         },
         "layout": {
          "annotationdefaults": {
           "arrowcolor": "#2a3f5f",
           "arrowhead": 0,
           "arrowwidth": 1
          },
          "autotypenumbers": "strict",
          "coloraxis": {
           "colorbar": {
            "outlinewidth": 0,
            "ticks": ""
           }
          },
          "colorscale": {
           "diverging": [
            [
             0,
             "#8e0152"
            ],
            [
             0.1,
             "#c51b7d"
            ],
            [
             0.2,
             "#de77ae"
            ],
            [
             0.3,
             "#f1b6da"
            ],
            [
             0.4,
             "#fde0ef"
            ],
            [
             0.5,
             "#f7f7f7"
            ],
            [
             0.6,
             "#e6f5d0"
            ],
            [
             0.7,
             "#b8e186"
            ],
            [
             0.8,
             "#7fbc41"
            ],
            [
             0.9,
             "#4d9221"
            ],
            [
             1,
             "#276419"
            ]
           ],
           "sequential": [
            [
             0,
             "#0d0887"
            ],
            [
             0.1111111111111111,
             "#46039f"
            ],
            [
             0.2222222222222222,
             "#7201a8"
            ],
            [
             0.3333333333333333,
             "#9c179e"
            ],
            [
             0.4444444444444444,
             "#bd3786"
            ],
            [
             0.5555555555555556,
             "#d8576b"
            ],
            [
             0.6666666666666666,
             "#ed7953"
            ],
            [
             0.7777777777777778,
             "#fb9f3a"
            ],
            [
             0.8888888888888888,
             "#fdca26"
            ],
            [
             1,
             "#f0f921"
            ]
           ],
           "sequentialminus": [
            [
             0,
             "#0d0887"
            ],
            [
             0.1111111111111111,
             "#46039f"
            ],
            [
             0.2222222222222222,
             "#7201a8"
            ],
            [
             0.3333333333333333,
             "#9c179e"
            ],
            [
             0.4444444444444444,
             "#bd3786"
            ],
            [
             0.5555555555555556,
             "#d8576b"
            ],
            [
             0.6666666666666666,
             "#ed7953"
            ],
            [
             0.7777777777777778,
             "#fb9f3a"
            ],
            [
             0.8888888888888888,
             "#fdca26"
            ],
            [
             1,
             "#f0f921"
            ]
           ]
          },
          "colorway": [
           "#636efa",
           "#EF553B",
           "#00cc96",
           "#ab63fa",
           "#FFA15A",
           "#19d3f3",
           "#FF6692",
           "#B6E880",
           "#FF97FF",
           "#FECB52"
          ],
          "font": {
           "color": "#2a3f5f"
          },
          "geo": {
           "bgcolor": "white",
           "lakecolor": "white",
           "landcolor": "#E5ECF6",
           "showlakes": true,
           "showland": true,
           "subunitcolor": "white"
          },
          "hoverlabel": {
           "align": "left"
          },
          "hovermode": "closest",
          "mapbox": {
           "style": "light"
          },
          "paper_bgcolor": "white",
          "plot_bgcolor": "#E5ECF6",
          "polar": {
           "angularaxis": {
            "gridcolor": "white",
            "linecolor": "white",
            "ticks": ""
           },
           "bgcolor": "#E5ECF6",
           "radialaxis": {
            "gridcolor": "white",
            "linecolor": "white",
            "ticks": ""
           }
          },
          "scene": {
           "xaxis": {
            "backgroundcolor": "#E5ECF6",
            "gridcolor": "white",
            "gridwidth": 2,
            "linecolor": "white",
            "showbackground": true,
            "ticks": "",
            "zerolinecolor": "white"
           },
           "yaxis": {
            "backgroundcolor": "#E5ECF6",
            "gridcolor": "white",
            "gridwidth": 2,
            "linecolor": "white",
            "showbackground": true,
            "ticks": "",
            "zerolinecolor": "white"
           },
           "zaxis": {
            "backgroundcolor": "#E5ECF6",
            "gridcolor": "white",
            "gridwidth": 2,
            "linecolor": "white",
            "showbackground": true,
            "ticks": "",
            "zerolinecolor": "white"
           }
          },
          "shapedefaults": {
           "line": {
            "color": "#2a3f5f"
           }
          },
          "ternary": {
           "aaxis": {
            "gridcolor": "white",
            "linecolor": "white",
            "ticks": ""
           },
           "baxis": {
            "gridcolor": "white",
            "linecolor": "white",
            "ticks": ""
           },
           "bgcolor": "#E5ECF6",
           "caxis": {
            "gridcolor": "white",
            "linecolor": "white",
            "ticks": ""
           }
          },
          "title": {
           "x": 0.05
          },
          "xaxis": {
           "automargin": true,
           "gridcolor": "white",
           "linecolor": "white",
           "ticks": "",
           "title": {
            "standoff": 15
           },
           "zerolinecolor": "white",
           "zerolinewidth": 2
          },
          "yaxis": {
           "automargin": true,
           "gridcolor": "white",
           "linecolor": "white",
           "ticks": "",
           "title": {
            "standoff": 15
           },
           "zerolinecolor": "white",
           "zerolinewidth": 2
          }
         }
        },
        "title": {
         "text": "Labels Distribution"
        },
        "width": 800,
        "xaxis": {
         "title": {
          "text": "Attack Name"
         }
        },
        "yaxis": {
         "title": {
          "text": "Number of attacks"
         }
        }
       }
      },
      "text/html": [
       "<div>                            <div id=\"e91a4627-5a68-452d-a323-669509c9183a\" class=\"plotly-graph-div\" style=\"height:600px; width:800px;\"></div>            <script type=\"text/javascript\">                require([\"plotly\"], function(Plotly) {                    window.PLOTLYENV=window.PLOTLYENV || {};                                    if (document.getElementById(\"e91a4627-5a68-452d-a323-669509c9183a\")) {                    Plotly.newPlot(                        \"e91a4627-5a68-452d-a323-669509c9183a\",                        [{\"name\":\"Benign\",\"orientation\":\"v\",\"text\":\"1048213\",\"textposition\":\"outside\",\"x\":[\"Benign\"],\"y\":[1048213],\"type\":\"bar\"},{\"name\":\"Brute Force -Web\",\"orientation\":\"v\",\"text\":\"249\",\"textposition\":\"outside\",\"x\":[\"Brute Force -Web\"],\"y\":[249],\"type\":\"bar\"},{\"name\":\"Brute Force -XSS\",\"orientation\":\"v\",\"text\":\"79\",\"textposition\":\"outside\",\"x\":[\"Brute Force -XSS\"],\"y\":[79],\"type\":\"bar\"},{\"name\":\"SQL Injection\",\"orientation\":\"v\",\"text\":\"34\",\"textposition\":\"outside\",\"x\":[\"SQL Injection\"],\"y\":[34],\"type\":\"bar\"}],                        {\"height\":600,\"template\":{\"data\":{\"barpolar\":[{\"marker\":{\"line\":{\"color\":\"#E5ECF6\",\"width\":0.5},\"pattern\":{\"fillmode\":\"overlay\",\"size\":10,\"solidity\":0.2}},\"type\":\"barpolar\"}],\"bar\":[{\"error_x\":{\"color\":\"#2a3f5f\"},\"error_y\":{\"color\":\"#2a3f5f\"},\"marker\":{\"line\":{\"color\":\"#E5ECF6\",\"width\":0.5},\"pattern\":{\"fillmode\":\"overlay\",\"size\":10,\"solidity\":0.2}},\"type\":\"bar\"}],\"carpet\":[{\"aaxis\":{\"endlinecolor\":\"#2a3f5f\",\"gridcolor\":\"white\",\"linecolor\":\"white\",\"minorgridcolor\":\"white\",\"startlinecolor\":\"#2a3f5f\"},\"baxis\":{\"endlinecolor\":\"#2a3f5f\",\"gridcolor\":\"white\",\"linecolor\":\"white\",\"minorgridcolor\":\"white\",\"startlinecolor\":\"#2a3f5f\"},\"type\":\"carpet\"}],\"choropleth\":[{\"colorbar\":{\"outlinewidth\":0,\"ticks\":\"\"},\"type\":\"choropleth\"}],\"contourcarpet\":[{\"colorbar\":{\"outlinewidth\":0,\"ticks\":\"\"},\"type\":\"contourcarpet\"}],\"contour\":[{\"colorbar\":{\"outlinewidth\":0,\"ticks\":\"\"},\"colorscale\":[[0.0,\"#0d0887\"],[0.1111111111111111,\"#46039f\"],[0.2222222222222222,\"#7201a8\"],[0.3333333333333333,\"#9c179e\"],[0.4444444444444444,\"#bd3786\"],[0.5555555555555556,\"#d8576b\"],[0.6666666666666666,\"#ed7953\"],[0.7777777777777778,\"#fb9f3a\"],[0.8888888888888888,\"#fdca26\"],[1.0,\"#f0f921\"]],\"type\":\"contour\"}],\"heatmapgl\":[{\"colorbar\":{\"outlinewidth\":0,\"ticks\":\"\"},\"colorscale\":[[0.0,\"#0d0887\"],[0.1111111111111111,\"#46039f\"],[0.2222222222222222,\"#7201a8\"],[0.3333333333333333,\"#9c179e\"],[0.4444444444444444,\"#bd3786\"],[0.5555555555555556,\"#d8576b\"],[0.6666666666666666,\"#ed7953\"],[0.7777777777777778,\"#fb9f3a\"],[0.8888888888888888,\"#fdca26\"],[1.0,\"#f0f921\"]],\"type\":\"heatmapgl\"}],\"heatmap\":[{\"colorbar\":{\"outlinewidth\":0,\"ticks\":\"\"},\"colorscale\":[[0.0,\"#0d0887\"],[0.1111111111111111,\"#46039f\"],[0.2222222222222222,\"#7201a8\"],[0.3333333333333333,\"#9c179e\"],[0.4444444444444444,\"#bd3786\"],[0.5555555555555556,\"#d8576b\"],[0.6666666666666666,\"#ed7953\"],[0.7777777777777778,\"#fb9f3a\"],[0.8888888888888888,\"#fdca26\"],[1.0,\"#f0f921\"]],\"type\":\"heatmap\"}],\"histogram2dcontour\":[{\"colorbar\":{\"outlinewidth\":0,\"ticks\":\"\"},\"colorscale\":[[0.0,\"#0d0887\"],[0.1111111111111111,\"#46039f\"],[0.2222222222222222,\"#7201a8\"],[0.3333333333333333,\"#9c179e\"],[0.4444444444444444,\"#bd3786\"],[0.5555555555555556,\"#d8576b\"],[0.6666666666666666,\"#ed7953\"],[0.7777777777777778,\"#fb9f3a\"],[0.8888888888888888,\"#fdca26\"],[1.0,\"#f0f921\"]],\"type\":\"histogram2dcontour\"}],\"histogram2d\":[{\"colorbar\":{\"outlinewidth\":0,\"ticks\":\"\"},\"colorscale\":[[0.0,\"#0d0887\"],[0.1111111111111111,\"#46039f\"],[0.2222222222222222,\"#7201a8\"],[0.3333333333333333,\"#9c179e\"],[0.4444444444444444,\"#bd3786\"],[0.5555555555555556,\"#d8576b\"],[0.6666666666666666,\"#ed7953\"],[0.7777777777777778,\"#fb9f3a\"],[0.8888888888888888,\"#fdca26\"],[1.0,\"#f0f921\"]],\"type\":\"histogram2d\"}],\"histogram\":[{\"marker\":{\"pattern\":{\"fillmode\":\"overlay\",\"size\":10,\"solidity\":0.2}},\"type\":\"histogram\"}],\"mesh3d\":[{\"colorbar\":{\"outlinewidth\":0,\"ticks\":\"\"},\"type\":\"mesh3d\"}],\"parcoords\":[{\"line\":{\"colorbar\":{\"outlinewidth\":0,\"ticks\":\"\"}},\"type\":\"parcoords\"}],\"pie\":[{\"automargin\":true,\"type\":\"pie\"}],\"scatter3d\":[{\"line\":{\"colorbar\":{\"outlinewidth\":0,\"ticks\":\"\"}},\"marker\":{\"colorbar\":{\"outlinewidth\":0,\"ticks\":\"\"}},\"type\":\"scatter3d\"}],\"scattercarpet\":[{\"marker\":{\"colorbar\":{\"outlinewidth\":0,\"ticks\":\"\"}},\"type\":\"scattercarpet\"}],\"scattergeo\":[{\"marker\":{\"colorbar\":{\"outlinewidth\":0,\"ticks\":\"\"}},\"type\":\"scattergeo\"}],\"scattergl\":[{\"marker\":{\"colorbar\":{\"outlinewidth\":0,\"ticks\":\"\"}},\"type\":\"scattergl\"}],\"scattermapbox\":[{\"marker\":{\"colorbar\":{\"outlinewidth\":0,\"ticks\":\"\"}},\"type\":\"scattermapbox\"}],\"scatterpolargl\":[{\"marker\":{\"colorbar\":{\"outlinewidth\":0,\"ticks\":\"\"}},\"type\":\"scatterpolargl\"}],\"scatterpolar\":[{\"marker\":{\"colorbar\":{\"outlinewidth\":0,\"ticks\":\"\"}},\"type\":\"scatterpolar\"}],\"scatter\":[{\"marker\":{\"colorbar\":{\"outlinewidth\":0,\"ticks\":\"\"}},\"type\":\"scatter\"}],\"scatterternary\":[{\"marker\":{\"colorbar\":{\"outlinewidth\":0,\"ticks\":\"\"}},\"type\":\"scatterternary\"}],\"surface\":[{\"colorbar\":{\"outlinewidth\":0,\"ticks\":\"\"},\"colorscale\":[[0.0,\"#0d0887\"],[0.1111111111111111,\"#46039f\"],[0.2222222222222222,\"#7201a8\"],[0.3333333333333333,\"#9c179e\"],[0.4444444444444444,\"#bd3786\"],[0.5555555555555556,\"#d8576b\"],[0.6666666666666666,\"#ed7953\"],[0.7777777777777778,\"#fb9f3a\"],[0.8888888888888888,\"#fdca26\"],[1.0,\"#f0f921\"]],\"type\":\"surface\"}],\"table\":[{\"cells\":{\"fill\":{\"color\":\"#EBF0F8\"},\"line\":{\"color\":\"white\"}},\"header\":{\"fill\":{\"color\":\"#C8D4E3\"},\"line\":{\"color\":\"white\"}},\"type\":\"table\"}]},\"layout\":{\"annotationdefaults\":{\"arrowcolor\":\"#2a3f5f\",\"arrowhead\":0,\"arrowwidth\":1},\"autotypenumbers\":\"strict\",\"coloraxis\":{\"colorbar\":{\"outlinewidth\":0,\"ticks\":\"\"}},\"colorscale\":{\"diverging\":[[0,\"#8e0152\"],[0.1,\"#c51b7d\"],[0.2,\"#de77ae\"],[0.3,\"#f1b6da\"],[0.4,\"#fde0ef\"],[0.5,\"#f7f7f7\"],[0.6,\"#e6f5d0\"],[0.7,\"#b8e186\"],[0.8,\"#7fbc41\"],[0.9,\"#4d9221\"],[1,\"#276419\"]],\"sequential\":[[0.0,\"#0d0887\"],[0.1111111111111111,\"#46039f\"],[0.2222222222222222,\"#7201a8\"],[0.3333333333333333,\"#9c179e\"],[0.4444444444444444,\"#bd3786\"],[0.5555555555555556,\"#d8576b\"],[0.6666666666666666,\"#ed7953\"],[0.7777777777777778,\"#fb9f3a\"],[0.8888888888888888,\"#fdca26\"],[1.0,\"#f0f921\"]],\"sequentialminus\":[[0.0,\"#0d0887\"],[0.1111111111111111,\"#46039f\"],[0.2222222222222222,\"#7201a8\"],[0.3333333333333333,\"#9c179e\"],[0.4444444444444444,\"#bd3786\"],[0.5555555555555556,\"#d8576b\"],[0.6666666666666666,\"#ed7953\"],[0.7777777777777778,\"#fb9f3a\"],[0.8888888888888888,\"#fdca26\"],[1.0,\"#f0f921\"]]},\"colorway\":[\"#636efa\",\"#EF553B\",\"#00cc96\",\"#ab63fa\",\"#FFA15A\",\"#19d3f3\",\"#FF6692\",\"#B6E880\",\"#FF97FF\",\"#FECB52\"],\"font\":{\"color\":\"#2a3f5f\"},\"geo\":{\"bgcolor\":\"white\",\"lakecolor\":\"white\",\"landcolor\":\"#E5ECF6\",\"showlakes\":true,\"showland\":true,\"subunitcolor\":\"white\"},\"hoverlabel\":{\"align\":\"left\"},\"hovermode\":\"closest\",\"mapbox\":{\"style\":\"light\"},\"paper_bgcolor\":\"white\",\"plot_bgcolor\":\"#E5ECF6\",\"polar\":{\"angularaxis\":{\"gridcolor\":\"white\",\"linecolor\":\"white\",\"ticks\":\"\"},\"bgcolor\":\"#E5ECF6\",\"radialaxis\":{\"gridcolor\":\"white\",\"linecolor\":\"white\",\"ticks\":\"\"}},\"scene\":{\"xaxis\":{\"backgroundcolor\":\"#E5ECF6\",\"gridcolor\":\"white\",\"gridwidth\":2,\"linecolor\":\"white\",\"showbackground\":true,\"ticks\":\"\",\"zerolinecolor\":\"white\"},\"yaxis\":{\"backgroundcolor\":\"#E5ECF6\",\"gridcolor\":\"white\",\"gridwidth\":2,\"linecolor\":\"white\",\"showbackground\":true,\"ticks\":\"\",\"zerolinecolor\":\"white\"},\"zaxis\":{\"backgroundcolor\":\"#E5ECF6\",\"gridcolor\":\"white\",\"gridwidth\":2,\"linecolor\":\"white\",\"showbackground\":true,\"ticks\":\"\",\"zerolinecolor\":\"white\"}},\"shapedefaults\":{\"line\":{\"color\":\"#2a3f5f\"}},\"ternary\":{\"aaxis\":{\"gridcolor\":\"white\",\"linecolor\":\"white\",\"ticks\":\"\"},\"baxis\":{\"gridcolor\":\"white\",\"linecolor\":\"white\",\"ticks\":\"\"},\"bgcolor\":\"#E5ECF6\",\"caxis\":{\"gridcolor\":\"white\",\"linecolor\":\"white\",\"ticks\":\"\"}},\"title\":{\"x\":0.05},\"xaxis\":{\"automargin\":true,\"gridcolor\":\"white\",\"linecolor\":\"white\",\"ticks\":\"\",\"title\":{\"standoff\":15},\"zerolinecolor\":\"white\",\"zerolinewidth\":2},\"yaxis\":{\"automargin\":true,\"gridcolor\":\"white\",\"linecolor\":\"white\",\"ticks\":\"\",\"title\":{\"standoff\":15},\"zerolinecolor\":\"white\",\"zerolinewidth\":2}}},\"title\":{\"text\":\"Labels Distribution\"},\"width\":800,\"xaxis\":{\"title\":{\"text\":\"Attack Name\"}},\"yaxis\":{\"title\":{\"text\":\"Number of attacks\"}}},                        {\"responsive\": true}                    ).then(function(){\n",
       "                            \n",
       "var gd = document.getElementById('e91a4627-5a68-452d-a323-669509c9183a');\n",
       "var x = new MutationObserver(function (mutations, observer) {{\n",
       "        var display = window.getComputedStyle(gd).display;\n",
       "        if (!display || display === 'none') {{\n",
       "            console.log([gd, 'removed!']);\n",
       "            Plotly.purge(gd);\n",
       "            observer.disconnect();\n",
       "        }}\n",
       "}});\n",
       "\n",
       "// Listen for the removal of the full notebook cells\n",
       "var notebookContainer = gd.closest('#notebook-container');\n",
       "if (notebookContainer) {{\n",
       "    x.observe(notebookContainer, {childList: true});\n",
       "}}\n",
       "\n",
       "// Listen for the clearing of the current output cell\n",
       "var outputEl = gd.closest('.output');\n",
       "if (outputEl) {{\n",
       "    x.observe(outputEl, {childList: true});\n",
       "}}\n",
       "\n",
       "                        })                };                });            </script>        </div>"
      ]
     },
     "metadata": {},
     "output_type": "display_data"
    }
   ],
   "source": [
    "showAttackDistribution(rawsData['Label'])\n"
   ]
  },
  {
   "cell_type": "code",
   "execution_count": 59,
   "id": "7bf0fc3b",
   "metadata": {},
   "outputs": [],
   "source": [
    "selectedFeatures = [\n",
    "    # Selected from Benign\n",
    "    'Flow IAT Mean',\n",
    "    'Fwd Pkts/s',\n",
    "    'Flow Duration',\n",
    "    'Flow Byts/s',\n",
    "    'Fwd IAT Mean',\n",
    "    'Bwd Pkts/s',\n",
    "    'Bwd IAT Mean',\n",
    "    'Idle Mean',\n",
    "    'Active Mean',\n",
    "    'Pkt Len Var',\n",
    "    'Pkt Len Mean',\n",
    "    'Pkt Size Avg',\n",
    "    # Selected from WEB\n",
    "    'Fwd IAT Mean',\n",
    "    'Flow Duration',\n",
    "    'Flow IAT Mean',\n",
    "    'Fwd Pkts/s',\n",
    "    'Bwd Pkts/s',\n",
    "    'Flow Byts/s',\n",
    "    'Bwd IAT Mean',\n",
    "    'Pkt Len Var',\n",
    "    'Pkt Len Mean',\n",
    "    'Pkt Size Avg',\n",
    "    'Bwd Pkt Len Mean',\n",
    "    # Selected from XSS\n",
    "    'Flow IAT Mean',\n",
    "    'Fwd IAT Mean',\n",
    "    'Fwd Pkts/s',\n",
    "    'Flow Duration',\n",
    "    'Bwd Pkts/s',\n",
    "    'Flow Byts/s',\n",
    "    'Bwd IAT Mean',\n",
    "    'Pkt Len Var',\n",
    "    'TotLen Bwd Pkts',\n",
    "    'Bwd Pkt Len Mean',\n",
    "    'Pkt Len Mean',\n",
    "    'Pkt Size Avg',\n",
    "    'Bwd Seg Size Avg',\n",
    "    'Subflow Bwd Byts',\n",
    "    # SQL\n",
    "    'Flow Duration',\n",
    "    'Flow IAT Mean',\n",
    "    'Fwd IAT Mean',\n",
    "    'Fwd Pkts/s',\n",
    "    'Bwd Pkts/s',\n",
    "    'Flow Byts/s',\n",
    "    'Bwd IAT Mean',\n",
    "    'Pkt Len Var',\n",
    "    'Bwd Pkt Len Mean',\n",
    "    'Pkt Len Mean',\n",
    "    'Pkt Size Avg',\n",
    "    'Bwd Seg Size Avg',\n",
    "    'Fwd Pkt Len Mean',\n",
    "    'Label'\n",
    "]\n",
    "\n",
    "selectedFeatures = list(set(selectedFeatures))\n"
   ]
  },
  {
   "cell_type": "code",
   "execution_count": 60,
   "id": "7767c903",
   "metadata": {},
   "outputs": [],
   "source": [
    "def getSliceFromRawData():\n",
    "    return rawsData[selectedFeatures].copy()\n"
   ]
  },
  {
   "cell_type": "code",
   "execution_count": 61,
   "id": "38df5297",
   "metadata": {},
   "outputs": [],
   "source": [
    "selectedData = getSliceFromRawData()\n",
    "allDatasetToTest = getSliceFromRawData()\n"
   ]
  },
  {
   "cell_type": "code",
   "execution_count": 62,
   "id": "c51e0cd0",
   "metadata": {},
   "outputs": [
    {
     "name": "stdout",
     "output_type": "stream",
     "text": [
      "<class 'pandas.core.frame.DataFrame'>\n",
      "Int64Index: 769453 entries, 0 to 1048574\n",
      "Data columns (total 18 columns):\n",
      " #   Column            Non-Null Count   Dtype  \n",
      "---  ------            --------------   -----  \n",
      " 0   Active Mean       769453 non-null  float64\n",
      " 1   Subflow Bwd Byts  769453 non-null  int64  \n",
      " 2   Flow IAT Mean     769453 non-null  float64\n",
      " 3   Fwd Pkts/s        769453 non-null  float64\n",
      " 4   Bwd Seg Size Avg  769453 non-null  float64\n",
      " 5   Fwd IAT Mean      769453 non-null  float64\n",
      " 6   Bwd IAT Mean      769453 non-null  float64\n",
      " 7   Pkt Len Var       769453 non-null  float64\n",
      " 8   Bwd Pkts/s        769453 non-null  float64\n",
      " 9   Idle Mean         769453 non-null  float64\n",
      " 10  Pkt Len Mean      769453 non-null  float64\n",
      " 11  Pkt Size Avg      769453 non-null  float64\n",
      " 12  Label             769453 non-null  object \n",
      " 13  Flow Byts/s       769452 non-null  float64\n",
      " 14  TotLen Bwd Pkts   769453 non-null  int64  \n",
      " 15  Fwd Pkt Len Mean  769453 non-null  float64\n",
      " 16  Flow Duration     769453 non-null  int64  \n",
      " 17  Bwd Pkt Len Mean  769453 non-null  float64\n",
      "dtypes: float64(14), int64(3), object(1)\n",
      "memory usage: 111.5+ MB\n"
     ]
    }
   ],
   "source": [
    "withoutDuplicates = selectedData.drop_duplicates().copy()\n",
    "withoutDuplicates.info()\n"
   ]
  },
  {
   "cell_type": "code",
   "execution_count": 63,
   "id": "65640cd4",
   "metadata": {},
   "outputs": [
    {
     "data": {
      "application/vnd.plotly.v1+json": {
       "config": {
        "linkText": "Export to plot.ly",
        "plotlyServerURL": "https://plot.ly",
        "showLink": false
       },
       "data": [
        {
         "name": "Benign",
         "orientation": "v",
         "text": "769114",
         "textposition": "outside",
         "type": "bar",
         "x": [
          "Benign"
         ],
         "y": [
          769114
         ]
        },
        {
         "name": "Brute Force -Web",
         "orientation": "v",
         "text": "226",
         "textposition": "outside",
         "type": "bar",
         "x": [
          "Brute Force -Web"
         ],
         "y": [
          226
         ]
        },
        {
         "name": "Brute Force -XSS",
         "orientation": "v",
         "text": "79",
         "textposition": "outside",
         "type": "bar",
         "x": [
          "Brute Force -XSS"
         ],
         "y": [
          79
         ]
        },
        {
         "name": "SQL Injection",
         "orientation": "v",
         "text": "34",
         "textposition": "outside",
         "type": "bar",
         "x": [
          "SQL Injection"
         ],
         "y": [
          34
         ]
        }
       ],
       "layout": {
        "height": 600,
        "template": {
         "data": {
          "bar": [
           {
            "error_x": {
             "color": "#2a3f5f"
            },
            "error_y": {
             "color": "#2a3f5f"
            },
            "marker": {
             "line": {
              "color": "#E5ECF6",
              "width": 0.5
             },
             "pattern": {
              "fillmode": "overlay",
              "size": 10,
              "solidity": 0.2
             }
            },
            "type": "bar"
           }
          ],
          "barpolar": [
           {
            "marker": {
             "line": {
              "color": "#E5ECF6",
              "width": 0.5
             },
             "pattern": {
              "fillmode": "overlay",
              "size": 10,
              "solidity": 0.2
             }
            },
            "type": "barpolar"
           }
          ],
          "carpet": [
           {
            "aaxis": {
             "endlinecolor": "#2a3f5f",
             "gridcolor": "white",
             "linecolor": "white",
             "minorgridcolor": "white",
             "startlinecolor": "#2a3f5f"
            },
            "baxis": {
             "endlinecolor": "#2a3f5f",
             "gridcolor": "white",
             "linecolor": "white",
             "minorgridcolor": "white",
             "startlinecolor": "#2a3f5f"
            },
            "type": "carpet"
           }
          ],
          "choropleth": [
           {
            "colorbar": {
             "outlinewidth": 0,
             "ticks": ""
            },
            "type": "choropleth"
           }
          ],
          "contour": [
           {
            "colorbar": {
             "outlinewidth": 0,
             "ticks": ""
            },
            "colorscale": [
             [
              0,
              "#0d0887"
             ],
             [
              0.1111111111111111,
              "#46039f"
             ],
             [
              0.2222222222222222,
              "#7201a8"
             ],
             [
              0.3333333333333333,
              "#9c179e"
             ],
             [
              0.4444444444444444,
              "#bd3786"
             ],
             [
              0.5555555555555556,
              "#d8576b"
             ],
             [
              0.6666666666666666,
              "#ed7953"
             ],
             [
              0.7777777777777778,
              "#fb9f3a"
             ],
             [
              0.8888888888888888,
              "#fdca26"
             ],
             [
              1,
              "#f0f921"
             ]
            ],
            "type": "contour"
           }
          ],
          "contourcarpet": [
           {
            "colorbar": {
             "outlinewidth": 0,
             "ticks": ""
            },
            "type": "contourcarpet"
           }
          ],
          "heatmap": [
           {
            "colorbar": {
             "outlinewidth": 0,
             "ticks": ""
            },
            "colorscale": [
             [
              0,
              "#0d0887"
             ],
             [
              0.1111111111111111,
              "#46039f"
             ],
             [
              0.2222222222222222,
              "#7201a8"
             ],
             [
              0.3333333333333333,
              "#9c179e"
             ],
             [
              0.4444444444444444,
              "#bd3786"
             ],
             [
              0.5555555555555556,
              "#d8576b"
             ],
             [
              0.6666666666666666,
              "#ed7953"
             ],
             [
              0.7777777777777778,
              "#fb9f3a"
             ],
             [
              0.8888888888888888,
              "#fdca26"
             ],
             [
              1,
              "#f0f921"
             ]
            ],
            "type": "heatmap"
           }
          ],
          "heatmapgl": [
           {
            "colorbar": {
             "outlinewidth": 0,
             "ticks": ""
            },
            "colorscale": [
             [
              0,
              "#0d0887"
             ],
             [
              0.1111111111111111,
              "#46039f"
             ],
             [
              0.2222222222222222,
              "#7201a8"
             ],
             [
              0.3333333333333333,
              "#9c179e"
             ],
             [
              0.4444444444444444,
              "#bd3786"
             ],
             [
              0.5555555555555556,
              "#d8576b"
             ],
             [
              0.6666666666666666,
              "#ed7953"
             ],
             [
              0.7777777777777778,
              "#fb9f3a"
             ],
             [
              0.8888888888888888,
              "#fdca26"
             ],
             [
              1,
              "#f0f921"
             ]
            ],
            "type": "heatmapgl"
           }
          ],
          "histogram": [
           {
            "marker": {
             "pattern": {
              "fillmode": "overlay",
              "size": 10,
              "solidity": 0.2
             }
            },
            "type": "histogram"
           }
          ],
          "histogram2d": [
           {
            "colorbar": {
             "outlinewidth": 0,
             "ticks": ""
            },
            "colorscale": [
             [
              0,
              "#0d0887"
             ],
             [
              0.1111111111111111,
              "#46039f"
             ],
             [
              0.2222222222222222,
              "#7201a8"
             ],
             [
              0.3333333333333333,
              "#9c179e"
             ],
             [
              0.4444444444444444,
              "#bd3786"
             ],
             [
              0.5555555555555556,
              "#d8576b"
             ],
             [
              0.6666666666666666,
              "#ed7953"
             ],
             [
              0.7777777777777778,
              "#fb9f3a"
             ],
             [
              0.8888888888888888,
              "#fdca26"
             ],
             [
              1,
              "#f0f921"
             ]
            ],
            "type": "histogram2d"
           }
          ],
          "histogram2dcontour": [
           {
            "colorbar": {
             "outlinewidth": 0,
             "ticks": ""
            },
            "colorscale": [
             [
              0,
              "#0d0887"
             ],
             [
              0.1111111111111111,
              "#46039f"
             ],
             [
              0.2222222222222222,
              "#7201a8"
             ],
             [
              0.3333333333333333,
              "#9c179e"
             ],
             [
              0.4444444444444444,
              "#bd3786"
             ],
             [
              0.5555555555555556,
              "#d8576b"
             ],
             [
              0.6666666666666666,
              "#ed7953"
             ],
             [
              0.7777777777777778,
              "#fb9f3a"
             ],
             [
              0.8888888888888888,
              "#fdca26"
             ],
             [
              1,
              "#f0f921"
             ]
            ],
            "type": "histogram2dcontour"
           }
          ],
          "mesh3d": [
           {
            "colorbar": {
             "outlinewidth": 0,
             "ticks": ""
            },
            "type": "mesh3d"
           }
          ],
          "parcoords": [
           {
            "line": {
             "colorbar": {
              "outlinewidth": 0,
              "ticks": ""
             }
            },
            "type": "parcoords"
           }
          ],
          "pie": [
           {
            "automargin": true,
            "type": "pie"
           }
          ],
          "scatter": [
           {
            "marker": {
             "colorbar": {
              "outlinewidth": 0,
              "ticks": ""
             }
            },
            "type": "scatter"
           }
          ],
          "scatter3d": [
           {
            "line": {
             "colorbar": {
              "outlinewidth": 0,
              "ticks": ""
             }
            },
            "marker": {
             "colorbar": {
              "outlinewidth": 0,
              "ticks": ""
             }
            },
            "type": "scatter3d"
           }
          ],
          "scattercarpet": [
           {
            "marker": {
             "colorbar": {
              "outlinewidth": 0,
              "ticks": ""
             }
            },
            "type": "scattercarpet"
           }
          ],
          "scattergeo": [
           {
            "marker": {
             "colorbar": {
              "outlinewidth": 0,
              "ticks": ""
             }
            },
            "type": "scattergeo"
           }
          ],
          "scattergl": [
           {
            "marker": {
             "colorbar": {
              "outlinewidth": 0,
              "ticks": ""
             }
            },
            "type": "scattergl"
           }
          ],
          "scattermapbox": [
           {
            "marker": {
             "colorbar": {
              "outlinewidth": 0,
              "ticks": ""
             }
            },
            "type": "scattermapbox"
           }
          ],
          "scatterpolar": [
           {
            "marker": {
             "colorbar": {
              "outlinewidth": 0,
              "ticks": ""
             }
            },
            "type": "scatterpolar"
           }
          ],
          "scatterpolargl": [
           {
            "marker": {
             "colorbar": {
              "outlinewidth": 0,
              "ticks": ""
             }
            },
            "type": "scatterpolargl"
           }
          ],
          "scatterternary": [
           {
            "marker": {
             "colorbar": {
              "outlinewidth": 0,
              "ticks": ""
             }
            },
            "type": "scatterternary"
           }
          ],
          "surface": [
           {
            "colorbar": {
             "outlinewidth": 0,
             "ticks": ""
            },
            "colorscale": [
             [
              0,
              "#0d0887"
             ],
             [
              0.1111111111111111,
              "#46039f"
             ],
             [
              0.2222222222222222,
              "#7201a8"
             ],
             [
              0.3333333333333333,
              "#9c179e"
             ],
             [
              0.4444444444444444,
              "#bd3786"
             ],
             [
              0.5555555555555556,
              "#d8576b"
             ],
             [
              0.6666666666666666,
              "#ed7953"
             ],
             [
              0.7777777777777778,
              "#fb9f3a"
             ],
             [
              0.8888888888888888,
              "#fdca26"
             ],
             [
              1,
              "#f0f921"
             ]
            ],
            "type": "surface"
           }
          ],
          "table": [
           {
            "cells": {
             "fill": {
              "color": "#EBF0F8"
             },
             "line": {
              "color": "white"
             }
            },
            "header": {
             "fill": {
              "color": "#C8D4E3"
             },
             "line": {
              "color": "white"
             }
            },
            "type": "table"
           }
          ]
         },
         "layout": {
          "annotationdefaults": {
           "arrowcolor": "#2a3f5f",
           "arrowhead": 0,
           "arrowwidth": 1
          },
          "autotypenumbers": "strict",
          "coloraxis": {
           "colorbar": {
            "outlinewidth": 0,
            "ticks": ""
           }
          },
          "colorscale": {
           "diverging": [
            [
             0,
             "#8e0152"
            ],
            [
             0.1,
             "#c51b7d"
            ],
            [
             0.2,
             "#de77ae"
            ],
            [
             0.3,
             "#f1b6da"
            ],
            [
             0.4,
             "#fde0ef"
            ],
            [
             0.5,
             "#f7f7f7"
            ],
            [
             0.6,
             "#e6f5d0"
            ],
            [
             0.7,
             "#b8e186"
            ],
            [
             0.8,
             "#7fbc41"
            ],
            [
             0.9,
             "#4d9221"
            ],
            [
             1,
             "#276419"
            ]
           ],
           "sequential": [
            [
             0,
             "#0d0887"
            ],
            [
             0.1111111111111111,
             "#46039f"
            ],
            [
             0.2222222222222222,
             "#7201a8"
            ],
            [
             0.3333333333333333,
             "#9c179e"
            ],
            [
             0.4444444444444444,
             "#bd3786"
            ],
            [
             0.5555555555555556,
             "#d8576b"
            ],
            [
             0.6666666666666666,
             "#ed7953"
            ],
            [
             0.7777777777777778,
             "#fb9f3a"
            ],
            [
             0.8888888888888888,
             "#fdca26"
            ],
            [
             1,
             "#f0f921"
            ]
           ],
           "sequentialminus": [
            [
             0,
             "#0d0887"
            ],
            [
             0.1111111111111111,
             "#46039f"
            ],
            [
             0.2222222222222222,
             "#7201a8"
            ],
            [
             0.3333333333333333,
             "#9c179e"
            ],
            [
             0.4444444444444444,
             "#bd3786"
            ],
            [
             0.5555555555555556,
             "#d8576b"
            ],
            [
             0.6666666666666666,
             "#ed7953"
            ],
            [
             0.7777777777777778,
             "#fb9f3a"
            ],
            [
             0.8888888888888888,
             "#fdca26"
            ],
            [
             1,
             "#f0f921"
            ]
           ]
          },
          "colorway": [
           "#636efa",
           "#EF553B",
           "#00cc96",
           "#ab63fa",
           "#FFA15A",
           "#19d3f3",
           "#FF6692",
           "#B6E880",
           "#FF97FF",
           "#FECB52"
          ],
          "font": {
           "color": "#2a3f5f"
          },
          "geo": {
           "bgcolor": "white",
           "lakecolor": "white",
           "landcolor": "#E5ECF6",
           "showlakes": true,
           "showland": true,
           "subunitcolor": "white"
          },
          "hoverlabel": {
           "align": "left"
          },
          "hovermode": "closest",
          "mapbox": {
           "style": "light"
          },
          "paper_bgcolor": "white",
          "plot_bgcolor": "#E5ECF6",
          "polar": {
           "angularaxis": {
            "gridcolor": "white",
            "linecolor": "white",
            "ticks": ""
           },
           "bgcolor": "#E5ECF6",
           "radialaxis": {
            "gridcolor": "white",
            "linecolor": "white",
            "ticks": ""
           }
          },
          "scene": {
           "xaxis": {
            "backgroundcolor": "#E5ECF6",
            "gridcolor": "white",
            "gridwidth": 2,
            "linecolor": "white",
            "showbackground": true,
            "ticks": "",
            "zerolinecolor": "white"
           },
           "yaxis": {
            "backgroundcolor": "#E5ECF6",
            "gridcolor": "white",
            "gridwidth": 2,
            "linecolor": "white",
            "showbackground": true,
            "ticks": "",
            "zerolinecolor": "white"
           },
           "zaxis": {
            "backgroundcolor": "#E5ECF6",
            "gridcolor": "white",
            "gridwidth": 2,
            "linecolor": "white",
            "showbackground": true,
            "ticks": "",
            "zerolinecolor": "white"
           }
          },
          "shapedefaults": {
           "line": {
            "color": "#2a3f5f"
           }
          },
          "ternary": {
           "aaxis": {
            "gridcolor": "white",
            "linecolor": "white",
            "ticks": ""
           },
           "baxis": {
            "gridcolor": "white",
            "linecolor": "white",
            "ticks": ""
           },
           "bgcolor": "#E5ECF6",
           "caxis": {
            "gridcolor": "white",
            "linecolor": "white",
            "ticks": ""
           }
          },
          "title": {
           "x": 0.05
          },
          "xaxis": {
           "automargin": true,
           "gridcolor": "white",
           "linecolor": "white",
           "ticks": "",
           "title": {
            "standoff": 15
           },
           "zerolinecolor": "white",
           "zerolinewidth": 2
          },
          "yaxis": {
           "automargin": true,
           "gridcolor": "white",
           "linecolor": "white",
           "ticks": "",
           "title": {
            "standoff": 15
           },
           "zerolinecolor": "white",
           "zerolinewidth": 2
          }
         }
        },
        "title": {
         "text": "Labels Distribution"
        },
        "width": 800,
        "xaxis": {
         "title": {
          "text": "Attack Name"
         }
        },
        "yaxis": {
         "title": {
          "text": "Number of attacks"
         }
        }
       }
      },
      "text/html": [
       "<div>                            <div id=\"6ab4eb93-510e-4d43-b991-f57a227e3d85\" class=\"plotly-graph-div\" style=\"height:600px; width:800px;\"></div>            <script type=\"text/javascript\">                require([\"plotly\"], function(Plotly) {                    window.PLOTLYENV=window.PLOTLYENV || {};                                    if (document.getElementById(\"6ab4eb93-510e-4d43-b991-f57a227e3d85\")) {                    Plotly.newPlot(                        \"6ab4eb93-510e-4d43-b991-f57a227e3d85\",                        [{\"name\":\"Benign\",\"orientation\":\"v\",\"text\":\"769114\",\"textposition\":\"outside\",\"x\":[\"Benign\"],\"y\":[769114],\"type\":\"bar\"},{\"name\":\"Brute Force -Web\",\"orientation\":\"v\",\"text\":\"226\",\"textposition\":\"outside\",\"x\":[\"Brute Force -Web\"],\"y\":[226],\"type\":\"bar\"},{\"name\":\"Brute Force -XSS\",\"orientation\":\"v\",\"text\":\"79\",\"textposition\":\"outside\",\"x\":[\"Brute Force -XSS\"],\"y\":[79],\"type\":\"bar\"},{\"name\":\"SQL Injection\",\"orientation\":\"v\",\"text\":\"34\",\"textposition\":\"outside\",\"x\":[\"SQL Injection\"],\"y\":[34],\"type\":\"bar\"}],                        {\"height\":600,\"template\":{\"data\":{\"barpolar\":[{\"marker\":{\"line\":{\"color\":\"#E5ECF6\",\"width\":0.5},\"pattern\":{\"fillmode\":\"overlay\",\"size\":10,\"solidity\":0.2}},\"type\":\"barpolar\"}],\"bar\":[{\"error_x\":{\"color\":\"#2a3f5f\"},\"error_y\":{\"color\":\"#2a3f5f\"},\"marker\":{\"line\":{\"color\":\"#E5ECF6\",\"width\":0.5},\"pattern\":{\"fillmode\":\"overlay\",\"size\":10,\"solidity\":0.2}},\"type\":\"bar\"}],\"carpet\":[{\"aaxis\":{\"endlinecolor\":\"#2a3f5f\",\"gridcolor\":\"white\",\"linecolor\":\"white\",\"minorgridcolor\":\"white\",\"startlinecolor\":\"#2a3f5f\"},\"baxis\":{\"endlinecolor\":\"#2a3f5f\",\"gridcolor\":\"white\",\"linecolor\":\"white\",\"minorgridcolor\":\"white\",\"startlinecolor\":\"#2a3f5f\"},\"type\":\"carpet\"}],\"choropleth\":[{\"colorbar\":{\"outlinewidth\":0,\"ticks\":\"\"},\"type\":\"choropleth\"}],\"contourcarpet\":[{\"colorbar\":{\"outlinewidth\":0,\"ticks\":\"\"},\"type\":\"contourcarpet\"}],\"contour\":[{\"colorbar\":{\"outlinewidth\":0,\"ticks\":\"\"},\"colorscale\":[[0.0,\"#0d0887\"],[0.1111111111111111,\"#46039f\"],[0.2222222222222222,\"#7201a8\"],[0.3333333333333333,\"#9c179e\"],[0.4444444444444444,\"#bd3786\"],[0.5555555555555556,\"#d8576b\"],[0.6666666666666666,\"#ed7953\"],[0.7777777777777778,\"#fb9f3a\"],[0.8888888888888888,\"#fdca26\"],[1.0,\"#f0f921\"]],\"type\":\"contour\"}],\"heatmapgl\":[{\"colorbar\":{\"outlinewidth\":0,\"ticks\":\"\"},\"colorscale\":[[0.0,\"#0d0887\"],[0.1111111111111111,\"#46039f\"],[0.2222222222222222,\"#7201a8\"],[0.3333333333333333,\"#9c179e\"],[0.4444444444444444,\"#bd3786\"],[0.5555555555555556,\"#d8576b\"],[0.6666666666666666,\"#ed7953\"],[0.7777777777777778,\"#fb9f3a\"],[0.8888888888888888,\"#fdca26\"],[1.0,\"#f0f921\"]],\"type\":\"heatmapgl\"}],\"heatmap\":[{\"colorbar\":{\"outlinewidth\":0,\"ticks\":\"\"},\"colorscale\":[[0.0,\"#0d0887\"],[0.1111111111111111,\"#46039f\"],[0.2222222222222222,\"#7201a8\"],[0.3333333333333333,\"#9c179e\"],[0.4444444444444444,\"#bd3786\"],[0.5555555555555556,\"#d8576b\"],[0.6666666666666666,\"#ed7953\"],[0.7777777777777778,\"#fb9f3a\"],[0.8888888888888888,\"#fdca26\"],[1.0,\"#f0f921\"]],\"type\":\"heatmap\"}],\"histogram2dcontour\":[{\"colorbar\":{\"outlinewidth\":0,\"ticks\":\"\"},\"colorscale\":[[0.0,\"#0d0887\"],[0.1111111111111111,\"#46039f\"],[0.2222222222222222,\"#7201a8\"],[0.3333333333333333,\"#9c179e\"],[0.4444444444444444,\"#bd3786\"],[0.5555555555555556,\"#d8576b\"],[0.6666666666666666,\"#ed7953\"],[0.7777777777777778,\"#fb9f3a\"],[0.8888888888888888,\"#fdca26\"],[1.0,\"#f0f921\"]],\"type\":\"histogram2dcontour\"}],\"histogram2d\":[{\"colorbar\":{\"outlinewidth\":0,\"ticks\":\"\"},\"colorscale\":[[0.0,\"#0d0887\"],[0.1111111111111111,\"#46039f\"],[0.2222222222222222,\"#7201a8\"],[0.3333333333333333,\"#9c179e\"],[0.4444444444444444,\"#bd3786\"],[0.5555555555555556,\"#d8576b\"],[0.6666666666666666,\"#ed7953\"],[0.7777777777777778,\"#fb9f3a\"],[0.8888888888888888,\"#fdca26\"],[1.0,\"#f0f921\"]],\"type\":\"histogram2d\"}],\"histogram\":[{\"marker\":{\"pattern\":{\"fillmode\":\"overlay\",\"size\":10,\"solidity\":0.2}},\"type\":\"histogram\"}],\"mesh3d\":[{\"colorbar\":{\"outlinewidth\":0,\"ticks\":\"\"},\"type\":\"mesh3d\"}],\"parcoords\":[{\"line\":{\"colorbar\":{\"outlinewidth\":0,\"ticks\":\"\"}},\"type\":\"parcoords\"}],\"pie\":[{\"automargin\":true,\"type\":\"pie\"}],\"scatter3d\":[{\"line\":{\"colorbar\":{\"outlinewidth\":0,\"ticks\":\"\"}},\"marker\":{\"colorbar\":{\"outlinewidth\":0,\"ticks\":\"\"}},\"type\":\"scatter3d\"}],\"scattercarpet\":[{\"marker\":{\"colorbar\":{\"outlinewidth\":0,\"ticks\":\"\"}},\"type\":\"scattercarpet\"}],\"scattergeo\":[{\"marker\":{\"colorbar\":{\"outlinewidth\":0,\"ticks\":\"\"}},\"type\":\"scattergeo\"}],\"scattergl\":[{\"marker\":{\"colorbar\":{\"outlinewidth\":0,\"ticks\":\"\"}},\"type\":\"scattergl\"}],\"scattermapbox\":[{\"marker\":{\"colorbar\":{\"outlinewidth\":0,\"ticks\":\"\"}},\"type\":\"scattermapbox\"}],\"scatterpolargl\":[{\"marker\":{\"colorbar\":{\"outlinewidth\":0,\"ticks\":\"\"}},\"type\":\"scatterpolargl\"}],\"scatterpolar\":[{\"marker\":{\"colorbar\":{\"outlinewidth\":0,\"ticks\":\"\"}},\"type\":\"scatterpolar\"}],\"scatter\":[{\"marker\":{\"colorbar\":{\"outlinewidth\":0,\"ticks\":\"\"}},\"type\":\"scatter\"}],\"scatterternary\":[{\"marker\":{\"colorbar\":{\"outlinewidth\":0,\"ticks\":\"\"}},\"type\":\"scatterternary\"}],\"surface\":[{\"colorbar\":{\"outlinewidth\":0,\"ticks\":\"\"},\"colorscale\":[[0.0,\"#0d0887\"],[0.1111111111111111,\"#46039f\"],[0.2222222222222222,\"#7201a8\"],[0.3333333333333333,\"#9c179e\"],[0.4444444444444444,\"#bd3786\"],[0.5555555555555556,\"#d8576b\"],[0.6666666666666666,\"#ed7953\"],[0.7777777777777778,\"#fb9f3a\"],[0.8888888888888888,\"#fdca26\"],[1.0,\"#f0f921\"]],\"type\":\"surface\"}],\"table\":[{\"cells\":{\"fill\":{\"color\":\"#EBF0F8\"},\"line\":{\"color\":\"white\"}},\"header\":{\"fill\":{\"color\":\"#C8D4E3\"},\"line\":{\"color\":\"white\"}},\"type\":\"table\"}]},\"layout\":{\"annotationdefaults\":{\"arrowcolor\":\"#2a3f5f\",\"arrowhead\":0,\"arrowwidth\":1},\"autotypenumbers\":\"strict\",\"coloraxis\":{\"colorbar\":{\"outlinewidth\":0,\"ticks\":\"\"}},\"colorscale\":{\"diverging\":[[0,\"#8e0152\"],[0.1,\"#c51b7d\"],[0.2,\"#de77ae\"],[0.3,\"#f1b6da\"],[0.4,\"#fde0ef\"],[0.5,\"#f7f7f7\"],[0.6,\"#e6f5d0\"],[0.7,\"#b8e186\"],[0.8,\"#7fbc41\"],[0.9,\"#4d9221\"],[1,\"#276419\"]],\"sequential\":[[0.0,\"#0d0887\"],[0.1111111111111111,\"#46039f\"],[0.2222222222222222,\"#7201a8\"],[0.3333333333333333,\"#9c179e\"],[0.4444444444444444,\"#bd3786\"],[0.5555555555555556,\"#d8576b\"],[0.6666666666666666,\"#ed7953\"],[0.7777777777777778,\"#fb9f3a\"],[0.8888888888888888,\"#fdca26\"],[1.0,\"#f0f921\"]],\"sequentialminus\":[[0.0,\"#0d0887\"],[0.1111111111111111,\"#46039f\"],[0.2222222222222222,\"#7201a8\"],[0.3333333333333333,\"#9c179e\"],[0.4444444444444444,\"#bd3786\"],[0.5555555555555556,\"#d8576b\"],[0.6666666666666666,\"#ed7953\"],[0.7777777777777778,\"#fb9f3a\"],[0.8888888888888888,\"#fdca26\"],[1.0,\"#f0f921\"]]},\"colorway\":[\"#636efa\",\"#EF553B\",\"#00cc96\",\"#ab63fa\",\"#FFA15A\",\"#19d3f3\",\"#FF6692\",\"#B6E880\",\"#FF97FF\",\"#FECB52\"],\"font\":{\"color\":\"#2a3f5f\"},\"geo\":{\"bgcolor\":\"white\",\"lakecolor\":\"white\",\"landcolor\":\"#E5ECF6\",\"showlakes\":true,\"showland\":true,\"subunitcolor\":\"white\"},\"hoverlabel\":{\"align\":\"left\"},\"hovermode\":\"closest\",\"mapbox\":{\"style\":\"light\"},\"paper_bgcolor\":\"white\",\"plot_bgcolor\":\"#E5ECF6\",\"polar\":{\"angularaxis\":{\"gridcolor\":\"white\",\"linecolor\":\"white\",\"ticks\":\"\"},\"bgcolor\":\"#E5ECF6\",\"radialaxis\":{\"gridcolor\":\"white\",\"linecolor\":\"white\",\"ticks\":\"\"}},\"scene\":{\"xaxis\":{\"backgroundcolor\":\"#E5ECF6\",\"gridcolor\":\"white\",\"gridwidth\":2,\"linecolor\":\"white\",\"showbackground\":true,\"ticks\":\"\",\"zerolinecolor\":\"white\"},\"yaxis\":{\"backgroundcolor\":\"#E5ECF6\",\"gridcolor\":\"white\",\"gridwidth\":2,\"linecolor\":\"white\",\"showbackground\":true,\"ticks\":\"\",\"zerolinecolor\":\"white\"},\"zaxis\":{\"backgroundcolor\":\"#E5ECF6\",\"gridcolor\":\"white\",\"gridwidth\":2,\"linecolor\":\"white\",\"showbackground\":true,\"ticks\":\"\",\"zerolinecolor\":\"white\"}},\"shapedefaults\":{\"line\":{\"color\":\"#2a3f5f\"}},\"ternary\":{\"aaxis\":{\"gridcolor\":\"white\",\"linecolor\":\"white\",\"ticks\":\"\"},\"baxis\":{\"gridcolor\":\"white\",\"linecolor\":\"white\",\"ticks\":\"\"},\"bgcolor\":\"#E5ECF6\",\"caxis\":{\"gridcolor\":\"white\",\"linecolor\":\"white\",\"ticks\":\"\"}},\"title\":{\"x\":0.05},\"xaxis\":{\"automargin\":true,\"gridcolor\":\"white\",\"linecolor\":\"white\",\"ticks\":\"\",\"title\":{\"standoff\":15},\"zerolinecolor\":\"white\",\"zerolinewidth\":2},\"yaxis\":{\"automargin\":true,\"gridcolor\":\"white\",\"linecolor\":\"white\",\"ticks\":\"\",\"title\":{\"standoff\":15},\"zerolinecolor\":\"white\",\"zerolinewidth\":2}}},\"title\":{\"text\":\"Labels Distribution\"},\"width\":800,\"xaxis\":{\"title\":{\"text\":\"Attack Name\"}},\"yaxis\":{\"title\":{\"text\":\"Number of attacks\"}}},                        {\"responsive\": true}                    ).then(function(){\n",
       "                            \n",
       "var gd = document.getElementById('6ab4eb93-510e-4d43-b991-f57a227e3d85');\n",
       "var x = new MutationObserver(function (mutations, observer) {{\n",
       "        var display = window.getComputedStyle(gd).display;\n",
       "        if (!display || display === 'none') {{\n",
       "            console.log([gd, 'removed!']);\n",
       "            Plotly.purge(gd);\n",
       "            observer.disconnect();\n",
       "        }}\n",
       "}});\n",
       "\n",
       "// Listen for the removal of the full notebook cells\n",
       "var notebookContainer = gd.closest('#notebook-container');\n",
       "if (notebookContainer) {{\n",
       "    x.observe(notebookContainer, {childList: true});\n",
       "}}\n",
       "\n",
       "// Listen for the clearing of the current output cell\n",
       "var outputEl = gd.closest('.output');\n",
       "if (outputEl) {{\n",
       "    x.observe(outputEl, {childList: true});\n",
       "}}\n",
       "\n",
       "                        })                };                });            </script>        </div>"
      ]
     },
     "metadata": {},
     "output_type": "display_data"
    }
   ],
   "source": [
    "showAttackDistribution(withoutDuplicates[LABEL])\n"
   ]
  },
  {
   "cell_type": "code",
   "execution_count": 64,
   "id": "51a59d37",
   "metadata": {},
   "outputs": [],
   "source": [
    "def shortData(data, benignCount, webCount, xssCount, sqlCount):\n",
    "    shortedNormal = data[data[LABEL] ==\n",
    "                         NORMAL].sample(benignCount, ignore_index=True, random_state=32)\n",
    "    shortedWeb = data[data[LABEL] == WEB].sample(\n",
    "        webCount, ignore_index=True, random_state=32)\n",
    "    shortedXss = data[data[LABEL] == XSS].sample(\n",
    "        xssCount, ignore_index=True, random_state=32)\n",
    "    shortedSql = data[data[LABEL] == SQL].sample(\n",
    "        sqlCount, ignore_index=True, random_state=32)\n",
    "    return pd.concat([shortedNormal, shortedWeb, shortedXss, shortedSql], axis=0)\n"
   ]
  },
  {
   "cell_type": "code",
   "execution_count": 65,
   "id": "941ce6dd",
   "metadata": {},
   "outputs": [
    {
     "data": {
      "application/vnd.plotly.v1+json": {
       "config": {
        "linkText": "Export to plot.ly",
        "plotlyServerURL": "https://plot.ly",
        "showLink": false
       },
       "data": [
        {
         "name": "Benign",
         "orientation": "v",
         "text": "100000",
         "textposition": "outside",
         "type": "bar",
         "x": [
          "Benign"
         ],
         "y": [
          100000
         ]
        },
        {
         "name": "Brute Force -Web",
         "orientation": "v",
         "text": "113",
         "textposition": "outside",
         "type": "bar",
         "x": [
          "Brute Force -Web"
         ],
         "y": [
          113
         ]
        },
        {
         "name": "Brute Force -XSS",
         "orientation": "v",
         "text": "40",
         "textposition": "outside",
         "type": "bar",
         "x": [
          "Brute Force -XSS"
         ],
         "y": [
          40
         ]
        },
        {
         "name": "SQL Injection",
         "orientation": "v",
         "text": "17",
         "textposition": "outside",
         "type": "bar",
         "x": [
          "SQL Injection"
         ],
         "y": [
          17
         ]
        }
       ],
       "layout": {
        "height": 600,
        "template": {
         "data": {
          "bar": [
           {
            "error_x": {
             "color": "#2a3f5f"
            },
            "error_y": {
             "color": "#2a3f5f"
            },
            "marker": {
             "line": {
              "color": "#E5ECF6",
              "width": 0.5
             },
             "pattern": {
              "fillmode": "overlay",
              "size": 10,
              "solidity": 0.2
             }
            },
            "type": "bar"
           }
          ],
          "barpolar": [
           {
            "marker": {
             "line": {
              "color": "#E5ECF6",
              "width": 0.5
             },
             "pattern": {
              "fillmode": "overlay",
              "size": 10,
              "solidity": 0.2
             }
            },
            "type": "barpolar"
           }
          ],
          "carpet": [
           {
            "aaxis": {
             "endlinecolor": "#2a3f5f",
             "gridcolor": "white",
             "linecolor": "white",
             "minorgridcolor": "white",
             "startlinecolor": "#2a3f5f"
            },
            "baxis": {
             "endlinecolor": "#2a3f5f",
             "gridcolor": "white",
             "linecolor": "white",
             "minorgridcolor": "white",
             "startlinecolor": "#2a3f5f"
            },
            "type": "carpet"
           }
          ],
          "choropleth": [
           {
            "colorbar": {
             "outlinewidth": 0,
             "ticks": ""
            },
            "type": "choropleth"
           }
          ],
          "contour": [
           {
            "colorbar": {
             "outlinewidth": 0,
             "ticks": ""
            },
            "colorscale": [
             [
              0,
              "#0d0887"
             ],
             [
              0.1111111111111111,
              "#46039f"
             ],
             [
              0.2222222222222222,
              "#7201a8"
             ],
             [
              0.3333333333333333,
              "#9c179e"
             ],
             [
              0.4444444444444444,
              "#bd3786"
             ],
             [
              0.5555555555555556,
              "#d8576b"
             ],
             [
              0.6666666666666666,
              "#ed7953"
             ],
             [
              0.7777777777777778,
              "#fb9f3a"
             ],
             [
              0.8888888888888888,
              "#fdca26"
             ],
             [
              1,
              "#f0f921"
             ]
            ],
            "type": "contour"
           }
          ],
          "contourcarpet": [
           {
            "colorbar": {
             "outlinewidth": 0,
             "ticks": ""
            },
            "type": "contourcarpet"
           }
          ],
          "heatmap": [
           {
            "colorbar": {
             "outlinewidth": 0,
             "ticks": ""
            },
            "colorscale": [
             [
              0,
              "#0d0887"
             ],
             [
              0.1111111111111111,
              "#46039f"
             ],
             [
              0.2222222222222222,
              "#7201a8"
             ],
             [
              0.3333333333333333,
              "#9c179e"
             ],
             [
              0.4444444444444444,
              "#bd3786"
             ],
             [
              0.5555555555555556,
              "#d8576b"
             ],
             [
              0.6666666666666666,
              "#ed7953"
             ],
             [
              0.7777777777777778,
              "#fb9f3a"
             ],
             [
              0.8888888888888888,
              "#fdca26"
             ],
             [
              1,
              "#f0f921"
             ]
            ],
            "type": "heatmap"
           }
          ],
          "heatmapgl": [
           {
            "colorbar": {
             "outlinewidth": 0,
             "ticks": ""
            },
            "colorscale": [
             [
              0,
              "#0d0887"
             ],
             [
              0.1111111111111111,
              "#46039f"
             ],
             [
              0.2222222222222222,
              "#7201a8"
             ],
             [
              0.3333333333333333,
              "#9c179e"
             ],
             [
              0.4444444444444444,
              "#bd3786"
             ],
             [
              0.5555555555555556,
              "#d8576b"
             ],
             [
              0.6666666666666666,
              "#ed7953"
             ],
             [
              0.7777777777777778,
              "#fb9f3a"
             ],
             [
              0.8888888888888888,
              "#fdca26"
             ],
             [
              1,
              "#f0f921"
             ]
            ],
            "type": "heatmapgl"
           }
          ],
          "histogram": [
           {
            "marker": {
             "pattern": {
              "fillmode": "overlay",
              "size": 10,
              "solidity": 0.2
             }
            },
            "type": "histogram"
           }
          ],
          "histogram2d": [
           {
            "colorbar": {
             "outlinewidth": 0,
             "ticks": ""
            },
            "colorscale": [
             [
              0,
              "#0d0887"
             ],
             [
              0.1111111111111111,
              "#46039f"
             ],
             [
              0.2222222222222222,
              "#7201a8"
             ],
             [
              0.3333333333333333,
              "#9c179e"
             ],
             [
              0.4444444444444444,
              "#bd3786"
             ],
             [
              0.5555555555555556,
              "#d8576b"
             ],
             [
              0.6666666666666666,
              "#ed7953"
             ],
             [
              0.7777777777777778,
              "#fb9f3a"
             ],
             [
              0.8888888888888888,
              "#fdca26"
             ],
             [
              1,
              "#f0f921"
             ]
            ],
            "type": "histogram2d"
           }
          ],
          "histogram2dcontour": [
           {
            "colorbar": {
             "outlinewidth": 0,
             "ticks": ""
            },
            "colorscale": [
             [
              0,
              "#0d0887"
             ],
             [
              0.1111111111111111,
              "#46039f"
             ],
             [
              0.2222222222222222,
              "#7201a8"
             ],
             [
              0.3333333333333333,
              "#9c179e"
             ],
             [
              0.4444444444444444,
              "#bd3786"
             ],
             [
              0.5555555555555556,
              "#d8576b"
             ],
             [
              0.6666666666666666,
              "#ed7953"
             ],
             [
              0.7777777777777778,
              "#fb9f3a"
             ],
             [
              0.8888888888888888,
              "#fdca26"
             ],
             [
              1,
              "#f0f921"
             ]
            ],
            "type": "histogram2dcontour"
           }
          ],
          "mesh3d": [
           {
            "colorbar": {
             "outlinewidth": 0,
             "ticks": ""
            },
            "type": "mesh3d"
           }
          ],
          "parcoords": [
           {
            "line": {
             "colorbar": {
              "outlinewidth": 0,
              "ticks": ""
             }
            },
            "type": "parcoords"
           }
          ],
          "pie": [
           {
            "automargin": true,
            "type": "pie"
           }
          ],
          "scatter": [
           {
            "marker": {
             "colorbar": {
              "outlinewidth": 0,
              "ticks": ""
             }
            },
            "type": "scatter"
           }
          ],
          "scatter3d": [
           {
            "line": {
             "colorbar": {
              "outlinewidth": 0,
              "ticks": ""
             }
            },
            "marker": {
             "colorbar": {
              "outlinewidth": 0,
              "ticks": ""
             }
            },
            "type": "scatter3d"
           }
          ],
          "scattercarpet": [
           {
            "marker": {
             "colorbar": {
              "outlinewidth": 0,
              "ticks": ""
             }
            },
            "type": "scattercarpet"
           }
          ],
          "scattergeo": [
           {
            "marker": {
             "colorbar": {
              "outlinewidth": 0,
              "ticks": ""
             }
            },
            "type": "scattergeo"
           }
          ],
          "scattergl": [
           {
            "marker": {
             "colorbar": {
              "outlinewidth": 0,
              "ticks": ""
             }
            },
            "type": "scattergl"
           }
          ],
          "scattermapbox": [
           {
            "marker": {
             "colorbar": {
              "outlinewidth": 0,
              "ticks": ""
             }
            },
            "type": "scattermapbox"
           }
          ],
          "scatterpolar": [
           {
            "marker": {
             "colorbar": {
              "outlinewidth": 0,
              "ticks": ""
             }
            },
            "type": "scatterpolar"
           }
          ],
          "scatterpolargl": [
           {
            "marker": {
             "colorbar": {
              "outlinewidth": 0,
              "ticks": ""
             }
            },
            "type": "scatterpolargl"
           }
          ],
          "scatterternary": [
           {
            "marker": {
             "colorbar": {
              "outlinewidth": 0,
              "ticks": ""
             }
            },
            "type": "scatterternary"
           }
          ],
          "surface": [
           {
            "colorbar": {
             "outlinewidth": 0,
             "ticks": ""
            },
            "colorscale": [
             [
              0,
              "#0d0887"
             ],
             [
              0.1111111111111111,
              "#46039f"
             ],
             [
              0.2222222222222222,
              "#7201a8"
             ],
             [
              0.3333333333333333,
              "#9c179e"
             ],
             [
              0.4444444444444444,
              "#bd3786"
             ],
             [
              0.5555555555555556,
              "#d8576b"
             ],
             [
              0.6666666666666666,
              "#ed7953"
             ],
             [
              0.7777777777777778,
              "#fb9f3a"
             ],
             [
              0.8888888888888888,
              "#fdca26"
             ],
             [
              1,
              "#f0f921"
             ]
            ],
            "type": "surface"
           }
          ],
          "table": [
           {
            "cells": {
             "fill": {
              "color": "#EBF0F8"
             },
             "line": {
              "color": "white"
             }
            },
            "header": {
             "fill": {
              "color": "#C8D4E3"
             },
             "line": {
              "color": "white"
             }
            },
            "type": "table"
           }
          ]
         },
         "layout": {
          "annotationdefaults": {
           "arrowcolor": "#2a3f5f",
           "arrowhead": 0,
           "arrowwidth": 1
          },
          "autotypenumbers": "strict",
          "coloraxis": {
           "colorbar": {
            "outlinewidth": 0,
            "ticks": ""
           }
          },
          "colorscale": {
           "diverging": [
            [
             0,
             "#8e0152"
            ],
            [
             0.1,
             "#c51b7d"
            ],
            [
             0.2,
             "#de77ae"
            ],
            [
             0.3,
             "#f1b6da"
            ],
            [
             0.4,
             "#fde0ef"
            ],
            [
             0.5,
             "#f7f7f7"
            ],
            [
             0.6,
             "#e6f5d0"
            ],
            [
             0.7,
             "#b8e186"
            ],
            [
             0.8,
             "#7fbc41"
            ],
            [
             0.9,
             "#4d9221"
            ],
            [
             1,
             "#276419"
            ]
           ],
           "sequential": [
            [
             0,
             "#0d0887"
            ],
            [
             0.1111111111111111,
             "#46039f"
            ],
            [
             0.2222222222222222,
             "#7201a8"
            ],
            [
             0.3333333333333333,
             "#9c179e"
            ],
            [
             0.4444444444444444,
             "#bd3786"
            ],
            [
             0.5555555555555556,
             "#d8576b"
            ],
            [
             0.6666666666666666,
             "#ed7953"
            ],
            [
             0.7777777777777778,
             "#fb9f3a"
            ],
            [
             0.8888888888888888,
             "#fdca26"
            ],
            [
             1,
             "#f0f921"
            ]
           ],
           "sequentialminus": [
            [
             0,
             "#0d0887"
            ],
            [
             0.1111111111111111,
             "#46039f"
            ],
            [
             0.2222222222222222,
             "#7201a8"
            ],
            [
             0.3333333333333333,
             "#9c179e"
            ],
            [
             0.4444444444444444,
             "#bd3786"
            ],
            [
             0.5555555555555556,
             "#d8576b"
            ],
            [
             0.6666666666666666,
             "#ed7953"
            ],
            [
             0.7777777777777778,
             "#fb9f3a"
            ],
            [
             0.8888888888888888,
             "#fdca26"
            ],
            [
             1,
             "#f0f921"
            ]
           ]
          },
          "colorway": [
           "#636efa",
           "#EF553B",
           "#00cc96",
           "#ab63fa",
           "#FFA15A",
           "#19d3f3",
           "#FF6692",
           "#B6E880",
           "#FF97FF",
           "#FECB52"
          ],
          "font": {
           "color": "#2a3f5f"
          },
          "geo": {
           "bgcolor": "white",
           "lakecolor": "white",
           "landcolor": "#E5ECF6",
           "showlakes": true,
           "showland": true,
           "subunitcolor": "white"
          },
          "hoverlabel": {
           "align": "left"
          },
          "hovermode": "closest",
          "mapbox": {
           "style": "light"
          },
          "paper_bgcolor": "white",
          "plot_bgcolor": "#E5ECF6",
          "polar": {
           "angularaxis": {
            "gridcolor": "white",
            "linecolor": "white",
            "ticks": ""
           },
           "bgcolor": "#E5ECF6",
           "radialaxis": {
            "gridcolor": "white",
            "linecolor": "white",
            "ticks": ""
           }
          },
          "scene": {
           "xaxis": {
            "backgroundcolor": "#E5ECF6",
            "gridcolor": "white",
            "gridwidth": 2,
            "linecolor": "white",
            "showbackground": true,
            "ticks": "",
            "zerolinecolor": "white"
           },
           "yaxis": {
            "backgroundcolor": "#E5ECF6",
            "gridcolor": "white",
            "gridwidth": 2,
            "linecolor": "white",
            "showbackground": true,
            "ticks": "",
            "zerolinecolor": "white"
           },
           "zaxis": {
            "backgroundcolor": "#E5ECF6",
            "gridcolor": "white",
            "gridwidth": 2,
            "linecolor": "white",
            "showbackground": true,
            "ticks": "",
            "zerolinecolor": "white"
           }
          },
          "shapedefaults": {
           "line": {
            "color": "#2a3f5f"
           }
          },
          "ternary": {
           "aaxis": {
            "gridcolor": "white",
            "linecolor": "white",
            "ticks": ""
           },
           "baxis": {
            "gridcolor": "white",
            "linecolor": "white",
            "ticks": ""
           },
           "bgcolor": "#E5ECF6",
           "caxis": {
            "gridcolor": "white",
            "linecolor": "white",
            "ticks": ""
           }
          },
          "title": {
           "x": 0.05
          },
          "xaxis": {
           "automargin": true,
           "gridcolor": "white",
           "linecolor": "white",
           "ticks": "",
           "title": {
            "standoff": 15
           },
           "zerolinecolor": "white",
           "zerolinewidth": 2
          },
          "yaxis": {
           "automargin": true,
           "gridcolor": "white",
           "linecolor": "white",
           "ticks": "",
           "title": {
            "standoff": 15
           },
           "zerolinecolor": "white",
           "zerolinewidth": 2
          }
         }
        },
        "title": {
         "text": "Labels Distribution"
        },
        "width": 800,
        "xaxis": {
         "title": {
          "text": "Attack Name"
         }
        },
        "yaxis": {
         "title": {
          "text": "Number of attacks"
         }
        }
       }
      },
      "text/html": [
       "<div>                            <div id=\"651bb061-0940-444c-afa0-9b9b8b2f3789\" class=\"plotly-graph-div\" style=\"height:600px; width:800px;\"></div>            <script type=\"text/javascript\">                require([\"plotly\"], function(Plotly) {                    window.PLOTLYENV=window.PLOTLYENV || {};                                    if (document.getElementById(\"651bb061-0940-444c-afa0-9b9b8b2f3789\")) {                    Plotly.newPlot(                        \"651bb061-0940-444c-afa0-9b9b8b2f3789\",                        [{\"name\":\"Benign\",\"orientation\":\"v\",\"text\":\"100000\",\"textposition\":\"outside\",\"x\":[\"Benign\"],\"y\":[100000],\"type\":\"bar\"},{\"name\":\"Brute Force -Web\",\"orientation\":\"v\",\"text\":\"113\",\"textposition\":\"outside\",\"x\":[\"Brute Force -Web\"],\"y\":[113],\"type\":\"bar\"},{\"name\":\"Brute Force -XSS\",\"orientation\":\"v\",\"text\":\"40\",\"textposition\":\"outside\",\"x\":[\"Brute Force -XSS\"],\"y\":[40],\"type\":\"bar\"},{\"name\":\"SQL Injection\",\"orientation\":\"v\",\"text\":\"17\",\"textposition\":\"outside\",\"x\":[\"SQL Injection\"],\"y\":[17],\"type\":\"bar\"}],                        {\"height\":600,\"template\":{\"data\":{\"barpolar\":[{\"marker\":{\"line\":{\"color\":\"#E5ECF6\",\"width\":0.5},\"pattern\":{\"fillmode\":\"overlay\",\"size\":10,\"solidity\":0.2}},\"type\":\"barpolar\"}],\"bar\":[{\"error_x\":{\"color\":\"#2a3f5f\"},\"error_y\":{\"color\":\"#2a3f5f\"},\"marker\":{\"line\":{\"color\":\"#E5ECF6\",\"width\":0.5},\"pattern\":{\"fillmode\":\"overlay\",\"size\":10,\"solidity\":0.2}},\"type\":\"bar\"}],\"carpet\":[{\"aaxis\":{\"endlinecolor\":\"#2a3f5f\",\"gridcolor\":\"white\",\"linecolor\":\"white\",\"minorgridcolor\":\"white\",\"startlinecolor\":\"#2a3f5f\"},\"baxis\":{\"endlinecolor\":\"#2a3f5f\",\"gridcolor\":\"white\",\"linecolor\":\"white\",\"minorgridcolor\":\"white\",\"startlinecolor\":\"#2a3f5f\"},\"type\":\"carpet\"}],\"choropleth\":[{\"colorbar\":{\"outlinewidth\":0,\"ticks\":\"\"},\"type\":\"choropleth\"}],\"contourcarpet\":[{\"colorbar\":{\"outlinewidth\":0,\"ticks\":\"\"},\"type\":\"contourcarpet\"}],\"contour\":[{\"colorbar\":{\"outlinewidth\":0,\"ticks\":\"\"},\"colorscale\":[[0.0,\"#0d0887\"],[0.1111111111111111,\"#46039f\"],[0.2222222222222222,\"#7201a8\"],[0.3333333333333333,\"#9c179e\"],[0.4444444444444444,\"#bd3786\"],[0.5555555555555556,\"#d8576b\"],[0.6666666666666666,\"#ed7953\"],[0.7777777777777778,\"#fb9f3a\"],[0.8888888888888888,\"#fdca26\"],[1.0,\"#f0f921\"]],\"type\":\"contour\"}],\"heatmapgl\":[{\"colorbar\":{\"outlinewidth\":0,\"ticks\":\"\"},\"colorscale\":[[0.0,\"#0d0887\"],[0.1111111111111111,\"#46039f\"],[0.2222222222222222,\"#7201a8\"],[0.3333333333333333,\"#9c179e\"],[0.4444444444444444,\"#bd3786\"],[0.5555555555555556,\"#d8576b\"],[0.6666666666666666,\"#ed7953\"],[0.7777777777777778,\"#fb9f3a\"],[0.8888888888888888,\"#fdca26\"],[1.0,\"#f0f921\"]],\"type\":\"heatmapgl\"}],\"heatmap\":[{\"colorbar\":{\"outlinewidth\":0,\"ticks\":\"\"},\"colorscale\":[[0.0,\"#0d0887\"],[0.1111111111111111,\"#46039f\"],[0.2222222222222222,\"#7201a8\"],[0.3333333333333333,\"#9c179e\"],[0.4444444444444444,\"#bd3786\"],[0.5555555555555556,\"#d8576b\"],[0.6666666666666666,\"#ed7953\"],[0.7777777777777778,\"#fb9f3a\"],[0.8888888888888888,\"#fdca26\"],[1.0,\"#f0f921\"]],\"type\":\"heatmap\"}],\"histogram2dcontour\":[{\"colorbar\":{\"outlinewidth\":0,\"ticks\":\"\"},\"colorscale\":[[0.0,\"#0d0887\"],[0.1111111111111111,\"#46039f\"],[0.2222222222222222,\"#7201a8\"],[0.3333333333333333,\"#9c179e\"],[0.4444444444444444,\"#bd3786\"],[0.5555555555555556,\"#d8576b\"],[0.6666666666666666,\"#ed7953\"],[0.7777777777777778,\"#fb9f3a\"],[0.8888888888888888,\"#fdca26\"],[1.0,\"#f0f921\"]],\"type\":\"histogram2dcontour\"}],\"histogram2d\":[{\"colorbar\":{\"outlinewidth\":0,\"ticks\":\"\"},\"colorscale\":[[0.0,\"#0d0887\"],[0.1111111111111111,\"#46039f\"],[0.2222222222222222,\"#7201a8\"],[0.3333333333333333,\"#9c179e\"],[0.4444444444444444,\"#bd3786\"],[0.5555555555555556,\"#d8576b\"],[0.6666666666666666,\"#ed7953\"],[0.7777777777777778,\"#fb9f3a\"],[0.8888888888888888,\"#fdca26\"],[1.0,\"#f0f921\"]],\"type\":\"histogram2d\"}],\"histogram\":[{\"marker\":{\"pattern\":{\"fillmode\":\"overlay\",\"size\":10,\"solidity\":0.2}},\"type\":\"histogram\"}],\"mesh3d\":[{\"colorbar\":{\"outlinewidth\":0,\"ticks\":\"\"},\"type\":\"mesh3d\"}],\"parcoords\":[{\"line\":{\"colorbar\":{\"outlinewidth\":0,\"ticks\":\"\"}},\"type\":\"parcoords\"}],\"pie\":[{\"automargin\":true,\"type\":\"pie\"}],\"scatter3d\":[{\"line\":{\"colorbar\":{\"outlinewidth\":0,\"ticks\":\"\"}},\"marker\":{\"colorbar\":{\"outlinewidth\":0,\"ticks\":\"\"}},\"type\":\"scatter3d\"}],\"scattercarpet\":[{\"marker\":{\"colorbar\":{\"outlinewidth\":0,\"ticks\":\"\"}},\"type\":\"scattercarpet\"}],\"scattergeo\":[{\"marker\":{\"colorbar\":{\"outlinewidth\":0,\"ticks\":\"\"}},\"type\":\"scattergeo\"}],\"scattergl\":[{\"marker\":{\"colorbar\":{\"outlinewidth\":0,\"ticks\":\"\"}},\"type\":\"scattergl\"}],\"scattermapbox\":[{\"marker\":{\"colorbar\":{\"outlinewidth\":0,\"ticks\":\"\"}},\"type\":\"scattermapbox\"}],\"scatterpolargl\":[{\"marker\":{\"colorbar\":{\"outlinewidth\":0,\"ticks\":\"\"}},\"type\":\"scatterpolargl\"}],\"scatterpolar\":[{\"marker\":{\"colorbar\":{\"outlinewidth\":0,\"ticks\":\"\"}},\"type\":\"scatterpolar\"}],\"scatter\":[{\"marker\":{\"colorbar\":{\"outlinewidth\":0,\"ticks\":\"\"}},\"type\":\"scatter\"}],\"scatterternary\":[{\"marker\":{\"colorbar\":{\"outlinewidth\":0,\"ticks\":\"\"}},\"type\":\"scatterternary\"}],\"surface\":[{\"colorbar\":{\"outlinewidth\":0,\"ticks\":\"\"},\"colorscale\":[[0.0,\"#0d0887\"],[0.1111111111111111,\"#46039f\"],[0.2222222222222222,\"#7201a8\"],[0.3333333333333333,\"#9c179e\"],[0.4444444444444444,\"#bd3786\"],[0.5555555555555556,\"#d8576b\"],[0.6666666666666666,\"#ed7953\"],[0.7777777777777778,\"#fb9f3a\"],[0.8888888888888888,\"#fdca26\"],[1.0,\"#f0f921\"]],\"type\":\"surface\"}],\"table\":[{\"cells\":{\"fill\":{\"color\":\"#EBF0F8\"},\"line\":{\"color\":\"white\"}},\"header\":{\"fill\":{\"color\":\"#C8D4E3\"},\"line\":{\"color\":\"white\"}},\"type\":\"table\"}]},\"layout\":{\"annotationdefaults\":{\"arrowcolor\":\"#2a3f5f\",\"arrowhead\":0,\"arrowwidth\":1},\"autotypenumbers\":\"strict\",\"coloraxis\":{\"colorbar\":{\"outlinewidth\":0,\"ticks\":\"\"}},\"colorscale\":{\"diverging\":[[0,\"#8e0152\"],[0.1,\"#c51b7d\"],[0.2,\"#de77ae\"],[0.3,\"#f1b6da\"],[0.4,\"#fde0ef\"],[0.5,\"#f7f7f7\"],[0.6,\"#e6f5d0\"],[0.7,\"#b8e186\"],[0.8,\"#7fbc41\"],[0.9,\"#4d9221\"],[1,\"#276419\"]],\"sequential\":[[0.0,\"#0d0887\"],[0.1111111111111111,\"#46039f\"],[0.2222222222222222,\"#7201a8\"],[0.3333333333333333,\"#9c179e\"],[0.4444444444444444,\"#bd3786\"],[0.5555555555555556,\"#d8576b\"],[0.6666666666666666,\"#ed7953\"],[0.7777777777777778,\"#fb9f3a\"],[0.8888888888888888,\"#fdca26\"],[1.0,\"#f0f921\"]],\"sequentialminus\":[[0.0,\"#0d0887\"],[0.1111111111111111,\"#46039f\"],[0.2222222222222222,\"#7201a8\"],[0.3333333333333333,\"#9c179e\"],[0.4444444444444444,\"#bd3786\"],[0.5555555555555556,\"#d8576b\"],[0.6666666666666666,\"#ed7953\"],[0.7777777777777778,\"#fb9f3a\"],[0.8888888888888888,\"#fdca26\"],[1.0,\"#f0f921\"]]},\"colorway\":[\"#636efa\",\"#EF553B\",\"#00cc96\",\"#ab63fa\",\"#FFA15A\",\"#19d3f3\",\"#FF6692\",\"#B6E880\",\"#FF97FF\",\"#FECB52\"],\"font\":{\"color\":\"#2a3f5f\"},\"geo\":{\"bgcolor\":\"white\",\"lakecolor\":\"white\",\"landcolor\":\"#E5ECF6\",\"showlakes\":true,\"showland\":true,\"subunitcolor\":\"white\"},\"hoverlabel\":{\"align\":\"left\"},\"hovermode\":\"closest\",\"mapbox\":{\"style\":\"light\"},\"paper_bgcolor\":\"white\",\"plot_bgcolor\":\"#E5ECF6\",\"polar\":{\"angularaxis\":{\"gridcolor\":\"white\",\"linecolor\":\"white\",\"ticks\":\"\"},\"bgcolor\":\"#E5ECF6\",\"radialaxis\":{\"gridcolor\":\"white\",\"linecolor\":\"white\",\"ticks\":\"\"}},\"scene\":{\"xaxis\":{\"backgroundcolor\":\"#E5ECF6\",\"gridcolor\":\"white\",\"gridwidth\":2,\"linecolor\":\"white\",\"showbackground\":true,\"ticks\":\"\",\"zerolinecolor\":\"white\"},\"yaxis\":{\"backgroundcolor\":\"#E5ECF6\",\"gridcolor\":\"white\",\"gridwidth\":2,\"linecolor\":\"white\",\"showbackground\":true,\"ticks\":\"\",\"zerolinecolor\":\"white\"},\"zaxis\":{\"backgroundcolor\":\"#E5ECF6\",\"gridcolor\":\"white\",\"gridwidth\":2,\"linecolor\":\"white\",\"showbackground\":true,\"ticks\":\"\",\"zerolinecolor\":\"white\"}},\"shapedefaults\":{\"line\":{\"color\":\"#2a3f5f\"}},\"ternary\":{\"aaxis\":{\"gridcolor\":\"white\",\"linecolor\":\"white\",\"ticks\":\"\"},\"baxis\":{\"gridcolor\":\"white\",\"linecolor\":\"white\",\"ticks\":\"\"},\"bgcolor\":\"#E5ECF6\",\"caxis\":{\"gridcolor\":\"white\",\"linecolor\":\"white\",\"ticks\":\"\"}},\"title\":{\"x\":0.05},\"xaxis\":{\"automargin\":true,\"gridcolor\":\"white\",\"linecolor\":\"white\",\"ticks\":\"\",\"title\":{\"standoff\":15},\"zerolinecolor\":\"white\",\"zerolinewidth\":2},\"yaxis\":{\"automargin\":true,\"gridcolor\":\"white\",\"linecolor\":\"white\",\"ticks\":\"\",\"title\":{\"standoff\":15},\"zerolinecolor\":\"white\",\"zerolinewidth\":2}}},\"title\":{\"text\":\"Labels Distribution\"},\"width\":800,\"xaxis\":{\"title\":{\"text\":\"Attack Name\"}},\"yaxis\":{\"title\":{\"text\":\"Number of attacks\"}}},                        {\"responsive\": true}                    ).then(function(){\n",
       "                            \n",
       "var gd = document.getElementById('651bb061-0940-444c-afa0-9b9b8b2f3789');\n",
       "var x = new MutationObserver(function (mutations, observer) {{\n",
       "        var display = window.getComputedStyle(gd).display;\n",
       "        if (!display || display === 'none') {{\n",
       "            console.log([gd, 'removed!']);\n",
       "            Plotly.purge(gd);\n",
       "            observer.disconnect();\n",
       "        }}\n",
       "}});\n",
       "\n",
       "// Listen for the removal of the full notebook cells\n",
       "var notebookContainer = gd.closest('#notebook-container');\n",
       "if (notebookContainer) {{\n",
       "    x.observe(notebookContainer, {childList: true});\n",
       "}}\n",
       "\n",
       "// Listen for the clearing of the current output cell\n",
       "var outputEl = gd.closest('.output');\n",
       "if (outputEl) {{\n",
       "    x.observe(outputEl, {childList: true});\n",
       "}}\n",
       "\n",
       "                        })                };                });            </script>        </div>"
      ]
     },
     "metadata": {},
     "output_type": "display_data"
    }
   ],
   "source": [
    "toTrainModel = shortData(withoutDuplicates, 100000, 113, 40, 17).copy()\n",
    "selectedToSaveDataset = shortData(\n",
    "    withoutDuplicates, 100000, 226, 79, 34).copy()\n",
    "showAttackDistribution(toTrainModel[LABEL])\n"
   ]
  },
  {
   "cell_type": "code",
   "execution_count": 66,
   "id": "66ed06f6",
   "metadata": {},
   "outputs": [],
   "source": [
    "\n",
    "def makeOnlyAttackOrNot(dataToTransform):\n",
    "    dataToTransform[LABEL] = dataToTransform[LABEL].map(\n",
    "        lambda i: 0 if i == NORMAL else 1)\n",
    "    return dataToTransform\n"
   ]
  },
  {
   "cell_type": "code",
   "execution_count": 67,
   "id": "b45f69d4",
   "metadata": {},
   "outputs": [],
   "source": [
    "toTrainModel = makeOnlyAttackOrNot(toTrainModel)\n",
    "selectedToSaveDataset = makeOnlyAttackOrNot(selectedToSaveDataset)\n",
    "allDatasetToTest = makeOnlyAttackOrNot(allDatasetToTest)\n"
   ]
  },
  {
   "cell_type": "code",
   "execution_count": 68,
   "id": "bb8d8751",
   "metadata": {},
   "outputs": [],
   "source": [
    "def removeNanInf(data):\n",
    "    data.replace([np.inf, -np.inf], np.nan, inplace=True)\n",
    "    data.dropna(inplace=True)\n",
    "    return data\n"
   ]
  },
  {
   "cell_type": "code",
   "execution_count": 69,
   "id": "7616c18f",
   "metadata": {},
   "outputs": [],
   "source": [
    "toTrainModel = removeNanInf(toTrainModel)\n",
    "allDatasetToTest = removeNanInf(allDatasetToTest)\n",
    "selectedToSaveDataset = removeNanInf(selectedToSaveDataset)\n"
   ]
  },
  {
   "cell_type": "code",
   "execution_count": 70,
   "id": "5beb66e3",
   "metadata": {},
   "outputs": [],
   "source": [
    "# from sklearn.preprocessing import StandardScaler\n",
    "\n",
    "\n",
    "# def scale(dataToTransform, columntoTransform):\n",
    "\n",
    "#     ss_dict = {col: StandardScaler() for col in columntoTransform}\n",
    "\n",
    "#     for colKey in columntoTransform:\n",
    "#         dataToTransform[colKey] = ss_dict[colKey].fit_transform(\n",
    "#             np.array(dataToTransform[colKey]).reshape(-1, 1))\n",
    "\n",
    "#     return dataToTransform\n"
   ]
  },
  {
   "cell_type": "code",
   "execution_count": 71,
   "id": "594ae099",
   "metadata": {},
   "outputs": [],
   "source": [
    "# numericColumntoTransform = withoutDuplicates.keys()\n",
    "# withoutDuplicates = scale(withoutDuplicates, numericColumntoTransform)\n"
   ]
  },
  {
   "cell_type": "markdown",
   "id": "e4e93444",
   "metadata": {
    "id": "xYzsVX21PFDc",
    "papermill": {
     "duration": 0.047639,
     "end_time": "2022-01-17T21:40:48.282094",
     "exception": false,
     "start_time": "2022-01-17T21:40:48.234455",
     "status": "completed"
    },
    "tags": []
   },
   "source": [
    "### Heatmap\n",
    "#### Heatmap provide us information on how much the individual features are interpedent. "
   ]
  },
  {
   "cell_type": "code",
   "execution_count": 72,
   "id": "b5d3cba8",
   "metadata": {
    "execution": {
     "iopub.execute_input": "2022-01-17T21:40:48.370987Z",
     "iopub.status.busy": "2022-01-17T21:40:48.370237Z",
     "iopub.status.idle": "2022-01-17T21:40:51.265700Z",
     "shell.execute_reply": "2022-01-17T21:40:51.266249Z",
     "shell.execute_reply.started": "2022-01-17T21:30:49.408211Z"
    },
    "id": "ObQ1AkeKPFDf",
    "papermill": {
     "duration": 2.938931,
     "end_time": "2022-01-17T21:40:51.266450",
     "exception": false,
     "start_time": "2022-01-17T21:40:48.327519",
     "status": "completed"
    },
    "tags": []
   },
   "outputs": [
    {
     "data": {
      "text/plain": [
       "<AxesSubplot:>"
      ]
     },
     "execution_count": 72,
     "metadata": {},
     "output_type": "execute_result"
    },
    {
     "data": {
      "image/png": "[encoded data removed]",
      "text/plain": [
       "<Figure size 1080x576 with 2 Axes>"
      ]
     },
     "metadata": {
      "needs_background": "light"
     },
     "output_type": "display_data"
    }
   ],
   "source": [
    "import matplotlib.pyplot as plt\n",
    "import seaborn as sns\n",
    "\n",
    "f, ax = plt.subplots(figsize=(15, 8))\n",
    "sns.heatmap(abs(toTrainModel.corr()), annot=True,\n",
    "            linewidths=0.5, fmt='.2f', ax=ax)\n"
   ]
  },
  {
   "cell_type": "markdown",
   "id": "c9222e1a",
   "metadata": {},
   "source": [
    "Save label"
   ]
  },
  {
   "cell_type": "code",
   "execution_count": 73,
   "id": "e38865a6",
   "metadata": {},
   "outputs": [],
   "source": [
    "labels = toTrainModel[LABEL]\n",
    "toTrainModel = toTrainModel.drop([LABEL], axis=1)\n"
   ]
  },
  {
   "cell_type": "code",
   "execution_count": 74,
   "id": "a1e7b0ad",
   "metadata": {},
   "outputs": [],
   "source": [
    "def printNanFinite(data):\n",
    "    print('Is any Nan:', np.any(np.isnan(data)))\n",
    "    print('Is all finite:', np.all(np.isfinite(data)))\n"
   ]
  },
  {
   "cell_type": "code",
   "execution_count": 75,
   "id": "93c2a848",
   "metadata": {},
   "outputs": [
    {
     "name": "stdout",
     "output_type": "stream",
     "text": [
      "Is any Nan: False\n",
      "Is all finite: True\n",
      "\n",
      "\n",
      "Is any Nan: False\n",
      "Is all finite: True\n"
     ]
    }
   ],
   "source": [
    "printNanFinite(toTrainModel)\n",
    "print('\\n')\n",
    "printNanFinite(allDatasetToTest)\n"
   ]
  },
  {
   "cell_type": "markdown",
   "id": "97355b3a",
   "metadata": {},
   "source": [
    "Scale numeric values"
   ]
  },
  {
   "cell_type": "markdown",
   "id": "f11a5dcb",
   "metadata": {},
   "source": [
    "#### After preprocess"
   ]
  },
  {
   "cell_type": "code",
   "execution_count": 76,
   "id": "4403bf33",
   "metadata": {},
   "outputs": [],
   "source": [
    "from sklearn.model_selection import train_test_split\n",
    "\n",
    "X_train, X_test, y_train, y_test = train_test_split(\n",
    "    toTrainModel, labels, test_size=0.33, random_state=32)\n",
    "\n",
    "\n",
    "# X_train.to_csv('X_train.csv')\n",
    "# X_test.to_csv('X_test.csv')\n",
    "# y_train.to_csv('y_train.csv')\n",
    "# y_test.to_csv('y_test.csv')\n"
   ]
  },
  {
   "cell_type": "code",
   "execution_count": 77,
   "id": "0d1f63a2",
   "metadata": {},
   "outputs": [],
   "source": [
    "isRFC = True\n",
    "isMLPC = False\n",
    "isSequential = False\n"
   ]
  },
  {
   "cell_type": "code",
   "execution_count": 78,
   "id": "958a0a7c",
   "metadata": {},
   "outputs": [],
   "source": [
    "from sklearn.neural_network import MLPClassifier\n",
    "from sklearn.ensemble import RandomForestClassifier\n",
    "from keras.models import Sequential\n",
    "from keras.layers import Dense\n",
    "\n",
    "\n",
    "def model():\n",
    "    if isRFC:\n",
    "        model = RandomForestClassifier(\n",
    "            n_estimators=100, max_depth=5, min_samples_leaf=4)\n",
    "    elif isMLPC:\n",
    "        model = MLPClassifier(random_state=32)\n",
    "    else:\n",
    "        model = Sequential([\n",
    "            Dense(256, activation='softplus', kernel_initializer='glorot_uniform',\n",
    "                  input_dim=X_train.shape[1]),\n",
    "            Dense(128, activation='softplus',\n",
    "                  kernel_initializer='glorot_uniform'),\n",
    "            Dense(1, kernel_initializer='glorot_uniform', activation='sigmoid')\n",
    "        ])\n",
    "\n",
    "        model.compile(loss='binary_crossentropy',\n",
    "                      optimizer='Adam')\n",
    "\n",
    "    return model\n"
   ]
  },
  {
   "cell_type": "code",
   "execution_count": 79,
   "id": "a71aa012",
   "metadata": {},
   "outputs": [],
   "source": [
    "model = model()\n"
   ]
  },
  {
   "cell_type": "code",
   "execution_count": 80,
   "id": "23f2432f",
   "metadata": {},
   "outputs": [
    {
     "data": {
      "text/plain": [
       "RandomForestClassifier(max_depth=5, min_samples_leaf=4)"
      ]
     },
     "execution_count": 80,
     "metadata": {},
     "output_type": "execute_result"
    }
   ],
   "source": [
    "model.fit(X_train, y_train)\n"
   ]
  },
  {
   "cell_type": "code",
   "execution_count": 81,
   "id": "a069fe42",
   "metadata": {},
   "outputs": [],
   "source": [
    "\n",
    "import matplotlib.pyplot as plt\n",
    "from sklearn.metrics import confusion_matrix, ConfusionMatrixDisplay\n",
    "\n",
    "\n",
    "def confMatrix(yTrain, xTrainPreds, yTest, xTestPreds):\n",
    "    # Your code here\n",
    "    cmTrain = confusion_matrix(yTrain, xTrainPreds)\n",
    "    X_train_disp = ConfusionMatrixDisplay(confusion_matrix=cmTrain)\n",
    "\n",
    "    cmTest = confusion_matrix(yTest, xTestPreds)\n",
    "    X_test_disp = ConfusionMatrixDisplay(confusion_matrix=cmTest)\n",
    "    # End\n",
    "\n",
    "    _, ax = plt.subplots(1, 2, figsize=(10, 5), dpi=150)\n",
    "\n",
    "    X_train_disp.plot(ax=ax[0])\n",
    "    ax[0].set_title(\"Train\")\n",
    "\n",
    "    X_test_disp.plot(ax=ax[1])\n",
    "    ax[1].set_title(\"Test\")\n",
    "    plt.show()\n"
   ]
  },
  {
   "cell_type": "code",
   "execution_count": 82,
   "id": "d991ff69",
   "metadata": {},
   "outputs": [],
   "source": [
    "from sklearn.metrics import roc_auc_score, accuracy_score, precision_score, recall_score, f1_score\n",
    "\n",
    "\n",
    "def printScores(name, labels, predicts):\n",
    "    print(name)\n",
    "    print('Accuracy: %.3f ' % accuracy_score(labels, predicts))\n",
    "    print('Precision: %.3f ' % precision_score(labels, predicts))\n",
    "    print('Recall: %.3f' % recall_score(labels, predicts))\n",
    "    print('F1 Score: %.3f' % f1_score(labels, predicts))\n",
    "    print('\\n')\n"
   ]
  },
  {
   "cell_type": "code",
   "execution_count": 83,
   "id": "ab898d8e",
   "metadata": {},
   "outputs": [
    {
     "name": "stdout",
     "output_type": "stream",
     "text": [
      "Train:\n",
      "Accuracy: 0.999 \n",
      "Precision: 0.977 \n",
      "Recall: 0.382\n",
      "F1 Score: 0.549\n",
      "\n",
      "\n",
      "Test:\n",
      "Accuracy: 0.999 \n",
      "Precision: 1.000 \n",
      "Recall: 0.333\n",
      "F1 Score: 0.500\n",
      "\n",
      "\n"
     ]
    }
   ],
   "source": [
    "\n",
    "\n",
    "X_train_preds = model.predict(X_train)\n",
    "X_test_preds = model.predict(X_test)\n",
    "\n",
    "if isSequential:\n",
    "    print('Train auc:', roc_auc_score(y_train, X_train_preds))\n",
    "    print('Test auc:', roc_auc_score(y_test, X_test_preds))\n",
    "else:\n",
    "    printScores('Train:', y_train, X_train_preds)\n",
    "    printScores('Test:', y_test, X_test_preds)\n"
   ]
  },
  {
   "cell_type": "code",
   "execution_count": 84,
   "id": "a1a07fb6",
   "metadata": {},
   "outputs": [
    {
     "data": {
      "image/png": "[encoded data removed]",
      "text/plain": [
       "<Figure size 1500x750 with 4 Axes>"
      ]
     },
     "metadata": {
      "needs_background": "light"
     },
     "output_type": "display_data"
    }
   ],
   "source": [
    "confMatrix(y_train, X_train_preds, y_test, X_test_preds)\n"
   ]
  },
  {
   "cell_type": "code",
   "execution_count": 85,
   "id": "c8def0c5",
   "metadata": {},
   "outputs": [],
   "source": [
    "allDatasetLabels = allDatasetToTest[LABEL]\n",
    "allDatasetToTest = allDatasetToTest.drop([LABEL], axis=1)\n",
    "\n",
    "# allDatasetLabels.to_csv('allDatasetLabels.csv')\n",
    "# allDatasetToTest.to_csv('allDatasetToTest.csv')\n"
   ]
  },
  {
   "cell_type": "code",
   "execution_count": 86,
   "id": "14299dee",
   "metadata": {},
   "outputs": [
    {
     "name": "stdout",
     "output_type": "stream",
     "text": [
      "All dataset:\n",
      "Accuracy: 0.995 \n",
      "Precision: 0.022 \n",
      "Recall: 0.312\n",
      "F1 Score: 0.042\n",
      "\n",
      "\n"
     ]
    }
   ],
   "source": [
    "\n",
    "\n",
    "AllDatasetPreds = model.predict(allDatasetToTest)\n",
    "\n",
    "if isSequential:\n",
    "    print('Auc:', roc_auc_score(allDatasetLabels, AllDatasetPreds))\n",
    "else:\n",
    "    printScores('All dataset:', allDatasetLabels, AllDatasetPreds)\n"
   ]
  },
  {
   "cell_type": "code",
   "execution_count": 87,
   "id": "5c57150c",
   "metadata": {},
   "outputs": [
    {
     "data": {
      "image/png": "[encoded data removed]",
      "text/plain": [
       "<Figure size 1040x520 with 2 Axes>"
      ]
     },
     "metadata": {
      "needs_background": "light"
     },
     "output_type": "display_data"
    }
   ],
   "source": [
    "allDatasetConfusionMatrix = confusion_matrix(allDatasetLabels, AllDatasetPreds)\n",
    "allDataSetMatrixDisplay = ConfusionMatrixDisplay(\n",
    "    confusion_matrix=allDatasetConfusionMatrix)\n",
    "_, ax = plt.subplots(figsize=(8, 4), dpi=130)\n",
    "ax.set_title(\"All dataset\")\n",
    "allDataSetMatrixDisplay.plot(ax=ax)\n",
    "plt.show()\n"
   ]
  },
  {
   "cell_type": "code",
   "execution_count": 89,
   "id": "30881c1f",
   "metadata": {},
   "outputs": [],
   "source": [
    "selectedToSaveDataset.to_csv('bf_web_xss_sql.csv')\n"
   ]
  }
 ],
 "metadata": {
  "kernelspec": {
   "display_name": "Python 3",
   "language": "python",
   "name": "python3"
  },
  "language_info": {
   "codemirror_mode": {
    "name": "ipython",
    "version": 3
   },
   "file_extension": ".py",
   "mimetype": "text/x-python",
   "name": "python",
   "nbconvert_exporter": "python",
   "pygments_lexer": "ipython3",
   "version": "3.8.10"
  },
  "papermill": {
   "default_parameters": {},
   "duration": 42.965214,
   "end_time": "2022-01-17T21:41:16.495863",
   "environment_variables": {},
   "exception": null,
   "input_path": "__notebook__.ipynb",
   "output_path": "__notebook__.ipynb",
   "parameters": {},
   "start_time": "2022-01-17T21:40:33.530649",
   "version": "2.3.3"
  }
 },
 "nbformat": 4,
 "nbformat_minor": 5
}
