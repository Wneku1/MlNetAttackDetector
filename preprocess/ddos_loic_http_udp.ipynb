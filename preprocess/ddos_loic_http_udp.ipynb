{
 "cells": [
  {
   "cell_type": "markdown",
   "id": "4bbb574d",
   "metadata": {
    "id": "KLfj50LPPFDB",
    "papermill": {
     "duration": 0.039734,
     "end_time": "2022-01-17T21:40:45.200404",
     "exception": false,
     "start_time": "2022-01-17T21:40:45.160670",
     "status": "completed"
    },
    "tags": []
   },
   "source": [
    "### Check input files\n",
    "\n"
   ]
  },
  {
   "cell_type": "code",
   "execution_count": 1,
   "id": "45c7690a",
   "metadata": {
    "_cell_guid": "b1076dfc-b9ad-4769-8c92-a6c4dae69d19",
    "_uuid": "8f2839f25d086af736a60e9eeb907d3b93b6e0e5",
    "execution": {
     "iopub.execute_input": "2022-01-17T21:40:45.288137Z",
     "iopub.status.busy": "2022-01-17T21:40:45.287373Z",
     "iopub.status.idle": "2022-01-17T21:40:45.300617Z",
     "shell.execute_reply": "2022-01-17T21:40:45.301186Z",
     "shell.execute_reply.started": "2022-01-17T21:30:49.103682Z"
    },
    "id": "KlegH6X6PFDK",
    "papermill": {
     "duration": 0.061317,
     "end_time": "2022-01-17T21:40:45.301538",
     "exception": false,
     "start_time": "2022-01-17T21:40:45.240221",
     "status": "completed"
    },
    "tags": []
   },
   "outputs": [
    {
     "name": "stdout",
     "output_type": "stream",
     "text": [
      "datasets/Wednesday-14-02-2018_TrafficForML_CICFlowMeter.csv\n",
      "datasets/Thursday-15-02-2018_TrafficForML_CICFlowMeter.csv\n",
      "datasets/Thuesday-20-02-2018_TrafficForML_CICFlowMeter.csv\n",
      "datasets/Wednesday-21-02-2018_TrafficForML_CICFlowMeter.csv\n",
      "datasets/Friday-16-02-2018_TrafficForML_CICFlowMeter.csv\n",
      "datasets/Thursday-22-02-2018_TrafficForML_CICFlowMeter.csv\n"
     ]
    }
   ],
   "source": [
    "import numpy as np\n",
    "import pandas as pd\n",
    "import os\n",
    "\n",
    "for dirname, _, filenames in os.walk('datasets'):\n",
    "    for filename in filenames:\n",
    "        print(os.path.join(dirname, filename))\n"
   ]
  },
  {
   "cell_type": "markdown",
   "id": "3aa3de62",
   "metadata": {
    "id": "VNwBYC2aH9UF",
    "papermill": {
     "duration": 0.038369,
     "end_time": "2022-01-17T21:40:45.378612",
     "exception": false,
     "start_time": "2022-01-17T21:40:45.340243",
     "status": "completed"
    },
    "tags": []
   },
   "source": [
    "### Import train data and create DataFrame object"
   ]
  },
  {
   "cell_type": "code",
   "execution_count": 2,
   "id": "7b6377c6",
   "metadata": {},
   "outputs": [],
   "source": [
    "def convert_dtype_to_int(x):\n",
    "    if not x:\n",
    "        return np.nan\n",
    "    try:\n",
    "        return int(x)\n",
    "    except:\n",
    "        return np.nan\n",
    "\n",
    "def convert_dtype_to_float(x):\n",
    "    if not x:\n",
    "        return np.nan\n",
    "    try:\n",
    "        return float(x)\n",
    "    except:\n",
    "        return np.nan\n",
    "\n"
   ]
  },
  {
   "cell_type": "code",
   "execution_count": 3,
   "id": "7dc2ecfd",
   "metadata": {
    "execution": {
     "iopub.execute_input": "2022-01-17T21:40:45.462008Z",
     "iopub.status.busy": "2022-01-17T21:40:45.461151Z",
     "iopub.status.idle": "2022-01-17T21:40:45.514670Z",
     "shell.execute_reply": "2022-01-17T21:40:45.514023Z",
     "shell.execute_reply.started": "2022-01-17T21:30:49.116444Z"
    },
    "id": "rPzgqJfuH88j",
    "papermill": {
     "duration": 0.098772,
     "end_time": "2022-01-17T21:40:45.514849",
     "exception": false,
     "start_time": "2022-01-17T21:40:45.416077",
     "status": "completed"
    },
    "tags": []
   },
   "outputs": [
    {
     "ename": "ParserError",
     "evalue": "Error tokenizing data. C error: Calling read(nbytes) on source failed. Try engine='python'.",
     "output_type": "error",
     "traceback": [
      "\u001b[0;31m---------------------------------------------------------------------------\u001b[0m",
      "\u001b[0;31mParserError\u001b[0m                               Traceback (most recent call last)",
      "\u001b[1;32m/home/swnek/MlNetAttackDetector/preprocess/ddos_loic_http_udp.ipynb Cell 5'\u001b[0m in \u001b[0;36m<cell line: 1>\u001b[0;34m()\u001b[0m\n\u001b[0;32m----> <a href='vscode-notebook-cell:/home/swnek/MlNetAttackDetector/preprocess/ddos_loic_http_udp.ipynb#ch0000004?line=0'>1</a>\u001b[0m rawsData \u001b[39m=\u001b[39m pd\u001b[39m.\u001b[39;49mread_csv(\u001b[39m'\u001b[39;49m\u001b[39mdatasets/Thuesday-20-02-2018_TrafficForML_CICFlowMeter.csv\u001b[39;49m\u001b[39m'\u001b[39;49m,low_memory\u001b[39m=\u001b[39;49m\u001b[39mFalse\u001b[39;49;00m,\n\u001b[1;32m      <a href='vscode-notebook-cell:/home/swnek/MlNetAttackDetector/preprocess/ddos_loic_http_udp.ipynb#ch0000004?line=1'>2</a>\u001b[0m                        converters\u001b[39m=\u001b[39;49m{\u001b[39m'\u001b[39;49m\u001b[39mDst Port\u001b[39;49m\u001b[39m'\u001b[39;49m: convert_dtype_to_int,\n\u001b[1;32m      <a href='vscode-notebook-cell:/home/swnek/MlNetAttackDetector/preprocess/ddos_loic_http_udp.ipynb#ch0000004?line=2'>3</a>\u001b[0m                                    \u001b[39m'\u001b[39;49m\u001b[39mProtocol\u001b[39;49m\u001b[39m'\u001b[39;49m: convert_dtype_to_int,\n\u001b[1;32m      <a href='vscode-notebook-cell:/home/swnek/MlNetAttackDetector/preprocess/ddos_loic_http_udp.ipynb#ch0000004?line=3'>4</a>\u001b[0m                                    \u001b[39m'\u001b[39;49m\u001b[39mFlow Duration\u001b[39;49m\u001b[39m'\u001b[39;49m: convert_dtype_to_int,\n\u001b[1;32m      <a href='vscode-notebook-cell:/home/swnek/MlNetAttackDetector/preprocess/ddos_loic_http_udp.ipynb#ch0000004?line=4'>5</a>\u001b[0m                                    \u001b[39m'\u001b[39;49m\u001b[39mTot Fwd Pkts\u001b[39;49m\u001b[39m'\u001b[39;49m: convert_dtype_to_int,\n\u001b[1;32m      <a href='vscode-notebook-cell:/home/swnek/MlNetAttackDetector/preprocess/ddos_loic_http_udp.ipynb#ch0000004?line=5'>6</a>\u001b[0m                                    \u001b[39m'\u001b[39;49m\u001b[39mTot Bwd Pkts\u001b[39;49m\u001b[39m'\u001b[39;49m: convert_dtype_to_int,\n\u001b[1;32m      <a href='vscode-notebook-cell:/home/swnek/MlNetAttackDetector/preprocess/ddos_loic_http_udp.ipynb#ch0000004?line=6'>7</a>\u001b[0m                                    \u001b[39m'\u001b[39;49m\u001b[39mTotLen Fwd Pkts\u001b[39;49m\u001b[39m'\u001b[39;49m: convert_dtype_to_int,\n\u001b[1;32m      <a href='vscode-notebook-cell:/home/swnek/MlNetAttackDetector/preprocess/ddos_loic_http_udp.ipynb#ch0000004?line=7'>8</a>\u001b[0m                                    \u001b[39m'\u001b[39;49m\u001b[39mTotLen Bwd Pkts\u001b[39;49m\u001b[39m'\u001b[39;49m: convert_dtype_to_int,\n\u001b[1;32m      <a href='vscode-notebook-cell:/home/swnek/MlNetAttackDetector/preprocess/ddos_loic_http_udp.ipynb#ch0000004?line=8'>9</a>\u001b[0m                                    \u001b[39m'\u001b[39;49m\u001b[39mFwd Pkt Len Max\u001b[39;49m\u001b[39m'\u001b[39;49m: convert_dtype_to_int,\n\u001b[1;32m     <a href='vscode-notebook-cell:/home/swnek/MlNetAttackDetector/preprocess/ddos_loic_http_udp.ipynb#ch0000004?line=9'>10</a>\u001b[0m                                    \u001b[39m'\u001b[39;49m\u001b[39mFwd Pkt Len Min\u001b[39;49m\u001b[39m'\u001b[39;49m: convert_dtype_to_int,\n\u001b[1;32m     <a href='vscode-notebook-cell:/home/swnek/MlNetAttackDetector/preprocess/ddos_loic_http_udp.ipynb#ch0000004?line=10'>11</a>\u001b[0m                                    \u001b[39m'\u001b[39;49m\u001b[39mFwd Pkt Len Mean\u001b[39;49m\u001b[39m'\u001b[39;49m: convert_dtype_to_float,\n\u001b[1;32m     <a href='vscode-notebook-cell:/home/swnek/MlNetAttackDetector/preprocess/ddos_loic_http_udp.ipynb#ch0000004?line=11'>12</a>\u001b[0m                                    \u001b[39m'\u001b[39;49m\u001b[39mFwd Pkt Len Std\u001b[39;49m\u001b[39m'\u001b[39;49m: convert_dtype_to_float,\n\u001b[1;32m     <a href='vscode-notebook-cell:/home/swnek/MlNetAttackDetector/preprocess/ddos_loic_http_udp.ipynb#ch0000004?line=12'>13</a>\u001b[0m                                    \u001b[39m'\u001b[39;49m\u001b[39mBwd Pkt Len Max\u001b[39;49m\u001b[39m'\u001b[39;49m: convert_dtype_to_int,\n\u001b[1;32m     <a href='vscode-notebook-cell:/home/swnek/MlNetAttackDetector/preprocess/ddos_loic_http_udp.ipynb#ch0000004?line=13'>14</a>\u001b[0m                                    \u001b[39m'\u001b[39;49m\u001b[39mBwd Pkt Len Min\u001b[39;49m\u001b[39m'\u001b[39;49m: convert_dtype_to_int,\n\u001b[1;32m     <a href='vscode-notebook-cell:/home/swnek/MlNetAttackDetector/preprocess/ddos_loic_http_udp.ipynb#ch0000004?line=14'>15</a>\u001b[0m                                    \u001b[39m'\u001b[39;49m\u001b[39mBwd Pkt Len Mean\u001b[39;49m\u001b[39m'\u001b[39;49m: convert_dtype_to_float,\n\u001b[1;32m     <a href='vscode-notebook-cell:/home/swnek/MlNetAttackDetector/preprocess/ddos_loic_http_udp.ipynb#ch0000004?line=15'>16</a>\u001b[0m                                    \u001b[39m'\u001b[39;49m\u001b[39mBwd Pkt Len Std\u001b[39;49m\u001b[39m'\u001b[39;49m: convert_dtype_to_float,\n\u001b[1;32m     <a href='vscode-notebook-cell:/home/swnek/MlNetAttackDetector/preprocess/ddos_loic_http_udp.ipynb#ch0000004?line=16'>17</a>\u001b[0m                                    \u001b[39m'\u001b[39;49m\u001b[39mFlow Byts/s\u001b[39;49m\u001b[39m'\u001b[39;49m: convert_dtype_to_float,\n\u001b[1;32m     <a href='vscode-notebook-cell:/home/swnek/MlNetAttackDetector/preprocess/ddos_loic_http_udp.ipynb#ch0000004?line=17'>18</a>\u001b[0m                                    \u001b[39m'\u001b[39;49m\u001b[39mFlow Pkts/s\u001b[39;49m\u001b[39m'\u001b[39;49m: convert_dtype_to_float,\n\u001b[1;32m     <a href='vscode-notebook-cell:/home/swnek/MlNetAttackDetector/preprocess/ddos_loic_http_udp.ipynb#ch0000004?line=18'>19</a>\u001b[0m                                    \u001b[39m'\u001b[39;49m\u001b[39mFlow IAT Mean\u001b[39;49m\u001b[39m'\u001b[39;49m: convert_dtype_to_float,\n\u001b[1;32m     <a href='vscode-notebook-cell:/home/swnek/MlNetAttackDetector/preprocess/ddos_loic_http_udp.ipynb#ch0000004?line=19'>20</a>\u001b[0m                                    \u001b[39m'\u001b[39;49m\u001b[39mFlow IAT Std\u001b[39;49m\u001b[39m'\u001b[39;49m: convert_dtype_to_float,\n\u001b[1;32m     <a href='vscode-notebook-cell:/home/swnek/MlNetAttackDetector/preprocess/ddos_loic_http_udp.ipynb#ch0000004?line=20'>21</a>\u001b[0m                                    \u001b[39m'\u001b[39;49m\u001b[39mFlow IAT Max\u001b[39;49m\u001b[39m'\u001b[39;49m: convert_dtype_to_int,\n\u001b[1;32m     <a href='vscode-notebook-cell:/home/swnek/MlNetAttackDetector/preprocess/ddos_loic_http_udp.ipynb#ch0000004?line=21'>22</a>\u001b[0m                                    \u001b[39m'\u001b[39;49m\u001b[39mFlow IAT Min\u001b[39;49m\u001b[39m'\u001b[39;49m: convert_dtype_to_int,\n\u001b[1;32m     <a href='vscode-notebook-cell:/home/swnek/MlNetAttackDetector/preprocess/ddos_loic_http_udp.ipynb#ch0000004?line=22'>23</a>\u001b[0m                                    \u001b[39m'\u001b[39;49m\u001b[39mFwd IAT Tot\u001b[39;49m\u001b[39m'\u001b[39;49m: convert_dtype_to_int,\n\u001b[1;32m     <a href='vscode-notebook-cell:/home/swnek/MlNetAttackDetector/preprocess/ddos_loic_http_udp.ipynb#ch0000004?line=23'>24</a>\u001b[0m                                    \u001b[39m'\u001b[39;49m\u001b[39mFwd IAT Mean\u001b[39;49m\u001b[39m'\u001b[39;49m: convert_dtype_to_float,\n\u001b[1;32m     <a href='vscode-notebook-cell:/home/swnek/MlNetAttackDetector/preprocess/ddos_loic_http_udp.ipynb#ch0000004?line=24'>25</a>\u001b[0m                                    \u001b[39m'\u001b[39;49m\u001b[39mFwd IAT Std\u001b[39;49m\u001b[39m'\u001b[39;49m: convert_dtype_to_float,\n\u001b[1;32m     <a href='vscode-notebook-cell:/home/swnek/MlNetAttackDetector/preprocess/ddos_loic_http_udp.ipynb#ch0000004?line=25'>26</a>\u001b[0m                                    \u001b[39m'\u001b[39;49m\u001b[39mFwd IAT Max\u001b[39;49m\u001b[39m'\u001b[39;49m: convert_dtype_to_int,\n\u001b[1;32m     <a href='vscode-notebook-cell:/home/swnek/MlNetAttackDetector/preprocess/ddos_loic_http_udp.ipynb#ch0000004?line=26'>27</a>\u001b[0m                                    \u001b[39m'\u001b[39;49m\u001b[39mFwd IAT Min\u001b[39;49m\u001b[39m'\u001b[39;49m: convert_dtype_to_int,\n\u001b[1;32m     <a href='vscode-notebook-cell:/home/swnek/MlNetAttackDetector/preprocess/ddos_loic_http_udp.ipynb#ch0000004?line=27'>28</a>\u001b[0m                                    \u001b[39m'\u001b[39;49m\u001b[39mBwd IAT Tot\u001b[39;49m\u001b[39m'\u001b[39;49m: convert_dtype_to_int,\n\u001b[1;32m     <a href='vscode-notebook-cell:/home/swnek/MlNetAttackDetector/preprocess/ddos_loic_http_udp.ipynb#ch0000004?line=28'>29</a>\u001b[0m                                    \u001b[39m'\u001b[39;49m\u001b[39mBwd IAT Mean\u001b[39;49m\u001b[39m'\u001b[39;49m: convert_dtype_to_float,\n\u001b[1;32m     <a href='vscode-notebook-cell:/home/swnek/MlNetAttackDetector/preprocess/ddos_loic_http_udp.ipynb#ch0000004?line=29'>30</a>\u001b[0m                                    \u001b[39m'\u001b[39;49m\u001b[39mBwd IAT Std\u001b[39;49m\u001b[39m'\u001b[39;49m: convert_dtype_to_float,\n\u001b[1;32m     <a href='vscode-notebook-cell:/home/swnek/MlNetAttackDetector/preprocess/ddos_loic_http_udp.ipynb#ch0000004?line=30'>31</a>\u001b[0m                                    \u001b[39m'\u001b[39;49m\u001b[39mBwd IAT Max\u001b[39;49m\u001b[39m'\u001b[39;49m: convert_dtype_to_int,\n\u001b[1;32m     <a href='vscode-notebook-cell:/home/swnek/MlNetAttackDetector/preprocess/ddos_loic_http_udp.ipynb#ch0000004?line=31'>32</a>\u001b[0m                                    \u001b[39m'\u001b[39;49m\u001b[39mBwd IAT Min\u001b[39;49m\u001b[39m'\u001b[39;49m: convert_dtype_to_int,\n\u001b[1;32m     <a href='vscode-notebook-cell:/home/swnek/MlNetAttackDetector/preprocess/ddos_loic_http_udp.ipynb#ch0000004?line=32'>33</a>\u001b[0m                                    \u001b[39m'\u001b[39;49m\u001b[39mFwd PSH Flags\u001b[39;49m\u001b[39m'\u001b[39;49m: convert_dtype_to_int,\n\u001b[1;32m     <a href='vscode-notebook-cell:/home/swnek/MlNetAttackDetector/preprocess/ddos_loic_http_udp.ipynb#ch0000004?line=33'>34</a>\u001b[0m                                    \u001b[39m'\u001b[39;49m\u001b[39mBwd PSH Flags\u001b[39;49m\u001b[39m'\u001b[39;49m: convert_dtype_to_int,\n\u001b[1;32m     <a href='vscode-notebook-cell:/home/swnek/MlNetAttackDetector/preprocess/ddos_loic_http_udp.ipynb#ch0000004?line=34'>35</a>\u001b[0m                                    \u001b[39m'\u001b[39;49m\u001b[39mFwd URG Flags\u001b[39;49m\u001b[39m'\u001b[39;49m: convert_dtype_to_int,\n\u001b[1;32m     <a href='vscode-notebook-cell:/home/swnek/MlNetAttackDetector/preprocess/ddos_loic_http_udp.ipynb#ch0000004?line=35'>36</a>\u001b[0m                                    \u001b[39m'\u001b[39;49m\u001b[39mBwd URG Flags\u001b[39;49m\u001b[39m'\u001b[39;49m: convert_dtype_to_int,\n\u001b[1;32m     <a href='vscode-notebook-cell:/home/swnek/MlNetAttackDetector/preprocess/ddos_loic_http_udp.ipynb#ch0000004?line=36'>37</a>\u001b[0m                                    \u001b[39m'\u001b[39;49m\u001b[39mFwd Header Len\u001b[39;49m\u001b[39m'\u001b[39;49m: convert_dtype_to_int,\n\u001b[1;32m     <a href='vscode-notebook-cell:/home/swnek/MlNetAttackDetector/preprocess/ddos_loic_http_udp.ipynb#ch0000004?line=37'>38</a>\u001b[0m                                    \u001b[39m'\u001b[39;49m\u001b[39mBwd Header Len\u001b[39;49m\u001b[39m'\u001b[39;49m: convert_dtype_to_int,\n\u001b[1;32m     <a href='vscode-notebook-cell:/home/swnek/MlNetAttackDetector/preprocess/ddos_loic_http_udp.ipynb#ch0000004?line=38'>39</a>\u001b[0m                                    \u001b[39m'\u001b[39;49m\u001b[39mFwd Pkts/s\u001b[39;49m\u001b[39m'\u001b[39;49m: convert_dtype_to_float,\n\u001b[1;32m     <a href='vscode-notebook-cell:/home/swnek/MlNetAttackDetector/preprocess/ddos_loic_http_udp.ipynb#ch0000004?line=39'>40</a>\u001b[0m                                    \u001b[39m'\u001b[39;49m\u001b[39mBwd Pkts/s\u001b[39;49m\u001b[39m'\u001b[39;49m: convert_dtype_to_float,\n\u001b[1;32m     <a href='vscode-notebook-cell:/home/swnek/MlNetAttackDetector/preprocess/ddos_loic_http_udp.ipynb#ch0000004?line=40'>41</a>\u001b[0m                                    \u001b[39m'\u001b[39;49m\u001b[39mPkt Len Min\u001b[39;49m\u001b[39m'\u001b[39;49m: convert_dtype_to_int,\n\u001b[1;32m     <a href='vscode-notebook-cell:/home/swnek/MlNetAttackDetector/preprocess/ddos_loic_http_udp.ipynb#ch0000004?line=41'>42</a>\u001b[0m                                    \u001b[39m'\u001b[39;49m\u001b[39mPkt Len Max\u001b[39;49m\u001b[39m'\u001b[39;49m: convert_dtype_to_int,\n\u001b[1;32m     <a href='vscode-notebook-cell:/home/swnek/MlNetAttackDetector/preprocess/ddos_loic_http_udp.ipynb#ch0000004?line=42'>43</a>\u001b[0m                                    \u001b[39m'\u001b[39;49m\u001b[39mPkt Len Mean\u001b[39;49m\u001b[39m'\u001b[39;49m: convert_dtype_to_float,\n\u001b[1;32m     <a href='vscode-notebook-cell:/home/swnek/MlNetAttackDetector/preprocess/ddos_loic_http_udp.ipynb#ch0000004?line=43'>44</a>\u001b[0m                                    \u001b[39m'\u001b[39;49m\u001b[39mPkt Len Std\u001b[39;49m\u001b[39m'\u001b[39;49m: convert_dtype_to_float,\n\u001b[1;32m     <a href='vscode-notebook-cell:/home/swnek/MlNetAttackDetector/preprocess/ddos_loic_http_udp.ipynb#ch0000004?line=44'>45</a>\u001b[0m                                    \u001b[39m'\u001b[39;49m\u001b[39mPkt Len Var\u001b[39;49m\u001b[39m'\u001b[39;49m: convert_dtype_to_float,\n\u001b[1;32m     <a href='vscode-notebook-cell:/home/swnek/MlNetAttackDetector/preprocess/ddos_loic_http_udp.ipynb#ch0000004?line=45'>46</a>\u001b[0m                                    \u001b[39m'\u001b[39;49m\u001b[39mFIN Flag Cnt\u001b[39;49m\u001b[39m'\u001b[39;49m: convert_dtype_to_int,\n\u001b[1;32m     <a href='vscode-notebook-cell:/home/swnek/MlNetAttackDetector/preprocess/ddos_loic_http_udp.ipynb#ch0000004?line=46'>47</a>\u001b[0m                                    \u001b[39m'\u001b[39;49m\u001b[39mSYN Flag Cnt\u001b[39;49m\u001b[39m'\u001b[39;49m: convert_dtype_to_int,\n\u001b[1;32m     <a href='vscode-notebook-cell:/home/swnek/MlNetAttackDetector/preprocess/ddos_loic_http_udp.ipynb#ch0000004?line=47'>48</a>\u001b[0m                                    \u001b[39m'\u001b[39;49m\u001b[39mRST Flag Cnt\u001b[39;49m\u001b[39m'\u001b[39;49m: convert_dtype_to_int,\n\u001b[1;32m     <a href='vscode-notebook-cell:/home/swnek/MlNetAttackDetector/preprocess/ddos_loic_http_udp.ipynb#ch0000004?line=48'>49</a>\u001b[0m                                    \u001b[39m'\u001b[39;49m\u001b[39mPSH Flag Cnt\u001b[39;49m\u001b[39m'\u001b[39;49m: convert_dtype_to_int,\n\u001b[1;32m     <a href='vscode-notebook-cell:/home/swnek/MlNetAttackDetector/preprocess/ddos_loic_http_udp.ipynb#ch0000004?line=49'>50</a>\u001b[0m                                    \u001b[39m'\u001b[39;49m\u001b[39mACK Flag Cnt\u001b[39;49m\u001b[39m'\u001b[39;49m: convert_dtype_to_int,\n\u001b[1;32m     <a href='vscode-notebook-cell:/home/swnek/MlNetAttackDetector/preprocess/ddos_loic_http_udp.ipynb#ch0000004?line=50'>51</a>\u001b[0m                                    \u001b[39m'\u001b[39;49m\u001b[39mURG Flag Cnt\u001b[39;49m\u001b[39m'\u001b[39;49m: convert_dtype_to_int,\n\u001b[1;32m     <a href='vscode-notebook-cell:/home/swnek/MlNetAttackDetector/preprocess/ddos_loic_http_udp.ipynb#ch0000004?line=51'>52</a>\u001b[0m                                    \u001b[39m'\u001b[39;49m\u001b[39mCWE Flag Count\u001b[39;49m\u001b[39m'\u001b[39;49m: convert_dtype_to_int,\n\u001b[1;32m     <a href='vscode-notebook-cell:/home/swnek/MlNetAttackDetector/preprocess/ddos_loic_http_udp.ipynb#ch0000004?line=52'>53</a>\u001b[0m                                    \u001b[39m'\u001b[39;49m\u001b[39mECE Flag Cnt\u001b[39;49m\u001b[39m'\u001b[39;49m: convert_dtype_to_int,\n\u001b[1;32m     <a href='vscode-notebook-cell:/home/swnek/MlNetAttackDetector/preprocess/ddos_loic_http_udp.ipynb#ch0000004?line=53'>54</a>\u001b[0m                                    \u001b[39m'\u001b[39;49m\u001b[39mDown/Up Ratio\u001b[39;49m\u001b[39m'\u001b[39;49m: convert_dtype_to_int,\n\u001b[1;32m     <a href='vscode-notebook-cell:/home/swnek/MlNetAttackDetector/preprocess/ddos_loic_http_udp.ipynb#ch0000004?line=54'>55</a>\u001b[0m                                    \u001b[39m'\u001b[39;49m\u001b[39mPkt Size Avg\u001b[39;49m\u001b[39m'\u001b[39;49m: convert_dtype_to_float,\n\u001b[1;32m     <a href='vscode-notebook-cell:/home/swnek/MlNetAttackDetector/preprocess/ddos_loic_http_udp.ipynb#ch0000004?line=55'>56</a>\u001b[0m                                    \u001b[39m'\u001b[39;49m\u001b[39mFwd Seg Size Avg\u001b[39;49m\u001b[39m'\u001b[39;49m: convert_dtype_to_float,\n\u001b[1;32m     <a href='vscode-notebook-cell:/home/swnek/MlNetAttackDetector/preprocess/ddos_loic_http_udp.ipynb#ch0000004?line=56'>57</a>\u001b[0m                                    \u001b[39m'\u001b[39;49m\u001b[39mBwd Seg Size Avg\u001b[39;49m\u001b[39m'\u001b[39;49m: convert_dtype_to_float,\n\u001b[1;32m     <a href='vscode-notebook-cell:/home/swnek/MlNetAttackDetector/preprocess/ddos_loic_http_udp.ipynb#ch0000004?line=57'>58</a>\u001b[0m                                    \u001b[39m'\u001b[39;49m\u001b[39mFwd Byts/b Avg\u001b[39;49m\u001b[39m'\u001b[39;49m: convert_dtype_to_int,\n\u001b[1;32m     <a href='vscode-notebook-cell:/home/swnek/MlNetAttackDetector/preprocess/ddos_loic_http_udp.ipynb#ch0000004?line=58'>59</a>\u001b[0m                                    \u001b[39m'\u001b[39;49m\u001b[39mFwd Pkts/b Avg\u001b[39;49m\u001b[39m'\u001b[39;49m: convert_dtype_to_int,\n\u001b[1;32m     <a href='vscode-notebook-cell:/home/swnek/MlNetAttackDetector/preprocess/ddos_loic_http_udp.ipynb#ch0000004?line=59'>60</a>\u001b[0m                                    \u001b[39m'\u001b[39;49m\u001b[39mFwd Blk Rate Avg\u001b[39;49m\u001b[39m'\u001b[39;49m: convert_dtype_to_int,\n\u001b[1;32m     <a href='vscode-notebook-cell:/home/swnek/MlNetAttackDetector/preprocess/ddos_loic_http_udp.ipynb#ch0000004?line=60'>61</a>\u001b[0m                                    \u001b[39m'\u001b[39;49m\u001b[39mBwd Byts/b Avg\u001b[39;49m\u001b[39m'\u001b[39;49m: convert_dtype_to_int,\n\u001b[1;32m     <a href='vscode-notebook-cell:/home/swnek/MlNetAttackDetector/preprocess/ddos_loic_http_udp.ipynb#ch0000004?line=61'>62</a>\u001b[0m                                    \u001b[39m'\u001b[39;49m\u001b[39mBwd Pkts/b Avg\u001b[39;49m\u001b[39m'\u001b[39;49m: convert_dtype_to_int,\n\u001b[1;32m     <a href='vscode-notebook-cell:/home/swnek/MlNetAttackDetector/preprocess/ddos_loic_http_udp.ipynb#ch0000004?line=62'>63</a>\u001b[0m                                    \u001b[39m'\u001b[39;49m\u001b[39mBwd Blk Rate Avg\u001b[39;49m\u001b[39m'\u001b[39;49m: convert_dtype_to_int,\n\u001b[1;32m     <a href='vscode-notebook-cell:/home/swnek/MlNetAttackDetector/preprocess/ddos_loic_http_udp.ipynb#ch0000004?line=63'>64</a>\u001b[0m                                    \u001b[39m'\u001b[39;49m\u001b[39mSubflow Fwd Pkts\u001b[39;49m\u001b[39m'\u001b[39;49m: convert_dtype_to_int,\n\u001b[1;32m     <a href='vscode-notebook-cell:/home/swnek/MlNetAttackDetector/preprocess/ddos_loic_http_udp.ipynb#ch0000004?line=64'>65</a>\u001b[0m                                    \u001b[39m'\u001b[39;49m\u001b[39mSubflow Fwd Byts\u001b[39;49m\u001b[39m'\u001b[39;49m: convert_dtype_to_int,\n\u001b[1;32m     <a href='vscode-notebook-cell:/home/swnek/MlNetAttackDetector/preprocess/ddos_loic_http_udp.ipynb#ch0000004?line=65'>66</a>\u001b[0m                                    \u001b[39m'\u001b[39;49m\u001b[39mSubflow Bwd Pkts\u001b[39;49m\u001b[39m'\u001b[39;49m: convert_dtype_to_int,\n\u001b[1;32m     <a href='vscode-notebook-cell:/home/swnek/MlNetAttackDetector/preprocess/ddos_loic_http_udp.ipynb#ch0000004?line=66'>67</a>\u001b[0m                                    \u001b[39m'\u001b[39;49m\u001b[39mSubflow Bwd Byts\u001b[39;49m\u001b[39m'\u001b[39;49m: convert_dtype_to_int,\n\u001b[1;32m     <a href='vscode-notebook-cell:/home/swnek/MlNetAttackDetector/preprocess/ddos_loic_http_udp.ipynb#ch0000004?line=67'>68</a>\u001b[0m                                    \u001b[39m'\u001b[39;49m\u001b[39mInit Fwd Win Byts\u001b[39;49m\u001b[39m'\u001b[39;49m: convert_dtype_to_int,\n\u001b[1;32m     <a href='vscode-notebook-cell:/home/swnek/MlNetAttackDetector/preprocess/ddos_loic_http_udp.ipynb#ch0000004?line=68'>69</a>\u001b[0m                                    \u001b[39m'\u001b[39;49m\u001b[39mInit Bwd Win Byts\u001b[39;49m\u001b[39m'\u001b[39;49m: convert_dtype_to_int,\n\u001b[1;32m     <a href='vscode-notebook-cell:/home/swnek/MlNetAttackDetector/preprocess/ddos_loic_http_udp.ipynb#ch0000004?line=69'>70</a>\u001b[0m                                    \u001b[39m'\u001b[39;49m\u001b[39mFwd Act Data Pkts\u001b[39;49m\u001b[39m'\u001b[39;49m: convert_dtype_to_int,\n\u001b[1;32m     <a href='vscode-notebook-cell:/home/swnek/MlNetAttackDetector/preprocess/ddos_loic_http_udp.ipynb#ch0000004?line=70'>71</a>\u001b[0m                                    \u001b[39m'\u001b[39;49m\u001b[39mFwd Seg Size Min\u001b[39;49m\u001b[39m'\u001b[39;49m: convert_dtype_to_int,\n\u001b[1;32m     <a href='vscode-notebook-cell:/home/swnek/MlNetAttackDetector/preprocess/ddos_loic_http_udp.ipynb#ch0000004?line=71'>72</a>\u001b[0m                                    \u001b[39m'\u001b[39;49m\u001b[39mActive Mean\u001b[39;49m\u001b[39m'\u001b[39;49m: convert_dtype_to_float,\n\u001b[1;32m     <a href='vscode-notebook-cell:/home/swnek/MlNetAttackDetector/preprocess/ddos_loic_http_udp.ipynb#ch0000004?line=72'>73</a>\u001b[0m                                    \u001b[39m'\u001b[39;49m\u001b[39mActive Std\u001b[39;49m\u001b[39m'\u001b[39;49m: convert_dtype_to_float,\n\u001b[1;32m     <a href='vscode-notebook-cell:/home/swnek/MlNetAttackDetector/preprocess/ddos_loic_http_udp.ipynb#ch0000004?line=73'>74</a>\u001b[0m                                    \u001b[39m'\u001b[39;49m\u001b[39mActive Max\u001b[39;49m\u001b[39m'\u001b[39;49m: convert_dtype_to_int,\n\u001b[1;32m     <a href='vscode-notebook-cell:/home/swnek/MlNetAttackDetector/preprocess/ddos_loic_http_udp.ipynb#ch0000004?line=74'>75</a>\u001b[0m                                    \u001b[39m'\u001b[39;49m\u001b[39mActive Min\u001b[39;49m\u001b[39m'\u001b[39;49m: convert_dtype_to_int,\n\u001b[1;32m     <a href='vscode-notebook-cell:/home/swnek/MlNetAttackDetector/preprocess/ddos_loic_http_udp.ipynb#ch0000004?line=75'>76</a>\u001b[0m                                    \u001b[39m'\u001b[39;49m\u001b[39mIdle Mean\u001b[39;49m\u001b[39m'\u001b[39;49m: convert_dtype_to_float,\n\u001b[1;32m     <a href='vscode-notebook-cell:/home/swnek/MlNetAttackDetector/preprocess/ddos_loic_http_udp.ipynb#ch0000004?line=76'>77</a>\u001b[0m                                    \u001b[39m'\u001b[39;49m\u001b[39mIdle Std\u001b[39;49m\u001b[39m'\u001b[39;49m: convert_dtype_to_float,\n\u001b[1;32m     <a href='vscode-notebook-cell:/home/swnek/MlNetAttackDetector/preprocess/ddos_loic_http_udp.ipynb#ch0000004?line=77'>78</a>\u001b[0m                                    \u001b[39m'\u001b[39;49m\u001b[39mIdle Max\u001b[39;49m\u001b[39m'\u001b[39;49m: convert_dtype_to_int,\n\u001b[1;32m     <a href='vscode-notebook-cell:/home/swnek/MlNetAttackDetector/preprocess/ddos_loic_http_udp.ipynb#ch0000004?line=78'>79</a>\u001b[0m                                    \u001b[39m'\u001b[39;49m\u001b[39mIdle Min\u001b[39;49m\u001b[39m'\u001b[39;49m: convert_dtype_to_int})\n\u001b[1;32m     <a href='vscode-notebook-cell:/home/swnek/MlNetAttackDetector/preprocess/ddos_loic_http_udp.ipynb#ch0000004?line=79'>80</a>\u001b[0m \u001b[39mprint\u001b[39m(\u001b[39m\"\u001b[39m\u001b[39mThe files have been imported\u001b[39m\u001b[39m\"\u001b[39m)\n",
      "File \u001b[0;32m~/.local/lib/python3.8/site-packages/pandas/util/_decorators.py:311\u001b[0m, in \u001b[0;36mdeprecate_nonkeyword_arguments.<locals>.decorate.<locals>.wrapper\u001b[0;34m(*args, **kwargs)\u001b[0m\n\u001b[1;32m    <a href='file:///home/swnek/.local/lib/python3.8/site-packages/pandas/util/_decorators.py?line=304'>305</a>\u001b[0m \u001b[39mif\u001b[39;00m \u001b[39mlen\u001b[39m(args) \u001b[39m>\u001b[39m num_allow_args:\n\u001b[1;32m    <a href='file:///home/swnek/.local/lib/python3.8/site-packages/pandas/util/_decorators.py?line=305'>306</a>\u001b[0m     warnings\u001b[39m.\u001b[39mwarn(\n\u001b[1;32m    <a href='file:///home/swnek/.local/lib/python3.8/site-packages/pandas/util/_decorators.py?line=306'>307</a>\u001b[0m         msg\u001b[39m.\u001b[39mformat(arguments\u001b[39m=\u001b[39marguments),\n\u001b[1;32m    <a href='file:///home/swnek/.local/lib/python3.8/site-packages/pandas/util/_decorators.py?line=307'>308</a>\u001b[0m         \u001b[39mFutureWarning\u001b[39;00m,\n\u001b[1;32m    <a href='file:///home/swnek/.local/lib/python3.8/site-packages/pandas/util/_decorators.py?line=308'>309</a>\u001b[0m         stacklevel\u001b[39m=\u001b[39mstacklevel,\n\u001b[1;32m    <a href='file:///home/swnek/.local/lib/python3.8/site-packages/pandas/util/_decorators.py?line=309'>310</a>\u001b[0m     )\n\u001b[0;32m--> <a href='file:///home/swnek/.local/lib/python3.8/site-packages/pandas/util/_decorators.py?line=310'>311</a>\u001b[0m \u001b[39mreturn\u001b[39;00m func(\u001b[39m*\u001b[39;49margs, \u001b[39m*\u001b[39;49m\u001b[39m*\u001b[39;49mkwargs)\n",
      "File \u001b[0;32m~/.local/lib/python3.8/site-packages/pandas/io/parsers/readers.py:680\u001b[0m, in \u001b[0;36mread_csv\u001b[0;34m(filepath_or_buffer, sep, delimiter, header, names, index_col, usecols, squeeze, prefix, mangle_dupe_cols, dtype, engine, converters, true_values, false_values, skipinitialspace, skiprows, skipfooter, nrows, na_values, keep_default_na, na_filter, verbose, skip_blank_lines, parse_dates, infer_datetime_format, keep_date_col, date_parser, dayfirst, cache_dates, iterator, chunksize, compression, thousands, decimal, lineterminator, quotechar, quoting, doublequote, escapechar, comment, encoding, encoding_errors, dialect, error_bad_lines, warn_bad_lines, on_bad_lines, delim_whitespace, low_memory, memory_map, float_precision, storage_options)\u001b[0m\n\u001b[1;32m    <a href='file:///home/swnek/.local/lib/python3.8/site-packages/pandas/io/parsers/readers.py?line=664'>665</a>\u001b[0m kwds_defaults \u001b[39m=\u001b[39m _refine_defaults_read(\n\u001b[1;32m    <a href='file:///home/swnek/.local/lib/python3.8/site-packages/pandas/io/parsers/readers.py?line=665'>666</a>\u001b[0m     dialect,\n\u001b[1;32m    <a href='file:///home/swnek/.local/lib/python3.8/site-packages/pandas/io/parsers/readers.py?line=666'>667</a>\u001b[0m     delimiter,\n\u001b[0;32m   (...)\u001b[0m\n\u001b[1;32m    <a href='file:///home/swnek/.local/lib/python3.8/site-packages/pandas/io/parsers/readers.py?line=675'>676</a>\u001b[0m     defaults\u001b[39m=\u001b[39m{\u001b[39m\"\u001b[39m\u001b[39mdelimiter\u001b[39m\u001b[39m\"\u001b[39m: \u001b[39m\"\u001b[39m\u001b[39m,\u001b[39m\u001b[39m\"\u001b[39m},\n\u001b[1;32m    <a href='file:///home/swnek/.local/lib/python3.8/site-packages/pandas/io/parsers/readers.py?line=676'>677</a>\u001b[0m )\n\u001b[1;32m    <a href='file:///home/swnek/.local/lib/python3.8/site-packages/pandas/io/parsers/readers.py?line=677'>678</a>\u001b[0m kwds\u001b[39m.\u001b[39mupdate(kwds_defaults)\n\u001b[0;32m--> <a href='file:///home/swnek/.local/lib/python3.8/site-packages/pandas/io/parsers/readers.py?line=679'>680</a>\u001b[0m \u001b[39mreturn\u001b[39;00m _read(filepath_or_buffer, kwds)\n",
      "File \u001b[0;32m~/.local/lib/python3.8/site-packages/pandas/io/parsers/readers.py:581\u001b[0m, in \u001b[0;36m_read\u001b[0;34m(filepath_or_buffer, kwds)\u001b[0m\n\u001b[1;32m    <a href='file:///home/swnek/.local/lib/python3.8/site-packages/pandas/io/parsers/readers.py?line=577'>578</a>\u001b[0m     \u001b[39mreturn\u001b[39;00m parser\n\u001b[1;32m    <a href='file:///home/swnek/.local/lib/python3.8/site-packages/pandas/io/parsers/readers.py?line=579'>580</a>\u001b[0m \u001b[39mwith\u001b[39;00m parser:\n\u001b[0;32m--> <a href='file:///home/swnek/.local/lib/python3.8/site-packages/pandas/io/parsers/readers.py?line=580'>581</a>\u001b[0m     \u001b[39mreturn\u001b[39;00m parser\u001b[39m.\u001b[39;49mread(nrows)\n",
      "File \u001b[0;32m~/.local/lib/python3.8/site-packages/pandas/io/parsers/readers.py:1250\u001b[0m, in \u001b[0;36mTextFileReader.read\u001b[0;34m(self, nrows)\u001b[0m\n\u001b[1;32m   <a href='file:///home/swnek/.local/lib/python3.8/site-packages/pandas/io/parsers/readers.py?line=1247'>1248</a>\u001b[0m nrows \u001b[39m=\u001b[39m validate_integer(\u001b[39m\"\u001b[39m\u001b[39mnrows\u001b[39m\u001b[39m\"\u001b[39m, nrows)\n\u001b[1;32m   <a href='file:///home/swnek/.local/lib/python3.8/site-packages/pandas/io/parsers/readers.py?line=1248'>1249</a>\u001b[0m \u001b[39mtry\u001b[39;00m:\n\u001b[0;32m-> <a href='file:///home/swnek/.local/lib/python3.8/site-packages/pandas/io/parsers/readers.py?line=1249'>1250</a>\u001b[0m     index, columns, col_dict \u001b[39m=\u001b[39m \u001b[39mself\u001b[39;49m\u001b[39m.\u001b[39;49m_engine\u001b[39m.\u001b[39;49mread(nrows)\n\u001b[1;32m   <a href='file:///home/swnek/.local/lib/python3.8/site-packages/pandas/io/parsers/readers.py?line=1250'>1251</a>\u001b[0m \u001b[39mexcept\u001b[39;00m \u001b[39mException\u001b[39;00m:\n\u001b[1;32m   <a href='file:///home/swnek/.local/lib/python3.8/site-packages/pandas/io/parsers/readers.py?line=1251'>1252</a>\u001b[0m     \u001b[39mself\u001b[39m\u001b[39m.\u001b[39mclose()\n",
      "File \u001b[0;32m~/.local/lib/python3.8/site-packages/pandas/io/parsers/c_parser_wrapper.py:230\u001b[0m, in \u001b[0;36mCParserWrapper.read\u001b[0;34m(self, nrows)\u001b[0m\n\u001b[1;32m    <a href='file:///home/swnek/.local/lib/python3.8/site-packages/pandas/io/parsers/c_parser_wrapper.py?line=226'>227</a>\u001b[0m         data \u001b[39m=\u001b[39m _concatenate_chunks(chunks)\n\u001b[1;32m    <a href='file:///home/swnek/.local/lib/python3.8/site-packages/pandas/io/parsers/c_parser_wrapper.py?line=228'>229</a>\u001b[0m     \u001b[39melse\u001b[39;00m:\n\u001b[0;32m--> <a href='file:///home/swnek/.local/lib/python3.8/site-packages/pandas/io/parsers/c_parser_wrapper.py?line=229'>230</a>\u001b[0m         data \u001b[39m=\u001b[39m \u001b[39mself\u001b[39;49m\u001b[39m.\u001b[39;49m_reader\u001b[39m.\u001b[39;49mread(nrows)\n\u001b[1;32m    <a href='file:///home/swnek/.local/lib/python3.8/site-packages/pandas/io/parsers/c_parser_wrapper.py?line=230'>231</a>\u001b[0m \u001b[39mexcept\u001b[39;00m \u001b[39mStopIteration\u001b[39;00m:\n\u001b[1;32m    <a href='file:///home/swnek/.local/lib/python3.8/site-packages/pandas/io/parsers/c_parser_wrapper.py?line=231'>232</a>\u001b[0m     \u001b[39mif\u001b[39;00m \u001b[39mself\u001b[39m\u001b[39m.\u001b[39m_first_chunk:\n",
      "File \u001b[0;32m~/.local/lib/python3.8/site-packages/pandas/_libs/parsers.pyx:787\u001b[0m, in \u001b[0;36mpandas._libs.parsers.TextReader.read\u001b[0;34m()\u001b[0m\n",
      "File \u001b[0;32m~/.local/lib/python3.8/site-packages/pandas/_libs/parsers.pyx:876\u001b[0m, in \u001b[0;36mpandas._libs.parsers.TextReader._read_rows\u001b[0;34m()\u001b[0m\n",
      "File \u001b[0;32m~/.local/lib/python3.8/site-packages/pandas/_libs/parsers.pyx:1960\u001b[0m, in \u001b[0;36mpandas._libs.parsers.raise_parser_error\u001b[0;34m()\u001b[0m\n",
      "\u001b[0;31mParserError\u001b[0m: Error tokenizing data. C error: Calling read(nbytes) on source failed. Try engine='python'."
     ]
    }
   ],
   "source": [
    "rawsData = pd.read_csv('datasets/Thuesday-20-02-2018_TrafficForML_CICFlowMeter.csv',low_memory=False,\n",
    "                       converters={'Dst Port': convert_dtype_to_int,\n",
    "                                   'Protocol': convert_dtype_to_int,\n",
    "                                   'Flow Duration': convert_dtype_to_int,\n",
    "                                   'Tot Fwd Pkts': convert_dtype_to_int,\n",
    "                                   'Tot Bwd Pkts': convert_dtype_to_int,\n",
    "                                   'TotLen Fwd Pkts': convert_dtype_to_int,\n",
    "                                   'TotLen Bwd Pkts': convert_dtype_to_int,\n",
    "                                   'Fwd Pkt Len Max': convert_dtype_to_int,\n",
    "                                   'Fwd Pkt Len Min': convert_dtype_to_int,\n",
    "                                   'Fwd Pkt Len Mean': convert_dtype_to_float,\n",
    "                                   'Fwd Pkt Len Std': convert_dtype_to_float,\n",
    "                                   'Bwd Pkt Len Max': convert_dtype_to_int,\n",
    "                                   'Bwd Pkt Len Min': convert_dtype_to_int,\n",
    "                                   'Bwd Pkt Len Mean': convert_dtype_to_float,\n",
    "                                   'Bwd Pkt Len Std': convert_dtype_to_float,\n",
    "                                   'Flow Byts/s': convert_dtype_to_float,\n",
    "                                   'Flow Pkts/s': convert_dtype_to_float,\n",
    "                                   'Flow IAT Mean': convert_dtype_to_float,\n",
    "                                   'Flow IAT Std': convert_dtype_to_float,\n",
    "                                   'Flow IAT Max': convert_dtype_to_int,\n",
    "                                   'Flow IAT Min': convert_dtype_to_int,\n",
    "                                   'Fwd IAT Tot': convert_dtype_to_int,\n",
    "                                   'Fwd IAT Mean': convert_dtype_to_float,\n",
    "                                   'Fwd IAT Std': convert_dtype_to_float,\n",
    "                                   'Fwd IAT Max': convert_dtype_to_int,\n",
    "                                   'Fwd IAT Min': convert_dtype_to_int,\n",
    "                                   'Bwd IAT Tot': convert_dtype_to_int,\n",
    "                                   'Bwd IAT Mean': convert_dtype_to_float,\n",
    "                                   'Bwd IAT Std': convert_dtype_to_float,\n",
    "                                   'Bwd IAT Max': convert_dtype_to_int,\n",
    "                                   'Bwd IAT Min': convert_dtype_to_int,\n",
    "                                   'Fwd PSH Flags': convert_dtype_to_int,\n",
    "                                   'Bwd PSH Flags': convert_dtype_to_int,\n",
    "                                   'Fwd URG Flags': convert_dtype_to_int,\n",
    "                                   'Bwd URG Flags': convert_dtype_to_int,\n",
    "                                   'Fwd Header Len': convert_dtype_to_int,\n",
    "                                   'Bwd Header Len': convert_dtype_to_int,\n",
    "                                   'Fwd Pkts/s': convert_dtype_to_float,\n",
    "                                   'Bwd Pkts/s': convert_dtype_to_float,\n",
    "                                   'Pkt Len Min': convert_dtype_to_int,\n",
    "                                   'Pkt Len Max': convert_dtype_to_int,\n",
    "                                   'Pkt Len Mean': convert_dtype_to_float,\n",
    "                                   'Pkt Len Std': convert_dtype_to_float,\n",
    "                                   'Pkt Len Var': convert_dtype_to_float,\n",
    "                                   'FIN Flag Cnt': convert_dtype_to_int,\n",
    "                                   'SYN Flag Cnt': convert_dtype_to_int,\n",
    "                                   'RST Flag Cnt': convert_dtype_to_int,\n",
    "                                   'PSH Flag Cnt': convert_dtype_to_int,\n",
    "                                   'ACK Flag Cnt': convert_dtype_to_int,\n",
    "                                   'URG Flag Cnt': convert_dtype_to_int,\n",
    "                                   'CWE Flag Count': convert_dtype_to_int,\n",
    "                                   'ECE Flag Cnt': convert_dtype_to_int,\n",
    "                                   'Down/Up Ratio': convert_dtype_to_int,\n",
    "                                   'Pkt Size Avg': convert_dtype_to_float,\n",
    "                                   'Fwd Seg Size Avg': convert_dtype_to_float,\n",
    "                                   'Bwd Seg Size Avg': convert_dtype_to_float,\n",
    "                                   'Fwd Byts/b Avg': convert_dtype_to_int,\n",
    "                                   'Fwd Pkts/b Avg': convert_dtype_to_int,\n",
    "                                   'Fwd Blk Rate Avg': convert_dtype_to_int,\n",
    "                                   'Bwd Byts/b Avg': convert_dtype_to_int,\n",
    "                                   'Bwd Pkts/b Avg': convert_dtype_to_int,\n",
    "                                   'Bwd Blk Rate Avg': convert_dtype_to_int,\n",
    "                                   'Subflow Fwd Pkts': convert_dtype_to_int,\n",
    "                                   'Subflow Fwd Byts': convert_dtype_to_int,\n",
    "                                   'Subflow Bwd Pkts': convert_dtype_to_int,\n",
    "                                   'Subflow Bwd Byts': convert_dtype_to_int,\n",
    "                                   'Init Fwd Win Byts': convert_dtype_to_int,\n",
    "                                   'Init Bwd Win Byts': convert_dtype_to_int,\n",
    "                                   'Fwd Act Data Pkts': convert_dtype_to_int,\n",
    "                                   'Fwd Seg Size Min': convert_dtype_to_int,\n",
    "                                   'Active Mean': convert_dtype_to_float,\n",
    "                                   'Active Std': convert_dtype_to_float,\n",
    "                                   'Active Max': convert_dtype_to_int,\n",
    "                                   'Active Min': convert_dtype_to_int,\n",
    "                                   'Idle Mean': convert_dtype_to_float,\n",
    "                                   'Idle Std': convert_dtype_to_float,\n",
    "                                   'Idle Max': convert_dtype_to_int,\n",
    "                                   'Idle Min': convert_dtype_to_int})\n",
    "print(\"The files have been imported\")\n"
   ]
  },
  {
   "cell_type": "code",
   "execution_count": null,
   "id": "c8981180",
   "metadata": {},
   "outputs": [],
   "source": [
    "columnsToDrop = [\n",
    "    'Flow Pkts/s',\n",
    "    'Timestamp',\n",
    "    'Active Max',\n",
    "    'Active Min',\n",
    "    'Active Std',\n",
    "    'Bwd IAT Max',\n",
    "    'Bwd IAT Min',\n",
    "    'Bwd IAT Std',\n",
    "    'Bwd IAT Tot',\n",
    "    'Bwd Pkt Len Max',\n",
    "    'Bwd Pkt Len Min',\n",
    "    'Bwd Pkt Len Std',\n",
    "    'Flow IAT Max',\n",
    "    'Flow IAT Min',\n",
    "    'Flow IAT Std',\n",
    "    'Fwd IAT Max',\n",
    "    'Fwd IAT Min',\n",
    "    'Fwd IAT Std',\n",
    "    'Fwd IAT Tot',\n",
    "    'Fwd Pkt Len Max',\n",
    "    'Fwd Pkt Len Min',\n",
    "    'Fwd Pkt Len Std',\n",
    "    'Idle Max',\n",
    "    'Idle Min',\n",
    "    'Idle Std',\n",
    "    'Pkt Len Max',\n",
    "    'Pkt Len Min',\n",
    "    'Pkt Len Std']\n",
    "\n",
    "rawsData = rawsData.drop(columnsToDrop, axis=1)\n"
   ]
  },
  {
   "cell_type": "code",
   "execution_count": null,
   "id": "fe159507",
   "metadata": {},
   "outputs": [],
   "source": [
    "LABEL = 'Label'\n",
    "NORMAL = 'Benign'\n",
    "HTTP = 'DoS attacks-SlowHTTPTest'\n",
    "HULK = 'DoS attacks-Hulk'\n"
   ]
  },
  {
   "cell_type": "code",
   "execution_count": null,
   "id": "2eabc0fd",
   "metadata": {},
   "outputs": [],
   "source": [
    "rawNormal = rawsData[rawsData[LABEL] == NORMAL]\n",
    "rawHttp = rawsData[rawsData[LABEL] == HTTP]\n",
    "rawHulk = rawsData[rawsData[LABEL] == HULK]\n"
   ]
  },
  {
   "cell_type": "code",
   "execution_count": null,
   "id": "d760ac04",
   "metadata": {},
   "outputs": [],
   "source": [
    "from operator import itemgetter\n",
    "\n",
    "FEATURE = 'Feature'\n",
    "COUNT = 'Count'\n",
    "\n",
    "\n",
    "def getNotDuplicatedFeatures(data):\n",
    "    result = []\n",
    "    for column in data.keys():\n",
    "        feature = data[column]\n",
    "        feature = feature.drop_duplicates()\n",
    "        result.append({FEATURE: column, COUNT: feature.shape[0]})\n",
    "    return sorted(result, key=itemgetter(COUNT), reverse=True)\n"
   ]
  },
  {
   "cell_type": "code",
   "execution_count": null,
   "id": "e26a1905",
   "metadata": {},
   "outputs": [],
   "source": [
    "def specialPrint(data):\n",
    "    for feature in data:\n",
    "        print('{0:17}  {1}'.format(feature[FEATURE], feature[COUNT]))\n"
   ]
  },
  {
   "cell_type": "code",
   "execution_count": null,
   "id": "1851d5bf",
   "metadata": {},
   "outputs": [],
   "source": [
    "countedRawNormal = getNotDuplicatedFeatures(rawNormal)\n",
    "countedRawHttp = getNotDuplicatedFeatures(rawHttp)\n",
    "countedRawHulk = getNotDuplicatedFeatures(rawHulk)\n"
   ]
  },
  {
   "cell_type": "code",
   "execution_count": null,
   "id": "abb2de6c",
   "metadata": {},
   "outputs": [
    {
     "name": "stdout",
     "output_type": "stream",
     "text": [
      "Unnamed: 0         446772\n",
      "Flow Byts/s        441226\n",
      "Flow IAT Mean      383873\n",
      "Bwd Pkts/s         382763\n",
      "Fwd Pkts/s         370489\n",
      "Flow Duration      364777\n",
      "Fwd IAT Mean       360931\n",
      "Bwd IAT Mean       198192\n",
      "Idle Mean          45441\n",
      "Dst Port           14135\n",
      "Active Mean        4815\n",
      "Pkt Len Var        1763\n",
      "Pkt Len Mean       1715\n",
      "Pkt Size Avg       1689\n",
      "Bwd Pkt Len Mean   1441\n",
      "Bwd Seg Size Avg   1441\n",
      "TotLen Bwd Pkts    695\n",
      "Subflow Bwd Byts   695\n",
      "Bwd Header Len     54\n",
      "Fwd Pkt Len Mean   49\n",
      "Fwd Seg Size Avg   49\n",
      "Fwd Header Len     36\n",
      "TotLen Fwd Pkts    34\n",
      "Subflow Fwd Byts   34\n",
      "Tot Fwd Pkts       22\n",
      "Subflow Fwd Pkts   22\n",
      "Init Fwd Win Byts  22\n",
      "Tot Bwd Pkts       21\n",
      "Subflow Bwd Pkts   21\n",
      "Init Bwd Win Byts  21\n",
      "Fwd Act Data Pkts  14\n",
      "Down/Up Ratio      5\n",
      "Fwd Seg Size Min   4\n",
      "Protocol           3\n",
      "Fwd PSH Flags      2\n",
      "SYN Flag Cnt       2\n",
      "RST Flag Cnt       2\n",
      "PSH Flag Cnt       2\n",
      "ACK Flag Cnt       2\n",
      "URG Flag Cnt       2\n",
      "ECE Flag Cnt       2\n",
      "Bwd PSH Flags      1\n",
      "Fwd URG Flags      1\n",
      "Bwd URG Flags      1\n",
      "FIN Flag Cnt       1\n",
      "CWE Flag Count     1\n",
      "Fwd Byts/b Avg     1\n",
      "Fwd Pkts/b Avg     1\n",
      "Fwd Blk Rate Avg   1\n",
      "Bwd Byts/b Avg     1\n",
      "Bwd Pkts/b Avg     1\n",
      "Bwd Blk Rate Avg   1\n",
      "Label              1\n"
     ]
    }
   ],
   "source": [
    "specialPrint(countedRawNormal)\n",
    "# Flow Byts/s        441226\n",
    "# Flow IAT Mean      383873\n",
    "# Bwd Pkts/s         382763\n",
    "# Fwd Pkts/s         370489\n",
    "# Flow Duration      364777\n",
    "# Fwd IAT Mean       360931\n",
    "# Bwd IAT Mean       198192\n",
    "# Idle Mean          45441\n",
    "# Dst Port           14135\n",
    "# Active Mean        4815\n",
    "# Pkt Len Var        1763\n",
    "# Pkt Len Mean       1715\n",
    "# Pkt Size Avg       1689\n",
    "# Bwd Pkt Len Mean   1441\n",
    "# Bwd Seg Size Avg   1441\n",
    "# TotLen Bwd Pkts    695\n",
    "# Subflow Bwd Byts   695\n",
    "# Bwd Header Len     54\n",
    "# Fwd Pkt Len Mean   49\n",
    "# Fwd Seg Size Avg   49\n",
    "# Fwd Header Len     36\n",
    "# TotLen Fwd Pkts    34\n",
    "# Subflow Fwd Byts   34\n",
    "# Tot Fwd Pkts       22\n",
    "# Subflow Fwd Pkts   22\n",
    "# Init Fwd Win Byts  22\n",
    "# Tot Bwd Pkts       21\n",
    "# Subflow Bwd Pkts   21\n",
    "# Init Bwd Win Byts  21\n",
    "# Fwd Act Data Pkts  14\n",
    "# Down/Up Ratio      5\n",
    "# Fwd Seg Size Min   4\n",
    "# Protocol           3\n",
    "# Fwd PSH Flags      2\n",
    "# SYN Flag Cnt       2\n",
    "# RST Flag Cnt       2\n",
    "# PSH Flag Cnt       2\n",
    "# ACK Flag Cnt       2\n",
    "# URG Flag Cnt       2\n",
    "# ECE Flag Cnt       2\n",
    "# Bwd PSH Flags      1\n",
    "# Fwd URG Flags      1\n",
    "# Bwd URG Flags      1\n",
    "# FIN Flag Cnt       1\n",
    "# CWE Flag Count     1\n",
    "# Fwd Byts/b Avg     1\n",
    "# Fwd Pkts/b Avg     1\n",
    "# Fwd Blk Rate Avg   1\n",
    "# Bwd Byts/b Avg     1\n",
    "# Bwd Pkts/b Avg     1\n",
    "# Bwd Blk Rate Avg   1\n",
    "# Label              1\n"
   ]
  },
  {
   "cell_type": "code",
   "execution_count": null,
   "id": "40a0e43c",
   "metadata": {},
   "outputs": [
    {
     "name": "stdout",
     "output_type": "stream",
     "text": [
      "Unnamed: 0         139889\n",
      "Flow Duration      55\n",
      "Flow IAT Mean      55\n",
      "Fwd Pkts/s         55\n",
      "Bwd Pkts/s         55\n",
      "Dst Port           1\n",
      "Protocol           1\n",
      "Tot Fwd Pkts       1\n",
      "Tot Bwd Pkts       1\n",
      "TotLen Fwd Pkts    1\n",
      "TotLen Bwd Pkts    1\n",
      "Fwd Pkt Len Mean   1\n",
      "Bwd Pkt Len Mean   1\n",
      "Flow Byts/s        1\n",
      "Fwd IAT Mean       1\n",
      "Bwd IAT Mean       1\n",
      "Fwd PSH Flags      1\n",
      "Bwd PSH Flags      1\n",
      "Fwd URG Flags      1\n",
      "Bwd URG Flags      1\n",
      "Fwd Header Len     1\n",
      "Bwd Header Len     1\n",
      "Pkt Len Mean       1\n",
      "Pkt Len Var        1\n",
      "FIN Flag Cnt       1\n",
      "SYN Flag Cnt       1\n",
      "RST Flag Cnt       1\n",
      "PSH Flag Cnt       1\n",
      "ACK Flag Cnt       1\n",
      "URG Flag Cnt       1\n",
      "CWE Flag Count     1\n",
      "ECE Flag Cnt       1\n",
      "Down/Up Ratio      1\n",
      "Pkt Size Avg       1\n",
      "Fwd Seg Size Avg   1\n",
      "Bwd Seg Size Avg   1\n",
      "Fwd Byts/b Avg     1\n",
      "Fwd Pkts/b Avg     1\n",
      "Fwd Blk Rate Avg   1\n",
      "Bwd Byts/b Avg     1\n",
      "Bwd Pkts/b Avg     1\n",
      "Bwd Blk Rate Avg   1\n",
      "Subflow Fwd Pkts   1\n",
      "Subflow Fwd Byts   1\n",
      "Subflow Bwd Pkts   1\n",
      "Subflow Bwd Byts   1\n",
      "Init Fwd Win Byts  1\n",
      "Init Bwd Win Byts  1\n",
      "Fwd Act Data Pkts  1\n",
      "Fwd Seg Size Min   1\n",
      "Active Mean        1\n",
      "Idle Mean          1\n",
      "Label              1\n"
     ]
    }
   ],
   "source": [
    "specialPrint(countedRawHttp)\n",
    "# Flow Duration      55\n",
    "# Flow IAT Mean      55\n",
    "# Fwd Pkts/s         55\n",
    "# Bwd Pkts/s         55\n",
    "# Dst Port           1\n",
    "# Protocol           1\n",
    "# Tot Fwd Pkts       1\n",
    "# Tot Bwd Pkts       1\n",
    "# TotLen Fwd Pkts    1\n",
    "# TotLen Bwd Pkts    1\n",
    "# Fwd Pkt Len Mean   1\n",
    "# Bwd Pkt Len Mean   1\n",
    "# Flow Byts/s        1\n",
    "# Fwd IAT Mean       1\n",
    "# Bwd IAT Mean       1\n",
    "# Fwd PSH Flags      1\n",
    "# Bwd PSH Flags      1\n",
    "# Fwd URG Flags      1\n",
    "# Bwd URG Flags      1\n",
    "# Fwd Header Len     1\n",
    "# Bwd Header Len     1\n",
    "# Pkt Len Mean       1\n",
    "# Pkt Len Var        1\n",
    "# FIN Flag Cnt       1\n",
    "# SYN Flag Cnt       1\n",
    "# RST Flag Cnt       1\n",
    "# PSH Flag Cnt       1\n",
    "# ACK Flag Cnt       1\n",
    "# URG Flag Cnt       1\n",
    "# CWE Flag Count     1\n",
    "# ECE Flag Cnt       1\n",
    "# Down/Up Ratio      1\n",
    "# Pkt Size Avg       1\n",
    "# Fwd Seg Size Avg   1\n",
    "# Bwd Seg Size Avg   1\n",
    "# Fwd Byts/b Avg     1\n",
    "# Fwd Pkts/b Avg     1\n",
    "# Fwd Blk Rate Avg   1\n",
    "# Bwd Byts/b Avg     1\n",
    "# Bwd Pkts/b Avg     1\n",
    "# Bwd Blk Rate Avg   1\n",
    "# Subflow Fwd Pkts   1\n",
    "# Subflow Fwd Byts   1\n",
    "# Subflow Bwd Pkts   1\n",
    "# Subflow Bwd Byts   1\n",
    "# Init Fwd Win Byts  1\n",
    "# Init Bwd Win Byts  1\n",
    "# Fwd Act Data Pkts  1\n",
    "# Fwd Seg Size Min   1\n",
    "# Active Mean        1\n",
    "# Idle Mean          1\n",
    "# Label              1\n"
   ]
  },
  {
   "cell_type": "code",
   "execution_count": null,
   "id": "a6d9fed2",
   "metadata": {},
   "outputs": [
    {
     "name": "stdout",
     "output_type": "stream",
     "text": [
      "Unnamed: 0         461912\n",
      "Fwd Pkts/s         104723\n",
      "Flow IAT Mean      101460\n",
      "Flow Duration      96028\n",
      "Fwd IAT Mean       95409\n",
      "Flow Byts/s        25514\n",
      "Bwd Pkts/s         23996\n",
      "Bwd IAT Mean       22946\n",
      "Pkt Len Var        1237\n",
      "Pkt Len Mean       1204\n",
      "Pkt Size Avg       1200\n",
      "Active Mean        1025\n",
      "Fwd Pkt Len Mean   868\n",
      "Fwd Seg Size Avg   868\n",
      "Idle Mean          669\n",
      "TotLen Fwd Pkts    429\n",
      "Subflow Fwd Byts   429\n",
      "Fwd Header Len     27\n",
      "Tot Fwd Pkts       8\n",
      "Subflow Fwd Pkts   8\n",
      "Fwd Act Data Pkts  6\n",
      "Tot Bwd Pkts       4\n",
      "Bwd Pkt Len Mean   4\n",
      "Bwd Header Len     4\n",
      "Bwd Seg Size Avg   4\n",
      "Subflow Bwd Pkts   4\n",
      "Init Fwd Win Byts  3\n",
      "Init Bwd Win Byts  3\n",
      "TotLen Bwd Pkts    2\n",
      "FIN Flag Cnt       2\n",
      "PSH Flag Cnt       2\n",
      "ACK Flag Cnt       2\n",
      "URG Flag Cnt       2\n",
      "Down/Up Ratio      2\n",
      "Subflow Bwd Byts   2\n",
      "Fwd Seg Size Min   2\n",
      "Dst Port           1\n",
      "Protocol           1\n",
      "Fwd PSH Flags      1\n",
      "Bwd PSH Flags      1\n",
      "Fwd URG Flags      1\n",
      "Bwd URG Flags      1\n",
      "SYN Flag Cnt       1\n",
      "RST Flag Cnt       1\n",
      "CWE Flag Count     1\n",
      "ECE Flag Cnt       1\n",
      "Fwd Byts/b Avg     1\n",
      "Fwd Pkts/b Avg     1\n",
      "Fwd Blk Rate Avg   1\n",
      "Bwd Byts/b Avg     1\n",
      "Bwd Pkts/b Avg     1\n",
      "Bwd Blk Rate Avg   1\n",
      "Label              1\n"
     ]
    }
   ],
   "source": [
    "specialPrint(countedRawHulk)\n",
    "# Fwd Pkts/s         104723\n",
    "# Flow IAT Mean      101460\n",
    "# Flow Duration      96028\n",
    "# Fwd IAT Mean       95409\n",
    "# Flow Byts/s        25514\n",
    "# Bwd Pkts/s         23996\n",
    "# Bwd IAT Mean       22946\n",
    "# Pkt Len Var        1237\n",
    "# Pkt Len Mean       1204\n",
    "# Pkt Size Avg       1200\n",
    "# Active Mean        1025\n",
    "# Fwd Pkt Len Mean   868\n",
    "# Fwd Seg Size Avg   868\n",
    "# Idle Mean          669\n",
    "# TotLen Fwd Pkts    429\n",
    "# Subflow Fwd Byts   429\n",
    "# Fwd Header Len     27\n",
    "# Tot Fwd Pkts       8\n",
    "# Subflow Fwd Pkts   8\n",
    "# Fwd Act Data Pkts  6\n",
    "# Tot Bwd Pkts       4\n",
    "# Bwd Pkt Len Mean   4\n",
    "# Bwd Header Len     4\n",
    "# Bwd Seg Size Avg   4\n",
    "# Subflow Bwd Pkts   4\n",
    "# Init Fwd Win Byts  3\n",
    "# Init Bwd Win Byts  3\n",
    "# TotLen Bwd Pkts    2\n",
    "# FIN Flag Cnt       2\n",
    "# PSH Flag Cnt       2\n",
    "# ACK Flag Cnt       2\n",
    "# URG Flag Cnt       2\n",
    "# Down/Up Ratio      2\n",
    "# Subflow Bwd Byts   2\n",
    "# Fwd Seg Size Min   2\n",
    "# Dst Port           1\n",
    "# Protocol           1\n",
    "# Fwd PSH Flags      1\n",
    "# Bwd PSH Flags      1\n",
    "# Fwd URG Flags      1\n",
    "# Bwd URG Flags      1\n",
    "# SYN Flag Cnt       1\n",
    "# RST Flag Cnt       1\n",
    "# CWE Flag Count     1\n",
    "# ECE Flag Cnt       1\n",
    "# Fwd Byts/b Avg     1\n",
    "# Fwd Pkts/b Avg     1\n",
    "# Fwd Blk Rate Avg   1\n",
    "# Bwd Byts/b Avg     1\n",
    "# Bwd Pkts/b Avg     1\n",
    "# Bwd Blk Rate Avg   1\n",
    "# Label              1\n"
   ]
  },
  {
   "cell_type": "code",
   "execution_count": null,
   "id": "aaf1c860",
   "metadata": {},
   "outputs": [
    {
     "data": {
      "text/html": [
       "        <script type=\"text/javascript\">\n",
       "        window.PlotlyConfig = {MathJaxConfig: 'local'};\n",
       "        if (window.MathJax) {MathJax.Hub.Config({SVG: {font: \"STIX-Web\"}});}\n",
       "        if (typeof require !== 'undefined') {\n",
       "        require.undef(\"plotly\");\n",
       "        requirejs.config({\n",
       "            paths: {\n",
       "                'plotly': ['https://cdn.plot.ly/plotly-2.9.0.min']\n",
       "            }\n",
       "        });\n",
       "        require(['plotly'], function(Plotly) {\n",
       "            window._Plotly = Plotly;\n",
       "        });\n",
       "        }\n",
       "        </script>\n",
       "        "
      ]
     },
     "metadata": {},
     "output_type": "display_data"
    }
   ],
   "source": [
    "import plotly.graph_objs as go\n",
    "from plotly.offline import init_notebook_mode, iplot\n",
    "init_notebook_mode(connected=True)\n",
    "\n",
    "\n",
    "def showAttackDistribution(data):\n",
    "    counted = data.value_counts()\n",
    "\n",
    "    fig = go.Figure(data=[\n",
    "        go.Bar(name=NORMAL,\n",
    "               y=[counted[NORMAL]],\n",
    "               x=[NORMAL],\n",
    "               text=str(counted[NORMAL]),\n",
    "               orientation='v',\n",
    "               textposition='outside',),\n",
    "        go.Bar(name=HTTP,\n",
    "               y=[counted[HTTP]],\n",
    "               x=[HTTP],\n",
    "               text=str(counted[HTTP]),\n",
    "               orientation='v',\n",
    "               textposition='outside',),\n",
    "        go.Bar(name=HULK,\n",
    "               y=[counted[HULK]],\n",
    "               x=[HULK],\n",
    "               text=str(counted[HULK]),\n",
    "               orientation='v',\n",
    "               textposition='outside',)\n",
    "    ])\n",
    "    # Change the bar mode\n",
    "    fig.update_layout(\n",
    "        width=800,\n",
    "        height=600,\n",
    "        title=f'Labels Distribution',\n",
    "        yaxis_title='Number of attacks',\n",
    "        xaxis_title='Attack Name',)\n",
    "    iplot(fig)\n"
   ]
  },
  {
   "cell_type": "code",
   "execution_count": null,
   "id": "0687c881",
   "metadata": {},
   "outputs": [
    {
     "data": {
      "application/vnd.plotly.v1+json": {
       "config": {
        "linkText": "Export to plot.ly",
        "plotlyServerURL": "https://plot.ly",
        "showLink": false
       },
       "data": [
        {
         "name": "Benign",
         "orientation": "v",
         "text": "446772",
         "textposition": "outside",
         "type": "bar",
         "x": [
          "Benign"
         ],
         "y": [
          446772
         ]
        },
        {
         "name": "DoS attacks-SlowHTTPTest",
         "orientation": "v",
         "text": "139889",
         "textposition": "outside",
         "type": "bar",
         "x": [
          "DoS attacks-SlowHTTPTest"
         ],
         "y": [
          139889
         ]
        },
        {
         "name": "DoS attacks-Hulk",
         "orientation": "v",
         "text": "461912",
         "textposition": "outside",
         "type": "bar",
         "x": [
          "DoS attacks-Hulk"
         ],
         "y": [
          461912
         ]
        }
       ],
       "layout": {
        "height": 600,
        "template": {
         "data": {
          "bar": [
           {
            "error_x": {
             "color": "#2a3f5f"
            },
            "error_y": {
             "color": "#2a3f5f"
            },
            "marker": {
             "line": {
              "color": "#E5ECF6",
              "width": 0.5
             },
             "pattern": {
              "fillmode": "overlay",
              "size": 10,
              "solidity": 0.2
             }
            },
            "type": "bar"
           }
          ],
          "barpolar": [
           {
            "marker": {
             "line": {
              "color": "#E5ECF6",
              "width": 0.5
             },
             "pattern": {
              "fillmode": "overlay",
              "size": 10,
              "solidity": 0.2
             }
            },
            "type": "barpolar"
           }
          ],
          "carpet": [
           {
            "aaxis": {
             "endlinecolor": "#2a3f5f",
             "gridcolor": "white",
             "linecolor": "white",
             "minorgridcolor": "white",
             "startlinecolor": "#2a3f5f"
            },
            "baxis": {
             "endlinecolor": "#2a3f5f",
             "gridcolor": "white",
             "linecolor": "white",
             "minorgridcolor": "white",
             "startlinecolor": "#2a3f5f"
            },
            "type": "carpet"
           }
          ],
          "choropleth": [
           {
            "colorbar": {
             "outlinewidth": 0,
             "ticks": ""
            },
            "type": "choropleth"
           }
          ],
          "contour": [
           {
            "colorbar": {
             "outlinewidth": 0,
             "ticks": ""
            },
            "colorscale": [
             [
              0,
              "#0d0887"
             ],
             [
              0.1111111111111111,
              "#46039f"
             ],
             [
              0.2222222222222222,
              "#7201a8"
             ],
             [
              0.3333333333333333,
              "#9c179e"
             ],
             [
              0.4444444444444444,
              "#bd3786"
             ],
             [
              0.5555555555555556,
              "#d8576b"
             ],
             [
              0.6666666666666666,
              "#ed7953"
             ],
             [
              0.7777777777777778,
              "#fb9f3a"
             ],
             [
              0.8888888888888888,
              "#fdca26"
             ],
             [
              1,
              "#f0f921"
             ]
            ],
            "type": "contour"
           }
          ],
          "contourcarpet": [
           {
            "colorbar": {
             "outlinewidth": 0,
             "ticks": ""
            },
            "type": "contourcarpet"
           }
          ],
          "heatmap": [
           {
            "colorbar": {
             "outlinewidth": 0,
             "ticks": ""
            },
            "colorscale": [
             [
              0,
              "#0d0887"
             ],
             [
              0.1111111111111111,
              "#46039f"
             ],
             [
              0.2222222222222222,
              "#7201a8"
             ],
             [
              0.3333333333333333,
              "#9c179e"
             ],
             [
              0.4444444444444444,
              "#bd3786"
             ],
             [
              0.5555555555555556,
              "#d8576b"
             ],
             [
              0.6666666666666666,
              "#ed7953"
             ],
             [
              0.7777777777777778,
              "#fb9f3a"
             ],
             [
              0.8888888888888888,
              "#fdca26"
             ],
             [
              1,
              "#f0f921"
             ]
            ],
            "type": "heatmap"
           }
          ],
          "heatmapgl": [
           {
            "colorbar": {
             "outlinewidth": 0,
             "ticks": ""
            },
            "colorscale": [
             [
              0,
              "#0d0887"
             ],
             [
              0.1111111111111111,
              "#46039f"
             ],
             [
              0.2222222222222222,
              "#7201a8"
             ],
             [
              0.3333333333333333,
              "#9c179e"
             ],
             [
              0.4444444444444444,
              "#bd3786"
             ],
             [
              0.5555555555555556,
              "#d8576b"
             ],
             [
              0.6666666666666666,
              "#ed7953"
             ],
             [
              0.7777777777777778,
              "#fb9f3a"
             ],
             [
              0.8888888888888888,
              "#fdca26"
             ],
             [
              1,
              "#f0f921"
             ]
            ],
            "type": "heatmapgl"
           }
          ],
          "histogram": [
           {
            "marker": {
             "pattern": {
              "fillmode": "overlay",
              "size": 10,
              "solidity": 0.2
             }
            },
            "type": "histogram"
           }
          ],
          "histogram2d": [
           {
            "colorbar": {
             "outlinewidth": 0,
             "ticks": ""
            },
            "colorscale": [
             [
              0,
              "#0d0887"
             ],
             [
              0.1111111111111111,
              "#46039f"
             ],
             [
              0.2222222222222222,
              "#7201a8"
             ],
             [
              0.3333333333333333,
              "#9c179e"
             ],
             [
              0.4444444444444444,
              "#bd3786"
             ],
             [
              0.5555555555555556,
              "#d8576b"
             ],
             [
              0.6666666666666666,
              "#ed7953"
             ],
             [
              0.7777777777777778,
              "#fb9f3a"
             ],
             [
              0.8888888888888888,
              "#fdca26"
             ],
             [
              1,
              "#f0f921"
             ]
            ],
            "type": "histogram2d"
           }
          ],
          "histogram2dcontour": [
           {
            "colorbar": {
             "outlinewidth": 0,
             "ticks": ""
            },
            "colorscale": [
             [
              0,
              "#0d0887"
             ],
             [
              0.1111111111111111,
              "#46039f"
             ],
             [
              0.2222222222222222,
              "#7201a8"
             ],
             [
              0.3333333333333333,
              "#9c179e"
             ],
             [
              0.4444444444444444,
              "#bd3786"
             ],
             [
              0.5555555555555556,
              "#d8576b"
             ],
             [
              0.6666666666666666,
              "#ed7953"
             ],
             [
              0.7777777777777778,
              "#fb9f3a"
             ],
             [
              0.8888888888888888,
              "#fdca26"
             ],
             [
              1,
              "#f0f921"
             ]
            ],
            "type": "histogram2dcontour"
           }
          ],
          "mesh3d": [
           {
            "colorbar": {
             "outlinewidth": 0,
             "ticks": ""
            },
            "type": "mesh3d"
           }
          ],
          "parcoords": [
           {
            "line": {
             "colorbar": {
              "outlinewidth": 0,
              "ticks": ""
             }
            },
            "type": "parcoords"
           }
          ],
          "pie": [
           {
            "automargin": true,
            "type": "pie"
           }
          ],
          "scatter": [
           {
            "marker": {
             "colorbar": {
              "outlinewidth": 0,
              "ticks": ""
             }
            },
            "type": "scatter"
           }
          ],
          "scatter3d": [
           {
            "line": {
             "colorbar": {
              "outlinewidth": 0,
              "ticks": ""
             }
            },
            "marker": {
             "colorbar": {
              "outlinewidth": 0,
              "ticks": ""
             }
            },
            "type": "scatter3d"
           }
          ],
          "scattercarpet": [
           {
            "marker": {
             "colorbar": {
              "outlinewidth": 0,
              "ticks": ""
             }
            },
            "type": "scattercarpet"
           }
          ],
          "scattergeo": [
           {
            "marker": {
             "colorbar": {
              "outlinewidth": 0,
              "ticks": ""
             }
            },
            "type": "scattergeo"
           }
          ],
          "scattergl": [
           {
            "marker": {
             "colorbar": {
              "outlinewidth": 0,
              "ticks": ""
             }
            },
            "type": "scattergl"
           }
          ],
          "scattermapbox": [
           {
            "marker": {
             "colorbar": {
              "outlinewidth": 0,
              "ticks": ""
             }
            },
            "type": "scattermapbox"
           }
          ],
          "scatterpolar": [
           {
            "marker": {
             "colorbar": {
              "outlinewidth": 0,
              "ticks": ""
             }
            },
            "type": "scatterpolar"
           }
          ],
          "scatterpolargl": [
           {
            "marker": {
             "colorbar": {
              "outlinewidth": 0,
              "ticks": ""
             }
            },
            "type": "scatterpolargl"
           }
          ],
          "scatterternary": [
           {
            "marker": {
             "colorbar": {
              "outlinewidth": 0,
              "ticks": ""
             }
            },
            "type": "scatterternary"
           }
          ],
          "surface": [
           {
            "colorbar": {
             "outlinewidth": 0,
             "ticks": ""
            },
            "colorscale": [
             [
              0,
              "#0d0887"
             ],
             [
              0.1111111111111111,
              "#46039f"
             ],
             [
              0.2222222222222222,
              "#7201a8"
             ],
             [
              0.3333333333333333,
              "#9c179e"
             ],
             [
              0.4444444444444444,
              "#bd3786"
             ],
             [
              0.5555555555555556,
              "#d8576b"
             ],
             [
              0.6666666666666666,
              "#ed7953"
             ],
             [
              0.7777777777777778,
              "#fb9f3a"
             ],
             [
              0.8888888888888888,
              "#fdca26"
             ],
             [
              1,
              "#f0f921"
             ]
            ],
            "type": "surface"
           }
          ],
          "table": [
           {
            "cells": {
             "fill": {
              "color": "#EBF0F8"
             },
             "line": {
              "color": "white"
             }
            },
            "header": {
             "fill": {
              "color": "#C8D4E3"
             },
             "line": {
              "color": "white"
             }
            },
            "type": "table"
           }
          ]
         },
         "layout": {
          "annotationdefaults": {
           "arrowcolor": "#2a3f5f",
           "arrowhead": 0,
           "arrowwidth": 1
          },
          "autotypenumbers": "strict",
          "coloraxis": {
           "colorbar": {
            "outlinewidth": 0,
            "ticks": ""
           }
          },
          "colorscale": {
           "diverging": [
            [
             0,
             "#8e0152"
            ],
            [
             0.1,
             "#c51b7d"
            ],
            [
             0.2,
             "#de77ae"
            ],
            [
             0.3,
             "#f1b6da"
            ],
            [
             0.4,
             "#fde0ef"
            ],
            [
             0.5,
             "#f7f7f7"
            ],
            [
             0.6,
             "#e6f5d0"
            ],
            [
             0.7,
             "#b8e186"
            ],
            [
             0.8,
             "#7fbc41"
            ],
            [
             0.9,
             "#4d9221"
            ],
            [
             1,
             "#276419"
            ]
           ],
           "sequential": [
            [
             0,
             "#0d0887"
            ],
            [
             0.1111111111111111,
             "#46039f"
            ],
            [
             0.2222222222222222,
             "#7201a8"
            ],
            [
             0.3333333333333333,
             "#9c179e"
            ],
            [
             0.4444444444444444,
             "#bd3786"
            ],
            [
             0.5555555555555556,
             "#d8576b"
            ],
            [
             0.6666666666666666,
             "#ed7953"
            ],
            [
             0.7777777777777778,
             "#fb9f3a"
            ],
            [
             0.8888888888888888,
             "#fdca26"
            ],
            [
             1,
             "#f0f921"
            ]
           ],
           "sequentialminus": [
            [
             0,
             "#0d0887"
            ],
            [
             0.1111111111111111,
             "#46039f"
            ],
            [
             0.2222222222222222,
             "#7201a8"
            ],
            [
             0.3333333333333333,
             "#9c179e"
            ],
            [
             0.4444444444444444,
             "#bd3786"
            ],
            [
             0.5555555555555556,
             "#d8576b"
            ],
            [
             0.6666666666666666,
             "#ed7953"
            ],
            [
             0.7777777777777778,
             "#fb9f3a"
            ],
            [
             0.8888888888888888,
             "#fdca26"
            ],
            [
             1,
             "#f0f921"
            ]
           ]
          },
          "colorway": [
           "#636efa",
           "#EF553B",
           "#00cc96",
           "#ab63fa",
           "#FFA15A",
           "#19d3f3",
           "#FF6692",
           "#B6E880",
           "#FF97FF",
           "#FECB52"
          ],
          "font": {
           "color": "#2a3f5f"
          },
          "geo": {
           "bgcolor": "white",
           "lakecolor": "white",
           "landcolor": "#E5ECF6",
           "showlakes": true,
           "showland": true,
           "subunitcolor": "white"
          },
          "hoverlabel": {
           "align": "left"
          },
          "hovermode": "closest",
          "mapbox": {
           "style": "light"
          },
          "paper_bgcolor": "white",
          "plot_bgcolor": "#E5ECF6",
          "polar": {
           "angularaxis": {
            "gridcolor": "white",
            "linecolor": "white",
            "ticks": ""
           },
           "bgcolor": "#E5ECF6",
           "radialaxis": {
            "gridcolor": "white",
            "linecolor": "white",
            "ticks": ""
           }
          },
          "scene": {
           "xaxis": {
            "backgroundcolor": "#E5ECF6",
            "gridcolor": "white",
            "gridwidth": 2,
            "linecolor": "white",
            "showbackground": true,
            "ticks": "",
            "zerolinecolor": "white"
           },
           "yaxis": {
            "backgroundcolor": "#E5ECF6",
            "gridcolor": "white",
            "gridwidth": 2,
            "linecolor": "white",
            "showbackground": true,
            "ticks": "",
            "zerolinecolor": "white"
           },
           "zaxis": {
            "backgroundcolor": "#E5ECF6",
            "gridcolor": "white",
            "gridwidth": 2,
            "linecolor": "white",
            "showbackground": true,
            "ticks": "",
            "zerolinecolor": "white"
           }
          },
          "shapedefaults": {
           "line": {
            "color": "#2a3f5f"
           }
          },
          "ternary": {
           "aaxis": {
            "gridcolor": "white",
            "linecolor": "white",
            "ticks": ""
           },
           "baxis": {
            "gridcolor": "white",
            "linecolor": "white",
            "ticks": ""
           },
           "bgcolor": "#E5ECF6",
           "caxis": {
            "gridcolor": "white",
            "linecolor": "white",
            "ticks": ""
           }
          },
          "title": {
           "x": 0.05
          },
          "xaxis": {
           "automargin": true,
           "gridcolor": "white",
           "linecolor": "white",
           "ticks": "",
           "title": {
            "standoff": 15
           },
           "zerolinecolor": "white",
           "zerolinewidth": 2
          },
          "yaxis": {
           "automargin": true,
           "gridcolor": "white",
           "linecolor": "white",
           "ticks": "",
           "title": {
            "standoff": 15
           },
           "zerolinecolor": "white",
           "zerolinewidth": 2
          }
         }
        },
        "title": {
         "text": "Labels Distribution"
        },
        "width": 800,
        "xaxis": {
         "title": {
          "text": "Attack Name"
         }
        },
        "yaxis": {
         "title": {
          "text": "Number of attacks"
         }
        }
       }
      },
      "text/html": [
       "<div>                            <div id=\"e4c525f6-b2c7-413e-9d33-c0121445f044\" class=\"plotly-graph-div\" style=\"height:600px; width:800px;\"></div>            <script type=\"text/javascript\">                require([\"plotly\"], function(Plotly) {                    window.PLOTLYENV=window.PLOTLYENV || {};                                    if (document.getElementById(\"e4c525f6-b2c7-413e-9d33-c0121445f044\")) {                    Plotly.newPlot(                        \"e4c525f6-b2c7-413e-9d33-c0121445f044\",                        [{\"name\":\"Benign\",\"orientation\":\"v\",\"text\":\"446772\",\"textposition\":\"outside\",\"x\":[\"Benign\"],\"y\":[446772],\"type\":\"bar\"},{\"name\":\"DoS attacks-SlowHTTPTest\",\"orientation\":\"v\",\"text\":\"139889\",\"textposition\":\"outside\",\"x\":[\"DoS attacks-SlowHTTPTest\"],\"y\":[139889],\"type\":\"bar\"},{\"name\":\"DoS attacks-Hulk\",\"orientation\":\"v\",\"text\":\"461912\",\"textposition\":\"outside\",\"x\":[\"DoS attacks-Hulk\"],\"y\":[461912],\"type\":\"bar\"}],                        {\"height\":600,\"template\":{\"data\":{\"barpolar\":[{\"marker\":{\"line\":{\"color\":\"#E5ECF6\",\"width\":0.5},\"pattern\":{\"fillmode\":\"overlay\",\"size\":10,\"solidity\":0.2}},\"type\":\"barpolar\"}],\"bar\":[{\"error_x\":{\"color\":\"#2a3f5f\"},\"error_y\":{\"color\":\"#2a3f5f\"},\"marker\":{\"line\":{\"color\":\"#E5ECF6\",\"width\":0.5},\"pattern\":{\"fillmode\":\"overlay\",\"size\":10,\"solidity\":0.2}},\"type\":\"bar\"}],\"carpet\":[{\"aaxis\":{\"endlinecolor\":\"#2a3f5f\",\"gridcolor\":\"white\",\"linecolor\":\"white\",\"minorgridcolor\":\"white\",\"startlinecolor\":\"#2a3f5f\"},\"baxis\":{\"endlinecolor\":\"#2a3f5f\",\"gridcolor\":\"white\",\"linecolor\":\"white\",\"minorgridcolor\":\"white\",\"startlinecolor\":\"#2a3f5f\"},\"type\":\"carpet\"}],\"choropleth\":[{\"colorbar\":{\"outlinewidth\":0,\"ticks\":\"\"},\"type\":\"choropleth\"}],\"contourcarpet\":[{\"colorbar\":{\"outlinewidth\":0,\"ticks\":\"\"},\"type\":\"contourcarpet\"}],\"contour\":[{\"colorbar\":{\"outlinewidth\":0,\"ticks\":\"\"},\"colorscale\":[[0.0,\"#0d0887\"],[0.1111111111111111,\"#46039f\"],[0.2222222222222222,\"#7201a8\"],[0.3333333333333333,\"#9c179e\"],[0.4444444444444444,\"#bd3786\"],[0.5555555555555556,\"#d8576b\"],[0.6666666666666666,\"#ed7953\"],[0.7777777777777778,\"#fb9f3a\"],[0.8888888888888888,\"#fdca26\"],[1.0,\"#f0f921\"]],\"type\":\"contour\"}],\"heatmapgl\":[{\"colorbar\":{\"outlinewidth\":0,\"ticks\":\"\"},\"colorscale\":[[0.0,\"#0d0887\"],[0.1111111111111111,\"#46039f\"],[0.2222222222222222,\"#7201a8\"],[0.3333333333333333,\"#9c179e\"],[0.4444444444444444,\"#bd3786\"],[0.5555555555555556,\"#d8576b\"],[0.6666666666666666,\"#ed7953\"],[0.7777777777777778,\"#fb9f3a\"],[0.8888888888888888,\"#fdca26\"],[1.0,\"#f0f921\"]],\"type\":\"heatmapgl\"}],\"heatmap\":[{\"colorbar\":{\"outlinewidth\":0,\"ticks\":\"\"},\"colorscale\":[[0.0,\"#0d0887\"],[0.1111111111111111,\"#46039f\"],[0.2222222222222222,\"#7201a8\"],[0.3333333333333333,\"#9c179e\"],[0.4444444444444444,\"#bd3786\"],[0.5555555555555556,\"#d8576b\"],[0.6666666666666666,\"#ed7953\"],[0.7777777777777778,\"#fb9f3a\"],[0.8888888888888888,\"#fdca26\"],[1.0,\"#f0f921\"]],\"type\":\"heatmap\"}],\"histogram2dcontour\":[{\"colorbar\":{\"outlinewidth\":0,\"ticks\":\"\"},\"colorscale\":[[0.0,\"#0d0887\"],[0.1111111111111111,\"#46039f\"],[0.2222222222222222,\"#7201a8\"],[0.3333333333333333,\"#9c179e\"],[0.4444444444444444,\"#bd3786\"],[0.5555555555555556,\"#d8576b\"],[0.6666666666666666,\"#ed7953\"],[0.7777777777777778,\"#fb9f3a\"],[0.8888888888888888,\"#fdca26\"],[1.0,\"#f0f921\"]],\"type\":\"histogram2dcontour\"}],\"histogram2d\":[{\"colorbar\":{\"outlinewidth\":0,\"ticks\":\"\"},\"colorscale\":[[0.0,\"#0d0887\"],[0.1111111111111111,\"#46039f\"],[0.2222222222222222,\"#7201a8\"],[0.3333333333333333,\"#9c179e\"],[0.4444444444444444,\"#bd3786\"],[0.5555555555555556,\"#d8576b\"],[0.6666666666666666,\"#ed7953\"],[0.7777777777777778,\"#fb9f3a\"],[0.8888888888888888,\"#fdca26\"],[1.0,\"#f0f921\"]],\"type\":\"histogram2d\"}],\"histogram\":[{\"marker\":{\"pattern\":{\"fillmode\":\"overlay\",\"size\":10,\"solidity\":0.2}},\"type\":\"histogram\"}],\"mesh3d\":[{\"colorbar\":{\"outlinewidth\":0,\"ticks\":\"\"},\"type\":\"mesh3d\"}],\"parcoords\":[{\"line\":{\"colorbar\":{\"outlinewidth\":0,\"ticks\":\"\"}},\"type\":\"parcoords\"}],\"pie\":[{\"automargin\":true,\"type\":\"pie\"}],\"scatter3d\":[{\"line\":{\"colorbar\":{\"outlinewidth\":0,\"ticks\":\"\"}},\"marker\":{\"colorbar\":{\"outlinewidth\":0,\"ticks\":\"\"}},\"type\":\"scatter3d\"}],\"scattercarpet\":[{\"marker\":{\"colorbar\":{\"outlinewidth\":0,\"ticks\":\"\"}},\"type\":\"scattercarpet\"}],\"scattergeo\":[{\"marker\":{\"colorbar\":{\"outlinewidth\":0,\"ticks\":\"\"}},\"type\":\"scattergeo\"}],\"scattergl\":[{\"marker\":{\"colorbar\":{\"outlinewidth\":0,\"ticks\":\"\"}},\"type\":\"scattergl\"}],\"scattermapbox\":[{\"marker\":{\"colorbar\":{\"outlinewidth\":0,\"ticks\":\"\"}},\"type\":\"scattermapbox\"}],\"scatterpolargl\":[{\"marker\":{\"colorbar\":{\"outlinewidth\":0,\"ticks\":\"\"}},\"type\":\"scatterpolargl\"}],\"scatterpolar\":[{\"marker\":{\"colorbar\":{\"outlinewidth\":0,\"ticks\":\"\"}},\"type\":\"scatterpolar\"}],\"scatter\":[{\"marker\":{\"colorbar\":{\"outlinewidth\":0,\"ticks\":\"\"}},\"type\":\"scatter\"}],\"scatterternary\":[{\"marker\":{\"colorbar\":{\"outlinewidth\":0,\"ticks\":\"\"}},\"type\":\"scatterternary\"}],\"surface\":[{\"colorbar\":{\"outlinewidth\":0,\"ticks\":\"\"},\"colorscale\":[[0.0,\"#0d0887\"],[0.1111111111111111,\"#46039f\"],[0.2222222222222222,\"#7201a8\"],[0.3333333333333333,\"#9c179e\"],[0.4444444444444444,\"#bd3786\"],[0.5555555555555556,\"#d8576b\"],[0.6666666666666666,\"#ed7953\"],[0.7777777777777778,\"#fb9f3a\"],[0.8888888888888888,\"#fdca26\"],[1.0,\"#f0f921\"]],\"type\":\"surface\"}],\"table\":[{\"cells\":{\"fill\":{\"color\":\"#EBF0F8\"},\"line\":{\"color\":\"white\"}},\"header\":{\"fill\":{\"color\":\"#C8D4E3\"},\"line\":{\"color\":\"white\"}},\"type\":\"table\"}]},\"layout\":{\"annotationdefaults\":{\"arrowcolor\":\"#2a3f5f\",\"arrowhead\":0,\"arrowwidth\":1},\"autotypenumbers\":\"strict\",\"coloraxis\":{\"colorbar\":{\"outlinewidth\":0,\"ticks\":\"\"}},\"colorscale\":{\"diverging\":[[0,\"#8e0152\"],[0.1,\"#c51b7d\"],[0.2,\"#de77ae\"],[0.3,\"#f1b6da\"],[0.4,\"#fde0ef\"],[0.5,\"#f7f7f7\"],[0.6,\"#e6f5d0\"],[0.7,\"#b8e186\"],[0.8,\"#7fbc41\"],[0.9,\"#4d9221\"],[1,\"#276419\"]],\"sequential\":[[0.0,\"#0d0887\"],[0.1111111111111111,\"#46039f\"],[0.2222222222222222,\"#7201a8\"],[0.3333333333333333,\"#9c179e\"],[0.4444444444444444,\"#bd3786\"],[0.5555555555555556,\"#d8576b\"],[0.6666666666666666,\"#ed7953\"],[0.7777777777777778,\"#fb9f3a\"],[0.8888888888888888,\"#fdca26\"],[1.0,\"#f0f921\"]],\"sequentialminus\":[[0.0,\"#0d0887\"],[0.1111111111111111,\"#46039f\"],[0.2222222222222222,\"#7201a8\"],[0.3333333333333333,\"#9c179e\"],[0.4444444444444444,\"#bd3786\"],[0.5555555555555556,\"#d8576b\"],[0.6666666666666666,\"#ed7953\"],[0.7777777777777778,\"#fb9f3a\"],[0.8888888888888888,\"#fdca26\"],[1.0,\"#f0f921\"]]},\"colorway\":[\"#636efa\",\"#EF553B\",\"#00cc96\",\"#ab63fa\",\"#FFA15A\",\"#19d3f3\",\"#FF6692\",\"#B6E880\",\"#FF97FF\",\"#FECB52\"],\"font\":{\"color\":\"#2a3f5f\"},\"geo\":{\"bgcolor\":\"white\",\"lakecolor\":\"white\",\"landcolor\":\"#E5ECF6\",\"showlakes\":true,\"showland\":true,\"subunitcolor\":\"white\"},\"hoverlabel\":{\"align\":\"left\"},\"hovermode\":\"closest\",\"mapbox\":{\"style\":\"light\"},\"paper_bgcolor\":\"white\",\"plot_bgcolor\":\"#E5ECF6\",\"polar\":{\"angularaxis\":{\"gridcolor\":\"white\",\"linecolor\":\"white\",\"ticks\":\"\"},\"bgcolor\":\"#E5ECF6\",\"radialaxis\":{\"gridcolor\":\"white\",\"linecolor\":\"white\",\"ticks\":\"\"}},\"scene\":{\"xaxis\":{\"backgroundcolor\":\"#E5ECF6\",\"gridcolor\":\"white\",\"gridwidth\":2,\"linecolor\":\"white\",\"showbackground\":true,\"ticks\":\"\",\"zerolinecolor\":\"white\"},\"yaxis\":{\"backgroundcolor\":\"#E5ECF6\",\"gridcolor\":\"white\",\"gridwidth\":2,\"linecolor\":\"white\",\"showbackground\":true,\"ticks\":\"\",\"zerolinecolor\":\"white\"},\"zaxis\":{\"backgroundcolor\":\"#E5ECF6\",\"gridcolor\":\"white\",\"gridwidth\":2,\"linecolor\":\"white\",\"showbackground\":true,\"ticks\":\"\",\"zerolinecolor\":\"white\"}},\"shapedefaults\":{\"line\":{\"color\":\"#2a3f5f\"}},\"ternary\":{\"aaxis\":{\"gridcolor\":\"white\",\"linecolor\":\"white\",\"ticks\":\"\"},\"baxis\":{\"gridcolor\":\"white\",\"linecolor\":\"white\",\"ticks\":\"\"},\"bgcolor\":\"#E5ECF6\",\"caxis\":{\"gridcolor\":\"white\",\"linecolor\":\"white\",\"ticks\":\"\"}},\"title\":{\"x\":0.05},\"xaxis\":{\"automargin\":true,\"gridcolor\":\"white\",\"linecolor\":\"white\",\"ticks\":\"\",\"title\":{\"standoff\":15},\"zerolinecolor\":\"white\",\"zerolinewidth\":2},\"yaxis\":{\"automargin\":true,\"gridcolor\":\"white\",\"linecolor\":\"white\",\"ticks\":\"\",\"title\":{\"standoff\":15},\"zerolinecolor\":\"white\",\"zerolinewidth\":2}}},\"title\":{\"text\":\"Labels Distribution\"},\"width\":800,\"xaxis\":{\"title\":{\"text\":\"Attack Name\"}},\"yaxis\":{\"title\":{\"text\":\"Number of attacks\"}}},                        {\"responsive\": true}                    ).then(function(){\n",
       "                            \n",
       "var gd = document.getElementById('e4c525f6-b2c7-413e-9d33-c0121445f044');\n",
       "var x = new MutationObserver(function (mutations, observer) {{\n",
       "        var display = window.getComputedStyle(gd).display;\n",
       "        if (!display || display === 'none') {{\n",
       "            console.log([gd, 'removed!']);\n",
       "            Plotly.purge(gd);\n",
       "            observer.disconnect();\n",
       "        }}\n",
       "}});\n",
       "\n",
       "// Listen for the removal of the full notebook cells\n",
       "var notebookContainer = gd.closest('#notebook-container');\n",
       "if (notebookContainer) {{\n",
       "    x.observe(notebookContainer, {childList: true});\n",
       "}}\n",
       "\n",
       "// Listen for the clearing of the current output cell\n",
       "var outputEl = gd.closest('.output');\n",
       "if (outputEl) {{\n",
       "    x.observe(outputEl, {childList: true});\n",
       "}}\n",
       "\n",
       "                        })                };                });            </script>        </div>"
      ]
     },
     "metadata": {},
     "output_type": "display_data"
    }
   ],
   "source": [
    "showAttackDistribution(rawsData['Label'])\n"
   ]
  },
  {
   "cell_type": "code",
   "execution_count": null,
   "id": "7bf0fc3b",
   "metadata": {},
   "outputs": [],
   "source": [
    "selectedFeatures = [\n",
    "    # Selected from Benign\n",
    "    'Flow Byts/s',\n",
    "    'Flow IAT Mean',\n",
    "    'Bwd Pkts/s',\n",
    "    'Fwd Pkts/s',\n",
    "    'Flow Duration',\n",
    "    'Fwd IAT Mean',\n",
    "    'Bwd IAT Mean',\n",
    "    'Idle Mean',\n",
    "    'Dst Port',\n",
    "    'Active Mean',\n",
    "    'Pkt Len Var',\n",
    "    'Pkt Len Mean',\n",
    "    'Pkt Size Avg',\n",
    "    'Bwd Pkt Len Mean',\n",
    "    'Bwd Seg Size Avg',\n",
    "    'TotLen Bwd Pkts',\n",
    "    'Subflow Bwd Byts',\n",
    "    # Selected from HTTP\n",
    "    'Flow Duration',\n",
    "    'Flow IAT Mean',\n",
    "    'Fwd Pkts/s',\n",
    "    'Bwd Pkts/s',\n",
    "    # Selected from Hulk\n",
    "    'Fwd Pkts/s',\n",
    "    'Flow IAT Mean',\n",
    "    'Flow Duration',\n",
    "    'Fwd IAT Mean',\n",
    "    'Flow Byts/s',\n",
    "    'Bwd Pkts/s',\n",
    "    'Bwd IAT Mean',\n",
    "    'Pkt Len Var',\n",
    "    'Pkt Len Mean',\n",
    "    'Pkt Size Avg',\n",
    "    'Active Mean',\n",
    "    'Fwd Pkt Len Mean',\n",
    "    'Fwd Seg Size Avg',\n",
    "    'Idle Mean',\n",
    "    'TotLen Fwd Pkts',\n",
    "    'Subflow Fwd Byts',\n",
    "    'Label'\n",
    "]\n",
    "\n",
    "selectedFeatures = list(set(selectedFeatures))\n"
   ]
  },
  {
   "cell_type": "code",
   "execution_count": null,
   "id": "7767c903",
   "metadata": {},
   "outputs": [],
   "source": [
    "def getSliceFromRawData():\n",
    "    return rawsData[selectedFeatures].copy()\n"
   ]
  },
  {
   "cell_type": "code",
   "execution_count": null,
   "id": "38df5297",
   "metadata": {},
   "outputs": [],
   "source": [
    "selectedData = getSliceFromRawData()\n",
    "allDatasetToTest = getSliceFromRawData()\n"
   ]
  },
  {
   "cell_type": "code",
   "execution_count": null,
   "id": "c51e0cd0",
   "metadata": {},
   "outputs": [
    {
     "name": "stdout",
     "output_type": "stream",
     "text": [
      "<class 'pandas.core.frame.DataFrame'>\n",
      "Int64Index: 568991 entries, 0 to 999999\n",
      "Data columns (total 22 columns):\n",
      " #   Column            Non-Null Count   Dtype  \n",
      "---  ------            --------------   -----  \n",
      " 0   Fwd Seg Size Avg  568990 non-null  float64\n",
      " 1   TotLen Bwd Pkts   568990 non-null  float64\n",
      " 2   Flow Duration     568990 non-null  float64\n",
      " 3   Idle Mean         568990 non-null  float64\n",
      " 4   Pkt Size Avg      568990 non-null  float64\n",
      " 5   Bwd IAT Mean      568990 non-null  float64\n",
      " 6   Pkt Len Var       568990 non-null  float64\n",
      " 7   Flow IAT Mean     568990 non-null  float64\n",
      " 8   Label             568991 non-null  object \n",
      " 9   Fwd IAT Mean      568990 non-null  float64\n",
      " 10  Bwd Pkt Len Mean  568990 non-null  float64\n",
      " 11  Subflow Bwd Byts  568990 non-null  float64\n",
      " 12  Pkt Len Mean      568990 non-null  float64\n",
      " 13  Flow Byts/s       568990 non-null  float64\n",
      " 14  Subflow Fwd Byts  568990 non-null  float64\n",
      " 15  Bwd Pkts/s        568990 non-null  float64\n",
      " 16  Dst Port          568990 non-null  float64\n",
      " 17  Fwd Pkts/s        568990 non-null  float64\n",
      " 18  Active Mean       568990 non-null  float64\n",
      " 19  TotLen Fwd Pkts   568990 non-null  float64\n",
      " 20  Fwd Pkt Len Mean  568990 non-null  float64\n",
      " 21  Bwd Seg Size Avg  568990 non-null  float64\n",
      "dtypes: float64(21), object(1)\n",
      "memory usage: 99.8+ MB\n"
     ]
    }
   ],
   "source": [
    "withoutDuplicates = selectedData.drop_duplicates().copy()\n",
    "withoutDuplicates.info()\n"
   ]
  },
  {
   "cell_type": "code",
   "execution_count": null,
   "id": "65640cd4",
   "metadata": {},
   "outputs": [
    {
     "data": {
      "application/vnd.plotly.v1+json": {
       "config": {
        "linkText": "Export to plot.ly",
        "plotlyServerURL": "https://plot.ly",
        "showLink": false
       },
       "data": [
        {
         "name": "Benign",
         "orientation": "v",
         "text": "446641",
         "textposition": "outside",
         "type": "bar",
         "x": [
          "Benign"
         ],
         "y": [
          446641
         ]
        },
        {
         "name": "DoS attacks-SlowHTTPTest",
         "orientation": "v",
         "text": "55",
         "textposition": "outside",
         "type": "bar",
         "x": [
          "DoS attacks-SlowHTTPTest"
         ],
         "y": [
          55
         ]
        },
        {
         "name": "DoS attacks-Hulk",
         "orientation": "v",
         "text": "122294",
         "textposition": "outside",
         "type": "bar",
         "x": [
          "DoS attacks-Hulk"
         ],
         "y": [
          122294
         ]
        }
       ],
       "layout": {
        "height": 600,
        "template": {
         "data": {
          "bar": [
           {
            "error_x": {
             "color": "#2a3f5f"
            },
            "error_y": {
             "color": "#2a3f5f"
            },
            "marker": {
             "line": {
              "color": "#E5ECF6",
              "width": 0.5
             },
             "pattern": {
              "fillmode": "overlay",
              "size": 10,
              "solidity": 0.2
             }
            },
            "type": "bar"
           }
          ],
          "barpolar": [
           {
            "marker": {
             "line": {
              "color": "#E5ECF6",
              "width": 0.5
             },
             "pattern": {
              "fillmode": "overlay",
              "size": 10,
              "solidity": 0.2
             }
            },
            "type": "barpolar"
           }
          ],
          "carpet": [
           {
            "aaxis": {
             "endlinecolor": "#2a3f5f",
             "gridcolor": "white",
             "linecolor": "white",
             "minorgridcolor": "white",
             "startlinecolor": "#2a3f5f"
            },
            "baxis": {
             "endlinecolor": "#2a3f5f",
             "gridcolor": "white",
             "linecolor": "white",
             "minorgridcolor": "white",
             "startlinecolor": "#2a3f5f"
            },
            "type": "carpet"
           }
          ],
          "choropleth": [
           {
            "colorbar": {
             "outlinewidth": 0,
             "ticks": ""
            },
            "type": "choropleth"
           }
          ],
          "contour": [
           {
            "colorbar": {
             "outlinewidth": 0,
             "ticks": ""
            },
            "colorscale": [
             [
              0,
              "#0d0887"
             ],
             [
              0.1111111111111111,
              "#46039f"
             ],
             [
              0.2222222222222222,
              "#7201a8"
             ],
             [
              0.3333333333333333,
              "#9c179e"
             ],
             [
              0.4444444444444444,
              "#bd3786"
             ],
             [
              0.5555555555555556,
              "#d8576b"
             ],
             [
              0.6666666666666666,
              "#ed7953"
             ],
             [
              0.7777777777777778,
              "#fb9f3a"
             ],
             [
              0.8888888888888888,
              "#fdca26"
             ],
             [
              1,
              "#f0f921"
             ]
            ],
            "type": "contour"
           }
          ],
          "contourcarpet": [
           {
            "colorbar": {
             "outlinewidth": 0,
             "ticks": ""
            },
            "type": "contourcarpet"
           }
          ],
          "heatmap": [
           {
            "colorbar": {
             "outlinewidth": 0,
             "ticks": ""
            },
            "colorscale": [
             [
              0,
              "#0d0887"
             ],
             [
              0.1111111111111111,
              "#46039f"
             ],
             [
              0.2222222222222222,
              "#7201a8"
             ],
             [
              0.3333333333333333,
              "#9c179e"
             ],
             [
              0.4444444444444444,
              "#bd3786"
             ],
             [
              0.5555555555555556,
              "#d8576b"
             ],
             [
              0.6666666666666666,
              "#ed7953"
             ],
             [
              0.7777777777777778,
              "#fb9f3a"
             ],
             [
              0.8888888888888888,
              "#fdca26"
             ],
             [
              1,
              "#f0f921"
             ]
            ],
            "type": "heatmap"
           }
          ],
          "heatmapgl": [
           {
            "colorbar": {
             "outlinewidth": 0,
             "ticks": ""
            },
            "colorscale": [
             [
              0,
              "#0d0887"
             ],
             [
              0.1111111111111111,
              "#46039f"
             ],
             [
              0.2222222222222222,
              "#7201a8"
             ],
             [
              0.3333333333333333,
              "#9c179e"
             ],
             [
              0.4444444444444444,
              "#bd3786"
             ],
             [
              0.5555555555555556,
              "#d8576b"
             ],
             [
              0.6666666666666666,
              "#ed7953"
             ],
             [
              0.7777777777777778,
              "#fb9f3a"
             ],
             [
              0.8888888888888888,
              "#fdca26"
             ],
             [
              1,
              "#f0f921"
             ]
            ],
            "type": "heatmapgl"
           }
          ],
          "histogram": [
           {
            "marker": {
             "pattern": {
              "fillmode": "overlay",
              "size": 10,
              "solidity": 0.2
             }
            },
            "type": "histogram"
           }
          ],
          "histogram2d": [
           {
            "colorbar": {
             "outlinewidth": 0,
             "ticks": ""
            },
            "colorscale": [
             [
              0,
              "#0d0887"
             ],
             [
              0.1111111111111111,
              "#46039f"
             ],
             [
              0.2222222222222222,
              "#7201a8"
             ],
             [
              0.3333333333333333,
              "#9c179e"
             ],
             [
              0.4444444444444444,
              "#bd3786"
             ],
             [
              0.5555555555555556,
              "#d8576b"
             ],
             [
              0.6666666666666666,
              "#ed7953"
             ],
             [
              0.7777777777777778,
              "#fb9f3a"
             ],
             [
              0.8888888888888888,
              "#fdca26"
             ],
             [
              1,
              "#f0f921"
             ]
            ],
            "type": "histogram2d"
           }
          ],
          "histogram2dcontour": [
           {
            "colorbar": {
             "outlinewidth": 0,
             "ticks": ""
            },
            "colorscale": [
             [
              0,
              "#0d0887"
             ],
             [
              0.1111111111111111,
              "#46039f"
             ],
             [
              0.2222222222222222,
              "#7201a8"
             ],
             [
              0.3333333333333333,
              "#9c179e"
             ],
             [
              0.4444444444444444,
              "#bd3786"
             ],
             [
              0.5555555555555556,
              "#d8576b"
             ],
             [
              0.6666666666666666,
              "#ed7953"
             ],
             [
              0.7777777777777778,
              "#fb9f3a"
             ],
             [
              0.8888888888888888,
              "#fdca26"
             ],
             [
              1,
              "#f0f921"
             ]
            ],
            "type": "histogram2dcontour"
           }
          ],
          "mesh3d": [
           {
            "colorbar": {
             "outlinewidth": 0,
             "ticks": ""
            },
            "type": "mesh3d"
           }
          ],
          "parcoords": [
           {
            "line": {
             "colorbar": {
              "outlinewidth": 0,
              "ticks": ""
             }
            },
            "type": "parcoords"
           }
          ],
          "pie": [
           {
            "automargin": true,
            "type": "pie"
           }
          ],
          "scatter": [
           {
            "marker": {
             "colorbar": {
              "outlinewidth": 0,
              "ticks": ""
             }
            },
            "type": "scatter"
           }
          ],
          "scatter3d": [
           {
            "line": {
             "colorbar": {
              "outlinewidth": 0,
              "ticks": ""
             }
            },
            "marker": {
             "colorbar": {
              "outlinewidth": 0,
              "ticks": ""
             }
            },
            "type": "scatter3d"
           }
          ],
          "scattercarpet": [
           {
            "marker": {
             "colorbar": {
              "outlinewidth": 0,
              "ticks": ""
             }
            },
            "type": "scattercarpet"
           }
          ],
          "scattergeo": [
           {
            "marker": {
             "colorbar": {
              "outlinewidth": 0,
              "ticks": ""
             }
            },
            "type": "scattergeo"
           }
          ],
          "scattergl": [
           {
            "marker": {
             "colorbar": {
              "outlinewidth": 0,
              "ticks": ""
             }
            },
            "type": "scattergl"
           }
          ],
          "scattermapbox": [
           {
            "marker": {
             "colorbar": {
              "outlinewidth": 0,
              "ticks": ""
             }
            },
            "type": "scattermapbox"
           }
          ],
          "scatterpolar": [
           {
            "marker": {
             "colorbar": {
              "outlinewidth": 0,
              "ticks": ""
             }
            },
            "type": "scatterpolar"
           }
          ],
          "scatterpolargl": [
           {
            "marker": {
             "colorbar": {
              "outlinewidth": 0,
              "ticks": ""
             }
            },
            "type": "scatterpolargl"
           }
          ],
          "scatterternary": [
           {
            "marker": {
             "colorbar": {
              "outlinewidth": 0,
              "ticks": ""
             }
            },
            "type": "scatterternary"
           }
          ],
          "surface": [
           {
            "colorbar": {
             "outlinewidth": 0,
             "ticks": ""
            },
            "colorscale": [
             [
              0,
              "#0d0887"
             ],
             [
              0.1111111111111111,
              "#46039f"
             ],
             [
              0.2222222222222222,
              "#7201a8"
             ],
             [
              0.3333333333333333,
              "#9c179e"
             ],
             [
              0.4444444444444444,
              "#bd3786"
             ],
             [
              0.5555555555555556,
              "#d8576b"
             ],
             [
              0.6666666666666666,
              "#ed7953"
             ],
             [
              0.7777777777777778,
              "#fb9f3a"
             ],
             [
              0.8888888888888888,
              "#fdca26"
             ],
             [
              1,
              "#f0f921"
             ]
            ],
            "type": "surface"
           }
          ],
          "table": [
           {
            "cells": {
             "fill": {
              "color": "#EBF0F8"
             },
             "line": {
              "color": "white"
             }
            },
            "header": {
             "fill": {
              "color": "#C8D4E3"
             },
             "line": {
              "color": "white"
             }
            },
            "type": "table"
           }
          ]
         },
         "layout": {
          "annotationdefaults": {
           "arrowcolor": "#2a3f5f",
           "arrowhead": 0,
           "arrowwidth": 1
          },
          "autotypenumbers": "strict",
          "coloraxis": {
           "colorbar": {
            "outlinewidth": 0,
            "ticks": ""
           }
          },
          "colorscale": {
           "diverging": [
            [
             0,
             "#8e0152"
            ],
            [
             0.1,
             "#c51b7d"
            ],
            [
             0.2,
             "#de77ae"
            ],
            [
             0.3,
             "#f1b6da"
            ],
            [
             0.4,
             "#fde0ef"
            ],
            [
             0.5,
             "#f7f7f7"
            ],
            [
             0.6,
             "#e6f5d0"
            ],
            [
             0.7,
             "#b8e186"
            ],
            [
             0.8,
             "#7fbc41"
            ],
            [
             0.9,
             "#4d9221"
            ],
            [
             1,
             "#276419"
            ]
           ],
           "sequential": [
            [
             0,
             "#0d0887"
            ],
            [
             0.1111111111111111,
             "#46039f"
            ],
            [
             0.2222222222222222,
             "#7201a8"
            ],
            [
             0.3333333333333333,
             "#9c179e"
            ],
            [
             0.4444444444444444,
             "#bd3786"
            ],
            [
             0.5555555555555556,
             "#d8576b"
            ],
            [
             0.6666666666666666,
             "#ed7953"
            ],
            [
             0.7777777777777778,
             "#fb9f3a"
            ],
            [
             0.8888888888888888,
             "#fdca26"
            ],
            [
             1,
             "#f0f921"
            ]
           ],
           "sequentialminus": [
            [
             0,
             "#0d0887"
            ],
            [
             0.1111111111111111,
             "#46039f"
            ],
            [
             0.2222222222222222,
             "#7201a8"
            ],
            [
             0.3333333333333333,
             "#9c179e"
            ],
            [
             0.4444444444444444,
             "#bd3786"
            ],
            [
             0.5555555555555556,
             "#d8576b"
            ],
            [
             0.6666666666666666,
             "#ed7953"
            ],
            [
             0.7777777777777778,
             "#fb9f3a"
            ],
            [
             0.8888888888888888,
             "#fdca26"
            ],
            [
             1,
             "#f0f921"
            ]
           ]
          },
          "colorway": [
           "#636efa",
           "#EF553B",
           "#00cc96",
           "#ab63fa",
           "#FFA15A",
           "#19d3f3",
           "#FF6692",
           "#B6E880",
           "#FF97FF",
           "#FECB52"
          ],
          "font": {
           "color": "#2a3f5f"
          },
          "geo": {
           "bgcolor": "white",
           "lakecolor": "white",
           "landcolor": "#E5ECF6",
           "showlakes": true,
           "showland": true,
           "subunitcolor": "white"
          },
          "hoverlabel": {
           "align": "left"
          },
          "hovermode": "closest",
          "mapbox": {
           "style": "light"
          },
          "paper_bgcolor": "white",
          "plot_bgcolor": "#E5ECF6",
          "polar": {
           "angularaxis": {
            "gridcolor": "white",
            "linecolor": "white",
            "ticks": ""
           },
           "bgcolor": "#E5ECF6",
           "radialaxis": {
            "gridcolor": "white",
            "linecolor": "white",
            "ticks": ""
           }
          },
          "scene": {
           "xaxis": {
            "backgroundcolor": "#E5ECF6",
            "gridcolor": "white",
            "gridwidth": 2,
            "linecolor": "white",
            "showbackground": true,
            "ticks": "",
            "zerolinecolor": "white"
           },
           "yaxis": {
            "backgroundcolor": "#E5ECF6",
            "gridcolor": "white",
            "gridwidth": 2,
            "linecolor": "white",
            "showbackground": true,
            "ticks": "",
            "zerolinecolor": "white"
           },
           "zaxis": {
            "backgroundcolor": "#E5ECF6",
            "gridcolor": "white",
            "gridwidth": 2,
            "linecolor": "white",
            "showbackground": true,
            "ticks": "",
            "zerolinecolor": "white"
           }
          },
          "shapedefaults": {
           "line": {
            "color": "#2a3f5f"
           }
          },
          "ternary": {
           "aaxis": {
            "gridcolor": "white",
            "linecolor": "white",
            "ticks": ""
           },
           "baxis": {
            "gridcolor": "white",
            "linecolor": "white",
            "ticks": ""
           },
           "bgcolor": "#E5ECF6",
           "caxis": {
            "gridcolor": "white",
            "linecolor": "white",
            "ticks": ""
           }
          },
          "title": {
           "x": 0.05
          },
          "xaxis": {
           "automargin": true,
           "gridcolor": "white",
           "linecolor": "white",
           "ticks": "",
           "title": {
            "standoff": 15
           },
           "zerolinecolor": "white",
           "zerolinewidth": 2
          },
          "yaxis": {
           "automargin": true,
           "gridcolor": "white",
           "linecolor": "white",
           "ticks": "",
           "title": {
            "standoff": 15
           },
           "zerolinecolor": "white",
           "zerolinewidth": 2
          }
         }
        },
        "title": {
         "text": "Labels Distribution"
        },
        "width": 800,
        "xaxis": {
         "title": {
          "text": "Attack Name"
         }
        },
        "yaxis": {
         "title": {
          "text": "Number of attacks"
         }
        }
       }
      },
      "text/html": [
       "<div>                            <div id=\"965e2010-99d7-4e04-a85f-396802a544e1\" class=\"plotly-graph-div\" style=\"height:600px; width:800px;\"></div>            <script type=\"text/javascript\">                require([\"plotly\"], function(Plotly) {                    window.PLOTLYENV=window.PLOTLYENV || {};                                    if (document.getElementById(\"965e2010-99d7-4e04-a85f-396802a544e1\")) {                    Plotly.newPlot(                        \"965e2010-99d7-4e04-a85f-396802a544e1\",                        [{\"name\":\"Benign\",\"orientation\":\"v\",\"text\":\"446641\",\"textposition\":\"outside\",\"x\":[\"Benign\"],\"y\":[446641],\"type\":\"bar\"},{\"name\":\"DoS attacks-SlowHTTPTest\",\"orientation\":\"v\",\"text\":\"55\",\"textposition\":\"outside\",\"x\":[\"DoS attacks-SlowHTTPTest\"],\"y\":[55],\"type\":\"bar\"},{\"name\":\"DoS attacks-Hulk\",\"orientation\":\"v\",\"text\":\"122294\",\"textposition\":\"outside\",\"x\":[\"DoS attacks-Hulk\"],\"y\":[122294],\"type\":\"bar\"}],                        {\"height\":600,\"template\":{\"data\":{\"barpolar\":[{\"marker\":{\"line\":{\"color\":\"#E5ECF6\",\"width\":0.5},\"pattern\":{\"fillmode\":\"overlay\",\"size\":10,\"solidity\":0.2}},\"type\":\"barpolar\"}],\"bar\":[{\"error_x\":{\"color\":\"#2a3f5f\"},\"error_y\":{\"color\":\"#2a3f5f\"},\"marker\":{\"line\":{\"color\":\"#E5ECF6\",\"width\":0.5},\"pattern\":{\"fillmode\":\"overlay\",\"size\":10,\"solidity\":0.2}},\"type\":\"bar\"}],\"carpet\":[{\"aaxis\":{\"endlinecolor\":\"#2a3f5f\",\"gridcolor\":\"white\",\"linecolor\":\"white\",\"minorgridcolor\":\"white\",\"startlinecolor\":\"#2a3f5f\"},\"baxis\":{\"endlinecolor\":\"#2a3f5f\",\"gridcolor\":\"white\",\"linecolor\":\"white\",\"minorgridcolor\":\"white\",\"startlinecolor\":\"#2a3f5f\"},\"type\":\"carpet\"}],\"choropleth\":[{\"colorbar\":{\"outlinewidth\":0,\"ticks\":\"\"},\"type\":\"choropleth\"}],\"contourcarpet\":[{\"colorbar\":{\"outlinewidth\":0,\"ticks\":\"\"},\"type\":\"contourcarpet\"}],\"contour\":[{\"colorbar\":{\"outlinewidth\":0,\"ticks\":\"\"},\"colorscale\":[[0.0,\"#0d0887\"],[0.1111111111111111,\"#46039f\"],[0.2222222222222222,\"#7201a8\"],[0.3333333333333333,\"#9c179e\"],[0.4444444444444444,\"#bd3786\"],[0.5555555555555556,\"#d8576b\"],[0.6666666666666666,\"#ed7953\"],[0.7777777777777778,\"#fb9f3a\"],[0.8888888888888888,\"#fdca26\"],[1.0,\"#f0f921\"]],\"type\":\"contour\"}],\"heatmapgl\":[{\"colorbar\":{\"outlinewidth\":0,\"ticks\":\"\"},\"colorscale\":[[0.0,\"#0d0887\"],[0.1111111111111111,\"#46039f\"],[0.2222222222222222,\"#7201a8\"],[0.3333333333333333,\"#9c179e\"],[0.4444444444444444,\"#bd3786\"],[0.5555555555555556,\"#d8576b\"],[0.6666666666666666,\"#ed7953\"],[0.7777777777777778,\"#fb9f3a\"],[0.8888888888888888,\"#fdca26\"],[1.0,\"#f0f921\"]],\"type\":\"heatmapgl\"}],\"heatmap\":[{\"colorbar\":{\"outlinewidth\":0,\"ticks\":\"\"},\"colorscale\":[[0.0,\"#0d0887\"],[0.1111111111111111,\"#46039f\"],[0.2222222222222222,\"#7201a8\"],[0.3333333333333333,\"#9c179e\"],[0.4444444444444444,\"#bd3786\"],[0.5555555555555556,\"#d8576b\"],[0.6666666666666666,\"#ed7953\"],[0.7777777777777778,\"#fb9f3a\"],[0.8888888888888888,\"#fdca26\"],[1.0,\"#f0f921\"]],\"type\":\"heatmap\"}],\"histogram2dcontour\":[{\"colorbar\":{\"outlinewidth\":0,\"ticks\":\"\"},\"colorscale\":[[0.0,\"#0d0887\"],[0.1111111111111111,\"#46039f\"],[0.2222222222222222,\"#7201a8\"],[0.3333333333333333,\"#9c179e\"],[0.4444444444444444,\"#bd3786\"],[0.5555555555555556,\"#d8576b\"],[0.6666666666666666,\"#ed7953\"],[0.7777777777777778,\"#fb9f3a\"],[0.8888888888888888,\"#fdca26\"],[1.0,\"#f0f921\"]],\"type\":\"histogram2dcontour\"}],\"histogram2d\":[{\"colorbar\":{\"outlinewidth\":0,\"ticks\":\"\"},\"colorscale\":[[0.0,\"#0d0887\"],[0.1111111111111111,\"#46039f\"],[0.2222222222222222,\"#7201a8\"],[0.3333333333333333,\"#9c179e\"],[0.4444444444444444,\"#bd3786\"],[0.5555555555555556,\"#d8576b\"],[0.6666666666666666,\"#ed7953\"],[0.7777777777777778,\"#fb9f3a\"],[0.8888888888888888,\"#fdca26\"],[1.0,\"#f0f921\"]],\"type\":\"histogram2d\"}],\"histogram\":[{\"marker\":{\"pattern\":{\"fillmode\":\"overlay\",\"size\":10,\"solidity\":0.2}},\"type\":\"histogram\"}],\"mesh3d\":[{\"colorbar\":{\"outlinewidth\":0,\"ticks\":\"\"},\"type\":\"mesh3d\"}],\"parcoords\":[{\"line\":{\"colorbar\":{\"outlinewidth\":0,\"ticks\":\"\"}},\"type\":\"parcoords\"}],\"pie\":[{\"automargin\":true,\"type\":\"pie\"}],\"scatter3d\":[{\"line\":{\"colorbar\":{\"outlinewidth\":0,\"ticks\":\"\"}},\"marker\":{\"colorbar\":{\"outlinewidth\":0,\"ticks\":\"\"}},\"type\":\"scatter3d\"}],\"scattercarpet\":[{\"marker\":{\"colorbar\":{\"outlinewidth\":0,\"ticks\":\"\"}},\"type\":\"scattercarpet\"}],\"scattergeo\":[{\"marker\":{\"colorbar\":{\"outlinewidth\":0,\"ticks\":\"\"}},\"type\":\"scattergeo\"}],\"scattergl\":[{\"marker\":{\"colorbar\":{\"outlinewidth\":0,\"ticks\":\"\"}},\"type\":\"scattergl\"}],\"scattermapbox\":[{\"marker\":{\"colorbar\":{\"outlinewidth\":0,\"ticks\":\"\"}},\"type\":\"scattermapbox\"}],\"scatterpolargl\":[{\"marker\":{\"colorbar\":{\"outlinewidth\":0,\"ticks\":\"\"}},\"type\":\"scatterpolargl\"}],\"scatterpolar\":[{\"marker\":{\"colorbar\":{\"outlinewidth\":0,\"ticks\":\"\"}},\"type\":\"scatterpolar\"}],\"scatter\":[{\"marker\":{\"colorbar\":{\"outlinewidth\":0,\"ticks\":\"\"}},\"type\":\"scatter\"}],\"scatterternary\":[{\"marker\":{\"colorbar\":{\"outlinewidth\":0,\"ticks\":\"\"}},\"type\":\"scatterternary\"}],\"surface\":[{\"colorbar\":{\"outlinewidth\":0,\"ticks\":\"\"},\"colorscale\":[[0.0,\"#0d0887\"],[0.1111111111111111,\"#46039f\"],[0.2222222222222222,\"#7201a8\"],[0.3333333333333333,\"#9c179e\"],[0.4444444444444444,\"#bd3786\"],[0.5555555555555556,\"#d8576b\"],[0.6666666666666666,\"#ed7953\"],[0.7777777777777778,\"#fb9f3a\"],[0.8888888888888888,\"#fdca26\"],[1.0,\"#f0f921\"]],\"type\":\"surface\"}],\"table\":[{\"cells\":{\"fill\":{\"color\":\"#EBF0F8\"},\"line\":{\"color\":\"white\"}},\"header\":{\"fill\":{\"color\":\"#C8D4E3\"},\"line\":{\"color\":\"white\"}},\"type\":\"table\"}]},\"layout\":{\"annotationdefaults\":{\"arrowcolor\":\"#2a3f5f\",\"arrowhead\":0,\"arrowwidth\":1},\"autotypenumbers\":\"strict\",\"coloraxis\":{\"colorbar\":{\"outlinewidth\":0,\"ticks\":\"\"}},\"colorscale\":{\"diverging\":[[0,\"#8e0152\"],[0.1,\"#c51b7d\"],[0.2,\"#de77ae\"],[0.3,\"#f1b6da\"],[0.4,\"#fde0ef\"],[0.5,\"#f7f7f7\"],[0.6,\"#e6f5d0\"],[0.7,\"#b8e186\"],[0.8,\"#7fbc41\"],[0.9,\"#4d9221\"],[1,\"#276419\"]],\"sequential\":[[0.0,\"#0d0887\"],[0.1111111111111111,\"#46039f\"],[0.2222222222222222,\"#7201a8\"],[0.3333333333333333,\"#9c179e\"],[0.4444444444444444,\"#bd3786\"],[0.5555555555555556,\"#d8576b\"],[0.6666666666666666,\"#ed7953\"],[0.7777777777777778,\"#fb9f3a\"],[0.8888888888888888,\"#fdca26\"],[1.0,\"#f0f921\"]],\"sequentialminus\":[[0.0,\"#0d0887\"],[0.1111111111111111,\"#46039f\"],[0.2222222222222222,\"#7201a8\"],[0.3333333333333333,\"#9c179e\"],[0.4444444444444444,\"#bd3786\"],[0.5555555555555556,\"#d8576b\"],[0.6666666666666666,\"#ed7953\"],[0.7777777777777778,\"#fb9f3a\"],[0.8888888888888888,\"#fdca26\"],[1.0,\"#f0f921\"]]},\"colorway\":[\"#636efa\",\"#EF553B\",\"#00cc96\",\"#ab63fa\",\"#FFA15A\",\"#19d3f3\",\"#FF6692\",\"#B6E880\",\"#FF97FF\",\"#FECB52\"],\"font\":{\"color\":\"#2a3f5f\"},\"geo\":{\"bgcolor\":\"white\",\"lakecolor\":\"white\",\"landcolor\":\"#E5ECF6\",\"showlakes\":true,\"showland\":true,\"subunitcolor\":\"white\"},\"hoverlabel\":{\"align\":\"left\"},\"hovermode\":\"closest\",\"mapbox\":{\"style\":\"light\"},\"paper_bgcolor\":\"white\",\"plot_bgcolor\":\"#E5ECF6\",\"polar\":{\"angularaxis\":{\"gridcolor\":\"white\",\"linecolor\":\"white\",\"ticks\":\"\"},\"bgcolor\":\"#E5ECF6\",\"radialaxis\":{\"gridcolor\":\"white\",\"linecolor\":\"white\",\"ticks\":\"\"}},\"scene\":{\"xaxis\":{\"backgroundcolor\":\"#E5ECF6\",\"gridcolor\":\"white\",\"gridwidth\":2,\"linecolor\":\"white\",\"showbackground\":true,\"ticks\":\"\",\"zerolinecolor\":\"white\"},\"yaxis\":{\"backgroundcolor\":\"#E5ECF6\",\"gridcolor\":\"white\",\"gridwidth\":2,\"linecolor\":\"white\",\"showbackground\":true,\"ticks\":\"\",\"zerolinecolor\":\"white\"},\"zaxis\":{\"backgroundcolor\":\"#E5ECF6\",\"gridcolor\":\"white\",\"gridwidth\":2,\"linecolor\":\"white\",\"showbackground\":true,\"ticks\":\"\",\"zerolinecolor\":\"white\"}},\"shapedefaults\":{\"line\":{\"color\":\"#2a3f5f\"}},\"ternary\":{\"aaxis\":{\"gridcolor\":\"white\",\"linecolor\":\"white\",\"ticks\":\"\"},\"baxis\":{\"gridcolor\":\"white\",\"linecolor\":\"white\",\"ticks\":\"\"},\"bgcolor\":\"#E5ECF6\",\"caxis\":{\"gridcolor\":\"white\",\"linecolor\":\"white\",\"ticks\":\"\"}},\"title\":{\"x\":0.05},\"xaxis\":{\"automargin\":true,\"gridcolor\":\"white\",\"linecolor\":\"white\",\"ticks\":\"\",\"title\":{\"standoff\":15},\"zerolinecolor\":\"white\",\"zerolinewidth\":2},\"yaxis\":{\"automargin\":true,\"gridcolor\":\"white\",\"linecolor\":\"white\",\"ticks\":\"\",\"title\":{\"standoff\":15},\"zerolinecolor\":\"white\",\"zerolinewidth\":2}}},\"title\":{\"text\":\"Labels Distribution\"},\"width\":800,\"xaxis\":{\"title\":{\"text\":\"Attack Name\"}},\"yaxis\":{\"title\":{\"text\":\"Number of attacks\"}}},                        {\"responsive\": true}                    ).then(function(){\n",
       "                            \n",
       "var gd = document.getElementById('965e2010-99d7-4e04-a85f-396802a544e1');\n",
       "var x = new MutationObserver(function (mutations, observer) {{\n",
       "        var display = window.getComputedStyle(gd).display;\n",
       "        if (!display || display === 'none') {{\n",
       "            console.log([gd, 'removed!']);\n",
       "            Plotly.purge(gd);\n",
       "            observer.disconnect();\n",
       "        }}\n",
       "}});\n",
       "\n",
       "// Listen for the removal of the full notebook cells\n",
       "var notebookContainer = gd.closest('#notebook-container');\n",
       "if (notebookContainer) {{\n",
       "    x.observe(notebookContainer, {childList: true});\n",
       "}}\n",
       "\n",
       "// Listen for the clearing of the current output cell\n",
       "var outputEl = gd.closest('.output');\n",
       "if (outputEl) {{\n",
       "    x.observe(outputEl, {childList: true});\n",
       "}}\n",
       "\n",
       "                        })                };                });            </script>        </div>"
      ]
     },
     "metadata": {},
     "output_type": "display_data"
    }
   ],
   "source": [
    "showAttackDistribution(withoutDuplicates[LABEL])\n"
   ]
  },
  {
   "cell_type": "code",
   "execution_count": null,
   "id": "51a59d37",
   "metadata": {},
   "outputs": [],
   "source": [
    "def shortData(data, benignCount, httpCount, hulkCount):\n",
    "    shortedNormal = data[data[LABEL] ==\n",
    "                         NORMAL].sample(benignCount, ignore_index=True, random_state=32)\n",
    "    shortedGolden = data[data[LABEL] == HTTP].sample(\n",
    "        httpCount, ignore_index=True, random_state=32)\n",
    "    shortedSlow = data[data[LABEL] == HULK].sample(\n",
    "        hulkCount, ignore_index=True, random_state=32)\n",
    "    return pd.concat([shortedNormal, shortedGolden, shortedSlow], axis=0)\n"
   ]
  },
  {
   "cell_type": "code",
   "execution_count": null,
   "id": "941ce6dd",
   "metadata": {},
   "outputs": [
    {
     "data": {
      "application/vnd.plotly.v1+json": {
       "config": {
        "linkText": "Export to plot.ly",
        "plotlyServerURL": "https://plot.ly",
        "showLink": false
       },
       "data": [
        {
         "name": "Benign",
         "orientation": "v",
         "text": "100000",
         "textposition": "outside",
         "type": "bar",
         "x": [
          "Benign"
         ],
         "y": [
          100000
         ]
        },
        {
         "name": "DoS attacks-SlowHTTPTest",
         "orientation": "v",
         "text": "55",
         "textposition": "outside",
         "type": "bar",
         "x": [
          "DoS attacks-SlowHTTPTest"
         ],
         "y": [
          55
         ]
        },
        {
         "name": "DoS attacks-Hulk",
         "orientation": "v",
         "text": "61000",
         "textposition": "outside",
         "type": "bar",
         "x": [
          "DoS attacks-Hulk"
         ],
         "y": [
          61000
         ]
        }
       ],
       "layout": {
        "height": 600,
        "template": {
         "data": {
          "bar": [
           {
            "error_x": {
             "color": "#2a3f5f"
            },
            "error_y": {
             "color": "#2a3f5f"
            },
            "marker": {
             "line": {
              "color": "#E5ECF6",
              "width": 0.5
             },
             "pattern": {
              "fillmode": "overlay",
              "size": 10,
              "solidity": 0.2
             }
            },
            "type": "bar"
           }
          ],
          "barpolar": [
           {
            "marker": {
             "line": {
              "color": "#E5ECF6",
              "width": 0.5
             },
             "pattern": {
              "fillmode": "overlay",
              "size": 10,
              "solidity": 0.2
             }
            },
            "type": "barpolar"
           }
          ],
          "carpet": [
           {
            "aaxis": {
             "endlinecolor": "#2a3f5f",
             "gridcolor": "white",
             "linecolor": "white",
             "minorgridcolor": "white",
             "startlinecolor": "#2a3f5f"
            },
            "baxis": {
             "endlinecolor": "#2a3f5f",
             "gridcolor": "white",
             "linecolor": "white",
             "minorgridcolor": "white",
             "startlinecolor": "#2a3f5f"
            },
            "type": "carpet"
           }
          ],
          "choropleth": [
           {
            "colorbar": {
             "outlinewidth": 0,
             "ticks": ""
            },
            "type": "choropleth"
           }
          ],
          "contour": [
           {
            "colorbar": {
             "outlinewidth": 0,
             "ticks": ""
            },
            "colorscale": [
             [
              0,
              "#0d0887"
             ],
             [
              0.1111111111111111,
              "#46039f"
             ],
             [
              0.2222222222222222,
              "#7201a8"
             ],
             [
              0.3333333333333333,
              "#9c179e"
             ],
             [
              0.4444444444444444,
              "#bd3786"
             ],
             [
              0.5555555555555556,
              "#d8576b"
             ],
             [
              0.6666666666666666,
              "#ed7953"
             ],
             [
              0.7777777777777778,
              "#fb9f3a"
             ],
             [
              0.8888888888888888,
              "#fdca26"
             ],
             [
              1,
              "#f0f921"
             ]
            ],
            "type": "contour"
           }
          ],
          "contourcarpet": [
           {
            "colorbar": {
             "outlinewidth": 0,
             "ticks": ""
            },
            "type": "contourcarpet"
           }
          ],
          "heatmap": [
           {
            "colorbar": {
             "outlinewidth": 0,
             "ticks": ""
            },
            "colorscale": [
             [
              0,
              "#0d0887"
             ],
             [
              0.1111111111111111,
              "#46039f"
             ],
             [
              0.2222222222222222,
              "#7201a8"
             ],
             [
              0.3333333333333333,
              "#9c179e"
             ],
             [
              0.4444444444444444,
              "#bd3786"
             ],
             [
              0.5555555555555556,
              "#d8576b"
             ],
             [
              0.6666666666666666,
              "#ed7953"
             ],
             [
              0.7777777777777778,
              "#fb9f3a"
             ],
             [
              0.8888888888888888,
              "#fdca26"
             ],
             [
              1,
              "#f0f921"
             ]
            ],
            "type": "heatmap"
           }
          ],
          "heatmapgl": [
           {
            "colorbar": {
             "outlinewidth": 0,
             "ticks": ""
            },
            "colorscale": [
             [
              0,
              "#0d0887"
             ],
             [
              0.1111111111111111,
              "#46039f"
             ],
             [
              0.2222222222222222,
              "#7201a8"
             ],
             [
              0.3333333333333333,
              "#9c179e"
             ],
             [
              0.4444444444444444,
              "#bd3786"
             ],
             [
              0.5555555555555556,
              "#d8576b"
             ],
             [
              0.6666666666666666,
              "#ed7953"
             ],
             [
              0.7777777777777778,
              "#fb9f3a"
             ],
             [
              0.8888888888888888,
              "#fdca26"
             ],
             [
              1,
              "#f0f921"
             ]
            ],
            "type": "heatmapgl"
           }
          ],
          "histogram": [
           {
            "marker": {
             "pattern": {
              "fillmode": "overlay",
              "size": 10,
              "solidity": 0.2
             }
            },
            "type": "histogram"
           }
          ],
          "histogram2d": [
           {
            "colorbar": {
             "outlinewidth": 0,
             "ticks": ""
            },
            "colorscale": [
             [
              0,
              "#0d0887"
             ],
             [
              0.1111111111111111,
              "#46039f"
             ],
             [
              0.2222222222222222,
              "#7201a8"
             ],
             [
              0.3333333333333333,
              "#9c179e"
             ],
             [
              0.4444444444444444,
              "#bd3786"
             ],
             [
              0.5555555555555556,
              "#d8576b"
             ],
             [
              0.6666666666666666,
              "#ed7953"
             ],
             [
              0.7777777777777778,
              "#fb9f3a"
             ],
             [
              0.8888888888888888,
              "#fdca26"
             ],
             [
              1,
              "#f0f921"
             ]
            ],
            "type": "histogram2d"
           }
          ],
          "histogram2dcontour": [
           {
            "colorbar": {
             "outlinewidth": 0,
             "ticks": ""
            },
            "colorscale": [
             [
              0,
              "#0d0887"
             ],
             [
              0.1111111111111111,
              "#46039f"
             ],
             [
              0.2222222222222222,
              "#7201a8"
             ],
             [
              0.3333333333333333,
              "#9c179e"
             ],
             [
              0.4444444444444444,
              "#bd3786"
             ],
             [
              0.5555555555555556,
              "#d8576b"
             ],
             [
              0.6666666666666666,
              "#ed7953"
             ],
             [
              0.7777777777777778,
              "#fb9f3a"
             ],
             [
              0.8888888888888888,
              "#fdca26"
             ],
             [
              1,
              "#f0f921"
             ]
            ],
            "type": "histogram2dcontour"
           }
          ],
          "mesh3d": [
           {
            "colorbar": {
             "outlinewidth": 0,
             "ticks": ""
            },
            "type": "mesh3d"
           }
          ],
          "parcoords": [
           {
            "line": {
             "colorbar": {
              "outlinewidth": 0,
              "ticks": ""
             }
            },
            "type": "parcoords"
           }
          ],
          "pie": [
           {
            "automargin": true,
            "type": "pie"
           }
          ],
          "scatter": [
           {
            "marker": {
             "colorbar": {
              "outlinewidth": 0,
              "ticks": ""
             }
            },
            "type": "scatter"
           }
          ],
          "scatter3d": [
           {
            "line": {
             "colorbar": {
              "outlinewidth": 0,
              "ticks": ""
             }
            },
            "marker": {
             "colorbar": {
              "outlinewidth": 0,
              "ticks": ""
             }
            },
            "type": "scatter3d"
           }
          ],
          "scattercarpet": [
           {
            "marker": {
             "colorbar": {
              "outlinewidth": 0,
              "ticks": ""
             }
            },
            "type": "scattercarpet"
           }
          ],
          "scattergeo": [
           {
            "marker": {
             "colorbar": {
              "outlinewidth": 0,
              "ticks": ""
             }
            },
            "type": "scattergeo"
           }
          ],
          "scattergl": [
           {
            "marker": {
             "colorbar": {
              "outlinewidth": 0,
              "ticks": ""
             }
            },
            "type": "scattergl"
           }
          ],
          "scattermapbox": [
           {
            "marker": {
             "colorbar": {
              "outlinewidth": 0,
              "ticks": ""
             }
            },
            "type": "scattermapbox"
           }
          ],
          "scatterpolar": [
           {
            "marker": {
             "colorbar": {
              "outlinewidth": 0,
              "ticks": ""
             }
            },
            "type": "scatterpolar"
           }
          ],
          "scatterpolargl": [
           {
            "marker": {
             "colorbar": {
              "outlinewidth": 0,
              "ticks": ""
             }
            },
            "type": "scatterpolargl"
           }
          ],
          "scatterternary": [
           {
            "marker": {
             "colorbar": {
              "outlinewidth": 0,
              "ticks": ""
             }
            },
            "type": "scatterternary"
           }
          ],
          "surface": [
           {
            "colorbar": {
             "outlinewidth": 0,
             "ticks": ""
            },
            "colorscale": [
             [
              0,
              "#0d0887"
             ],
             [
              0.1111111111111111,
              "#46039f"
             ],
             [
              0.2222222222222222,
              "#7201a8"
             ],
             [
              0.3333333333333333,
              "#9c179e"
             ],
             [
              0.4444444444444444,
              "#bd3786"
             ],
             [
              0.5555555555555556,
              "#d8576b"
             ],
             [
              0.6666666666666666,
              "#ed7953"
             ],
             [
              0.7777777777777778,
              "#fb9f3a"
             ],
             [
              0.8888888888888888,
              "#fdca26"
             ],
             [
              1,
              "#f0f921"
             ]
            ],
            "type": "surface"
           }
          ],
          "table": [
           {
            "cells": {
             "fill": {
              "color": "#EBF0F8"
             },
             "line": {
              "color": "white"
             }
            },
            "header": {
             "fill": {
              "color": "#C8D4E3"
             },
             "line": {
              "color": "white"
             }
            },
            "type": "table"
           }
          ]
         },
         "layout": {
          "annotationdefaults": {
           "arrowcolor": "#2a3f5f",
           "arrowhead": 0,
           "arrowwidth": 1
          },
          "autotypenumbers": "strict",
          "coloraxis": {
           "colorbar": {
            "outlinewidth": 0,
            "ticks": ""
           }
          },
          "colorscale": {
           "diverging": [
            [
             0,
             "#8e0152"
            ],
            [
             0.1,
             "#c51b7d"
            ],
            [
             0.2,
             "#de77ae"
            ],
            [
             0.3,
             "#f1b6da"
            ],
            [
             0.4,
             "#fde0ef"
            ],
            [
             0.5,
             "#f7f7f7"
            ],
            [
             0.6,
             "#e6f5d0"
            ],
            [
             0.7,
             "#b8e186"
            ],
            [
             0.8,
             "#7fbc41"
            ],
            [
             0.9,
             "#4d9221"
            ],
            [
             1,
             "#276419"
            ]
           ],
           "sequential": [
            [
             0,
             "#0d0887"
            ],
            [
             0.1111111111111111,
             "#46039f"
            ],
            [
             0.2222222222222222,
             "#7201a8"
            ],
            [
             0.3333333333333333,
             "#9c179e"
            ],
            [
             0.4444444444444444,
             "#bd3786"
            ],
            [
             0.5555555555555556,
             "#d8576b"
            ],
            [
             0.6666666666666666,
             "#ed7953"
            ],
            [
             0.7777777777777778,
             "#fb9f3a"
            ],
            [
             0.8888888888888888,
             "#fdca26"
            ],
            [
             1,
             "#f0f921"
            ]
           ],
           "sequentialminus": [
            [
             0,
             "#0d0887"
            ],
            [
             0.1111111111111111,
             "#46039f"
            ],
            [
             0.2222222222222222,
             "#7201a8"
            ],
            [
             0.3333333333333333,
             "#9c179e"
            ],
            [
             0.4444444444444444,
             "#bd3786"
            ],
            [
             0.5555555555555556,
             "#d8576b"
            ],
            [
             0.6666666666666666,
             "#ed7953"
            ],
            [
             0.7777777777777778,
             "#fb9f3a"
            ],
            [
             0.8888888888888888,
             "#fdca26"
            ],
            [
             1,
             "#f0f921"
            ]
           ]
          },
          "colorway": [
           "#636efa",
           "#EF553B",
           "#00cc96",
           "#ab63fa",
           "#FFA15A",
           "#19d3f3",
           "#FF6692",
           "#B6E880",
           "#FF97FF",
           "#FECB52"
          ],
          "font": {
           "color": "#2a3f5f"
          },
          "geo": {
           "bgcolor": "white",
           "lakecolor": "white",
           "landcolor": "#E5ECF6",
           "showlakes": true,
           "showland": true,
           "subunitcolor": "white"
          },
          "hoverlabel": {
           "align": "left"
          },
          "hovermode": "closest",
          "mapbox": {
           "style": "light"
          },
          "paper_bgcolor": "white",
          "plot_bgcolor": "#E5ECF6",
          "polar": {
           "angularaxis": {
            "gridcolor": "white",
            "linecolor": "white",
            "ticks": ""
           },
           "bgcolor": "#E5ECF6",
           "radialaxis": {
            "gridcolor": "white",
            "linecolor": "white",
            "ticks": ""
           }
          },
          "scene": {
           "xaxis": {
            "backgroundcolor": "#E5ECF6",
            "gridcolor": "white",
            "gridwidth": 2,
            "linecolor": "white",
            "showbackground": true,
            "ticks": "",
            "zerolinecolor": "white"
           },
           "yaxis": {
            "backgroundcolor": "#E5ECF6",
            "gridcolor": "white",
            "gridwidth": 2,
            "linecolor": "white",
            "showbackground": true,
            "ticks": "",
            "zerolinecolor": "white"
           },
           "zaxis": {
            "backgroundcolor": "#E5ECF6",
            "gridcolor": "white",
            "gridwidth": 2,
            "linecolor": "white",
            "showbackground": true,
            "ticks": "",
            "zerolinecolor": "white"
           }
          },
          "shapedefaults": {
           "line": {
            "color": "#2a3f5f"
           }
          },
          "ternary": {
           "aaxis": {
            "gridcolor": "white",
            "linecolor": "white",
            "ticks": ""
           },
           "baxis": {
            "gridcolor": "white",
            "linecolor": "white",
            "ticks": ""
           },
           "bgcolor": "#E5ECF6",
           "caxis": {
            "gridcolor": "white",
            "linecolor": "white",
            "ticks": ""
           }
          },
          "title": {
           "x": 0.05
          },
          "xaxis": {
           "automargin": true,
           "gridcolor": "white",
           "linecolor": "white",
           "ticks": "",
           "title": {
            "standoff": 15
           },
           "zerolinecolor": "white",
           "zerolinewidth": 2
          },
          "yaxis": {
           "automargin": true,
           "gridcolor": "white",
           "linecolor": "white",
           "ticks": "",
           "title": {
            "standoff": 15
           },
           "zerolinecolor": "white",
           "zerolinewidth": 2
          }
         }
        },
        "title": {
         "text": "Labels Distribution"
        },
        "width": 800,
        "xaxis": {
         "title": {
          "text": "Attack Name"
         }
        },
        "yaxis": {
         "title": {
          "text": "Number of attacks"
         }
        }
       }
      },
      "text/html": [
       "<div>                            <div id=\"52b70fb7-244b-42ed-88e2-e8a2d5ff8412\" class=\"plotly-graph-div\" style=\"height:600px; width:800px;\"></div>            <script type=\"text/javascript\">                require([\"plotly\"], function(Plotly) {                    window.PLOTLYENV=window.PLOTLYENV || {};                                    if (document.getElementById(\"52b70fb7-244b-42ed-88e2-e8a2d5ff8412\")) {                    Plotly.newPlot(                        \"52b70fb7-244b-42ed-88e2-e8a2d5ff8412\",                        [{\"name\":\"Benign\",\"orientation\":\"v\",\"text\":\"100000\",\"textposition\":\"outside\",\"x\":[\"Benign\"],\"y\":[100000],\"type\":\"bar\"},{\"name\":\"DoS attacks-SlowHTTPTest\",\"orientation\":\"v\",\"text\":\"55\",\"textposition\":\"outside\",\"x\":[\"DoS attacks-SlowHTTPTest\"],\"y\":[55],\"type\":\"bar\"},{\"name\":\"DoS attacks-Hulk\",\"orientation\":\"v\",\"text\":\"61000\",\"textposition\":\"outside\",\"x\":[\"DoS attacks-Hulk\"],\"y\":[61000],\"type\":\"bar\"}],                        {\"height\":600,\"template\":{\"data\":{\"barpolar\":[{\"marker\":{\"line\":{\"color\":\"#E5ECF6\",\"width\":0.5},\"pattern\":{\"fillmode\":\"overlay\",\"size\":10,\"solidity\":0.2}},\"type\":\"barpolar\"}],\"bar\":[{\"error_x\":{\"color\":\"#2a3f5f\"},\"error_y\":{\"color\":\"#2a3f5f\"},\"marker\":{\"line\":{\"color\":\"#E5ECF6\",\"width\":0.5},\"pattern\":{\"fillmode\":\"overlay\",\"size\":10,\"solidity\":0.2}},\"type\":\"bar\"}],\"carpet\":[{\"aaxis\":{\"endlinecolor\":\"#2a3f5f\",\"gridcolor\":\"white\",\"linecolor\":\"white\",\"minorgridcolor\":\"white\",\"startlinecolor\":\"#2a3f5f\"},\"baxis\":{\"endlinecolor\":\"#2a3f5f\",\"gridcolor\":\"white\",\"linecolor\":\"white\",\"minorgridcolor\":\"white\",\"startlinecolor\":\"#2a3f5f\"},\"type\":\"carpet\"}],\"choropleth\":[{\"colorbar\":{\"outlinewidth\":0,\"ticks\":\"\"},\"type\":\"choropleth\"}],\"contourcarpet\":[{\"colorbar\":{\"outlinewidth\":0,\"ticks\":\"\"},\"type\":\"contourcarpet\"}],\"contour\":[{\"colorbar\":{\"outlinewidth\":0,\"ticks\":\"\"},\"colorscale\":[[0.0,\"#0d0887\"],[0.1111111111111111,\"#46039f\"],[0.2222222222222222,\"#7201a8\"],[0.3333333333333333,\"#9c179e\"],[0.4444444444444444,\"#bd3786\"],[0.5555555555555556,\"#d8576b\"],[0.6666666666666666,\"#ed7953\"],[0.7777777777777778,\"#fb9f3a\"],[0.8888888888888888,\"#fdca26\"],[1.0,\"#f0f921\"]],\"type\":\"contour\"}],\"heatmapgl\":[{\"colorbar\":{\"outlinewidth\":0,\"ticks\":\"\"},\"colorscale\":[[0.0,\"#0d0887\"],[0.1111111111111111,\"#46039f\"],[0.2222222222222222,\"#7201a8\"],[0.3333333333333333,\"#9c179e\"],[0.4444444444444444,\"#bd3786\"],[0.5555555555555556,\"#d8576b\"],[0.6666666666666666,\"#ed7953\"],[0.7777777777777778,\"#fb9f3a\"],[0.8888888888888888,\"#fdca26\"],[1.0,\"#f0f921\"]],\"type\":\"heatmapgl\"}],\"heatmap\":[{\"colorbar\":{\"outlinewidth\":0,\"ticks\":\"\"},\"colorscale\":[[0.0,\"#0d0887\"],[0.1111111111111111,\"#46039f\"],[0.2222222222222222,\"#7201a8\"],[0.3333333333333333,\"#9c179e\"],[0.4444444444444444,\"#bd3786\"],[0.5555555555555556,\"#d8576b\"],[0.6666666666666666,\"#ed7953\"],[0.7777777777777778,\"#fb9f3a\"],[0.8888888888888888,\"#fdca26\"],[1.0,\"#f0f921\"]],\"type\":\"heatmap\"}],\"histogram2dcontour\":[{\"colorbar\":{\"outlinewidth\":0,\"ticks\":\"\"},\"colorscale\":[[0.0,\"#0d0887\"],[0.1111111111111111,\"#46039f\"],[0.2222222222222222,\"#7201a8\"],[0.3333333333333333,\"#9c179e\"],[0.4444444444444444,\"#bd3786\"],[0.5555555555555556,\"#d8576b\"],[0.6666666666666666,\"#ed7953\"],[0.7777777777777778,\"#fb9f3a\"],[0.8888888888888888,\"#fdca26\"],[1.0,\"#f0f921\"]],\"type\":\"histogram2dcontour\"}],\"histogram2d\":[{\"colorbar\":{\"outlinewidth\":0,\"ticks\":\"\"},\"colorscale\":[[0.0,\"#0d0887\"],[0.1111111111111111,\"#46039f\"],[0.2222222222222222,\"#7201a8\"],[0.3333333333333333,\"#9c179e\"],[0.4444444444444444,\"#bd3786\"],[0.5555555555555556,\"#d8576b\"],[0.6666666666666666,\"#ed7953\"],[0.7777777777777778,\"#fb9f3a\"],[0.8888888888888888,\"#fdca26\"],[1.0,\"#f0f921\"]],\"type\":\"histogram2d\"}],\"histogram\":[{\"marker\":{\"pattern\":{\"fillmode\":\"overlay\",\"size\":10,\"solidity\":0.2}},\"type\":\"histogram\"}],\"mesh3d\":[{\"colorbar\":{\"outlinewidth\":0,\"ticks\":\"\"},\"type\":\"mesh3d\"}],\"parcoords\":[{\"line\":{\"colorbar\":{\"outlinewidth\":0,\"ticks\":\"\"}},\"type\":\"parcoords\"}],\"pie\":[{\"automargin\":true,\"type\":\"pie\"}],\"scatter3d\":[{\"line\":{\"colorbar\":{\"outlinewidth\":0,\"ticks\":\"\"}},\"marker\":{\"colorbar\":{\"outlinewidth\":0,\"ticks\":\"\"}},\"type\":\"scatter3d\"}],\"scattercarpet\":[{\"marker\":{\"colorbar\":{\"outlinewidth\":0,\"ticks\":\"\"}},\"type\":\"scattercarpet\"}],\"scattergeo\":[{\"marker\":{\"colorbar\":{\"outlinewidth\":0,\"ticks\":\"\"}},\"type\":\"scattergeo\"}],\"scattergl\":[{\"marker\":{\"colorbar\":{\"outlinewidth\":0,\"ticks\":\"\"}},\"type\":\"scattergl\"}],\"scattermapbox\":[{\"marker\":{\"colorbar\":{\"outlinewidth\":0,\"ticks\":\"\"}},\"type\":\"scattermapbox\"}],\"scatterpolargl\":[{\"marker\":{\"colorbar\":{\"outlinewidth\":0,\"ticks\":\"\"}},\"type\":\"scatterpolargl\"}],\"scatterpolar\":[{\"marker\":{\"colorbar\":{\"outlinewidth\":0,\"ticks\":\"\"}},\"type\":\"scatterpolar\"}],\"scatter\":[{\"marker\":{\"colorbar\":{\"outlinewidth\":0,\"ticks\":\"\"}},\"type\":\"scatter\"}],\"scatterternary\":[{\"marker\":{\"colorbar\":{\"outlinewidth\":0,\"ticks\":\"\"}},\"type\":\"scatterternary\"}],\"surface\":[{\"colorbar\":{\"outlinewidth\":0,\"ticks\":\"\"},\"colorscale\":[[0.0,\"#0d0887\"],[0.1111111111111111,\"#46039f\"],[0.2222222222222222,\"#7201a8\"],[0.3333333333333333,\"#9c179e\"],[0.4444444444444444,\"#bd3786\"],[0.5555555555555556,\"#d8576b\"],[0.6666666666666666,\"#ed7953\"],[0.7777777777777778,\"#fb9f3a\"],[0.8888888888888888,\"#fdca26\"],[1.0,\"#f0f921\"]],\"type\":\"surface\"}],\"table\":[{\"cells\":{\"fill\":{\"color\":\"#EBF0F8\"},\"line\":{\"color\":\"white\"}},\"header\":{\"fill\":{\"color\":\"#C8D4E3\"},\"line\":{\"color\":\"white\"}},\"type\":\"table\"}]},\"layout\":{\"annotationdefaults\":{\"arrowcolor\":\"#2a3f5f\",\"arrowhead\":0,\"arrowwidth\":1},\"autotypenumbers\":\"strict\",\"coloraxis\":{\"colorbar\":{\"outlinewidth\":0,\"ticks\":\"\"}},\"colorscale\":{\"diverging\":[[0,\"#8e0152\"],[0.1,\"#c51b7d\"],[0.2,\"#de77ae\"],[0.3,\"#f1b6da\"],[0.4,\"#fde0ef\"],[0.5,\"#f7f7f7\"],[0.6,\"#e6f5d0\"],[0.7,\"#b8e186\"],[0.8,\"#7fbc41\"],[0.9,\"#4d9221\"],[1,\"#276419\"]],\"sequential\":[[0.0,\"#0d0887\"],[0.1111111111111111,\"#46039f\"],[0.2222222222222222,\"#7201a8\"],[0.3333333333333333,\"#9c179e\"],[0.4444444444444444,\"#bd3786\"],[0.5555555555555556,\"#d8576b\"],[0.6666666666666666,\"#ed7953\"],[0.7777777777777778,\"#fb9f3a\"],[0.8888888888888888,\"#fdca26\"],[1.0,\"#f0f921\"]],\"sequentialminus\":[[0.0,\"#0d0887\"],[0.1111111111111111,\"#46039f\"],[0.2222222222222222,\"#7201a8\"],[0.3333333333333333,\"#9c179e\"],[0.4444444444444444,\"#bd3786\"],[0.5555555555555556,\"#d8576b\"],[0.6666666666666666,\"#ed7953\"],[0.7777777777777778,\"#fb9f3a\"],[0.8888888888888888,\"#fdca26\"],[1.0,\"#f0f921\"]]},\"colorway\":[\"#636efa\",\"#EF553B\",\"#00cc96\",\"#ab63fa\",\"#FFA15A\",\"#19d3f3\",\"#FF6692\",\"#B6E880\",\"#FF97FF\",\"#FECB52\"],\"font\":{\"color\":\"#2a3f5f\"},\"geo\":{\"bgcolor\":\"white\",\"lakecolor\":\"white\",\"landcolor\":\"#E5ECF6\",\"showlakes\":true,\"showland\":true,\"subunitcolor\":\"white\"},\"hoverlabel\":{\"align\":\"left\"},\"hovermode\":\"closest\",\"mapbox\":{\"style\":\"light\"},\"paper_bgcolor\":\"white\",\"plot_bgcolor\":\"#E5ECF6\",\"polar\":{\"angularaxis\":{\"gridcolor\":\"white\",\"linecolor\":\"white\",\"ticks\":\"\"},\"bgcolor\":\"#E5ECF6\",\"radialaxis\":{\"gridcolor\":\"white\",\"linecolor\":\"white\",\"ticks\":\"\"}},\"scene\":{\"xaxis\":{\"backgroundcolor\":\"#E5ECF6\",\"gridcolor\":\"white\",\"gridwidth\":2,\"linecolor\":\"white\",\"showbackground\":true,\"ticks\":\"\",\"zerolinecolor\":\"white\"},\"yaxis\":{\"backgroundcolor\":\"#E5ECF6\",\"gridcolor\":\"white\",\"gridwidth\":2,\"linecolor\":\"white\",\"showbackground\":true,\"ticks\":\"\",\"zerolinecolor\":\"white\"},\"zaxis\":{\"backgroundcolor\":\"#E5ECF6\",\"gridcolor\":\"white\",\"gridwidth\":2,\"linecolor\":\"white\",\"showbackground\":true,\"ticks\":\"\",\"zerolinecolor\":\"white\"}},\"shapedefaults\":{\"line\":{\"color\":\"#2a3f5f\"}},\"ternary\":{\"aaxis\":{\"gridcolor\":\"white\",\"linecolor\":\"white\",\"ticks\":\"\"},\"baxis\":{\"gridcolor\":\"white\",\"linecolor\":\"white\",\"ticks\":\"\"},\"bgcolor\":\"#E5ECF6\",\"caxis\":{\"gridcolor\":\"white\",\"linecolor\":\"white\",\"ticks\":\"\"}},\"title\":{\"x\":0.05},\"xaxis\":{\"automargin\":true,\"gridcolor\":\"white\",\"linecolor\":\"white\",\"ticks\":\"\",\"title\":{\"standoff\":15},\"zerolinecolor\":\"white\",\"zerolinewidth\":2},\"yaxis\":{\"automargin\":true,\"gridcolor\":\"white\",\"linecolor\":\"white\",\"ticks\":\"\",\"title\":{\"standoff\":15},\"zerolinecolor\":\"white\",\"zerolinewidth\":2}}},\"title\":{\"text\":\"Labels Distribution\"},\"width\":800,\"xaxis\":{\"title\":{\"text\":\"Attack Name\"}},\"yaxis\":{\"title\":{\"text\":\"Number of attacks\"}}},                        {\"responsive\": true}                    ).then(function(){\n",
       "                            \n",
       "var gd = document.getElementById('52b70fb7-244b-42ed-88e2-e8a2d5ff8412');\n",
       "var x = new MutationObserver(function (mutations, observer) {{\n",
       "        var display = window.getComputedStyle(gd).display;\n",
       "        if (!display || display === 'none') {{\n",
       "            console.log([gd, 'removed!']);\n",
       "            Plotly.purge(gd);\n",
       "            observer.disconnect();\n",
       "        }}\n",
       "}});\n",
       "\n",
       "// Listen for the removal of the full notebook cells\n",
       "var notebookContainer = gd.closest('#notebook-container');\n",
       "if (notebookContainer) {{\n",
       "    x.observe(notebookContainer, {childList: true});\n",
       "}}\n",
       "\n",
       "// Listen for the clearing of the current output cell\n",
       "var outputEl = gd.closest('.output');\n",
       "if (outputEl) {{\n",
       "    x.observe(outputEl, {childList: true});\n",
       "}}\n",
       "\n",
       "                        })                };                });            </script>        </div>"
      ]
     },
     "metadata": {},
     "output_type": "display_data"
    }
   ],
   "source": [
    "toTrainModel = shortData(withoutDuplicates, 100000, 55, 61000).copy()\n",
    "selectedToSaveDataset = shortData(\n",
    "    withoutDuplicates, 100000, 55, 122294).copy()\n",
    "showAttackDistribution(toTrainModel[LABEL])\n"
   ]
  },
  {
   "cell_type": "code",
   "execution_count": null,
   "id": "66ed06f6",
   "metadata": {},
   "outputs": [],
   "source": [
    "\n",
    "def makeOnlyAttackOrNot(dataToTransform):\n",
    "    dataToTransform[LABEL] = dataToTransform[LABEL].map(\n",
    "        lambda i: 0 if i == NORMAL else 1)\n",
    "    return dataToTransform\n"
   ]
  },
  {
   "cell_type": "code",
   "execution_count": null,
   "id": "b45f69d4",
   "metadata": {},
   "outputs": [],
   "source": [
    "toTrainModel = makeOnlyAttackOrNot(toTrainModel)\n",
    "selectedToSaveDataset = makeOnlyAttackOrNot(selectedToSaveDataset)\n",
    "allDatasetToTest = makeOnlyAttackOrNot(allDatasetToTest)\n"
   ]
  },
  {
   "cell_type": "code",
   "execution_count": null,
   "id": "bb8d8751",
   "metadata": {},
   "outputs": [],
   "source": [
    "def removeNanInf(data):\n",
    "    data.replace([np.inf, -np.inf], np.nan, inplace=True)\n",
    "    data.dropna(inplace=True)\n",
    "    return data\n"
   ]
  },
  {
   "cell_type": "code",
   "execution_count": null,
   "id": "7616c18f",
   "metadata": {},
   "outputs": [],
   "source": [
    "toTrainModel = removeNanInf(toTrainModel)\n",
    "allDatasetToTest = removeNanInf(allDatasetToTest)\n",
    "selectedToSaveDataset = removeNanInf(selectedToSaveDataset)\n"
   ]
  },
  {
   "cell_type": "code",
   "execution_count": null,
   "id": "5beb66e3",
   "metadata": {},
   "outputs": [],
   "source": [
    "# from sklearn.preprocessing import StandardScaler\n",
    "\n",
    "\n",
    "# def scale(dataToTransform, columntoTransform):\n",
    "\n",
    "#     ss_dict = {col: StandardScaler() for col in columntoTransform}\n",
    "\n",
    "#     for colKey in columntoTransform:\n",
    "#         dataToTransform[colKey] = ss_dict[colKey].fit_transform(\n",
    "#             np.array(dataToTransform[colKey]).reshape(-1, 1))\n",
    "\n",
    "#     return dataToTransform\n"
   ]
  },
  {
   "cell_type": "code",
   "execution_count": null,
   "id": "594ae099",
   "metadata": {},
   "outputs": [],
   "source": [
    "# numericColumntoTransform = withoutDuplicates.keys()\n",
    "# withoutDuplicates = scale(withoutDuplicates, numericColumntoTransform)\n"
   ]
  },
  {
   "cell_type": "markdown",
   "id": "e4e93444",
   "metadata": {
    "id": "xYzsVX21PFDc",
    "papermill": {
     "duration": 0.047639,
     "end_time": "2022-01-17T21:40:48.282094",
     "exception": false,
     "start_time": "2022-01-17T21:40:48.234455",
     "status": "completed"
    },
    "tags": []
   },
   "source": [
    "### Heatmap\n",
    "#### Heatmap provide us information on how much the individual features are interpedent. "
   ]
  },
  {
   "cell_type": "code",
   "execution_count": null,
   "id": "b5d3cba8",
   "metadata": {
    "execution": {
     "iopub.execute_input": "2022-01-17T21:40:48.370987Z",
     "iopub.status.busy": "2022-01-17T21:40:48.370237Z",
     "iopub.status.idle": "2022-01-17T21:40:51.265700Z",
     "shell.execute_reply": "2022-01-17T21:40:51.266249Z",
     "shell.execute_reply.started": "2022-01-17T21:30:49.408211Z"
    },
    "id": "ObQ1AkeKPFDf",
    "papermill": {
     "duration": 2.938931,
     "end_time": "2022-01-17T21:40:51.266450",
     "exception": false,
     "start_time": "2022-01-17T21:40:48.327519",
     "status": "completed"
    },
    "tags": []
   },
   "outputs": [
    {
     "data": {
      "text/plain": [
       "<AxesSubplot:>"
      ]
     },
     "execution_count": 32,
     "metadata": {},
     "output_type": "execute_result"
    },
    {
     "data": {
      "image/png": "[encoded data removed]",
      "text/plain": [
       "<Figure size 1080x576 with 2 Axes>"
      ]
     },
     "metadata": {
      "needs_background": "light"
     },
     "output_type": "display_data"
    }
   ],
   "source": [
    "import matplotlib.pyplot as plt\n",
    "import seaborn as sns\n",
    "\n",
    "f, ax = plt.subplots(figsize=(15, 8))\n",
    "sns.heatmap(abs(toTrainModel.corr()), annot=True,\n",
    "            linewidths=0.5, fmt='.2f', ax=ax)\n"
   ]
  },
  {
   "cell_type": "markdown",
   "id": "c9222e1a",
   "metadata": {},
   "source": [
    "Save label"
   ]
  },
  {
   "cell_type": "code",
   "execution_count": null,
   "id": "e38865a6",
   "metadata": {},
   "outputs": [],
   "source": [
    "labels = toTrainModel[LABEL]\n",
    "toTrainModel = toTrainModel.drop([LABEL], axis=1)\n"
   ]
  },
  {
   "cell_type": "code",
   "execution_count": null,
   "id": "a1e7b0ad",
   "metadata": {},
   "outputs": [],
   "source": [
    "def printNanFinite(data):\n",
    "    print('Is any Nan:', np.any(np.isnan(data)))\n",
    "    print('Is all finite:', np.all(np.isfinite(data)))\n"
   ]
  },
  {
   "cell_type": "code",
   "execution_count": null,
   "id": "93c2a848",
   "metadata": {},
   "outputs": [
    {
     "name": "stdout",
     "output_type": "stream",
     "text": [
      "Is any Nan: False\n",
      "Is all finite: True\n",
      "\n",
      "\n",
      "Is any Nan: False\n",
      "Is all finite: True\n"
     ]
    }
   ],
   "source": [
    "printNanFinite(toTrainModel)\n",
    "print('\\n')\n",
    "printNanFinite(allDatasetToTest)\n"
   ]
  },
  {
   "cell_type": "markdown",
   "id": "97355b3a",
   "metadata": {},
   "source": [
    "Scale numeric values"
   ]
  },
  {
   "cell_type": "markdown",
   "id": "f11a5dcb",
   "metadata": {},
   "source": [
    "#### After preprocess"
   ]
  },
  {
   "cell_type": "code",
   "execution_count": null,
   "id": "4403bf33",
   "metadata": {},
   "outputs": [],
   "source": [
    "from sklearn.model_selection import train_test_split\n",
    "\n",
    "X_train, X_test, y_train, y_test = train_test_split(\n",
    "    toTrainModel, labels, test_size=0.33, random_state=32)\n",
    "\n",
    "\n",
    "# X_train.to_csv('X_train.csv')\n",
    "# X_test.to_csv('X_test.csv')\n",
    "# y_train.to_csv('y_train.csv')\n",
    "# y_test.to_csv('y_test.csv')\n"
   ]
  },
  {
   "cell_type": "code",
   "execution_count": null,
   "id": "0d1f63a2",
   "metadata": {},
   "outputs": [],
   "source": [
    "isRFC = True\n",
    "isMLPC = False\n",
    "isSequential = False\n"
   ]
  },
  {
   "cell_type": "code",
   "execution_count": null,
   "id": "958a0a7c",
   "metadata": {},
   "outputs": [],
   "source": [
    "from sklearn.neural_network import MLPClassifier\n",
    "from sklearn.ensemble import RandomForestClassifier\n",
    "from keras.models import Sequential\n",
    "from keras.layers import Dense\n",
    "\n",
    "\n",
    "def model():\n",
    "    if isRFC:\n",
    "        model = RandomForestClassifier(\n",
    "            n_estimators=100, max_depth=5, min_samples_leaf=4)\n",
    "    elif isMLPC:\n",
    "        model = MLPClassifier(random_state=32)\n",
    "    else:\n",
    "        model = Sequential([\n",
    "            Dense(256, activation='softplus', kernel_initializer='glorot_uniform',\n",
    "                  input_dim=X_train.shape[1]),\n",
    "            Dense(128, activation='softplus',\n",
    "                  kernel_initializer='glorot_uniform'),\n",
    "            Dense(1, kernel_initializer='glorot_uniform', activation='sigmoid')\n",
    "        ])\n",
    "\n",
    "        model.compile(loss='binary_crossentropy',\n",
    "                      optimizer='Adam')\n",
    "\n",
    "    return model\n"
   ]
  },
  {
   "cell_type": "code",
   "execution_count": null,
   "id": "a71aa012",
   "metadata": {},
   "outputs": [],
   "source": [
    "model = model()\n"
   ]
  },
  {
   "cell_type": "code",
   "execution_count": null,
   "id": "23f2432f",
   "metadata": {},
   "outputs": [
    {
     "data": {
      "text/plain": [
       "RandomForestClassifier(max_depth=5, min_samples_leaf=4)"
      ]
     },
     "execution_count": 40,
     "metadata": {},
     "output_type": "execute_result"
    }
   ],
   "source": [
    "model.fit(X_train, y_train)\n"
   ]
  },
  {
   "cell_type": "code",
   "execution_count": null,
   "id": "a069fe42",
   "metadata": {},
   "outputs": [],
   "source": [
    "\n",
    "import matplotlib.pyplot as plt\n",
    "from sklearn.metrics import confusion_matrix, ConfusionMatrixDisplay\n",
    "\n",
    "\n",
    "def confMatrix(yTrain, xTrainPreds, yTest, xTestPreds):\n",
    "    # Your code here\n",
    "    cmTrain = confusion_matrix(yTrain, xTrainPreds)\n",
    "    X_train_disp = ConfusionMatrixDisplay(confusion_matrix=cmTrain)\n",
    "\n",
    "    cmTest = confusion_matrix(yTest, xTestPreds)\n",
    "    X_test_disp = ConfusionMatrixDisplay(confusion_matrix=cmTest)\n",
    "    # End\n",
    "\n",
    "    _, ax = plt.subplots(1, 2, figsize=(10, 5), dpi=150)\n",
    "\n",
    "    X_train_disp.plot(ax=ax[0])\n",
    "    ax[0].set_title(\"Train\")\n",
    "\n",
    "    X_test_disp.plot(ax=ax[1])\n",
    "    ax[1].set_title(\"Test\")\n",
    "    plt.show()\n"
   ]
  },
  {
   "cell_type": "code",
   "execution_count": null,
   "id": "d991ff69",
   "metadata": {},
   "outputs": [],
   "source": [
    "from sklearn.metrics import roc_auc_score, accuracy_score, precision_score, recall_score, f1_score\n",
    "\n",
    "\n",
    "def printScores(name, labels, predicts):\n",
    "    print(name)\n",
    "    print('Accuracy: %.3f ' % accuracy_score(labels, predicts))\n",
    "    print('Precision: %.3f ' % precision_score(labels, predicts))\n",
    "    print('Recall: %.3f' % recall_score(labels, predicts))\n",
    "    print('F1 Score: %.3f' % f1_score(labels, predicts))\n",
    "    print('\\n')\n"
   ]
  },
  {
   "cell_type": "code",
   "execution_count": null,
   "id": "ab898d8e",
   "metadata": {},
   "outputs": [
    {
     "name": "stdout",
     "output_type": "stream",
     "text": [
      "Train:\n",
      "Accuracy: 1.000 \n",
      "Precision: 1.000 \n",
      "Recall: 1.000\n",
      "F1 Score: 1.000\n",
      "\n",
      "\n",
      "Test:\n",
      "Accuracy: 1.000 \n",
      "Precision: 1.000 \n",
      "Recall: 1.000\n",
      "F1 Score: 1.000\n",
      "\n",
      "\n"
     ]
    }
   ],
   "source": [
    "\n",
    "\n",
    "X_train_preds = model.predict(X_train)\n",
    "X_test_preds = model.predict(X_test)\n",
    "\n",
    "if isSequential:\n",
    "    print('Train auc:', roc_auc_score(y_train, X_train_preds))\n",
    "    print('Test auc:', roc_auc_score(y_test, X_test_preds))\n",
    "else:\n",
    "    printScores('Train:', y_train, X_train_preds)\n",
    "    printScores('Test:', y_test, X_test_preds)\n"
   ]
  },
  {
   "cell_type": "code",
   "execution_count": null,
   "id": "a1a07fb6",
   "metadata": {},
   "outputs": [
    {
     "data": {
      "image/png": "[encoded data removed]",
      "text/plain": [
       "<Figure size 1500x750 with 4 Axes>"
      ]
     },
     "metadata": {
      "needs_background": "light"
     },
     "output_type": "display_data"
    }
   ],
   "source": [
    "confMatrix(y_train, X_train_preds, y_test, X_test_preds)\n"
   ]
  },
  {
   "cell_type": "code",
   "execution_count": null,
   "id": "c8def0c5",
   "metadata": {},
   "outputs": [],
   "source": [
    "allDatasetLabels = allDatasetToTest[LABEL]\n",
    "allDatasetToTest = allDatasetToTest.drop([LABEL], axis=1)\n",
    "\n",
    "# allDatasetLabels.to_csv('allDatasetLabels.csv')\n",
    "# allDatasetToTest.to_csv('allDatasetToTest.csv')\n"
   ]
  },
  {
   "cell_type": "code",
   "execution_count": null,
   "id": "14299dee",
   "metadata": {},
   "outputs": [
    {
     "name": "stdout",
     "output_type": "stream",
     "text": [
      "All dataset:\n",
      "Accuracy: 1.000 \n",
      "Precision: 1.000 \n",
      "Recall: 1.000\n",
      "F1 Score: 1.000\n",
      "\n",
      "\n"
     ]
    }
   ],
   "source": [
    "\n",
    "\n",
    "AllDatasetPreds = model.predict(allDatasetToTest)\n",
    "\n",
    "if isSequential:\n",
    "    print('Auc:', roc_auc_score(allDatasetLabels, AllDatasetPreds))\n",
    "else:\n",
    "    printScores('All dataset:', allDatasetLabels, AllDatasetPreds)\n"
   ]
  },
  {
   "cell_type": "code",
   "execution_count": null,
   "id": "5c57150c",
   "metadata": {},
   "outputs": [
    {
     "data": {
      "image/png": "[encoded data removed]",
      "text/plain": [
       "<Figure size 1040x520 with 2 Axes>"
      ]
     },
     "metadata": {
      "needs_background": "light"
     },
     "output_type": "display_data"
    }
   ],
   "source": [
    "allDatasetConfusionMatrix = confusion_matrix(allDatasetLabels, AllDatasetPreds)\n",
    "allDataSetMatrixDisplay = ConfusionMatrixDisplay(\n",
    "    confusion_matrix=allDatasetConfusionMatrix)\n",
    "_, ax = plt.subplots(figsize=(8, 4), dpi=130)\n",
    "ax.set_title(\"All dataset\")\n",
    "allDataSetMatrixDisplay.plot(ax=ax)\n",
    "plt.show()\n"
   ]
  },
  {
   "cell_type": "code",
   "execution_count": null,
   "id": "30881c1f",
   "metadata": {},
   "outputs": [],
   "source": [
    "selectedToSaveDataset.to_csv('ddos_loic_http_udp.csv')\n"
   ]
  }
 ],
 "metadata": {
  "kernelspec": {
   "display_name": "Python 3",
   "language": "python",
   "name": "python3"
  },
  "language_info": {
   "codemirror_mode": {
    "name": "ipython",
    "version": 3
   },
   "file_extension": ".py",
   "mimetype": "text/x-python",
   "name": "python",
   "nbconvert_exporter": "python",
   "pygments_lexer": "ipython3",
   "version": "3.8.10"
  },
  "papermill": {
   "default_parameters": {},
   "duration": 42.965214,
   "end_time": "2022-01-17T21:41:16.495863",
   "environment_variables": {},
   "exception": null,
   "input_path": "__notebook__.ipynb",
   "output_path": "__notebook__.ipynb",
   "parameters": {},
   "start_time": "2022-01-17T21:40:33.530649",
   "version": "2.3.3"
  }
 },
 "nbformat": 4,
 "nbformat_minor": 5
}
